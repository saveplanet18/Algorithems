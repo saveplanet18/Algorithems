{
 "cells": [
  {
   "cell_type": "markdown",
   "id": "b592640b",
   "metadata": {},
   "source": [
    "# Queue \n",
    "1. Enqueue\n",
    "2. ifEmpty\n",
    "3. isfully\n",
    "4. peek\n"
   ]
  },
  {
   "cell_type": "code",
   "execution_count": 7,
   "id": "d1d3ab1d",
   "metadata": {},
   "outputs": [],
   "source": [
    "Queue = []\n",
    "def Create_Queue():\n",
    "    element = input(\"Enter the Elements/n\")\n",
    "    Queue.append(element)\n",
    "    return Queue"
   ]
  },
  {
   "cell_type": "code",
   "execution_count": 8,
   "id": "07e60095",
   "metadata": {},
   "outputs": [
    {
     "name": "stdout",
     "output_type": "stream",
     "text": [
      "Enter the Elements/n24\n"
     ]
    },
    {
     "data": {
      "text/plain": [
       "['24']"
      ]
     },
     "execution_count": 8,
     "metadata": {},
     "output_type": "execute_result"
    }
   ],
   "source": [
    "Create_Queue()"
   ]
  },
  {
   "cell_type": "code",
   "execution_count": 9,
   "id": "9c870b95",
   "metadata": {},
   "outputs": [
    {
     "name": "stdout",
     "output_type": "stream",
     "text": [
      "Enter the Elements/n45\n"
     ]
    },
    {
     "data": {
      "text/plain": [
       "['24', '45']"
      ]
     },
     "execution_count": 9,
     "metadata": {},
     "output_type": "execute_result"
    }
   ],
   "source": [
    "Create_Queue()"
   ]
  },
  {
   "cell_type": "code",
   "execution_count": 10,
   "id": "2ccef06b",
   "metadata": {},
   "outputs": [
    {
     "data": {
      "text/plain": [
       "['24', '45']"
      ]
     },
     "execution_count": 10,
     "metadata": {},
     "output_type": "execute_result"
    }
   ],
   "source": [
    "Queue"
   ]
  },
  {
   "cell_type": "code",
   "execution_count": 11,
   "id": "c19f4e6d",
   "metadata": {},
   "outputs": [],
   "source": [
    "def isEmpty(queue):\n",
    "    return len(queue)==0\n",
    "    "
   ]
  },
  {
   "cell_type": "code",
   "execution_count": 13,
   "id": "2eceff52",
   "metadata": {},
   "outputs": [
    {
     "data": {
      "text/plain": [
       "False"
      ]
     },
     "execution_count": 13,
     "metadata": {},
     "output_type": "execute_result"
    }
   ],
   "source": [
    "isEmpty(Queue)"
   ]
  },
  {
   "cell_type": "code",
   "execution_count": 14,
   "id": "f2309cef",
   "metadata": {},
   "outputs": [],
   "source": [
    "def Dqueue(queue):\n",
    "    if isEmpty(queue)==0:\n",
    "        return \"Queue is Empty\"\n",
    "    return queue.pop(0)"
   ]
  },
  {
   "cell_type": "code",
   "execution_count": 15,
   "id": "06f8f21d",
   "metadata": {},
   "outputs": [
    {
     "data": {
      "text/plain": [
       "'Queue is Empty'"
      ]
     },
     "execution_count": 15,
     "metadata": {},
     "output_type": "execute_result"
    }
   ],
   "source": [
    "Dqueue(Queue)"
   ]
  },
  {
   "cell_type": "code",
   "execution_count": 18,
   "id": "b99f5c66",
   "metadata": {},
   "outputs": [
    {
     "name": "stdout",
     "output_type": "stream",
     "text": [
      "Enter the operation 1.Enqueue 2.Dqueue 3.Exit 4.display\n",
      "1\n",
      "Enter the Elements/n10\n",
      "Enter the operation 1.Enqueue 2.Dqueue 3.Exit 4.display\n",
      "1\n",
      "Enter the Elements/n20\n",
      "Enter the operation 1.Enqueue 2.Dqueue 3.Exit 4.display\n",
      "1\n",
      "Enter the Elements/n30\n",
      "Enter the operation 1.Enqueue 2.Dqueue 3.Exit 4.display\n",
      "4\n",
      "['24', '45', '10', '30', '10', '20', '30']\n",
      "Enter the operation 1.Enqueue 2.Dqueue 3.Exit 4.display\n",
      "3\n"
     ]
    }
   ],
   "source": [
    "while True:\n",
    "    print(\"Enter the operation 1.Enqueue 2.Dqueue 3.Exit 4.display\")\n",
    "    select = int(input())\n",
    "    if select == 1:\n",
    "        Create_Queue()\n",
    "    elif select == 2:\n",
    "        Dqueue(Queue)\n",
    "    elif select == 4:\n",
    "        display()\n",
    "    elif select == 3:\n",
    "        break\n",
    "    else:\n",
    "        print(\"select correct option..\")\n",
    "        \n",
    "        \n",
    "    "
   ]
  },
  {
   "cell_type": "code",
   "execution_count": 17,
   "id": "1d675c58",
   "metadata": {},
   "outputs": [],
   "source": [
    "def display():\n",
    "    print(Queue)"
   ]
  },
  {
   "cell_type": "code",
   "execution_count": 91,
   "id": "bb38e04a",
   "metadata": {},
   "outputs": [],
   "source": [
    "class Queue:\n",
    "    def __init__(self):\n",
    "        self.Queue1 = []\n",
    "    def isEmpty(self):\n",
    "        return self.Queue1 == []\n",
    "    def Enqueue(self,Queue1):\n",
    "        return self.Queue1.append(Queue1)\n",
    "    def Dqueue(self):\n",
    "        if (self.Queue1) > 1:\n",
    "            return 0\n",
    "        return self.Queue1.pop(0)\n",
    "    def display(self):\n",
    "        print(self.Queue1)\n",
    "    def size(self):\n",
    "        return len(self.Queue1)\n",
    "        \n",
    "        "
   ]
  },
  {
   "cell_type": "code",
   "execution_count": 92,
   "id": "ccda90b7",
   "metadata": {},
   "outputs": [],
   "source": [
    "q = Queue()"
   ]
  },
  {
   "cell_type": "code",
   "execution_count": 93,
   "id": "d6aa906d",
   "metadata": {},
   "outputs": [
    {
     "data": {
      "text/plain": [
       "[]"
      ]
     },
     "execution_count": 93,
     "metadata": {},
     "output_type": "execute_result"
    }
   ],
   "source": [
    "q.Queue1"
   ]
  },
  {
   "cell_type": "code",
   "execution_count": 94,
   "id": "c2988555",
   "metadata": {},
   "outputs": [
    {
     "data": {
      "text/plain": [
       "True"
      ]
     },
     "execution_count": 94,
     "metadata": {},
     "output_type": "execute_result"
    }
   ],
   "source": [
    "q.isEmpty()"
   ]
  },
  {
   "cell_type": "code",
   "execution_count": 95,
   "id": "533d2e89",
   "metadata": {},
   "outputs": [],
   "source": [
    "q.Enqueue(50)"
   ]
  },
  {
   "cell_type": "code",
   "execution_count": 96,
   "id": "fcf6b2a3",
   "metadata": {},
   "outputs": [
    {
     "name": "stdout",
     "output_type": "stream",
     "text": [
      "[50]\n"
     ]
    }
   ],
   "source": [
    "q.display()"
   ]
  },
  {
   "cell_type": "code",
   "execution_count": 97,
   "id": "9075726a",
   "metadata": {},
   "outputs": [
    {
     "data": {
      "text/plain": [
       "1"
      ]
     },
     "execution_count": 97,
     "metadata": {},
     "output_type": "execute_result"
    }
   ],
   "source": [
    "q.size()"
   ]
  },
  {
   "cell_type": "markdown",
   "id": "19fcbf7e",
   "metadata": {},
   "source": [
    "# Types of Queue\n",
    "## A queue is a useful data structure in programming. It is similar to the ticket queue outside a cinema hall, where the first person entering the queue is the first person who gets the ticket.\n",
    "1. Simple Queue\n",
    "2. Circular Queue\n",
    "3. Priority Queue\n",
    "4. Double Ended Queue"
   ]
  },
  {
   "cell_type": "markdown",
   "id": "142f262d",
   "metadata": {},
   "source": [
    "# Circular Queue\n",
    "## Circular Queue Operations\n",
    "The circular queue work as follows:\n",
    "\n",
    "1. two pointers FRONT and REAR\n",
    "1. FRONT track the first element of the queue\n",
    "1. REAR track the last elements of the queue\n",
    "1. initially, set value of FRONT and REAR to -1\n",
    "### Enqueue Operation\n",
    "2. check if the queue is full\n",
    "2. for the first element, set value of FRONT to 0\n",
    "2. circularly increase the REAR index by 1 (i.e. if the rear reaches the end, next it would be at the start of the queue)\n",
    "2. add the new element in the position pointed to by REAR\n",
    "### Dequeue Operation\n",
    "3. check if the queue is empty\n",
    "3. return the value pointed by FRONT\n",
    "3. circularly increase the FRONT index by 1\n",
    "3. for the last element, reset the values of FRONT and REAR to -1\n",
    "\n",
    "### However, the check for full queue has a new additional case:\n",
    "\n",
    "1. Case 1: FRONT = 0 && REAR == SIZE - 1\n",
    "1. Case 2: FRONT = REAR + 1\n",
    "1. The second case happens when REAR starts from 0 due to circular increment and when its value is just 1 less than FRONT, the queue is full."
   ]
  },
  {
   "cell_type": "code",
   "execution_count": 98,
   "id": "2306fe8e",
   "metadata": {},
   "outputs": [],
   "source": [
    "queue = []"
   ]
  },
  {
   "cell_type": "code",
   "execution_count": 100,
   "id": "4726e9f7",
   "metadata": {},
   "outputs": [
    {
     "name": "stdout",
     "output_type": "stream",
     "text": [
      "yes queue is empty\n"
     ]
    }
   ],
   "source": [
    "if not queue:\n",
    "    print(\"yes queue is empty\")\n",
    "else:\n",
    "    print(\"queue is full\")"
   ]
  },
  {
   "cell_type": "code",
   "execution_count": 101,
   "id": "19d2e4c7",
   "metadata": {},
   "outputs": [
    {
     "name": "stdout",
     "output_type": "stream",
     "text": [
      "yes queue is empty\n"
     ]
    }
   ],
   "source": [
    "if len(queue) == 0:\n",
    "    print(\"yes queue is empty\")\n",
    "else:\n",
    "    print(\"queue is full..\")"
   ]
  },
  {
   "cell_type": "code",
   "execution_count": 102,
   "id": "f30c5dc6",
   "metadata": {},
   "outputs": [
    {
     "name": "stdout",
     "output_type": "stream",
     "text": [
      "something else\n"
     ]
    }
   ],
   "source": [
    "while True:\n",
    "    print(\"something else\")\n",
    "    break"
   ]
  },
  {
   "cell_type": "code",
   "execution_count": 103,
   "id": "d20b7085",
   "metadata": {},
   "outputs": [],
   "source": [
    "while True:\n",
    "    mylist = []\n",
    "    for i in mylist:\n",
    "        print(i)\n",
    "    break"
   ]
  },
  {
   "cell_type": "code",
   "execution_count": 119,
   "id": "0e835340",
   "metadata": {},
   "outputs": [],
   "source": [
    "class CircularQueue:\n",
    "    def __init__(self,maxsize):\n",
    "        self.Queue = list()\n",
    "        self.maxsize = maxsize\n",
    "        self.head = 0\n",
    "        self.tail = 0\n",
    "    def Enqueue(self,item):\n",
    "        if \n"
   ]
  },
  {
   "cell_type": "code",
   "execution_count": 113,
   "id": "e3d47a49",
   "metadata": {},
   "outputs": [],
   "source": [
    "c = CircularQueue(9)"
   ]
  },
  {
   "cell_type": "code",
   "execution_count": 114,
   "id": "1843c621",
   "metadata": {},
   "outputs": [
    {
     "data": {
      "text/plain": [
       "9"
      ]
     },
     "execution_count": 114,
     "metadata": {},
     "output_type": "execute_result"
    }
   ],
   "source": [
    "c.maxsize"
   ]
  },
  {
   "cell_type": "code",
   "execution_count": 115,
   "id": "10580666",
   "metadata": {},
   "outputs": [
    {
     "data": {
      "text/plain": [
       "0"
      ]
     },
     "execution_count": 115,
     "metadata": {},
     "output_type": "execute_result"
    }
   ],
   "source": [
    "c.head"
   ]
  },
  {
   "cell_type": "code",
   "execution_count": 116,
   "id": "f096925c",
   "metadata": {},
   "outputs": [
    {
     "data": {
      "text/plain": [
       "0"
      ]
     },
     "execution_count": 116,
     "metadata": {},
     "output_type": "execute_result"
    }
   ],
   "source": [
    "c.tail"
   ]
  },
  {
   "cell_type": "code",
   "execution_count": 117,
   "id": "0e9ed2f7",
   "metadata": {},
   "outputs": [
    {
     "data": {
      "text/plain": [
       "[]"
      ]
     },
     "execution_count": 117,
     "metadata": {},
     "output_type": "execute_result"
    }
   ],
   "source": [
    "c.Queue"
   ]
  },
  {
   "cell_type": "code",
   "execution_count": 120,
   "id": "d13a0df5",
   "metadata": {},
   "outputs": [],
   "source": [
    "mylist = [1,2,3,4,5,6]"
   ]
  },
  {
   "cell_type": "code",
   "execution_count": 131,
   "id": "04fe94f8",
   "metadata": {},
   "outputs": [],
   "source": [
    "def size(item):\n",
    "    item = int(input())\n",
    "    if len(mylist)==0:\n",
    "        return \"queue is full\"\n",
    "    return mylist.append(item)"
   ]
  },
  {
   "cell_type": "code",
   "execution_count": 132,
   "id": "8a122c32",
   "metadata": {},
   "outputs": [
    {
     "name": "stdout",
     "output_type": "stream",
     "text": [
      "10\n"
     ]
    }
   ],
   "source": [
    "size(newlist)"
   ]
  },
  {
   "cell_type": "code",
   "execution_count": 134,
   "id": "f6179958",
   "metadata": {},
   "outputs": [],
   "source": [
    "newlist = []"
   ]
  },
  {
   "cell_type": "markdown",
   "id": "d51eb0a7",
   "metadata": {},
   "source": [
    "# Algorithm for Circular Queue\n",
    "1. Initialize the queue, with size of the queue defined (maxSize), and head and tail pointers.\n",
    "####  enqueue: Check if the number of elements is equal to maxSize - 1:\n",
    "1. If Yes, then return Queue is full\n",
    "1. If No, then add the new data element to the location of tail pointer and increment the tail pointer.\n",
    "#### dequeue: Check if the number of elements in the queue is zero:\n",
    "1. If Yes, then return Queue is empty\n",
    "1. If No, then increment the head pointer.\n",
    "#### size:\n",
    "1. If, tail >= head, size = tail - head\n",
    "1. But if, head > tail, then size = maxSize - (head - tail)"
   ]
  },
  {
   "cell_type": "code",
   "execution_count": 148,
   "id": "30c68498",
   "metadata": {},
   "outputs": [],
   "source": [
    "def linearsearch(arr , target):\n",
    "    for item in range(len(arr)):\n",
    "        if (arr[item] == target):\n",
    "            return arr\n",
    "    return -1"
   ]
  },
  {
   "cell_type": "code",
   "execution_count": 149,
   "id": "0d470a5e",
   "metadata": {},
   "outputs": [],
   "source": [
    "mylist = [10,20,40,50,60,70,90,80]\n",
    "size = 30"
   ]
  },
  {
   "cell_type": "code",
   "execution_count": 150,
   "id": "eaebc364",
   "metadata": {},
   "outputs": [
    {
     "data": {
      "text/plain": [
       "-1"
      ]
     },
     "execution_count": 150,
     "metadata": {},
     "output_type": "execute_result"
    }
   ],
   "source": [
    "linearsearch(mylist,size)"
   ]
  },
  {
   "cell_type": "code",
   "execution_count": null,
   "id": "7686b0c5",
   "metadata": {},
   "outputs": [],
   "source": []
  }
 ],
 "metadata": {
  "kernelspec": {
   "display_name": "Python 3 (ipykernel)",
   "language": "python",
   "name": "python3"
  },
  "language_info": {
   "codemirror_mode": {
    "name": "ipython",
    "version": 3
   },
   "file_extension": ".py",
   "mimetype": "text/x-python",
   "name": "python",
   "nbconvert_exporter": "python",
   "pygments_lexer": "ipython3",
   "version": "3.9.2"
  }
 },
 "nbformat": 4,
 "nbformat_minor": 5
}
