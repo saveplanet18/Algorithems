{
 "cells": [
  {
   "cell_type": "code",
   "execution_count": 15,
   "metadata": {},
   "outputs": [],
   "source": [
    "class my_Node:\n",
    "\n",
    "    def __init__(self,item):\n",
    "        self.item = item\n",
    "        self.next = None\n",
    "\n",
    "class my_next:\n",
    "\n",
    "    def __init__(self):\n",
    "\n",
    "        self.head = None\n",
    "\n",
    "    def insertion_at_begin(self,ele):\n",
    "        new_node = my_Node(ele)\n",
    "        new_node.next = self.head\n",
    "        self.head = new_node\n",
    "    \n",
    "    def insertion_at_End(self,ele):\n",
    "        new_node = my_Node(ele)\n",
    "        if (self.head == None):\n",
    "            self.head = new_node\n",
    "            return\n",
    "        else:\n",
    "            temp = self.head\n",
    "            while(temp.next != None):\n",
    "                temp = temp.next\n",
    "            temp.next = new_node\n",
    "    \n",
    "    def insertion_at_specific(self,ele,pos):\n",
    "        new_node = my_Node(ele)\n",
    "        if(self.head == None):\n",
    "            self.head = new_node\n",
    "            return\n",
    "        else:\n",
    "            temp = self.head\n",
    "            for i in range(pos-1):\n",
    "                if(temp.next != None):\n",
    "                    temp = temp.next\n",
    "            new_node.next = temp.next\n",
    "            temp.next = new_node\n",
    "\n",
    "    def pop_first(self):\n",
    "        if (self.head != None):\n",
    "            temp = self.head\n",
    "            self.head = self.head.next\n",
    "            temp = None\n",
    "\n",
    "\n",
    "    def print_show(self):\n",
    "        temp = self.head\n",
    "        while(temp != None):\n",
    "            print(temp.item )\n",
    "            temp = temp.next\n"
   ]
  },
  {
   "cell_type": "code",
   "execution_count": 18,
   "metadata": {},
   "outputs": [
    {
     "name": "stdout",
     "output_type": "stream",
     "text": [
      "18\n",
      "24\n",
      "89\n",
      "36\n",
      "9\n",
      "386\n",
      "78\n",
      "852\n",
      "7866\n"
     ]
    }
   ],
   "source": [
    "my = my_next()\n",
    "my.insertion_at_begin(9)\n",
    "my.insertion_at_begin(36)\n",
    "my.insertion_at_begin(18)\n",
    "my.insertion_at_begin(35)\n",
    "my.insertion_at_End(386)\n",
    "my.insertion_at_End(78)\n",
    "my.insertion_at_End(852)\n",
    "my.insertion_at_End(7866)\n",
    "my.insertion_at_specific(24,2)\n",
    "my.insertion_at_specific(89,3)\n",
    "my.pop_first()\n",
    "my.print_show()\n",
    "\n"
   ]
  },
  {
   "cell_type": "code",
   "execution_count": null,
   "metadata": {},
   "outputs": [],
   "source": []
  }
 ],
 "metadata": {
  "kernelspec": {
   "display_name": "Python 3.9.2 64-bit",
   "language": "python",
   "name": "python3"
  },
  "language_info": {
   "codemirror_mode": {
    "name": "ipython",
    "version": 3
   },
   "file_extension": ".py",
   "mimetype": "text/x-python",
   "name": "python",
   "nbconvert_exporter": "python",
   "pygments_lexer": "ipython3",
   "version": "3.9.2"
  },
  "orig_nbformat": 4,
  "vscode": {
   "interpreter": {
    "hash": "b44dec303c593d8d8daa19f9928a44a58f5dd6858780405ef540750c1cbc0680"
   }
  }
 },
 "nbformat": 4,
 "nbformat_minor": 2
}
