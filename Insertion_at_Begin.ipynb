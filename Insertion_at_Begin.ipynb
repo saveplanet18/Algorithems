{
 "cells": [
  {
   "cell_type": "code",
   "execution_count": 3,
   "metadata": {},
   "outputs": [],
   "source": [
    "class first_node:\n",
    "\n",
    "    def __init__(self,data):\n",
    "        \n",
    "        self.data = data\n",
    "        \n",
    "        self.next = None\n",
    "        \n",
    "class second_node:\n",
    "\n",
    "    def __init__(self):\n",
    "\n",
    "        self.head = None\n",
    "\n",
    "    def Insertion_at_Begin(self,ele):\n",
    "        new_node = first_node(ele)\n",
    "        new_node.next = self.head\n",
    "        self.head = new_node\n",
    "\n",
    "    def print_show(self):\n",
    "        temp = self.head\n",
    "        while(temp != None):\n",
    "            print(temp.data)\n",
    "            temp = temp.next"
   ]
  },
  {
   "cell_type": "code",
   "execution_count": 4,
   "metadata": {},
   "outputs": [
    {
     "name": "stdout",
     "output_type": "stream",
     "text": [
      "18\n",
      "3\n",
      "6\n",
      "9\n"
     ]
    }
   ],
   "source": [
    "ll = second_node()\n",
    "ll.Insertion_at_Begin(9)\n",
    "ll.Insertion_at_Begin(6)\n",
    "ll.Insertion_at_Begin(3)\n",
    "ll.Insertion_at_Begin(18)\n",
    "ll.print_show()"
   ]
  },
  {
   "cell_type": "code",
   "execution_count": null,
   "metadata": {},
   "outputs": [],
   "source": []
  }
 ],
 "metadata": {
  "kernelspec": {
   "display_name": "Python 3.9.2 64-bit",
   "language": "python",
   "name": "python3"
  },
  "language_info": {
   "codemirror_mode": {
    "name": "ipython",
    "version": 3
   },
   "file_extension": ".py",
   "mimetype": "text/x-python",
   "name": "python",
   "nbconvert_exporter": "python",
   "pygments_lexer": "ipython3",
   "version": "3.9.2"
  },
  "orig_nbformat": 4,
  "vscode": {
   "interpreter": {
    "hash": "b44dec303c593d8d8daa19f9928a44a58f5dd6858780405ef540750c1cbc0680"
   }
  }
 },
 "nbformat": 4,
 "nbformat_minor": 2
}
