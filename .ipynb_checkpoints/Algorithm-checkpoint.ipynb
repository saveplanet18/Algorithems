{
 "cells": [
  {
   "cell_type": "code",
   "execution_count": 1,
   "id": "3c2ba581",
   "metadata": {},
   "outputs": [],
   "source": [
    "mylist = [9,6,3]"
   ]
  },
  {
   "cell_type": "code",
   "execution_count": 2,
   "id": "51932a74",
   "metadata": {},
   "outputs": [],
   "source": [
    "n = len(mylist)"
   ]
  },
  {
   "cell_type": "code",
   "execution_count": 3,
   "id": "10ae73f5",
   "metadata": {},
   "outputs": [
    {
     "data": {
      "text/plain": [
       "3"
      ]
     },
     "execution_count": 3,
     "metadata": {},
     "output_type": "execute_result"
    }
   ],
   "source": [
    "n"
   ]
  },
  {
   "cell_type": "code",
   "execution_count": 14,
   "id": "f9a4af49",
   "metadata": {},
   "outputs": [
    {
     "name": "stdout",
     "output_type": "stream",
     "text": [
      "1\n"
     ]
    }
   ],
   "source": [
    "for i in range(n):\n",
    "    for j in range(i-1):\n",
    "        print(j+1)"
   ]
  },
  {
   "cell_type": "code",
   "execution_count": 18,
   "id": "47aff9a4",
   "metadata": {},
   "outputs": [
    {
     "name": "stdout",
     "output_type": "stream",
     "text": [
      "[6, 9, 3]\n",
      "[6, 9, 3]\n",
      "[6, 9, 3]\n"
     ]
    }
   ],
   "source": [
    "for i in range(n):\n",
    "    for j in range(i-1):\n",
    "        if mylist[j] > mylist[j+1]:\n",
    "            temp = mylist[j]\n",
    "            mylist[j] = mylist[j+1]\n",
    "            mylist[j+1] = temp\n",
    "print(mylist)     "
   ]
  },
  {
   "cell_type": "code",
   "execution_count": 16,
   "id": "d75eed8a",
   "metadata": {},
   "outputs": [
    {
     "data": {
      "text/plain": [
       "[6, 9, 3]"
      ]
     },
     "execution_count": 16,
     "metadata": {},
     "output_type": "execute_result"
    }
   ],
   "source": [
    "mylist"
   ]
  },
  {
   "cell_type": "code",
   "execution_count": null,
   "id": "2748aebe",
   "metadata": {},
   "outputs": [],
   "source": []
  }
 ],
 "metadata": {
  "kernelspec": {
   "display_name": "Python 3 (ipykernel)",
   "language": "python",
   "name": "python3"
  },
  "language_info": {
   "codemirror_mode": {
    "name": "ipython",
    "version": 3
   },
   "file_extension": ".py",
   "mimetype": "text/x-python",
   "name": "python",
   "nbconvert_exporter": "python",
   "pygments_lexer": "ipython3",
   "version": "3.9.2"
  }
 },
 "nbformat": 4,
 "nbformat_minor": 5
}
