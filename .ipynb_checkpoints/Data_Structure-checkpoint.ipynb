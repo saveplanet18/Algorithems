{
 "cells": [
  {
   "cell_type": "markdown",
   "id": "5c21f86f",
   "metadata": {},
   "source": [
    "# implement stack in pyton\n",
    "1. list \n",
    "2. modules \n",
    "3. stack operation fallowed in lifo operation\n"
   ]
  },
  {
   "cell_type": "code",
   "execution_count": 1,
   "id": "473f4c0c",
   "metadata": {},
   "outputs": [],
   "source": [
    "mylist = []"
   ]
  },
  {
   "cell_type": "code",
   "execution_count": 2,
   "id": "402b18e3",
   "metadata": {},
   "outputs": [],
   "source": [
    "mylist.append(10)"
   ]
  },
  {
   "cell_type": "code",
   "execution_count": 3,
   "id": "b92b0dcf",
   "metadata": {},
   "outputs": [
    {
     "data": {
      "text/plain": [
       "[10]"
      ]
     },
     "execution_count": 3,
     "metadata": {},
     "output_type": "execute_result"
    }
   ],
   "source": [
    "mylist"
   ]
  },
  {
   "cell_type": "code",
   "execution_count": 4,
   "id": "a99bb793",
   "metadata": {},
   "outputs": [],
   "source": [
    "mylist.append(30)"
   ]
  },
  {
   "cell_type": "code",
   "execution_count": 5,
   "id": "cd1ab259",
   "metadata": {},
   "outputs": [],
   "source": [
    "mylist.append(40)"
   ]
  },
  {
   "cell_type": "code",
   "execution_count": 6,
   "id": "c2a968de",
   "metadata": {},
   "outputs": [],
   "source": [
    "mylist.append(50)"
   ]
  },
  {
   "cell_type": "code",
   "execution_count": 7,
   "id": "e4de5890",
   "metadata": {},
   "outputs": [],
   "source": [
    "mylist.append(63)"
   ]
  },
  {
   "cell_type": "code",
   "execution_count": 8,
   "id": "6c01cca3",
   "metadata": {},
   "outputs": [
    {
     "data": {
      "text/plain": [
       "[10, 30, 40, 50, 63]"
      ]
     },
     "execution_count": 8,
     "metadata": {},
     "output_type": "execute_result"
    }
   ],
   "source": [
    "mylist"
   ]
  },
  {
   "cell_type": "code",
   "execution_count": 9,
   "id": "7b7b9485",
   "metadata": {},
   "outputs": [],
   "source": [
    "for stack in range(10,20):\n",
    "    mylist.append(stack)"
   ]
  },
  {
   "cell_type": "code",
   "execution_count": 10,
   "id": "d98bb1ff",
   "metadata": {},
   "outputs": [
    {
     "data": {
      "text/plain": [
       "[10, 30, 40, 50, 63, 10, 11, 12, 13, 14, 15, 16, 17, 18, 19]"
      ]
     },
     "execution_count": 10,
     "metadata": {},
     "output_type": "execute_result"
    }
   ],
   "source": [
    "mylist"
   ]
  },
  {
   "cell_type": "markdown",
   "id": "adbdc783",
   "metadata": {},
   "source": [
    "# pop operation in python"
   ]
  },
  {
   "cell_type": "code",
   "execution_count": 11,
   "id": "26e37112",
   "metadata": {},
   "outputs": [
    {
     "data": {
      "text/plain": [
       "19"
      ]
     },
     "execution_count": 11,
     "metadata": {},
     "output_type": "execute_result"
    }
   ],
   "source": [
    "mylist.pop()"
   ]
  },
  {
   "cell_type": "code",
   "execution_count": 12,
   "id": "72bb7991",
   "metadata": {},
   "outputs": [
    {
     "data": {
      "text/plain": [
       "18"
      ]
     },
     "execution_count": 12,
     "metadata": {},
     "output_type": "execute_result"
    }
   ],
   "source": [
    "mylist.pop()"
   ]
  },
  {
   "cell_type": "code",
   "execution_count": 13,
   "id": "caf14e9c",
   "metadata": {},
   "outputs": [
    {
     "data": {
      "text/plain": [
       "[10, 30, 40, 50, 63, 10, 11, 12, 13, 14, 15, 16, 17]"
      ]
     },
     "execution_count": 13,
     "metadata": {},
     "output_type": "execute_result"
    }
   ],
   "source": [
    "mylist"
   ]
  },
  {
   "cell_type": "code",
   "execution_count": 14,
   "id": "e2d4f131",
   "metadata": {},
   "outputs": [],
   "source": [
    "stack = []\n"
   ]
  },
  {
   "cell_type": "code",
   "execution_count": 15,
   "id": "0c37ddcd",
   "metadata": {},
   "outputs": [
    {
     "data": {
      "text/plain": [
       "True"
      ]
     },
     "execution_count": 15,
     "metadata": {},
     "output_type": "execute_result"
    }
   ],
   "source": [
    "len(stack) == 0"
   ]
  },
  {
   "cell_type": "code",
   "execution_count": 16,
   "id": "50876a65",
   "metadata": {},
   "outputs": [
    {
     "data": {
      "text/plain": [
       "True"
      ]
     },
     "execution_count": 16,
     "metadata": {},
     "output_type": "execute_result"
    }
   ],
   "source": [
    "not stack"
   ]
  },
  {
   "cell_type": "code",
   "execution_count": 17,
   "id": "8d83f829",
   "metadata": {},
   "outputs": [],
   "source": [
    "stack.append(10)\n",
    "stack.append(20)"
   ]
  },
  {
   "cell_type": "code",
   "execution_count": 18,
   "id": "cff9124f",
   "metadata": {},
   "outputs": [
    {
     "data": {
      "text/plain": [
       "[10, 20]"
      ]
     },
     "execution_count": 18,
     "metadata": {},
     "output_type": "execute_result"
    }
   ],
   "source": [
    "stack"
   ]
  },
  {
   "cell_type": "code",
   "execution_count": 19,
   "id": "17b18f40",
   "metadata": {},
   "outputs": [],
   "source": [
    "stack.append(30)"
   ]
  },
  {
   "cell_type": "code",
   "execution_count": 20,
   "id": "71f2737f",
   "metadata": {},
   "outputs": [
    {
     "data": {
      "text/plain": [
       "[10, 20, 30]"
      ]
     },
     "execution_count": 20,
     "metadata": {},
     "output_type": "execute_result"
    }
   ],
   "source": [
    "stack"
   ]
  },
  {
   "cell_type": "code",
   "execution_count": 21,
   "id": "aa3e4917",
   "metadata": {},
   "outputs": [],
   "source": [
    "stack.append(40)"
   ]
  },
  {
   "cell_type": "code",
   "execution_count": 22,
   "id": "702d2f82",
   "metadata": {},
   "outputs": [
    {
     "data": {
      "text/plain": [
       "[10, 20, 30, 40]"
      ]
     },
     "execution_count": 22,
     "metadata": {},
     "output_type": "execute_result"
    }
   ],
   "source": [
    "stack"
   ]
  },
  {
   "cell_type": "code",
   "execution_count": 23,
   "id": "5d52de56",
   "metadata": {},
   "outputs": [],
   "source": [
    "stack.append(60)"
   ]
  },
  {
   "cell_type": "code",
   "execution_count": 24,
   "id": "dfd73e9a",
   "metadata": {},
   "outputs": [
    {
     "data": {
      "text/plain": [
       "[10, 20, 30, 40, 60]"
      ]
     },
     "execution_count": 24,
     "metadata": {},
     "output_type": "execute_result"
    }
   ],
   "source": [
    "stack"
   ]
  },
  {
   "cell_type": "code",
   "execution_count": 25,
   "id": "6a39da90",
   "metadata": {},
   "outputs": [],
   "source": [
    "stack.append(70)"
   ]
  },
  {
   "cell_type": "code",
   "execution_count": 26,
   "id": "b2d84e02",
   "metadata": {},
   "outputs": [],
   "source": [
    "stack.append(80)"
   ]
  },
  {
   "cell_type": "code",
   "execution_count": 27,
   "id": "3fefcd2b",
   "metadata": {},
   "outputs": [
    {
     "data": {
      "text/plain": [
       "[10, 20, 30, 40, 60, 70, 80]"
      ]
     },
     "execution_count": 27,
     "metadata": {},
     "output_type": "execute_result"
    }
   ],
   "source": [
    "stack"
   ]
  },
  {
   "cell_type": "code",
   "execution_count": 30,
   "id": "84d6bc78",
   "metadata": {},
   "outputs": [
    {
     "name": "stdout",
     "output_type": "stream",
     "text": [
      "list index out of range\n"
     ]
    }
   ],
   "source": [
    "try:\n",
    "    stack[8]\n",
    "except IndexError as e:\n",
    "    print(e)"
   ]
  },
  {
   "cell_type": "markdown",
   "id": "30452ae6",
   "metadata": {},
   "source": [
    "# stack operation Examples"
   ]
  },
  {
   "cell_type": "code",
   "execution_count": 31,
   "id": "d7637b4e",
   "metadata": {},
   "outputs": [],
   "source": [
    "stack = []"
   ]
  },
  {
   "cell_type": "code",
   "execution_count": 32,
   "id": "49c54d04",
   "metadata": {},
   "outputs": [],
   "source": [
    "def Push():\n",
    "    element = input(\"Enter the element\\n\")\n",
    "    stack.append(element)\n",
    "    print(stack)"
   ]
  },
  {
   "cell_type": "code",
   "execution_count": 33,
   "id": "c2c8da4f",
   "metadata": {},
   "outputs": [
    {
     "name": "stdout",
     "output_type": "stream",
     "text": [
      "Enter the element\n",
      "9\n",
      "['9']\n"
     ]
    }
   ],
   "source": [
    "Push()"
   ]
  },
  {
   "cell_type": "code",
   "execution_count": 34,
   "id": "a77faebc",
   "metadata": {},
   "outputs": [
    {
     "data": {
      "text/plain": [
       "['9']"
      ]
     },
     "execution_count": 34,
     "metadata": {},
     "output_type": "execute_result"
    }
   ],
   "source": [
    "stack"
   ]
  },
  {
   "cell_type": "code",
   "execution_count": 36,
   "id": "4f39ff76",
   "metadata": {},
   "outputs": [
    {
     "name": "stdout",
     "output_type": "stream",
     "text": [
      "Enter the element\n",
      "20\n",
      "['9', '20']\n"
     ]
    }
   ],
   "source": [
    "Push()"
   ]
  },
  {
   "cell_type": "code",
   "execution_count": 37,
   "id": "f1a605c9",
   "metadata": {},
   "outputs": [],
   "source": [
    "def Pop():\n",
    "    if not stack:\n",
    "        print(\"stack is empty..\")\n",
    "    else:\n",
    "        e = stack.pop()\n",
    "        print(\"removed from element\",e)\n",
    "        print(stack)"
   ]
  },
  {
   "cell_type": "code",
   "execution_count": 38,
   "id": "7c46402b",
   "metadata": {},
   "outputs": [
    {
     "name": "stdout",
     "output_type": "stream",
     "text": [
      "removed from element 20\n",
      "['9']\n"
     ]
    }
   ],
   "source": [
    "Pop()"
   ]
  },
  {
   "cell_type": "code",
   "execution_count": 39,
   "id": "9ded4197",
   "metadata": {},
   "outputs": [
    {
     "data": {
      "text/plain": [
       "['9']"
      ]
     },
     "execution_count": 39,
     "metadata": {},
     "output_type": "execute_result"
    }
   ],
   "source": [
    "stack"
   ]
  },
  {
   "cell_type": "code",
   "execution_count": 40,
   "id": "d8234bbc",
   "metadata": {},
   "outputs": [
    {
     "name": "stdout",
     "output_type": "stream",
     "text": [
      "Enter the element\n",
      "10\n",
      "['9', '10']\n"
     ]
    }
   ],
   "source": [
    "Push()"
   ]
  },
  {
   "cell_type": "code",
   "execution_count": 41,
   "id": "4c5bdb2f",
   "metadata": {},
   "outputs": [
    {
     "name": "stdout",
     "output_type": "stream",
     "text": [
      "select the options 1. Push, 2.Pop , 3. Quit\n",
      "1\n",
      "Enter the element\n",
      "36\n",
      "['9', '10', '36']\n",
      "select the options 1. Push, 2.Pop , 3. Quit\n",
      "66\n",
      "Enter the correct opetion..\n",
      "select the options 1. Push, 2.Pop , 3. Quit\n",
      "99\n",
      "Enter the correct opetion..\n",
      "select the options 1. Push, 2.Pop , 3. Quit\n",
      "33\n",
      "Enter the correct opetion..\n",
      "select the options 1. Push, 2.Pop , 3. Quit\n",
      "88\n",
      "Enter the correct opetion..\n",
      "select the options 1. Push, 2.Pop , 3. Quit\n",
      "77\n",
      "Enter the correct opetion..\n",
      "select the options 1. Push, 2.Pop , 3. Quit\n",
      "99\n",
      "Enter the correct opetion..\n",
      "select the options 1. Push, 2.Pop , 3. Quit\n",
      "66\n",
      "Enter the correct opetion..\n",
      "select the options 1. Push, 2.Pop , 3. Quit\n",
      "55\n",
      "Enter the correct opetion..\n",
      "select the options 1. Push, 2.Pop , 3. Quit\n",
      "77\n",
      "Enter the correct opetion..\n",
      "select the options 1. Push, 2.Pop , 3. Quit\n",
      "11\n",
      "Enter the correct opetion..\n",
      "select the options 1. Push, 2.Pop , 3. Quit\n",
      "22\n",
      "Enter the correct opetion..\n",
      "select the options 1. Push, 2.Pop , 3. Quit\n",
      "3\n"
     ]
    }
   ],
   "source": [
    "while True:\n",
    "    print(\"select the options 1. Push, 2.Pop , 3. Quit\")\n",
    "    Choice = int(input())\n",
    "    if Choice == 1:\n",
    "        Push()\n",
    "    elif Choice == 2:\n",
    "        Pop()\n",
    "    elif Choice == 3:\n",
    "        break\n",
    "    else:\n",
    "        print(\"Enter the correct opetion..\")"
   ]
  },
  {
   "cell_type": "code",
   "execution_count": 42,
   "id": "dab5c07c",
   "metadata": {},
   "outputs": [
    {
     "data": {
      "text/plain": [
       "['9', '10', '36']"
      ]
     },
     "execution_count": 42,
     "metadata": {},
     "output_type": "execute_result"
    }
   ],
   "source": [
    "stack"
   ]
  },
  {
   "cell_type": "code",
   "execution_count": 43,
   "id": "03180edf",
   "metadata": {},
   "outputs": [],
   "source": [
    "def main():\n",
    "    while True:\n",
    "        print(\"Select Operations 1. Push, 2. Pop , 3. Quit\")\n",
    "        Choice = int(input())\n",
    "        if Choice == 1:\n",
    "            Push()\n",
    "        elif Choice == 2:\n",
    "            Pop()\n",
    "        elif Choice == 3:\n",
    "            break\n",
    "        else:\n",
    "            print(\"select Proper Operations..\")"
   ]
  },
  {
   "cell_type": "code",
   "execution_count": 44,
   "id": "8df3bf69",
   "metadata": {},
   "outputs": [
    {
     "name": "stdout",
     "output_type": "stream",
     "text": [
      "Select Operations 1. Push, 2. Pop , 3. Quit\n",
      "1\n",
      "Enter the element\n",
      "10\n",
      "['9', '10', '36', '10']\n",
      "Select Operations 1. Push, 2. Pop , 3. Quit\n",
      "1\n",
      "Enter the element\n",
      "20\n",
      "['9', '10', '36', '10', '20']\n",
      "Select Operations 1. Push, 2. Pop , 3. Quit\n",
      "1\n",
      "Enter the element\n",
      "9\n",
      "['9', '10', '36', '10', '20', '9']\n",
      "Select Operations 1. Push, 2. Pop , 3. Quit\n",
      "3\n"
     ]
    }
   ],
   "source": [
    "main()"
   ]
  },
  {
   "cell_type": "code",
   "execution_count": 45,
   "id": "60d3110b",
   "metadata": {},
   "outputs": [
    {
     "name": "stdout",
     "output_type": "stream",
     "text": [
      "operations in 1. Push , 2. Pop , 3. Quit\n",
      "1\n",
      "Enter the element\n",
      "20\n",
      "['9', '10', '36', '10', '20', '9', '20']\n",
      "operations in 1. Push , 2. Pop , 3. Quit\n",
      "3\n"
     ]
    }
   ],
   "source": [
    "while True:\n",
    "    print(\"operations in 1. Push , 2. Pop , 3. Quit\")\n",
    "    enter = int(input())\n",
    "    if enter == 1:\n",
    "        Push()\n",
    "    elif enter == 2:\n",
    "        Pop()\n",
    "    elif enter == 3:\n",
    "        break\n",
    "    else:\n",
    "        print(\"select proper operations...\")"
   ]
  },
  {
   "cell_type": "markdown",
   "id": "9730ef7c",
   "metadata": {},
   "source": [
    "# stack operation\n",
    "1. Push\n",
    "2. isEmpty\n",
    "3. pop\n",
    "4. peek\n",
    "5. isfull"
   ]
  },
  {
   "cell_type": "code",
   "execution_count": 54,
   "id": "4edd2c2d",
   "metadata": {},
   "outputs": [],
   "source": [
    "# stack is implented\n",
    "def Empty():\n",
    "    Stack = []\n",
    "    return Stack"
   ]
  },
  {
   "cell_type": "code",
   "execution_count": 57,
   "id": "923aecda",
   "metadata": {},
   "outputs": [],
   "source": [
    "stack = Empty()"
   ]
  },
  {
   "cell_type": "code",
   "execution_count": 56,
   "id": "04a6a3a2",
   "metadata": {},
   "outputs": [],
   "source": [
    "def isEmpty(stack):\n",
    "    return len(stack) == 0"
   ]
  },
  {
   "cell_type": "code",
   "execution_count": 58,
   "id": "c896c825",
   "metadata": {},
   "outputs": [
    {
     "data": {
      "text/plain": [
       "True"
      ]
     },
     "execution_count": 58,
     "metadata": {},
     "output_type": "execute_result"
    }
   ],
   "source": [
    "isEmpty(stack)"
   ]
  },
  {
   "cell_type": "code",
   "execution_count": 59,
   "id": "818dc27f",
   "metadata": {},
   "outputs": [],
   "source": [
    "def Push(Stack, item):\n",
    "    stack.append(item)\n",
    "    return stack\n",
    "    "
   ]
  },
  {
   "cell_type": "code",
   "execution_count": 60,
   "id": "ccb6ad24",
   "metadata": {},
   "outputs": [
    {
     "data": {
      "text/plain": [
       "[10]"
      ]
     },
     "execution_count": 60,
     "metadata": {},
     "output_type": "execute_result"
    }
   ],
   "source": [
    "Push(stack,10)"
   ]
  },
  {
   "cell_type": "code",
   "execution_count": 61,
   "id": "a3080c2e",
   "metadata": {},
   "outputs": [
    {
     "data": {
      "text/plain": [
       "[10]"
      ]
     },
     "execution_count": 61,
     "metadata": {},
     "output_type": "execute_result"
    }
   ],
   "source": [
    "stack"
   ]
  },
  {
   "cell_type": "code",
   "execution_count": 62,
   "id": "e49bc2b7",
   "metadata": {},
   "outputs": [
    {
     "data": {
      "text/plain": [
       "[10, 20]"
      ]
     },
     "execution_count": 62,
     "metadata": {},
     "output_type": "execute_result"
    }
   ],
   "source": [
    "Push(stack,20)"
   ]
  },
  {
   "cell_type": "code",
   "execution_count": 63,
   "id": "3f632018",
   "metadata": {},
   "outputs": [
    {
     "data": {
      "text/plain": [
       "[10, 20]"
      ]
     },
     "execution_count": 63,
     "metadata": {},
     "output_type": "execute_result"
    }
   ],
   "source": [
    "stack"
   ]
  },
  {
   "cell_type": "code",
   "execution_count": 68,
   "id": "47ae8630",
   "metadata": {},
   "outputs": [],
   "source": [
    "def Pop(stack):\n",
    "    if (isEmpty(stack)):\n",
    "        print(\"stack is empty..\")\n",
    "    else:\n",
    "        stack.pop()"
   ]
  },
  {
   "cell_type": "code",
   "execution_count": 69,
   "id": "0bfb8a66",
   "metadata": {},
   "outputs": [],
   "source": [
    "Pop(stack)"
   ]
  },
  {
   "cell_type": "code",
   "execution_count": 70,
   "id": "012f4381",
   "metadata": {},
   "outputs": [
    {
     "data": {
      "text/plain": [
       "[10]"
      ]
     },
     "execution_count": 70,
     "metadata": {},
     "output_type": "execute_result"
    }
   ],
   "source": [
    "stack"
   ]
  },
  {
   "cell_type": "code",
   "execution_count": 71,
   "id": "99ca6dcb",
   "metadata": {},
   "outputs": [
    {
     "data": {
      "text/plain": [
       "[10, 20]"
      ]
     },
     "execution_count": 71,
     "metadata": {},
     "output_type": "execute_result"
    }
   ],
   "source": [
    "Push(stack,20)"
   ]
  },
  {
   "cell_type": "code",
   "execution_count": 72,
   "id": "bc079947",
   "metadata": {},
   "outputs": [
    {
     "data": {
      "text/plain": [
       "[10, 20, 30]"
      ]
     },
     "execution_count": 72,
     "metadata": {},
     "output_type": "execute_result"
    }
   ],
   "source": [
    "Push(stack,30)"
   ]
  },
  {
   "cell_type": "code",
   "execution_count": 73,
   "id": "4705ea7c",
   "metadata": {},
   "outputs": [],
   "source": [
    "def space():\n",
    "    stack = []\n",
    "    return stack"
   ]
  },
  {
   "cell_type": "code",
   "execution_count": 95,
   "id": "c556774d",
   "metadata": {},
   "outputs": [],
   "source": [
    "def Push(stack , item):\n",
    "    stack.append(item)\n",
    "    print(\"item is Pushed to the stack..\")\n",
    "    return stack"
   ]
  },
  {
   "cell_type": "code",
   "execution_count": 96,
   "id": "76671e83",
   "metadata": {},
   "outputs": [],
   "source": [
    "s = space()"
   ]
  },
  {
   "cell_type": "code",
   "execution_count": 97,
   "id": "2aab7856",
   "metadata": {},
   "outputs": [
    {
     "data": {
      "text/plain": [
       "[]"
      ]
     },
     "execution_count": 97,
     "metadata": {},
     "output_type": "execute_result"
    }
   ],
   "source": [
    "s"
   ]
  },
  {
   "cell_type": "code",
   "execution_count": 100,
   "id": "e3163f9a",
   "metadata": {},
   "outputs": [
    {
     "name": "stdout",
     "output_type": "stream",
     "text": [
      "item is Pushed to the stack..\n"
     ]
    },
    {
     "data": {
      "text/plain": [
       "[40, 30, 20]"
      ]
     },
     "execution_count": 100,
     "metadata": {},
     "output_type": "execute_result"
    }
   ],
   "source": [
    "Push(s , 20)"
   ]
  },
  {
   "cell_type": "code",
   "execution_count": 101,
   "id": "7914caba",
   "metadata": {},
   "outputs": [
    {
     "data": {
      "text/plain": [
       "[40, 30, 20]"
      ]
     },
     "execution_count": 101,
     "metadata": {},
     "output_type": "execute_result"
    }
   ],
   "source": [
    "s"
   ]
  },
  {
   "cell_type": "code",
   "execution_count": 102,
   "id": "6b4a74fb",
   "metadata": {},
   "outputs": [],
   "source": [
    "def Pop(stack):\n",
    "    if (isEmpty(stack)):\n",
    "        return \"stack is Empty\"\n",
    "    return stack.pop()"
   ]
  },
  {
   "cell_type": "code",
   "execution_count": 103,
   "id": "74f60b30",
   "metadata": {},
   "outputs": [
    {
     "data": {
      "text/plain": [
       "30"
      ]
     },
     "execution_count": 103,
     "metadata": {},
     "output_type": "execute_result"
    }
   ],
   "source": [
    "Pop(stack)"
   ]
  },
  {
   "cell_type": "code",
   "execution_count": 104,
   "id": "949f8d3e",
   "metadata": {},
   "outputs": [
    {
     "data": {
      "text/plain": [
       "[10, 20]"
      ]
     },
     "execution_count": 104,
     "metadata": {},
     "output_type": "execute_result"
    }
   ],
   "source": [
    "stack"
   ]
  },
  {
   "cell_type": "code",
   "execution_count": 105,
   "id": "d698b87b",
   "metadata": {},
   "outputs": [],
   "source": [
    "mylist = []"
   ]
  },
  {
   "cell_type": "code",
   "execution_count": 106,
   "id": "19462d2b",
   "metadata": {},
   "outputs": [
    {
     "data": {
      "text/plain": [
       "'stack is Empty'"
      ]
     },
     "execution_count": 106,
     "metadata": {},
     "output_type": "execute_result"
    }
   ],
   "source": [
    "Pop(mylist)"
   ]
  },
  {
   "cell_type": "code",
   "execution_count": 121,
   "id": "eaf19d48",
   "metadata": {},
   "outputs": [],
   "source": [
    "class stack:\n",
    "    def __init__(self):\n",
    "        self.stack = []\n",
    "    def isEmpty(self):\n",
    "        return self.stack == []"
   ]
  },
  {
   "cell_type": "code",
   "execution_count": 122,
   "id": "6de8cbec",
   "metadata": {},
   "outputs": [],
   "source": [
    "s = stack()"
   ]
  },
  {
   "cell_type": "code",
   "execution_count": 123,
   "id": "10e958b4",
   "metadata": {},
   "outputs": [
    {
     "data": {
      "text/plain": [
       "<__main__.stack at 0x1f32bdde910>"
      ]
     },
     "execution_count": 123,
     "metadata": {},
     "output_type": "execute_result"
    }
   ],
   "source": [
    "s"
   ]
  },
  {
   "cell_type": "code",
   "execution_count": 124,
   "id": "5b647e19",
   "metadata": {},
   "outputs": [
    {
     "data": {
      "text/plain": [
       "[]"
      ]
     },
     "execution_count": 124,
     "metadata": {},
     "output_type": "execute_result"
    }
   ],
   "source": [
    "s.stack"
   ]
  },
  {
   "cell_type": "code",
   "execution_count": 125,
   "id": "96a7e133",
   "metadata": {},
   "outputs": [
    {
     "data": {
      "text/plain": [
       "True"
      ]
     },
     "execution_count": 125,
     "metadata": {},
     "output_type": "execute_result"
    }
   ],
   "source": [
    "s.isEmpty()"
   ]
  },
  {
   "cell_type": "code",
   "execution_count": 128,
   "id": "2abe9e72",
   "metadata": {},
   "outputs": [],
   "source": [
    "def Push():\n",
    "    elment = input(\"Enter the first element.\")\n",
    "    stack = []\n",
    "    stack.append(elment)\n",
    "    return stack"
   ]
  },
  {
   "cell_type": "code",
   "execution_count": 131,
   "id": "3c3b13ba",
   "metadata": {},
   "outputs": [
    {
     "name": "stdout",
     "output_type": "stream",
     "text": [
      "Enter the first element.20\n"
     ]
    }
   ],
   "source": [
    "s = Push()"
   ]
  },
  {
   "cell_type": "code",
   "execution_count": 130,
   "id": "011da02a",
   "metadata": {},
   "outputs": [],
   "source": [
    "def Pop(stack):\n",
    "    if (stack)==0:\n",
    "        return \"stack is empty\"\n",
    "    return stack.pop()\n",
    "    "
   ]
  },
  {
   "cell_type": "code",
   "execution_count": 132,
   "id": "ec4d93f8",
   "metadata": {},
   "outputs": [
    {
     "data": {
      "text/plain": [
       "'20'"
      ]
     },
     "execution_count": 132,
     "metadata": {},
     "output_type": "execute_result"
    }
   ],
   "source": [
    "Pop(s)"
   ]
  },
  {
   "cell_type": "code",
   "execution_count": 133,
   "id": "097b5ea5",
   "metadata": {},
   "outputs": [
    {
     "data": {
      "text/plain": [
       "[]"
      ]
     },
     "execution_count": 133,
     "metadata": {},
     "output_type": "execute_result"
    }
   ],
   "source": [
    "s"
   ]
  },
  {
   "cell_type": "code",
   "execution_count": 221,
   "id": "863e41b6",
   "metadata": {},
   "outputs": [],
   "source": [
    "class stack:\n",
    "    def __init__(self):\n",
    "        self.stack = []\n",
    "    def isEmpty(self):\n",
    "        return self.stack == []\n",
    "    def add(self,item):\n",
    "        self.stack.append(item)\n",
    "    def remove(self):\n",
    "        return self.stack.pop()\n",
    "        \n",
    "    def siz(self):\n",
    "        return len(self.stack)"
   ]
  },
  {
   "cell_type": "code",
   "execution_count": 220,
   "id": "88c6ccc5",
   "metadata": {},
   "outputs": [],
   "source": [
    "s = stack()"
   ]
  },
  {
   "cell_type": "code",
   "execution_count": null,
   "id": "f100e6af",
   "metadata": {},
   "outputs": [
    {
     "name": "stdout",
     "output_type": "stream",
     "text": [
      "select the operatio 1.add 2. remove 3. Quit\n",
      "1\n",
      "select proper operations\n",
      "select the operatio 1.add 2. remove 3. Quit\n",
      "25\n",
      "select proper operations\n",
      "select the operatio 1.add 2. remove 3. Quit\n",
      "1\n",
      "select proper operations\n",
      "select the operatio 1.add 2. remove 3. Quit\n",
      "36\n",
      "select proper operations\n",
      "select the operatio 1.add 2. remove 3. Quit\n",
      "1\n",
      "select proper operations\n",
      "select the operatio 1.add 2. remove 3. Quit\n",
      "69\n",
      "select proper operations\n",
      "select the operatio 1.add 2. remove 3. Quit\n",
      "3\n",
      "select proper operations\n",
      "select the operatio 1.add 2. remove 3. Quit\n",
      "3\n",
      "select proper operations\n",
      "select the operatio 1.add 2. remove 3. Quit\n"
     ]
    }
   ],
   "source": [
    "while True:\n",
    "    print(\"select the operatio 1.add 2. remove 3. Quit\")\n",
    "    option = input()\n",
    "    if option == 1:\n",
    "        s.add(option)\n",
    "    elif option == 2:\n",
    "        s.remove()\n",
    "    elif option == 3:\n",
    "        break\n",
    "    else:\n",
    "        print(\"select proper operations\")"
   ]
  },
  {
   "cell_type": "markdown",
   "id": "d911dc2f",
   "metadata": {},
   "source": [
    "# queue\n",
    "1. Enqueue\n",
    "2. Dqueue"
   ]
  },
  {
   "cell_type": "code",
   "execution_count": 1,
   "id": "142a2352",
   "metadata": {},
   "outputs": [],
   "source": [
    "queue = []"
   ]
  },
  {
   "cell_type": "code",
   "execution_count": 2,
   "id": "ba69555f",
   "metadata": {},
   "outputs": [],
   "source": [
    "def Enqueue():\n",
    "    element = input(\"Enter the first element\")\n",
    "    queue.append(element)\n",
    "    return queue"
   ]
  },
  {
   "cell_type": "code",
   "execution_count": 3,
   "id": "2dcc75db",
   "metadata": {},
   "outputs": [
    {
     "name": "stdout",
     "output_type": "stream",
     "text": [
      "Enter the first element10\n"
     ]
    }
   ],
   "source": [
    "e = Enqueue()"
   ]
  },
  {
   "cell_type": "code",
   "execution_count": 4,
   "id": "9c072a26",
   "metadata": {},
   "outputs": [
    {
     "data": {
      "text/plain": [
       "['10']"
      ]
     },
     "execution_count": 4,
     "metadata": {},
     "output_type": "execute_result"
    }
   ],
   "source": [
    "queue"
   ]
  },
  {
   "cell_type": "code",
   "execution_count": 5,
   "id": "db0d4f8c",
   "metadata": {},
   "outputs": [],
   "source": [
    "def Dqueue():\n",
    "    if not queue:\n",
    "        return \"queue is Empty..\"\n",
    "    else:\n",
    "        queue.pop(0)\n",
    "        return queue\n",
    "        "
   ]
  },
  {
   "cell_type": "code",
   "execution_count": 8,
   "id": "1219c47c",
   "metadata": {},
   "outputs": [],
   "source": [
    "d = Dqueue()"
   ]
  },
  {
   "cell_type": "code",
   "execution_count": 9,
   "id": "10adfdf9",
   "metadata": {},
   "outputs": [
    {
     "data": {
      "text/plain": [
       "'queue is Empty..'"
      ]
     },
     "execution_count": 9,
     "metadata": {},
     "output_type": "execute_result"
    }
   ],
   "source": [
    "d"
   ]
  },
  {
   "cell_type": "code",
   "execution_count": 22,
   "id": "95618d3d",
   "metadata": {},
   "outputs": [],
   "source": [
    "def result():\n",
    "    print(queue)"
   ]
  },
  {
   "cell_type": "raw",
   "id": "4e078ac8",
   "metadata": {},
   "source": []
  },
  {
   "cell_type": "code",
   "execution_count": 20,
   "id": "c217186e",
   "metadata": {},
   "outputs": [],
   "source": []
  },
  {
   "cell_type": "code",
   "execution_count": null,
   "id": "3bf80fd3",
   "metadata": {},
   "outputs": [],
   "source": []
  }
 ],
 "metadata": {
  "kernelspec": {
   "display_name": "Python 3 (ipykernel)",
   "language": "python",
   "name": "python3"
  },
  "language_info": {
   "codemirror_mode": {
    "name": "ipython",
    "version": 3
   },
   "file_extension": ".py",
   "mimetype": "text/x-python",
   "name": "python",
   "nbconvert_exporter": "python",
   "pygments_lexer": "ipython3",
   "version": "3.9.2"
  }
 },
 "nbformat": 4,
 "nbformat_minor": 5
}
