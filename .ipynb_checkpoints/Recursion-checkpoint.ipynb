{
 "cells": [
  {
   "cell_type": "code",
   "execution_count": 13,
   "id": "ac0680c0",
   "metadata": {},
   "outputs": [],
   "source": [
    "def fun(n):\n",
    "    if n == 0:\n",
    "        return \"invalid number\"\n",
    "    fun(n-1)\n",
    "    print(n)"
   ]
  },
  {
   "cell_type": "code",
   "execution_count": 14,
   "id": "b2ed2e5e",
   "metadata": {},
   "outputs": [
    {
     "data": {
      "text/plain": [
       "'invalid number'"
      ]
     },
     "execution_count": 14,
     "metadata": {},
     "output_type": "execute_result"
    }
   ],
   "source": [
    "fun(0)"
   ]
  },
  {
   "cell_type": "code",
   "execution_count": 21,
   "id": "d4910962",
   "metadata": {},
   "outputs": [],
   "source": [
    "def facto(n):\n",
    "    if (n==1):\n",
    "        return 1\n",
    "    return n*facto(n-1)"
   ]
  },
  {
   "cell_type": "code",
   "execution_count": 23,
   "id": "235edec6",
   "metadata": {},
   "outputs": [
    {
     "data": {
      "text/plain": [
       "1"
      ]
     },
     "execution_count": 23,
     "metadata": {},
     "output_type": "execute_result"
    }
   ],
   "source": [
    "facto(0)"
   ]
  },
  {
   "cell_type": "code",
   "execution_count": 24,
   "id": "9a00532f",
   "metadata": {},
   "outputs": [
    {
     "data": {
      "text/plain": [
       "120"
      ]
     },
     "execution_count": 24,
     "metadata": {},
     "output_type": "execute_result"
    }
   ],
   "source": [
    "facto(5)"
   ]
  },
  {
   "cell_type": "code",
   "execution_count": 25,
   "id": "257f04dc",
   "metadata": {},
   "outputs": [],
   "source": [
    "def first(n):\n",
    "    if (n==0):\n",
    "        return 0\n",
    "    facto(n-1)\n",
    "    print(n)"
   ]
  },
  {
   "cell_type": "code",
   "execution_count": 26,
   "id": "d7fe770d",
   "metadata": {},
   "outputs": [
    {
     "name": "stdout",
     "output_type": "stream",
     "text": [
      "5\n"
     ]
    }
   ],
   "source": [
    "first(5)"
   ]
  },
  {
   "cell_type": "code",
   "execution_count": 27,
   "id": "d8176931",
   "metadata": {},
   "outputs": [],
   "source": [
    "by = lambda e : e-2"
   ]
  },
  {
   "cell_type": "code",
   "execution_count": 30,
   "id": "70d968e9",
   "metadata": {},
   "outputs": [
    {
     "data": {
      "text/plain": [
       "20"
      ]
     },
     "execution_count": 30,
     "metadata": {},
     "output_type": "execute_result"
    }
   ],
   "source": [
    "by(22)"
   ]
  },
  {
   "cell_type": "code",
   "execution_count": 31,
   "id": "047a5232",
   "metadata": {},
   "outputs": [],
   "source": [
    "def hello():\n",
    "    print(\"hello Manjnath\")"
   ]
  },
  {
   "cell_type": "code",
   "execution_count": 32,
   "id": "6b8414d4",
   "metadata": {},
   "outputs": [
    {
     "name": "stdout",
     "output_type": "stream",
     "text": [
      "hello Manjnath\n"
     ]
    }
   ],
   "source": [
    "hello()"
   ]
  },
  {
   "cell_type": "code",
   "execution_count": 35,
   "id": "4f5c6680",
   "metadata": {},
   "outputs": [],
   "source": [
    "def show(a = 2 , b = 3):\n",
    "    print(a , ' ' , b)  "
   ]
  },
  {
   "cell_type": "code",
   "execution_count": 36,
   "id": "5313d04d",
   "metadata": {},
   "outputs": [
    {
     "name": "stdout",
     "output_type": "stream",
     "text": [
      "2   3\n"
     ]
    }
   ],
   "source": [
    "show()"
   ]
  },
  {
   "cell_type": "code",
   "execution_count": 37,
   "id": "d4d2197d",
   "metadata": {},
   "outputs": [],
   "source": [
    "addtion = lambda a ,b,c : a+b+c"
   ]
  },
  {
   "cell_type": "code",
   "execution_count": 39,
   "id": "27bd0fb5",
   "metadata": {},
   "outputs": [
    {
     "data": {
      "text/plain": [
       "13"
      ]
     },
     "execution_count": 39,
     "metadata": {},
     "output_type": "execute_result"
    }
   ],
   "source": [
    "addtion(2,5,6)"
   ]
  },
  {
   "cell_type": "code",
   "execution_count": 43,
   "id": "f8a4a033",
   "metadata": {},
   "outputs": [],
   "source": [
    "data = lambda x : print(x**2)"
   ]
  },
  {
   "cell_type": "code",
   "execution_count": 44,
   "id": "cb6b757f",
   "metadata": {},
   "outputs": [
    {
     "name": "stdout",
     "output_type": "stream",
     "text": [
      "25\n"
     ]
    }
   ],
   "source": [
    "data(5)"
   ]
  },
  {
   "cell_type": "code",
   "execution_count": 45,
   "id": "1dc54ff4",
   "metadata": {},
   "outputs": [],
   "source": [
    "sqare = lambda x : x **2"
   ]
  },
  {
   "cell_type": "code",
   "execution_count": 46,
   "id": "b56ba2a8",
   "metadata": {},
   "outputs": [
    {
     "data": {
      "text/plain": [
       "25"
      ]
     },
     "execution_count": 46,
     "metadata": {},
     "output_type": "execute_result"
    }
   ],
   "source": [
    "sqare(5)"
   ]
  },
  {
   "cell_type": "code",
   "execution_count": 50,
   "id": "d33bf81d",
   "metadata": {},
   "outputs": [],
   "source": [
    "a , b = 1 ,2\n",
    "add = lambda a , b : a+b"
   ]
  },
  {
   "cell_type": "code",
   "execution_count": 53,
   "id": "c92e4030",
   "metadata": {},
   "outputs": [],
   "source": [
    "result = lambda : a+b"
   ]
  },
  {
   "cell_type": "code",
   "execution_count": 54,
   "id": "0266d8f7",
   "metadata": {},
   "outputs": [
    {
     "data": {
      "text/plain": [
       "3"
      ]
     },
     "execution_count": 54,
     "metadata": {},
     "output_type": "execute_result"
    }
   ],
   "source": [
    "result()"
   ]
  },
  {
   "cell_type": "code",
   "execution_count": 55,
   "id": "c672029b",
   "metadata": {},
   "outputs": [],
   "source": [
    "n = lambda : a+b"
   ]
  },
  {
   "cell_type": "code",
   "execution_count": 57,
   "id": "14683a4d",
   "metadata": {},
   "outputs": [
    {
     "data": {
      "text/plain": [
       "3"
      ]
     },
     "execution_count": 57,
     "metadata": {},
     "output_type": "execute_result"
    }
   ],
   "source": [
    "n()"
   ]
  },
  {
   "cell_type": "code",
   "execution_count": 58,
   "id": "c3de08bb",
   "metadata": {},
   "outputs": [],
   "source": [
    "y = lambda : 2 + 5"
   ]
  },
  {
   "cell_type": "code",
   "execution_count": 59,
   "id": "fcfd48c0",
   "metadata": {},
   "outputs": [
    {
     "data": {
      "text/plain": [
       "7"
      ]
     },
     "execution_count": 59,
     "metadata": {},
     "output_type": "execute_result"
    }
   ],
   "source": [
    "y()"
   ]
  },
  {
   "cell_type": "markdown",
   "id": "19f500bb",
   "metadata": {},
   "source": [
    "# Decorators"
   ]
  },
  {
   "cell_type": "code",
   "execution_count": 64,
   "id": "0a6fb8f3",
   "metadata": {},
   "outputs": [],
   "source": [
    "def wrap(func):\n",
    "    def swap():\n",
    "        print(\"my name is .....\")\n",
    "        func()\n",
    "        print(\"second name is ....\")\n",
    "    return swap"
   ]
  },
  {
   "cell_type": "code",
   "execution_count": 65,
   "id": "f4972ae8",
   "metadata": {},
   "outputs": [],
   "source": [
    "def say():\n",
    "    print(\"hello...\")"
   ]
  },
  {
   "cell_type": "code",
   "execution_count": 66,
   "id": "e8280c97",
   "metadata": {},
   "outputs": [],
   "source": [
    "newfun = wrap(say)"
   ]
  },
  {
   "cell_type": "code",
   "execution_count": 67,
   "id": "f07c17b6",
   "metadata": {},
   "outputs": [
    {
     "name": "stdout",
     "output_type": "stream",
     "text": [
      "my name is .....\n",
      "hello...\n",
      "second name is ....\n"
     ]
    }
   ],
   "source": [
    "newfun()"
   ]
  },
  {
   "cell_type": "code",
   "execution_count": 76,
   "id": "cc3e3c94",
   "metadata": {},
   "outputs": [],
   "source": [
    "def first(n):\n",
    "    print(\"my name is .....\")\n",
    "    def show():\n",
    "        print(\"show print..\")\n",
    "    return show"
   ]
  },
  {
   "cell_type": "code",
   "execution_count": 77,
   "id": "dcf32925",
   "metadata": {},
   "outputs": [],
   "source": [
    "def say():\n",
    "    print(\"hello word\")"
   ]
  },
  {
   "cell_type": "code",
   "execution_count": 78,
   "id": "19d70e91",
   "metadata": {},
   "outputs": [
    {
     "name": "stdout",
     "output_type": "stream",
     "text": [
      "my name is .....\n"
     ]
    }
   ],
   "source": [
    "newfun = first(say)"
   ]
  },
  {
   "cell_type": "code",
   "execution_count": 79,
   "id": "cd3506cc",
   "metadata": {},
   "outputs": [
    {
     "name": "stdout",
     "output_type": "stream",
     "text": [
      "show print..\n"
     ]
    }
   ],
   "source": [
    "newfun()"
   ]
  },
  {
   "cell_type": "code",
   "execution_count": 84,
   "id": "64e6bd0c",
   "metadata": {},
   "outputs": [],
   "source": [
    "def first(n):\n",
    "    print(\"my name is manjunath\")\n",
    "    def show():\n",
    "        print(\"kannur....\")\n",
    "        n()\n",
    "    return show"
   ]
  },
  {
   "cell_type": "code",
   "execution_count": 85,
   "id": "a9e8de05",
   "metadata": {},
   "outputs": [],
   "source": [
    "def say():\n",
    "    print(\"result\")"
   ]
  },
  {
   "cell_type": "code",
   "execution_count": 86,
   "id": "cc4ec4f3",
   "metadata": {},
   "outputs": [
    {
     "name": "stdout",
     "output_type": "stream",
     "text": [
      "my name is manjunath\n"
     ]
    }
   ],
   "source": [
    "new = first(say)"
   ]
  },
  {
   "cell_type": "code",
   "execution_count": 87,
   "id": "3b15db9b",
   "metadata": {},
   "outputs": [
    {
     "name": "stdout",
     "output_type": "stream",
     "text": [
      "kannur....\n",
      "result\n"
     ]
    }
   ],
   "source": [
    "new()"
   ]
  },
  {
   "cell_type": "code",
   "execution_count": 88,
   "id": "0e99daad",
   "metadata": {},
   "outputs": [],
   "source": [
    "def decor(first):\n",
    "    print(\"first number\")\n",
    "    first()\n",
    "    print(\"second print\")"
   ]
  },
  {
   "cell_type": "code",
   "execution_count": 89,
   "id": "ec9a731d",
   "metadata": {},
   "outputs": [],
   "source": [
    "def say():\n",
    "    print(\"third print....\")"
   ]
  },
  {
   "cell_type": "code",
   "execution_count": 90,
   "id": "8c96710c",
   "metadata": {},
   "outputs": [
    {
     "name": "stdout",
     "output_type": "stream",
     "text": [
      "first number\n",
      "third print....\n",
      "second print\n"
     ]
    }
   ],
   "source": [
    "result = decor(say)"
   ]
  },
  {
   "cell_type": "code",
   "execution_count": 116,
   "id": "74b80b08",
   "metadata": {},
   "outputs": [],
   "source": [
    "def deco(parameter):\n",
    "    print(f\"we pass paramter to the string\")\n",
    "    parameter()"
   ]
  },
  {
   "cell_type": "code",
   "execution_count": 117,
   "id": "e5546a2d",
   "metadata": {},
   "outputs": [],
   "source": [
    "def say():\n",
    "    print(\"hello word\")"
   ]
  },
  {
   "cell_type": "code",
   "execution_count": 118,
   "id": "ac16891f",
   "metadata": {},
   "outputs": [
    {
     "name": "stdout",
     "output_type": "stream",
     "text": [
      "we pass paramter to the string\n",
      "hello word\n"
     ]
    }
   ],
   "source": [
    "new = deco(say)"
   ]
  },
  {
   "cell_type": "code",
   "execution_count": 121,
   "id": "e6f35bd9",
   "metadata": {},
   "outputs": [],
   "source": [
    "def demo(func):\n",
    "    return func(a,b)"
   ]
  },
  {
   "cell_type": "code",
   "execution_count": 131,
   "id": "e34eeb3b",
   "metadata": {},
   "outputs": [],
   "source": [
    "def first(func):\n",
    "    print(\"first print values...\")\n",
    "    func()\n",
    "    print(\"second print values...\")\n",
    "    func()"
   ]
  },
  {
   "cell_type": "code",
   "execution_count": 132,
   "id": "0847dda6",
   "metadata": {},
   "outputs": [],
   "source": [
    "def demo():\n",
    "    print(\"print demo\")"
   ]
  },
  {
   "cell_type": "code",
   "execution_count": 133,
   "id": "2853a688",
   "metadata": {},
   "outputs": [
    {
     "name": "stdout",
     "output_type": "stream",
     "text": [
      "first print values...\n",
      "print demo\n",
      "second print values...\n",
      "print demo\n"
     ]
    }
   ],
   "source": [
    "new = first(demo)"
   ]
  },
  {
   "cell_type": "code",
   "execution_count": 147,
   "id": "0d46b9b3",
   "metadata": {},
   "outputs": [],
   "source": [
    "def add(a , b):\n",
    "    return a+b"
   ]
  },
  {
   "cell_type": "code",
   "execution_count": 148,
   "id": "5c755cca",
   "metadata": {},
   "outputs": [],
   "source": [
    "def demo(func):\n",
    "    def add(a,b):\n",
    "        return func(a,b)\n",
    "    return add"
   ]
  },
  {
   "cell_type": "code",
   "execution_count": 149,
   "id": "9b0d828b",
   "metadata": {},
   "outputs": [],
   "source": [
    "new = demo(add)"
   ]
  },
  {
   "cell_type": "code",
   "execution_count": 150,
   "id": "8d07407e",
   "metadata": {},
   "outputs": [
    {
     "data": {
      "text/plain": [
       "<function __main__.demo.<locals>.add(a, b)>"
      ]
     },
     "execution_count": 150,
     "metadata": {},
     "output_type": "execute_result"
    }
   ],
   "source": [
    "new"
   ]
  },
  {
   "cell_type": "code",
   "execution_count": 151,
   "id": "29e33097",
   "metadata": {},
   "outputs": [
    {
     "data": {
      "text/plain": [
       "11"
      ]
     },
     "execution_count": 151,
     "metadata": {},
     "output_type": "execute_result"
    }
   ],
   "source": [
    "new(5,6)"
   ]
  },
  {
   "cell_type": "code",
   "execution_count": 155,
   "id": "1103214c",
   "metadata": {},
   "outputs": [],
   "source": [
    "def calc1(a,b):\n",
    "    return a-b , a*b , a/b, a+b"
   ]
  },
  {
   "cell_type": "code",
   "execution_count": 153,
   "id": "ba1f05be",
   "metadata": {},
   "outputs": [],
   "source": [
    "def demo(func):\n",
    "    def calc(a,b):\n",
    "        return func(a,b)\n",
    "    return calc"
   ]
  },
  {
   "cell_type": "code",
   "execution_count": 156,
   "id": "829683d6",
   "metadata": {},
   "outputs": [],
   "source": [
    "calculation = demo(calc1)"
   ]
  },
  {
   "cell_type": "code",
   "execution_count": 157,
   "id": "4fdaffc0",
   "metadata": {},
   "outputs": [
    {
     "data": {
      "text/plain": [
       "(-1, 30, 0.8333333333333334, 11)"
      ]
     },
     "execution_count": 157,
     "metadata": {},
     "output_type": "execute_result"
    }
   ],
   "source": [
    "calculation(5,6)"
   ]
  },
  {
   "cell_type": "code",
   "execution_count": 158,
   "id": "04a9cc80",
   "metadata": {},
   "outputs": [],
   "source": [
    "msg = \"this is my first message\"\n",
    "def demo(msg):\n",
    "    def func():\n",
    "        print(msg)\n",
    "    func()\n",
    "    \n",
    "    "
   ]
  },
  {
   "cell_type": "code",
   "execution_count": 160,
   "id": "3a67d444",
   "metadata": {},
   "outputs": [
    {
     "name": "stdout",
     "output_type": "stream",
     "text": [
      "this is my first message\n"
     ]
    }
   ],
   "source": [
    "demo(msg)"
   ]
  },
  {
   "cell_type": "code",
   "execution_count": 161,
   "id": "57aa50a7",
   "metadata": {},
   "outputs": [],
   "source": [
    "def calc(a ,b):\n",
    "    return a+b , a-b , a/b , a*b"
   ]
  },
  {
   "cell_type": "code",
   "execution_count": 162,
   "id": "8d69c80e",
   "metadata": {},
   "outputs": [],
   "source": [
    "def demo(func):\n",
    "    def cal(*a,**b):\n",
    "        return func(*a , **b)\n",
    "    return cal\n",
    "        "
   ]
  },
  {
   "cell_type": "code",
   "execution_count": 163,
   "id": "bfa5d81f",
   "metadata": {},
   "outputs": [],
   "source": [
    "new = demo(calc)"
   ]
  },
  {
   "cell_type": "code",
   "execution_count": 164,
   "id": "d3c93164",
   "metadata": {},
   "outputs": [
    {
     "data": {
      "text/plain": [
       "(10, 0, 1.0, 25)"
      ]
     },
     "execution_count": 164,
     "metadata": {},
     "output_type": "execute_result"
    }
   ],
   "source": [
    "new(5,5)"
   ]
  },
  {
   "cell_type": "code",
   "execution_count": 166,
   "id": "0e1f3166",
   "metadata": {},
   "outputs": [
    {
     "data": {
      "text/plain": [
       "(11, -1, 0.8333333333333334, 30)"
      ]
     },
     "execution_count": 166,
     "metadata": {},
     "output_type": "execute_result"
    }
   ],
   "source": [
    "new(5,6)"
   ]
  },
  {
   "cell_type": "code",
   "execution_count": 180,
   "id": "3e6f410f",
   "metadata": {},
   "outputs": [],
   "source": [
    "def deco(func):\n",
    "#     print(\"first print\")\n",
    "    def add(a , b ):\n",
    "#         print(\"second print....\")\n",
    "        return func(a ,b)\n",
    "    return add "
   ]
  },
  {
   "cell_type": "code",
   "execution_count": 181,
   "id": "92f5bb34",
   "metadata": {},
   "outputs": [],
   "source": [
    "@deco\n",
    "def say():\n",
    "    print(\"third print....\")"
   ]
  },
  {
   "cell_type": "code",
   "execution_count": 182,
   "id": "1645be55",
   "metadata": {},
   "outputs": [],
   "source": [
    "@deco\n",
    "def national():\n",
    "    print(\"break through.......\")"
   ]
  },
  {
   "cell_type": "code",
   "execution_count": 183,
   "id": "d6bdcd1b",
   "metadata": {},
   "outputs": [],
   "source": [
    "@deco\n",
    "def calc(a , b):\n",
    "    return a+b , a-b , a*b , a/b"
   ]
  },
  {
   "cell_type": "code",
   "execution_count": 187,
   "id": "d1248a48",
   "metadata": {},
   "outputs": [],
   "source": [
    "def decor(func):\n",
    "    print(\"first print\")\n",
    "    func()\n",
    "    print(\"second print\")"
   ]
  },
  {
   "cell_type": "code",
   "execution_count": 188,
   "id": "740d16e4",
   "metadata": {},
   "outputs": [],
   "source": [
    "def decor1(func):\n",
    "    print(\"third print....\")\n",
    "    func()\n",
    "    print(\"fourth print....\")"
   ]
  },
  {
   "cell_type": "code",
   "execution_count": 189,
   "id": "b94f242f",
   "metadata": {},
   "outputs": [
    {
     "name": "stdout",
     "output_type": "stream",
     "text": [
      "third print....\n",
      "demo print....\n",
      "fourth print....\n",
      "first print\n"
     ]
    },
    {
     "ename": "TypeError",
     "evalue": "'NoneType' object is not callable",
     "output_type": "error",
     "traceback": [
      "\u001b[1;31m---------------------------------------------------------------------------\u001b[0m",
      "\u001b[1;31mTypeError\u001b[0m                                 Traceback (most recent call last)",
      "\u001b[1;32m~\\AppData\\Local\\Temp/ipykernel_12072/1669187261.py\u001b[0m in \u001b[0;36m<module>\u001b[1;34m\u001b[0m\n\u001b[0;32m      1\u001b[0m \u001b[1;33m@\u001b[0m\u001b[0mdecor\u001b[0m\u001b[1;33m\u001b[0m\u001b[1;33m\u001b[0m\u001b[0m\n\u001b[0;32m      2\u001b[0m \u001b[1;33m@\u001b[0m\u001b[0mdecor1\u001b[0m\u001b[1;33m\u001b[0m\u001b[1;33m\u001b[0m\u001b[0m\n\u001b[1;32m----> 3\u001b[1;33m \u001b[1;32mdef\u001b[0m \u001b[0mdemo\u001b[0m\u001b[1;33m(\u001b[0m\u001b[1;33m)\u001b[0m\u001b[1;33m:\u001b[0m\u001b[1;33m\u001b[0m\u001b[1;33m\u001b[0m\u001b[0m\n\u001b[0m\u001b[0;32m      4\u001b[0m     \u001b[0mprint\u001b[0m\u001b[1;33m(\u001b[0m\u001b[1;34m\"demo print....\"\u001b[0m\u001b[1;33m)\u001b[0m\u001b[1;33m\u001b[0m\u001b[1;33m\u001b[0m\u001b[0m\n",
      "\u001b[1;32m~\\AppData\\Local\\Temp/ipykernel_12072/1155359454.py\u001b[0m in \u001b[0;36mdecor\u001b[1;34m(func)\u001b[0m\n\u001b[0;32m      1\u001b[0m \u001b[1;32mdef\u001b[0m \u001b[0mdecor\u001b[0m\u001b[1;33m(\u001b[0m\u001b[0mfunc\u001b[0m\u001b[1;33m)\u001b[0m\u001b[1;33m:\u001b[0m\u001b[1;33m\u001b[0m\u001b[1;33m\u001b[0m\u001b[0m\n\u001b[0;32m      2\u001b[0m     \u001b[0mprint\u001b[0m\u001b[1;33m(\u001b[0m\u001b[1;34m\"first print\"\u001b[0m\u001b[1;33m)\u001b[0m\u001b[1;33m\u001b[0m\u001b[1;33m\u001b[0m\u001b[0m\n\u001b[1;32m----> 3\u001b[1;33m     \u001b[0mfunc\u001b[0m\u001b[1;33m(\u001b[0m\u001b[1;33m)\u001b[0m\u001b[1;33m\u001b[0m\u001b[1;33m\u001b[0m\u001b[0m\n\u001b[0m\u001b[0;32m      4\u001b[0m     \u001b[0mprint\u001b[0m\u001b[1;33m(\u001b[0m\u001b[1;34m\"second print\"\u001b[0m\u001b[1;33m)\u001b[0m\u001b[1;33m\u001b[0m\u001b[1;33m\u001b[0m\u001b[0m\n",
      "\u001b[1;31mTypeError\u001b[0m: 'NoneType' object is not callable"
     ]
    }
   ],
   "source": [
    "@decor\n",
    "@decor1\n",
    "def demo():\n",
    "    print(\"demo print....\")"
   ]
  },
  {
   "cell_type": "code",
   "execution_count": 195,
   "id": "580c5323",
   "metadata": {},
   "outputs": [],
   "source": [
    "def decor(func):\n",
    "    def demo():\n",
    "        print(\"fist print\")\n",
    "        func()\n",
    "        print(\"second print\")\n",
    "    return demo"
   ]
  },
  {
   "cell_type": "code",
   "execution_count": 196,
   "id": "925a4c65",
   "metadata": {},
   "outputs": [],
   "source": [
    "def decor1(func):\n",
    "    def demo():\n",
    "        print(\"third print...\")\n",
    "        func()\n",
    "        print(\"fourth print ...\")\n",
    "    return demo"
   ]
  },
  {
   "cell_type": "code",
   "execution_count": 197,
   "id": "102c52b0",
   "metadata": {},
   "outputs": [],
   "source": [
    "@decor\n",
    "@decor1\n",
    "def say():\n",
    "    print(\"say hello\")"
   ]
  },
  {
   "cell_type": "code",
   "execution_count": 198,
   "id": "e34d8f11",
   "metadata": {},
   "outputs": [
    {
     "name": "stdout",
     "output_type": "stream",
     "text": [
      "fist print\n",
      "third print...\n",
      "say hello\n",
      "fourth print ...\n",
      "second print\n"
     ]
    }
   ],
   "source": [
    "say()"
   ]
  },
  {
   "cell_type": "code",
   "execution_count": 199,
   "id": "84079b22",
   "metadata": {},
   "outputs": [],
   "source": [
    "def counter():\n",
    "    i = 1\n",
    "    while (i<=10):\n",
    "        yield i\n",
    "        i+=1"
   ]
  },
  {
   "cell_type": "code",
   "execution_count": 200,
   "id": "29762677",
   "metadata": {},
   "outputs": [
    {
     "data": {
      "text/plain": [
       "<generator object counter at 0x000001865C8C0A50>"
      ]
     },
     "execution_count": 200,
     "metadata": {},
     "output_type": "execute_result"
    }
   ],
   "source": [
    "counter()"
   ]
  },
  {
   "cell_type": "code",
   "execution_count": 201,
   "id": "fd77c378",
   "metadata": {},
   "outputs": [
    {
     "data": {
      "text/plain": [
       "1"
      ]
     },
     "execution_count": 201,
     "metadata": {},
     "output_type": "execute_result"
    }
   ],
   "source": [
    "next(counter())"
   ]
  },
  {
   "cell_type": "code",
   "execution_count": 202,
   "id": "4814570a",
   "metadata": {},
   "outputs": [
    {
     "data": {
      "text/plain": [
       "1"
      ]
     },
     "execution_count": 202,
     "metadata": {},
     "output_type": "execute_result"
    }
   ],
   "source": [
    "next(counter())"
   ]
  },
  {
   "cell_type": "code",
   "execution_count": 203,
   "id": "e6c713b9",
   "metadata": {},
   "outputs": [
    {
     "data": {
      "text/plain": [
       "1"
      ]
     },
     "execution_count": 203,
     "metadata": {},
     "output_type": "execute_result"
    }
   ],
   "source": [
    "next(counter())"
   ]
  },
  {
   "cell_type": "code",
   "execution_count": 204,
   "id": "49a26153",
   "metadata": {},
   "outputs": [
    {
     "name": "stdout",
     "output_type": "stream",
     "text": [
      "1\n",
      "2\n",
      "3\n",
      "4\n",
      "5\n",
      "6\n",
      "7\n",
      "8\n",
      "9\n",
      "10\n"
     ]
    }
   ],
   "source": [
    "for i in counter():\n",
    "    print(i)"
   ]
  },
  {
   "cell_type": "code",
   "execution_count": 205,
   "id": "1ff12e22",
   "metadata": {},
   "outputs": [],
   "source": [
    "def my_gen(x):\n",
    "    if (x%2 == 0):\n",
    "        yield \"odd number\"\n",
    "    else:\n",
    "        yield 'even number'"
   ]
  },
  {
   "cell_type": "code",
   "execution_count": 206,
   "id": "bac8f891",
   "metadata": {},
   "outputs": [
    {
     "name": "stdout",
     "output_type": "stream",
     "text": [
      "even number\n"
     ]
    }
   ],
   "source": [
    "for i in my_gen(9):\n",
    "    print(i)"
   ]
  },
  {
   "cell_type": "code",
   "execution_count": 207,
   "id": "50697d74",
   "metadata": {},
   "outputs": [],
   "source": [
    "evens=[2,4,6,8,10]"
   ]
  },
  {
   "cell_type": "code",
   "execution_count": 208,
   "id": "7d476354",
   "metadata": {},
   "outputs": [
    {
     "data": {
      "text/plain": [
       "[2, 4, 6, 8, 10]"
      ]
     },
     "execution_count": 208,
     "metadata": {},
     "output_type": "execute_result"
    }
   ],
   "source": [
    "evens"
   ]
  },
  {
   "cell_type": "code",
   "execution_count": 209,
   "id": "fa7b3297",
   "metadata": {},
   "outputs": [],
   "source": [
    "evenIterator=iter(evens)"
   ]
  },
  {
   "cell_type": "code",
   "execution_count": 210,
   "id": "88aeb612",
   "metadata": {},
   "outputs": [
    {
     "data": {
      "text/plain": [
       "<list_iterator at 0x1865c8ccac0>"
      ]
     },
     "execution_count": 210,
     "metadata": {},
     "output_type": "execute_result"
    }
   ],
   "source": [
    "evenIterator"
   ]
  },
  {
   "cell_type": "code",
   "execution_count": 211,
   "id": "b458fceb",
   "metadata": {},
   "outputs": [
    {
     "data": {
      "text/plain": [
       "2"
      ]
     },
     "execution_count": 211,
     "metadata": {},
     "output_type": "execute_result"
    }
   ],
   "source": [
    "next(evenIterator)"
   ]
  },
  {
   "cell_type": "code",
   "execution_count": 212,
   "id": "0d80e976",
   "metadata": {},
   "outputs": [
    {
     "data": {
      "text/plain": [
       "4"
      ]
     },
     "execution_count": 212,
     "metadata": {},
     "output_type": "execute_result"
    }
   ],
   "source": [
    "next(evenIterator)"
   ]
  },
  {
   "cell_type": "code",
   "execution_count": 213,
   "id": "90a91e32",
   "metadata": {},
   "outputs": [],
   "source": [
    "nums=[1,2,3]"
   ]
  },
  {
   "cell_type": "code",
   "execution_count": 214,
   "id": "ca662a1d",
   "metadata": {},
   "outputs": [],
   "source": [
    "numIter=iter(nums)"
   ]
  },
  {
   "cell_type": "code",
   "execution_count": 215,
   "id": "fa287ede",
   "metadata": {},
   "outputs": [
    {
     "data": {
      "text/plain": [
       "1"
      ]
     },
     "execution_count": 215,
     "metadata": {},
     "output_type": "execute_result"
    }
   ],
   "source": [
    "numIter.__next__()"
   ]
  },
  {
   "cell_type": "code",
   "execution_count": 216,
   "id": "05d28db5",
   "metadata": {},
   "outputs": [
    {
     "data": {
      "text/plain": [
       "2"
      ]
     },
     "execution_count": 216,
     "metadata": {},
     "output_type": "execute_result"
    }
   ],
   "source": [
    "numIter.__next__()"
   ]
  },
  {
   "cell_type": "code",
   "execution_count": 217,
   "id": "daacdfaa",
   "metadata": {},
   "outputs": [
    {
     "data": {
      "text/plain": [
       "3"
      ]
     },
     "execution_count": 217,
     "metadata": {},
     "output_type": "execute_result"
    }
   ],
   "source": [
    "next(numIter)"
   ]
  },
  {
   "cell_type": "code",
   "execution_count": 218,
   "id": "6d50d31b",
   "metadata": {},
   "outputs": [
    {
     "ename": "StopIteration",
     "evalue": "",
     "output_type": "error",
     "traceback": [
      "\u001b[1;31m---------------------------------------------------------------------------\u001b[0m",
      "\u001b[1;31mStopIteration\u001b[0m                             Traceback (most recent call last)",
      "\u001b[1;32m~\\AppData\\Local\\Temp/ipykernel_12072/2111248869.py\u001b[0m in \u001b[0;36m<module>\u001b[1;34m\u001b[0m\n\u001b[1;32m----> 1\u001b[1;33m \u001b[0mnext\u001b[0m\u001b[1;33m(\u001b[0m\u001b[0mnumIter\u001b[0m\u001b[1;33m)\u001b[0m\u001b[1;33m\u001b[0m\u001b[1;33m\u001b[0m\u001b[0m\n\u001b[0m",
      "\u001b[1;31mStopIteration\u001b[0m: "
     ]
    }
   ],
   "source": [
    "next(numIter)"
   ]
  },
  {
   "cell_type": "code",
   "execution_count": null,
   "id": "5dc0638f",
   "metadata": {},
   "outputs": [],
   "source": [
    "while True:\n",
    "    try:\n",
    "        n = iter([1,5,8,9,7,6,3,4,6,7,5,2,3,9,5,8])\n",
    "        i = next(n)\n",
    "    except StopIteration:\n",
    "        break"
   ]
  },
  {
   "cell_type": "code",
   "execution_count": 5,
   "id": "ae8c0645",
   "metadata": {},
   "outputs": [],
   "source": [
    "def outerfunc(x):\n",
    "    def innerfunc():\n",
    "        print(x)\n",
    "    return innerfunc"
   ]
  },
  {
   "cell_type": "code",
   "execution_count": 6,
   "id": "5a4054e8",
   "metadata": {},
   "outputs": [],
   "source": [
    "new = outerfunc(8)"
   ]
  },
  {
   "cell_type": "code",
   "execution_count": 7,
   "id": "116f9004",
   "metadata": {},
   "outputs": [
    {
     "name": "stdout",
     "output_type": "stream",
     "text": [
      "8\n"
     ]
    }
   ],
   "source": [
    "new()"
   ]
  },
  {
   "cell_type": "code",
   "execution_count": 8,
   "id": "0092619f",
   "metadata": {},
   "outputs": [],
   "source": [
    "class fruit:\n",
    "    \"\"\"this is my first string .....\"\"\"\n",
    "    pass"
   ]
  },
  {
   "cell_type": "code",
   "execution_count": 9,
   "id": "fd0a8208",
   "metadata": {},
   "outputs": [
    {
     "data": {
      "text/plain": [
       "__main__.fruit"
      ]
     },
     "execution_count": 9,
     "metadata": {},
     "output_type": "execute_result"
    }
   ],
   "source": [
    "fruit"
   ]
  },
  {
   "cell_type": "code",
   "execution_count": 10,
   "id": "2a3c274a",
   "metadata": {},
   "outputs": [],
   "source": [
    "new = fruit()"
   ]
  },
  {
   "cell_type": "code",
   "execution_count": 11,
   "id": "e225db8a",
   "metadata": {},
   "outputs": [
    {
     "data": {
      "text/plain": [
       "<__main__.fruit at 0x1e27d5b7bb0>"
      ]
     },
     "execution_count": 11,
     "metadata": {},
     "output_type": "execute_result"
    }
   ],
   "source": [
    "new"
   ]
  },
  {
   "cell_type": "code",
   "execution_count": 12,
   "id": "93ece20c",
   "metadata": {},
   "outputs": [],
   "source": [
    "class fruit:\n",
    "    \"\"\"this is my first string ....\"\"\"\n",
    "    color = \"red\"\n",
    "    def show(self):\n",
    "        print(f\"this is my string{self.color}\")"
   ]
  },
  {
   "cell_type": "code",
   "execution_count": 13,
   "id": "23fb8346",
   "metadata": {},
   "outputs": [],
   "source": [
    "ob = fruit()"
   ]
  },
  {
   "cell_type": "code",
   "execution_count": 14,
   "id": "381f4ffd",
   "metadata": {},
   "outputs": [
    {
     "data": {
      "text/plain": [
       "<__main__.fruit at 0x1e27d5b72e0>"
      ]
     },
     "execution_count": 14,
     "metadata": {},
     "output_type": "execute_result"
    }
   ],
   "source": [
    "ob"
   ]
  },
  {
   "cell_type": "code",
   "execution_count": 15,
   "id": "76cf45df",
   "metadata": {},
   "outputs": [
    {
     "name": "stdout",
     "output_type": "stream",
     "text": [
      "this is my stringred\n"
     ]
    }
   ],
   "source": [
    "ob.show()"
   ]
  },
  {
   "cell_type": "code",
   "execution_count": 16,
   "id": "d5936be3",
   "metadata": {},
   "outputs": [
    {
     "data": {
      "text/plain": [
       "'red'"
      ]
     },
     "execution_count": 16,
     "metadata": {},
     "output_type": "execute_result"
    }
   ],
   "source": [
    "ob.color"
   ]
  },
  {
   "cell_type": "code",
   "execution_count": 17,
   "id": "55ec53ce",
   "metadata": {},
   "outputs": [],
   "source": [
    "class fruit:\n",
    "    \"\"\"this is my string......\"\"\"\n",
    "    color = ''\n",
    "    def say(self):\n",
    "        print(f\"string is calculated to highest values..\")\n",
    "    "
   ]
  },
  {
   "cell_type": "code",
   "execution_count": 18,
   "id": "5cc9ab15",
   "metadata": {},
   "outputs": [],
   "source": [
    "obj = fruit()"
   ]
  },
  {
   "cell_type": "code",
   "execution_count": 19,
   "id": "2a35069c",
   "metadata": {},
   "outputs": [
    {
     "data": {
      "text/plain": [
       "<__main__.fruit at 0x1e27d5b74f0>"
      ]
     },
     "execution_count": 19,
     "metadata": {},
     "output_type": "execute_result"
    }
   ],
   "source": [
    "obj"
   ]
  },
  {
   "cell_type": "code",
   "execution_count": 20,
   "id": "0da22aad",
   "metadata": {},
   "outputs": [
    {
     "data": {
      "text/plain": [
       "''"
      ]
     },
     "execution_count": 20,
     "metadata": {},
     "output_type": "execute_result"
    }
   ],
   "source": [
    "obj.color"
   ]
  },
  {
   "cell_type": "code",
   "execution_count": 22,
   "id": "53b0968e",
   "metadata": {},
   "outputs": [],
   "source": [
    "class tyr1:\n",
    "    def show(self):\n",
    "        def demo(self):\n",
    "            print(\"my color is blanked....\")\n",
    "        print(\"hello\")\n",
    "        return demo"
   ]
  },
  {
   "cell_type": "code",
   "execution_count": 24,
   "id": "83bc2717",
   "metadata": {},
   "outputs": [],
   "source": [
    "obj = tyr1()"
   ]
  },
  {
   "cell_type": "code",
   "execution_count": 26,
   "id": "70cbef62",
   "metadata": {},
   "outputs": [
    {
     "name": "stdout",
     "output_type": "stream",
     "text": [
      "hello\n"
     ]
    },
    {
     "data": {
      "text/plain": [
       "<function __main__.tyr1.show.<locals>.demo(self)>"
      ]
     },
     "execution_count": 26,
     "metadata": {},
     "output_type": "execute_result"
    }
   ],
   "source": [
    "obj.show()"
   ]
  },
  {
   "cell_type": "code",
   "execution_count": 27,
   "id": "1818d683",
   "metadata": {},
   "outputs": [
    {
     "ename": "AttributeError",
     "evalue": "'tyr1' object has no attribute 'demo'",
     "output_type": "error",
     "traceback": [
      "\u001b[1;31m---------------------------------------------------------------------------\u001b[0m",
      "\u001b[1;31mAttributeError\u001b[0m                            Traceback (most recent call last)",
      "\u001b[1;32m~\\AppData\\Local\\Temp/ipykernel_4748/348981553.py\u001b[0m in \u001b[0;36m<module>\u001b[1;34m\u001b[0m\n\u001b[1;32m----> 1\u001b[1;33m \u001b[0mobj\u001b[0m\u001b[1;33m.\u001b[0m\u001b[0mdemo\u001b[0m\u001b[1;33m(\u001b[0m\u001b[1;33m)\u001b[0m\u001b[1;33m\u001b[0m\u001b[1;33m\u001b[0m\u001b[0m\n\u001b[0m",
      "\u001b[1;31mAttributeError\u001b[0m: 'tyr1' object has no attribute 'demo'"
     ]
    }
   ],
   "source": [
    "obj.demo()"
   ]
  },
  {
   "cell_type": "code",
   "execution_count": 28,
   "id": "24ceaefc",
   "metadata": {},
   "outputs": [],
   "source": [
    "class fruit:\n",
    "    def size(self,x):\n",
    "        print(f\"i am size {x}\")"
   ]
  },
  {
   "cell_type": "code",
   "execution_count": 29,
   "id": "6434d2c8",
   "metadata": {},
   "outputs": [],
   "source": [
    "obj = fruit()"
   ]
  },
  {
   "cell_type": "code",
   "execution_count": 31,
   "id": "15a45977",
   "metadata": {},
   "outputs": [
    {
     "name": "stdout",
     "output_type": "stream",
     "text": [
      "i am size 5\n"
     ]
    }
   ],
   "source": [
    "obj.size(5)"
   ]
  },
  {
   "cell_type": "code",
   "execution_count": 1,
   "id": "4e898e5f",
   "metadata": {},
   "outputs": [],
   "source": [
    "def facto(n):\n",
    "    if (n==0):\n",
    "        return \"total number of factorial is {n}\"\n",
    "    return n * facto(n-1)\n",
    "    "
   ]
  },
  {
   "cell_type": "code",
   "execution_count": 2,
   "id": "7a222838",
   "metadata": {},
   "outputs": [
    {
     "data": {
      "text/plain": [
       "'total number of factorial is {n}total number of factorial is {n}total number of factorial is {n}total number of factorial is {n}total number of factorial is {n}total number of factorial is {n}total number of factorial is {n}total number of factorial is {n}total number of factorial is {n}total number of factorial is {n}total number of factorial is {n}total number of factorial is {n}total number of factorial is {n}total number of factorial is {n}total number of factorial is {n}total number of factorial is {n}total number of factorial is {n}total number of factorial is {n}total number of factorial is {n}total number of factorial is {n}total number of factorial is {n}total number of factorial is {n}total number of factorial is {n}total number of factorial is {n}total number of factorial is {n}total number of factorial is {n}total number of factorial is {n}total number of factorial is {n}total number of factorial is {n}total number of factorial is {n}total number of factorial is {n}total number of factorial is {n}total number of factorial is {n}total number of factorial is {n}total number of factorial is {n}total number of factorial is {n}total number of factorial is {n}total number of factorial is {n}total number of factorial is {n}total number of factorial is {n}total number of factorial is {n}total number of factorial is {n}total number of factorial is {n}total number of factorial is {n}total number of factorial is {n}total number of factorial is {n}total number of factorial is {n}total number of factorial is {n}total number of factorial is {n}total number of factorial is {n}total number of factorial is {n}total number of factorial is {n}total number of factorial is {n}total number of factorial is {n}total number of factorial is {n}total number of factorial is {n}total number of factorial is {n}total number of factorial is {n}total number of factorial is {n}total number of factorial is {n}total number of factorial is {n}total number of factorial is {n}total number of factorial is {n}total number of factorial is {n}total number of factorial is {n}total number of factorial is {n}total number of factorial is {n}total number of factorial is {n}total number of factorial is {n}total number of factorial is {n}total number of factorial is {n}total number of factorial is {n}total number of factorial is {n}total number of factorial is {n}total number of factorial is {n}total number of factorial is {n}total number of factorial is {n}total number of factorial is {n}total number of factorial is {n}total number of factorial is {n}total number of factorial is {n}total number of factorial is {n}total number of factorial is {n}total number of factorial is {n}total number of factorial is {n}total number of factorial is {n}total number of factorial is {n}total number of factorial is {n}total number of factorial is {n}total number of factorial is {n}total number of factorial is {n}total number of factorial is {n}total number of factorial is {n}total number of factorial is {n}total number of factorial is {n}total number of factorial is {n}total number of factorial is {n}total number of factorial is {n}total number of factorial is {n}total number of factorial is {n}total number of factorial is {n}total number of factorial is {n}total number of factorial is {n}total number of factorial is {n}total number of factorial is {n}total number of factorial is {n}total number of factorial is {n}total number of factorial is {n}total number of factorial is {n}total number of factorial is {n}total number of factorial is {n}total number of factorial is {n}total number of factorial is {n}total number of factorial is {n}total number of factorial is {n}total number of factorial is {n}total number of factorial is {n}total number of factorial is {n}total number of factorial is {n}total number of factorial is {n}'"
      ]
     },
     "execution_count": 2,
     "metadata": {},
     "output_type": "execute_result"
    }
   ],
   "source": [
    "facto(5)"
   ]
  },
  {
   "cell_type": "code",
   "execution_count": 12,
   "id": "a3cfca95",
   "metadata": {},
   "outputs": [],
   "source": [
    "class fruit:\n",
    "    def __init__(self,name , age):\n",
    "        self.name = name\n",
    "        self.age = age\n",
    "    def result(self):\n",
    "        print(f\"my name is {self.name} and age is {self.age}\")"
   ]
  },
  {
   "cell_type": "code",
   "execution_count": 13,
   "id": "90133518",
   "metadata": {},
   "outputs": [],
   "source": [
    "obj = fruit('manjunath',25)"
   ]
  },
  {
   "cell_type": "code",
   "execution_count": 14,
   "id": "33371611",
   "metadata": {},
   "outputs": [
    {
     "data": {
      "text/plain": [
       "'manjunath'"
      ]
     },
     "execution_count": 14,
     "metadata": {},
     "output_type": "execute_result"
    }
   ],
   "source": [
    "obj.name"
   ]
  },
  {
   "cell_type": "code",
   "execution_count": 15,
   "id": "6a823c7e",
   "metadata": {},
   "outputs": [
    {
     "data": {
      "text/plain": [
       "25"
      ]
     },
     "execution_count": 15,
     "metadata": {},
     "output_type": "execute_result"
    }
   ],
   "source": [
    "obj.age"
   ]
  },
  {
   "cell_type": "code",
   "execution_count": 16,
   "id": "e398ccbd",
   "metadata": {},
   "outputs": [
    {
     "name": "stdout",
     "output_type": "stream",
     "text": [
      "my name is manjunath and age is 25\n"
     ]
    }
   ],
   "source": [
    "obj.result()"
   ]
  },
  {
   "cell_type": "code",
   "execution_count": 17,
   "id": "10258202",
   "metadata": {},
   "outputs": [
    {
     "data": {
      "text/plain": [
       "<bound method fruit.result of <__main__.fruit object at 0x000002BE0A89DD90>>"
      ]
     },
     "execution_count": 17,
     "metadata": {},
     "output_type": "execute_result"
    }
   ],
   "source": [
    "obj.result"
   ]
  },
  {
   "cell_type": "code",
   "execution_count": 19,
   "id": "461b6541",
   "metadata": {},
   "outputs": [],
   "source": [
    "hi = obj.result"
   ]
  },
  {
   "cell_type": "code",
   "execution_count": 20,
   "id": "f3791eb3",
   "metadata": {},
   "outputs": [
    {
     "name": "stdout",
     "output_type": "stream",
     "text": [
      "my name is manjunath and age is 25\n"
     ]
    }
   ],
   "source": [
    "hi()"
   ]
  },
  {
   "cell_type": "code",
   "execution_count": 21,
   "id": "bc589b33",
   "metadata": {},
   "outputs": [],
   "source": [
    "obj.name = \"renukadevi\""
   ]
  },
  {
   "cell_type": "code",
   "execution_count": 23,
   "id": "7271399f",
   "metadata": {},
   "outputs": [
    {
     "data": {
      "text/plain": [
       "25"
      ]
     },
     "execution_count": 23,
     "metadata": {},
     "output_type": "execute_result"
    }
   ],
   "source": [
    "obj.age"
   ]
  },
  {
   "cell_type": "code",
   "execution_count": 24,
   "id": "242e1206",
   "metadata": {},
   "outputs": [
    {
     "name": "stdout",
     "output_type": "stream",
     "text": [
      "my name is renukadevi and age is 25\n"
     ]
    }
   ],
   "source": [
    "obj.result()"
   ]
  },
  {
   "cell_type": "code",
   "execution_count": 25,
   "id": "edbf03f2",
   "metadata": {},
   "outputs": [],
   "source": [
    "class fruit:\n",
    "    size = \"small\"\n",
    "    def __init__(self,name , age):\n",
    "        self.name = name\n",
    "        self.age = age\n",
    "    def result(self):\n",
    "        print(f\"my name is {self.name} and age is {self.age}\")"
   ]
  },
  {
   "cell_type": "code",
   "execution_count": 26,
   "id": "dc8bcb7e",
   "metadata": {},
   "outputs": [],
   "source": [
    "dd = fruit('manjunath',32)"
   ]
  },
  {
   "cell_type": "code",
   "execution_count": 27,
   "id": "016b2fd3",
   "metadata": {},
   "outputs": [
    {
     "data": {
      "text/plain": [
       "32"
      ]
     },
     "execution_count": 27,
     "metadata": {},
     "output_type": "execute_result"
    }
   ],
   "source": [
    "dd.age"
   ]
  },
  {
   "cell_type": "code",
   "execution_count": 28,
   "id": "2368eb1b",
   "metadata": {},
   "outputs": [
    {
     "data": {
      "text/plain": [
       "'manjunath'"
      ]
     },
     "execution_count": 28,
     "metadata": {},
     "output_type": "execute_result"
    }
   ],
   "source": [
    "dd.name"
   ]
  },
  {
   "cell_type": "code",
   "execution_count": 29,
   "id": "9d04e93f",
   "metadata": {},
   "outputs": [
    {
     "name": "stdout",
     "output_type": "stream",
     "text": [
      "my name is manjunath and age is 32\n"
     ]
    }
   ],
   "source": [
    "dd.result()"
   ]
  },
  {
   "cell_type": "code",
   "execution_count": 30,
   "id": "747be30e",
   "metadata": {},
   "outputs": [
    {
     "data": {
      "text/plain": [
       "'manjunath'"
      ]
     },
     "execution_count": 30,
     "metadata": {},
     "output_type": "execute_result"
    }
   ],
   "source": [
    "dd.name"
   ]
  },
  {
   "cell_type": "code",
   "execution_count": 31,
   "id": "f5014480",
   "metadata": {},
   "outputs": [
    {
     "data": {
      "text/plain": [
       "32"
      ]
     },
     "execution_count": 31,
     "metadata": {},
     "output_type": "execute_result"
    }
   ],
   "source": [
    "dd.age"
   ]
  },
  {
   "cell_type": "code",
   "execution_count": 32,
   "id": "e0f6a00d",
   "metadata": {},
   "outputs": [
    {
     "data": {
      "text/plain": [
       "'manjunath'"
      ]
     },
     "execution_count": 32,
     "metadata": {},
     "output_type": "execute_result"
    }
   ],
   "source": [
    "dd.name"
   ]
  },
  {
   "cell_type": "code",
   "execution_count": 33,
   "id": "271d20f1",
   "metadata": {},
   "outputs": [],
   "source": [
    "mack = fruit('kannur',32)"
   ]
  },
  {
   "cell_type": "code",
   "execution_count": 35,
   "id": "ecf504b5",
   "metadata": {},
   "outputs": [
    {
     "data": {
      "text/plain": [
       "'kannur'"
      ]
     },
     "execution_count": 35,
     "metadata": {},
     "output_type": "execute_result"
    }
   ],
   "source": [
    "mack.name"
   ]
  },
  {
   "cell_type": "code",
   "execution_count": 36,
   "id": "dbcbcdd6",
   "metadata": {},
   "outputs": [
    {
     "data": {
      "text/plain": [
       "32"
      ]
     },
     "execution_count": 36,
     "metadata": {},
     "output_type": "execute_result"
    }
   ],
   "source": [
    "mack.age"
   ]
  },
  {
   "cell_type": "markdown",
   "id": "5bd90a94",
   "metadata": {},
   "source": [
    "del mack"
   ]
  },
  {
   "cell_type": "code",
   "execution_count": 37,
   "id": "f7d7f287",
   "metadata": {},
   "outputs": [],
   "source": [
    "class car:\n",
    "    def __init__(self,brand , model , color, fuel):\n",
    "        self.brand = brand\n",
    "        self.model = model\n",
    "        self.color = color\n",
    "        self.fuel = fuel\n",
    "    def start(self):\n",
    "        print(f\"{self.model} {self.brand} {self.color} {self.fuel}\")\n",
    "    def halt(self):\n",
    "        pass\n",
    "    def drift(self):\n",
    "        pass\n",
    "    def speed(self):\n",
    "        pass"
   ]
  },
  {
   "cell_type": "code",
   "execution_count": 38,
   "id": "4bd2174e",
   "metadata": {},
   "outputs": [],
   "source": [
    "maruti = car('bmw','bmwf1','red','petrol')\n",
    "khana = car('suzaki','suzaki1' , 'white','diesel')"
   ]
  },
  {
   "cell_type": "code",
   "execution_count": 39,
   "id": "b91b52f4",
   "metadata": {},
   "outputs": [
    {
     "name": "stdout",
     "output_type": "stream",
     "text": [
      "bmwf1 bmw red petrol\n"
     ]
    }
   ],
   "source": [
    "maruti.start()"
   ]
  },
  {
   "cell_type": "code",
   "execution_count": 40,
   "id": "f299688b",
   "metadata": {},
   "outputs": [
    {
     "data": {
      "text/plain": [
       "'bmwf1'"
      ]
     },
     "execution_count": 40,
     "metadata": {},
     "output_type": "execute_result"
    }
   ],
   "source": [
    "maruti.model"
   ]
  },
  {
   "cell_type": "code",
   "execution_count": 41,
   "id": "780ed3fb",
   "metadata": {},
   "outputs": [
    {
     "data": {
      "text/plain": [
       "'petrol'"
      ]
     },
     "execution_count": 41,
     "metadata": {},
     "output_type": "execute_result"
    }
   ],
   "source": [
    "maruti.fuel"
   ]
  },
  {
   "cell_type": "code",
   "execution_count": 42,
   "id": "7e254bc6",
   "metadata": {},
   "outputs": [
    {
     "data": {
      "text/plain": [
       "'bmwf1'"
      ]
     },
     "execution_count": 42,
     "metadata": {},
     "output_type": "execute_result"
    }
   ],
   "source": [
    "maruti.model"
   ]
  },
  {
   "cell_type": "code",
   "execution_count": 51,
   "id": "a876df74",
   "metadata": {},
   "outputs": [],
   "source": [
    "class Try:\n",
    "    def __init__(self):\n",
    "        pass\n",
    "    def show(self,name):\n",
    "        print(f\"the first name is {name}\")\n",
    "        return name"
   ]
  },
  {
   "cell_type": "code",
   "execution_count": 52,
   "id": "644bef2f",
   "metadata": {},
   "outputs": [],
   "source": [
    "dd = Try()"
   ]
  },
  {
   "cell_type": "code",
   "execution_count": 53,
   "id": "d34082ec",
   "metadata": {},
   "outputs": [
    {
     "name": "stdout",
     "output_type": "stream",
     "text": [
      "the first name is manjunath\n"
     ]
    },
    {
     "data": {
      "text/plain": [
       "'manjunath'"
      ]
     },
     "execution_count": 53,
     "metadata": {},
     "output_type": "execute_result"
    }
   ],
   "source": [
    "dd.show('manjunath')"
   ]
  },
  {
   "cell_type": "code",
   "execution_count": 54,
   "id": "06a41e1c",
   "metadata": {},
   "outputs": [],
   "source": [
    "class animal:\n",
    "    def __init__(self,spieces , gender):\n",
    "        self.spieces = spieces\n",
    "        self.gender = gender\n",
    "        "
   ]
  },
  {
   "cell_type": "code",
   "execution_count": 55,
   "id": "0ebc7745",
   "metadata": {},
   "outputs": [],
   "source": [
    "fuffy = animal('breed','male')"
   ]
  },
  {
   "cell_type": "code",
   "execution_count": 56,
   "id": "ed1166fb",
   "metadata": {},
   "outputs": [
    {
     "data": {
      "text/plain": [
       "<__main__.animal at 0x2be0a9b1e50>"
      ]
     },
     "execution_count": 56,
     "metadata": {},
     "output_type": "execute_result"
    }
   ],
   "source": [
    "fuffy"
   ]
  },
  {
   "cell_type": "code",
   "execution_count": 57,
   "id": "8db8478e",
   "metadata": {},
   "outputs": [
    {
     "data": {
      "text/plain": [
       "'breed'"
      ]
     },
     "execution_count": 57,
     "metadata": {},
     "output_type": "execute_result"
    }
   ],
   "source": [
    "fuffy.spieces"
   ]
  },
  {
   "cell_type": "code",
   "execution_count": 58,
   "id": "77a7daa4",
   "metadata": {},
   "outputs": [
    {
     "data": {
      "text/plain": [
       "'male'"
      ]
     },
     "execution_count": 58,
     "metadata": {},
     "output_type": "execute_result"
    }
   ],
   "source": [
    "fuffy.gender"
   ]
  },
  {
   "cell_type": "code",
   "execution_count": 59,
   "id": "a1a66bc3",
   "metadata": {},
   "outputs": [],
   "source": [
    "class Try2:\n",
    "    def show(self):\n",
    "        print(\"my name is don\")\n",
    "    "
   ]
  },
  {
   "cell_type": "code",
   "execution_count": 60,
   "id": "c38597e5",
   "metadata": {},
   "outputs": [],
   "source": [
    "f = Try2()"
   ]
  },
  {
   "cell_type": "code",
   "execution_count": 61,
   "id": "4fbfeb85",
   "metadata": {},
   "outputs": [
    {
     "name": "stdout",
     "output_type": "stream",
     "text": [
      "my name is don\n"
     ]
    }
   ],
   "source": [
    "f.show()"
   ]
  },
  {
   "cell_type": "code",
   "execution_count": 71,
   "id": "182ece89",
   "metadata": {},
   "outputs": [],
   "source": [
    "class fruit:\n",
    "    def result(self, color):\n",
    "        print(f\"my color is {color}\")"
   ]
  },
  {
   "cell_type": "code",
   "execution_count": 72,
   "id": "8e03d60e",
   "metadata": {},
   "outputs": [],
   "source": [
    "oo = fruit()"
   ]
  },
  {
   "cell_type": "code",
   "execution_count": 73,
   "id": "2610c1fe",
   "metadata": {},
   "outputs": [
    {
     "name": "stdout",
     "output_type": "stream",
     "text": [
      "my color is task\n"
     ]
    }
   ],
   "source": [
    "oo.result('task')"
   ]
  },
  {
   "cell_type": "code",
   "execution_count": 78,
   "id": "e7bdaf5c",
   "metadata": {},
   "outputs": [],
   "source": [
    "class result:\n",
    "    def __init__(self,phy,chem,math):\n",
    "        self.phy = phy\n",
    "        self.chem = chem\n",
    "        self.math = math\n",
    "    def show(self):\n",
    "        print(f\"{self.phy+self.chem+self.math/3}\")"
   ]
  },
  {
   "cell_type": "code",
   "execution_count": 79,
   "id": "a50e2a92",
   "metadata": {},
   "outputs": [],
   "source": [
    "rr = result(95,96,98)"
   ]
  },
  {
   "cell_type": "code",
   "execution_count": 80,
   "id": "47c7ba49",
   "metadata": {},
   "outputs": [
    {
     "data": {
      "text/plain": [
       "<__main__.result at 0x2be0a8e7d60>"
      ]
     },
     "execution_count": 80,
     "metadata": {},
     "output_type": "execute_result"
    }
   ],
   "source": [
    "rr"
   ]
  },
  {
   "cell_type": "code",
   "execution_count": 81,
   "id": "1434d9b1",
   "metadata": {},
   "outputs": [
    {
     "name": "stdout",
     "output_type": "stream",
     "text": [
      "223.66666666666666\n"
     ]
    }
   ],
   "source": [
    "rr.show()"
   ]
  },
  {
   "cell_type": "code",
   "execution_count": 82,
   "id": "898619b7",
   "metadata": {},
   "outputs": [],
   "source": [
    "class ted:\n",
    "    def __init__(self):\n",
    "        self.lit = False\n",
    "        "
   ]
  },
  {
   "cell_type": "code",
   "execution_count": 83,
   "id": "c725eeae",
   "metadata": {},
   "outputs": [],
   "source": [
    "tt = ted()"
   ]
  },
  {
   "cell_type": "code",
   "execution_count": 84,
   "id": "65b92781",
   "metadata": {},
   "outputs": [
    {
     "data": {
      "text/plain": [
       "False"
      ]
     },
     "execution_count": 84,
     "metadata": {},
     "output_type": "execute_result"
    }
   ],
   "source": [
    "tt.lit"
   ]
  },
  {
   "cell_type": "code",
   "execution_count": 85,
   "id": "09e15e70",
   "metadata": {},
   "outputs": [],
   "source": [
    "class try4:\n",
    "    def __init__(rr , color):\n",
    "        rr.color = color\n",
    "    def result(rr):\n",
    "        print(f\"result {rr}\")\n",
    "        "
   ]
  },
  {
   "cell_type": "code",
   "execution_count": 86,
   "id": "40fa478f",
   "metadata": {},
   "outputs": [],
   "source": [
    "t = try4('rd')"
   ]
  },
  {
   "cell_type": "code",
   "execution_count": 88,
   "id": "643deca8",
   "metadata": {},
   "outputs": [
    {
     "name": "stdout",
     "output_type": "stream",
     "text": [
      "result <__main__.try4 object at 0x000002BE0A9B1FA0>\n"
     ]
    }
   ],
   "source": [
    "t.result()"
   ]
  },
  {
   "cell_type": "markdown",
   "id": "989c5950",
   "metadata": {},
   "source": [
    "# class "
   ]
  },
  {
   "cell_type": "code",
   "execution_count": 1,
   "id": "7d4550bd",
   "metadata": {},
   "outputs": [],
   "source": [
    "class fruit:\n",
    "    \"\"\"this is my first string.....\"\"\"\n",
    "    pass"
   ]
  },
  {
   "cell_type": "code",
   "execution_count": 2,
   "id": "91a29033",
   "metadata": {},
   "outputs": [],
   "source": [
    "f = fruit()"
   ]
  },
  {
   "cell_type": "code",
   "execution_count": 4,
   "id": "6311d0cc",
   "metadata": {},
   "outputs": [
    {
     "data": {
      "text/plain": [
       "'this is my first string.....'"
      ]
     },
     "execution_count": 4,
     "metadata": {},
     "output_type": "execute_result"
    }
   ],
   "source": [
    "f.__doc__"
   ]
  },
  {
   "cell_type": "code",
   "execution_count": 5,
   "id": "598c3eb5",
   "metadata": {},
   "outputs": [],
   "source": [
    "class fruit:\n",
    "    \"\"\"this is my first string is defined...\"\"\"\n",
    "    color = \"red\"\n",
    "    def sayhi(self):\n",
    "        print(\"hi this is my first class..\")\n",
    "        "
   ]
  },
  {
   "cell_type": "code",
   "execution_count": 6,
   "id": "31fff379",
   "metadata": {},
   "outputs": [],
   "source": [
    "orange = fruit()"
   ]
  },
  {
   "cell_type": "code",
   "execution_count": 7,
   "id": "be318faa",
   "metadata": {},
   "outputs": [
    {
     "data": {
      "text/plain": [
       "<__main__.fruit at 0x2580bc23f10>"
      ]
     },
     "execution_count": 7,
     "metadata": {},
     "output_type": "execute_result"
    }
   ],
   "source": [
    "orange"
   ]
  },
  {
   "cell_type": "code",
   "execution_count": 8,
   "id": "e62685f1",
   "metadata": {},
   "outputs": [
    {
     "name": "stdout",
     "output_type": "stream",
     "text": [
      "hi this is my first class..\n"
     ]
    }
   ],
   "source": [
    "orange.sayhi()"
   ]
  },
  {
   "cell_type": "code",
   "execution_count": 9,
   "id": "21ba2679",
   "metadata": {},
   "outputs": [
    {
     "data": {
      "text/plain": [
       "'red'"
      ]
     },
     "execution_count": 9,
     "metadata": {},
     "output_type": "execute_result"
    }
   ],
   "source": [
    "orange.color"
   ]
  },
  {
   "cell_type": "code",
   "execution_count": 12,
   "id": "e177c623",
   "metadata": {},
   "outputs": [
    {
     "name": "stdout",
     "output_type": "stream",
     "text": [
      "say hi to kannur\n"
     ]
    }
   ],
   "source": [
    "class orange:\n",
    "    def kannur(self):\n",
    "        print(\"my name is kannur\")\n",
    "    print(\"say hi to kannur\")"
   ]
  },
  {
   "cell_type": "code",
   "execution_count": 21,
   "id": "f864247d",
   "metadata": {},
   "outputs": [],
   "source": [
    "class myclass:\n",
    "    def oneclass(self):\n",
    "        def second(self):\n",
    "            print(\"hello\")\n",
    "        second()\n",
    "        print(\"hi\")"
   ]
  },
  {
   "cell_type": "code",
   "execution_count": 22,
   "id": "171f1ee6",
   "metadata": {},
   "outputs": [],
   "source": [
    "myorange = myclass()"
   ]
  },
  {
   "cell_type": "code",
   "execution_count": 23,
   "id": "7269537e",
   "metadata": {},
   "outputs": [
    {
     "ename": "TypeError",
     "evalue": "second() missing 1 required positional argument: 'self'",
     "output_type": "error",
     "traceback": [
      "\u001b[1;31m---------------------------------------------------------------------------\u001b[0m",
      "\u001b[1;31mTypeError\u001b[0m                                 Traceback (most recent call last)",
      "\u001b[1;32m~\\AppData\\Local\\Temp/ipykernel_11648/3298160014.py\u001b[0m in \u001b[0;36m<module>\u001b[1;34m\u001b[0m\n\u001b[1;32m----> 1\u001b[1;33m \u001b[0mmyorange\u001b[0m\u001b[1;33m.\u001b[0m\u001b[0moneclass\u001b[0m\u001b[1;33m(\u001b[0m\u001b[1;33m)\u001b[0m\u001b[1;33m\u001b[0m\u001b[1;33m\u001b[0m\u001b[0m\n\u001b[0m",
      "\u001b[1;32m~\\AppData\\Local\\Temp/ipykernel_11648/1234911229.py\u001b[0m in \u001b[0;36moneclass\u001b[1;34m(self)\u001b[0m\n\u001b[0;32m      3\u001b[0m         \u001b[1;32mdef\u001b[0m \u001b[0msecond\u001b[0m\u001b[1;33m(\u001b[0m\u001b[0mself\u001b[0m\u001b[1;33m)\u001b[0m\u001b[1;33m:\u001b[0m\u001b[1;33m\u001b[0m\u001b[1;33m\u001b[0m\u001b[0m\n\u001b[0;32m      4\u001b[0m             \u001b[0mprint\u001b[0m\u001b[1;33m(\u001b[0m\u001b[1;34m\"hello\"\u001b[0m\u001b[1;33m)\u001b[0m\u001b[1;33m\u001b[0m\u001b[1;33m\u001b[0m\u001b[0m\n\u001b[1;32m----> 5\u001b[1;33m         \u001b[0msecond\u001b[0m\u001b[1;33m(\u001b[0m\u001b[1;33m)\u001b[0m\u001b[1;33m\u001b[0m\u001b[1;33m\u001b[0m\u001b[0m\n\u001b[0m\u001b[0;32m      6\u001b[0m         \u001b[0mprint\u001b[0m\u001b[1;33m(\u001b[0m\u001b[1;34m\"hi\"\u001b[0m\u001b[1;33m)\u001b[0m\u001b[1;33m\u001b[0m\u001b[1;33m\u001b[0m\u001b[0m\n",
      "\u001b[1;31mTypeError\u001b[0m: second() missing 1 required positional argument: 'self'"
     ]
    }
   ],
   "source": [
    "myorange.oneclass()"
   ]
  },
  {
   "cell_type": "code",
   "execution_count": 24,
   "id": "19d79dce",
   "metadata": {},
   "outputs": [
    {
     "ename": "AttributeError",
     "evalue": "'myclass' object has no attribute 'second'",
     "output_type": "error",
     "traceback": [
      "\u001b[1;31m---------------------------------------------------------------------------\u001b[0m",
      "\u001b[1;31mAttributeError\u001b[0m                            Traceback (most recent call last)",
      "\u001b[1;32m~\\AppData\\Local\\Temp/ipykernel_11648/2835087590.py\u001b[0m in \u001b[0;36m<module>\u001b[1;34m\u001b[0m\n\u001b[1;32m----> 1\u001b[1;33m \u001b[0mmyorange\u001b[0m\u001b[1;33m.\u001b[0m\u001b[0msecond\u001b[0m\u001b[1;33m(\u001b[0m\u001b[1;33m)\u001b[0m\u001b[1;33m\u001b[0m\u001b[1;33m\u001b[0m\u001b[0m\n\u001b[0m",
      "\u001b[1;31mAttributeError\u001b[0m: 'myclass' object has no attribute 'second'"
     ]
    }
   ],
   "source": [
    "myorange.second()"
   ]
  },
  {
   "cell_type": "code",
   "execution_count": 30,
   "id": "10065f99",
   "metadata": {},
   "outputs": [],
   "source": [
    "class fruit:\n",
    "    def sayhi(self,x):\n",
    "        print(f\"my name is {x}\")\n",
    "    "
   ]
  },
  {
   "cell_type": "code",
   "execution_count": 31,
   "id": "9f0f76d9",
   "metadata": {},
   "outputs": [],
   "source": [
    "ornage = fruit()"
   ]
  },
  {
   "cell_type": "code",
   "execution_count": 32,
   "id": "7bd17d56",
   "metadata": {},
   "outputs": [
    {
     "name": "stdout",
     "output_type": "stream",
     "text": [
      "my name is manjunath\n"
     ]
    }
   ],
   "source": [
    "ornage.sayhi('manjunath')"
   ]
  },
  {
   "cell_type": "code",
   "execution_count": 37,
   "id": "d1a8adf4",
   "metadata": {},
   "outputs": [],
   "source": [
    "class fruit:\n",
    "    def __init__(self,color,size):\n",
    "        self.color = color\n",
    "        self.size = size\n",
    "    def result(self):\n",
    "        print(f\"my color is {self.color} and size is {self.size}\")"
   ]
  },
  {
   "cell_type": "code",
   "execution_count": 38,
   "id": "a2ad9016",
   "metadata": {},
   "outputs": [],
   "source": [
    "orange = fruit('red', 32)"
   ]
  },
  {
   "cell_type": "code",
   "execution_count": 39,
   "id": "ffcc6eb9",
   "metadata": {},
   "outputs": [
    {
     "data": {
      "text/plain": [
       "<__main__.fruit at 0x2580bd2e070>"
      ]
     },
     "execution_count": 39,
     "metadata": {},
     "output_type": "execute_result"
    }
   ],
   "source": [
    "orange"
   ]
  },
  {
   "cell_type": "code",
   "execution_count": 40,
   "id": "b5204dfd",
   "metadata": {},
   "outputs": [
    {
     "name": "stdout",
     "output_type": "stream",
     "text": [
      "my color is red and size is 32\n"
     ]
    }
   ],
   "source": [
    "orange.result()"
   ]
  },
  {
   "cell_type": "code",
   "execution_count": 41,
   "id": "80c31903",
   "metadata": {},
   "outputs": [
    {
     "data": {
      "text/plain": [
       "'red'"
      ]
     },
     "execution_count": 41,
     "metadata": {},
     "output_type": "execute_result"
    }
   ],
   "source": [
    "orange.color"
   ]
  },
  {
   "cell_type": "code",
   "execution_count": 42,
   "id": "03d69197",
   "metadata": {},
   "outputs": [
    {
     "data": {
      "text/plain": [
       "32"
      ]
     },
     "execution_count": 42,
     "metadata": {},
     "output_type": "execute_result"
    }
   ],
   "source": [
    "orange.size"
   ]
  },
  {
   "cell_type": "code",
   "execution_count": 43,
   "id": "00cfcbbf",
   "metadata": {},
   "outputs": [],
   "source": [
    "class fruit:\n",
    "    size = \"7 inch\"\n",
    "    def __init__(self,color , shape):\n",
    "        self.color = color\n",
    "        self.shape = shape\n",
    "    def result(self):\n",
    "        print(f\"my color is {self.color} and the size is {self.shape}\")"
   ]
  },
  {
   "cell_type": "code",
   "execution_count": 44,
   "id": "e5fa507c",
   "metadata": {},
   "outputs": [],
   "source": [
    "orange = fruit('blue','long')"
   ]
  },
  {
   "cell_type": "code",
   "execution_count": 45,
   "id": "c2eda747",
   "metadata": {},
   "outputs": [
    {
     "data": {
      "text/plain": [
       "'7 inch'"
      ]
     },
     "execution_count": 45,
     "metadata": {},
     "output_type": "execute_result"
    }
   ],
   "source": [
    "orange.size"
   ]
  },
  {
   "cell_type": "code",
   "execution_count": 46,
   "id": "23ac26d3",
   "metadata": {},
   "outputs": [
    {
     "name": "stdout",
     "output_type": "stream",
     "text": [
      "my color is blue and the size is long\n"
     ]
    }
   ],
   "source": [
    "orange.result()"
   ]
  },
  {
   "cell_type": "code",
   "execution_count": 47,
   "id": "22f80e8d",
   "metadata": {},
   "outputs": [],
   "source": [
    "class car:\n",
    "    size = \"long\"\n",
    "    def __init__(self,color , shape):\n",
    "        self.color = color\n",
    "        self.shape = shape\n",
    "    def speed(self):\n",
    "        print(f\"car is going to speed{self.color} and the shape is like{self.shape}\")\n",
    "    def horn(self):\n",
    "        print(\"like to big hero sounds good ...\")\n",
    "    def something(self):\n",
    "        pass\n",
    "    def nothing(self):\n",
    "        pass\n",
    "    def befor(self):\n",
    "        pass\n",
    "    "
   ]
  },
  {
   "cell_type": "code",
   "execution_count": 48,
   "id": "1eeb468a",
   "metadata": {},
   "outputs": [],
   "source": [
    "obj = car('black','angle')"
   ]
  },
  {
   "cell_type": "code",
   "execution_count": 49,
   "id": "8fd1aa37",
   "metadata": {},
   "outputs": [
    {
     "name": "stdout",
     "output_type": "stream",
     "text": [
      "car is going to speedblack and the shape is likeangle\n"
     ]
    }
   ],
   "source": [
    "obj.speed()"
   ]
  },
  {
   "cell_type": "code",
   "execution_count": 50,
   "id": "07a9e322",
   "metadata": {},
   "outputs": [
    {
     "name": "stdout",
     "output_type": "stream",
     "text": [
      "like to big hero sounds good ...\n"
     ]
    }
   ],
   "source": [
    "obj.horn()"
   ]
  },
  {
   "cell_type": "code",
   "execution_count": 52,
   "id": "600505cc",
   "metadata": {},
   "outputs": [],
   "source": [
    "class software:\n",
    "    def __init__(self,name , age , mail):\n",
    "        self. name = name\n",
    "        self.age = age\n",
    "        self.mail = mail\n",
    "    def result(self):\n",
    "        print(f\"my name is {self.name} and my age is {self.age} and mail id is {self.mail}\")"
   ]
  },
  {
   "cell_type": "code",
   "execution_count": 54,
   "id": "8354a75d",
   "metadata": {},
   "outputs": [],
   "source": [
    "manjunath = software('manjunath',32,'saveplanet369@gmail.com')"
   ]
  },
  {
   "cell_type": "code",
   "execution_count": 55,
   "id": "079e4207",
   "metadata": {},
   "outputs": [
    {
     "data": {
      "text/plain": [
       "<__main__.software at 0x2580bc4ca90>"
      ]
     },
     "execution_count": 55,
     "metadata": {},
     "output_type": "execute_result"
    }
   ],
   "source": [
    "manjunath"
   ]
  },
  {
   "cell_type": "code",
   "execution_count": 56,
   "id": "b19674e5",
   "metadata": {},
   "outputs": [
    {
     "name": "stdout",
     "output_type": "stream",
     "text": [
      "my name is manjunath and my age is 32 and mail id is saveplanet369@gmail.com\n"
     ]
    }
   ],
   "source": [
    "manjunath.result()"
   ]
  },
  {
   "cell_type": "code",
   "execution_count": 57,
   "id": "b75de8c8",
   "metadata": {},
   "outputs": [],
   "source": [
    "class Animal:\n",
    "    def __init__(self, species , gender):\n",
    "        self.species = species\n",
    "        self.gender = gender\n",
    "        "
   ]
  },
  {
   "cell_type": "code",
   "execution_count": 58,
   "id": "6bded4ae",
   "metadata": {},
   "outputs": [],
   "source": [
    "ani = Animal('human','male')"
   ]
  },
  {
   "cell_type": "code",
   "execution_count": 59,
   "id": "91883039",
   "metadata": {},
   "outputs": [
    {
     "data": {
      "text/plain": [
       "<__main__.Animal at 0x2580bd2e730>"
      ]
     },
     "execution_count": 59,
     "metadata": {},
     "output_type": "execute_result"
    }
   ],
   "source": [
    "ani"
   ]
  },
  {
   "cell_type": "code",
   "execution_count": 60,
   "id": "d52559b9",
   "metadata": {},
   "outputs": [
    {
     "data": {
      "text/plain": [
       "'human'"
      ]
     },
     "execution_count": 60,
     "metadata": {},
     "output_type": "execute_result"
    }
   ],
   "source": [
    "ani.species"
   ]
  },
  {
   "cell_type": "code",
   "execution_count": 61,
   "id": "6b410192",
   "metadata": {},
   "outputs": [
    {
     "data": {
      "text/plain": [
       "'male'"
      ]
     },
     "execution_count": 61,
     "metadata": {},
     "output_type": "execute_result"
    }
   ],
   "source": [
    "ani.gender"
   ]
  },
  {
   "cell_type": "code",
   "execution_count": 62,
   "id": "280fc220",
   "metadata": {},
   "outputs": [],
   "source": [
    "class result:\n",
    "    def __init__(self,phy , chem , math , bio):\n",
    "        self.phy = phy\n",
    "        self.chem = chem\n",
    "        self.math = math\n",
    "        self.bio = bio\n",
    "    def prinavt(self):\n",
    "        print(f\"my total number is {self.phy+self.chem+self.math+self.bio/4}\")"
   ]
  },
  {
   "cell_type": "code",
   "execution_count": 63,
   "id": "1cea2f6b",
   "metadata": {},
   "outputs": [],
   "source": [
    "myresult = result(98,99,95,97)"
   ]
  },
  {
   "cell_type": "code",
   "execution_count": 64,
   "id": "b11edc0d",
   "metadata": {},
   "outputs": [
    {
     "name": "stdout",
     "output_type": "stream",
     "text": [
      "my total number is 316.25\n"
     ]
    }
   ],
   "source": [
    "myresult.prinavt()"
   ]
  },
  {
   "cell_type": "code",
   "execution_count": 65,
   "id": "4e6e82f1",
   "metadata": {},
   "outputs": [
    {
     "data": {
      "text/plain": [
       "99"
      ]
     },
     "execution_count": 65,
     "metadata": {},
     "output_type": "execute_result"
    }
   ],
   "source": [
    "myresult.chem"
   ]
  },
  {
   "cell_type": "code",
   "execution_count": 66,
   "id": "15f1bd7e",
   "metadata": {},
   "outputs": [
    {
     "data": {
      "text/plain": [
       "98"
      ]
     },
     "execution_count": 66,
     "metadata": {},
     "output_type": "execute_result"
    }
   ],
   "source": [
    "myresult.phy"
   ]
  },
  {
   "cell_type": "code",
   "execution_count": 67,
   "id": "3368c644",
   "metadata": {},
   "outputs": [],
   "source": [
    "class LED:\n",
    "    def __init__(self):\n",
    "        self.lit = False\n",
    "        "
   ]
  },
  {
   "cell_type": "code",
   "execution_count": 68,
   "id": "16963c7c",
   "metadata": {},
   "outputs": [],
   "source": [
    "mi = LED()"
   ]
  },
  {
   "cell_type": "code",
   "execution_count": 69,
   "id": "a444b138",
   "metadata": {},
   "outputs": [
    {
     "data": {
      "text/plain": [
       "False"
      ]
     },
     "execution_count": 69,
     "metadata": {},
     "output_type": "execute_result"
    }
   ],
   "source": [
    "mi.lit"
   ]
  },
  {
   "cell_type": "code",
   "execution_count": 70,
   "id": "2fd12039",
   "metadata": {},
   "outputs": [],
   "source": [
    "class tobe:\n",
    "    def __init__(self):\n",
    "        self.bit = None\n",
    "        "
   ]
  },
  {
   "cell_type": "code",
   "execution_count": 71,
   "id": "07ba38cd",
   "metadata": {},
   "outputs": [],
   "source": [
    "my = tobe()"
   ]
  },
  {
   "cell_type": "code",
   "execution_count": 72,
   "id": "2e993dbc",
   "metadata": {},
   "outputs": [],
   "source": [
    "my.bit"
   ]
  },
  {
   "cell_type": "code",
   "execution_count": 73,
   "id": "bd379d5d",
   "metadata": {},
   "outputs": [],
   "source": [
    "class try3:\n",
    "    def __init__(self,this):\n",
    "        self.this = True\n",
    "        "
   ]
  },
  {
   "cell_type": "code",
   "execution_count": 75,
   "id": "e0474686",
   "metadata": {},
   "outputs": [],
   "source": [
    "nn = try3('no')"
   ]
  },
  {
   "cell_type": "code",
   "execution_count": 76,
   "id": "1bd6262f",
   "metadata": {},
   "outputs": [
    {
     "data": {
      "text/plain": [
       "True"
      ]
     },
     "execution_count": 76,
     "metadata": {},
     "output_type": "execute_result"
    }
   ],
   "source": [
    "nn.this"
   ]
  },
  {
   "cell_type": "code",
   "execution_count": 77,
   "id": "e1f58124",
   "metadata": {},
   "outputs": [],
   "source": [
    "class three:\n",
    "    val = 7"
   ]
  },
  {
   "cell_type": "code",
   "execution_count": 78,
   "id": "d0b5a469",
   "metadata": {},
   "outputs": [
    {
     "data": {
      "text/plain": [
       "7"
      ]
     },
     "execution_count": 78,
     "metadata": {},
     "output_type": "execute_result"
    }
   ],
   "source": [
    "three.val"
   ]
  },
  {
   "cell_type": "code",
   "execution_count": 79,
   "id": "dd694e9d",
   "metadata": {},
   "outputs": [],
   "source": [
    "class one:\n",
    "    name = \"manjunath\"\n",
    "    age = 32\n",
    "    salary = '1,83,000'"
   ]
  },
  {
   "cell_type": "code",
   "execution_count": 80,
   "id": "71fdbc29",
   "metadata": {},
   "outputs": [
    {
     "data": {
      "text/plain": [
       "'1,83,000'"
      ]
     },
     "execution_count": 80,
     "metadata": {},
     "output_type": "execute_result"
    }
   ],
   "source": [
    "one.salary"
   ]
  },
  {
   "cell_type": "code",
   "execution_count": 81,
   "id": "24791cda",
   "metadata": {},
   "outputs": [
    {
     "data": {
      "text/plain": [
       "'manjunath'"
      ]
     },
     "execution_count": 81,
     "metadata": {},
     "output_type": "execute_result"
    }
   ],
   "source": [
    "one.name"
   ]
  },
  {
   "cell_type": "code",
   "execution_count": 82,
   "id": "84767ee1",
   "metadata": {},
   "outputs": [
    {
     "data": {
      "text/plain": [
       "32"
      ]
     },
     "execution_count": 82,
     "metadata": {},
     "output_type": "execute_result"
    }
   ],
   "source": [
    "one.age"
   ]
  },
  {
   "cell_type": "code",
   "execution_count": 83,
   "id": "61ea43b8",
   "metadata": {},
   "outputs": [],
   "source": [
    "class two:\n",
    "    color = \"red\"\n",
    "    shape = 'round'\n",
    "    age = 32\n",
    "    data = 'oracle'\n",
    "    task = \"todo\""
   ]
  },
  {
   "cell_type": "code",
   "execution_count": 84,
   "id": "ea0144c8",
   "metadata": {},
   "outputs": [
    {
     "data": {
      "text/plain": [
       "'red'"
      ]
     },
     "execution_count": 84,
     "metadata": {},
     "output_type": "execute_result"
    }
   ],
   "source": [
    "two.color"
   ]
  },
  {
   "cell_type": "code",
   "execution_count": 85,
   "id": "c1cc1575",
   "metadata": {},
   "outputs": [
    {
     "data": {
      "text/plain": [
       "32"
      ]
     },
     "execution_count": 85,
     "metadata": {},
     "output_type": "execute_result"
    }
   ],
   "source": [
    "two.age"
   ]
  },
  {
   "cell_type": "code",
   "execution_count": 86,
   "id": "41f35504",
   "metadata": {},
   "outputs": [
    {
     "data": {
      "text/plain": [
       "'oracle'"
      ]
     },
     "execution_count": 86,
     "metadata": {},
     "output_type": "execute_result"
    }
   ],
   "source": [
    "two.data"
   ]
  },
  {
   "cell_type": "code",
   "execution_count": 87,
   "id": "50071107",
   "metadata": {},
   "outputs": [
    {
     "data": {
      "text/plain": [
       "'todo'"
      ]
     },
     "execution_count": 87,
     "metadata": {},
     "output_type": "execute_result"
    }
   ],
   "source": [
    "two.task"
   ]
  },
  {
   "cell_type": "code",
   "execution_count": 88,
   "id": "9575eb53",
   "metadata": {},
   "outputs": [],
   "source": [
    "class ross:\n",
    "    def roy(self,this):\n",
    "        self.this = this\n",
    "        "
   ]
  },
  {
   "cell_type": "code",
   "execution_count": 94,
   "id": "0803ecb6",
   "metadata": {},
   "outputs": [],
   "source": [
    "roo = ross()"
   ]
  },
  {
   "cell_type": "code",
   "execution_count": 97,
   "id": "7494e501",
   "metadata": {},
   "outputs": [],
   "source": [
    "roo.roy(8)"
   ]
  },
  {
   "cell_type": "code",
   "execution_count": 99,
   "id": "f7e34323",
   "metadata": {},
   "outputs": [
    {
     "data": {
      "text/plain": [
       "8"
      ]
     },
     "execution_count": 99,
     "metadata": {},
     "output_type": "execute_result"
    }
   ],
   "source": [
    "roo.this"
   ]
  },
  {
   "cell_type": "code",
   "execution_count": 105,
   "id": "2949bc13",
   "metadata": {},
   "outputs": [],
   "source": [
    "class three:\n",
    "    def __init__(self):\n",
    "        self.val = input(\"enter the first number...\")"
   ]
  },
  {
   "cell_type": "code",
   "execution_count": 108,
   "id": "afe094d7",
   "metadata": {},
   "outputs": [
    {
     "name": "stdout",
     "output_type": "stream",
     "text": [
      "enter the first number...66\n"
     ]
    }
   ],
   "source": [
    "t = three()"
   ]
  },
  {
   "cell_type": "code",
   "execution_count": 109,
   "id": "525b7d3d",
   "metadata": {},
   "outputs": [
    {
     "data": {
      "text/plain": [
       "'66'"
      ]
     },
     "execution_count": 109,
     "metadata": {},
     "output_type": "execute_result"
    }
   ],
   "source": [
    "t.val"
   ]
  },
  {
   "cell_type": "code",
   "execution_count": 110,
   "id": "0142e302",
   "metadata": {},
   "outputs": [],
   "source": [
    "class four:\n",
    "    def __init__(self):\n",
    "        self.val = input(\"enter the fist number....\")"
   ]
  },
  {
   "cell_type": "code",
   "execution_count": 111,
   "id": "d0870741",
   "metadata": {},
   "outputs": [
    {
     "name": "stdout",
     "output_type": "stream",
     "text": [
      "enter the fist number....24456889\n"
     ]
    }
   ],
   "source": [
    "f = four()"
   ]
  },
  {
   "cell_type": "code",
   "execution_count": 112,
   "id": "46f8a06a",
   "metadata": {},
   "outputs": [
    {
     "data": {
      "text/plain": [
       "<__main__.four at 0x2580bc4c850>"
      ]
     },
     "execution_count": 112,
     "metadata": {},
     "output_type": "execute_result"
    }
   ],
   "source": [
    "f"
   ]
  },
  {
   "cell_type": "code",
   "execution_count": 113,
   "id": "bd4b6c54",
   "metadata": {},
   "outputs": [
    {
     "data": {
      "text/plain": [
       "'24456889'"
      ]
     },
     "execution_count": 113,
     "metadata": {},
     "output_type": "execute_result"
    }
   ],
   "source": [
    "f.val"
   ]
  },
  {
   "cell_type": "code",
   "execution_count": 114,
   "id": "11ce1ab6",
   "metadata": {},
   "outputs": [
    {
     "data": {
      "text/plain": [
       "__main__.four"
      ]
     },
     "execution_count": 114,
     "metadata": {},
     "output_type": "execute_result"
    }
   ],
   "source": [
    "type(f)"
   ]
  },
  {
   "cell_type": "code",
   "execution_count": 115,
   "id": "54488399",
   "metadata": {},
   "outputs": [],
   "source": [
    "class five:\n",
    "    def __new__(self):\n",
    "        return 'dataflair'"
   ]
  },
  {
   "cell_type": "code",
   "execution_count": 116,
   "id": "2a570d2e",
   "metadata": {},
   "outputs": [],
   "source": [
    "f = five()"
   ]
  },
  {
   "cell_type": "code",
   "execution_count": 117,
   "id": "fc1fcf9e",
   "metadata": {},
   "outputs": [
    {
     "data": {
      "text/plain": [
       "str"
      ]
     },
     "execution_count": 117,
     "metadata": {},
     "output_type": "execute_result"
    }
   ],
   "source": [
    "type(f)"
   ]
  },
  {
   "cell_type": "code",
   "execution_count": 124,
   "id": "0310231c",
   "metadata": {},
   "outputs": [],
   "source": [
    "class ross:\n",
    "    def __init__(self):\n",
    "        self.val = True\n",
    "    def show(self):\n",
    "        print(\"this value is \") if self.val == True else print(\"val is numbeers\")"
   ]
  },
  {
   "cell_type": "code",
   "execution_count": 125,
   "id": "b076f949",
   "metadata": {},
   "outputs": [],
   "source": [
    "r = ross()"
   ]
  },
  {
   "cell_type": "code",
   "execution_count": 126,
   "id": "3657219c",
   "metadata": {},
   "outputs": [
    {
     "name": "stdout",
     "output_type": "stream",
     "text": [
      "this value is \n"
     ]
    }
   ],
   "source": [
    "r.show()"
   ]
  },
  {
   "cell_type": "code",
   "execution_count": 127,
   "id": "80cbdf9f",
   "metadata": {},
   "outputs": [],
   "source": [
    "r . color = 'kannur'"
   ]
  },
  {
   "cell_type": "code",
   "execution_count": 128,
   "id": "5bfd4dbf",
   "metadata": {},
   "outputs": [
    {
     "data": {
      "text/plain": [
       "'kannur'"
      ]
     },
     "execution_count": 128,
     "metadata": {},
     "output_type": "execute_result"
    }
   ],
   "source": [
    "r.color"
   ]
  },
  {
   "cell_type": "code",
   "execution_count": 129,
   "id": "766243a4",
   "metadata": {},
   "outputs": [],
   "source": [
    "r.age = 32"
   ]
  },
  {
   "cell_type": "code",
   "execution_count": 130,
   "id": "bee2c80a",
   "metadata": {},
   "outputs": [
    {
     "data": {
      "text/plain": [
       "32"
      ]
     },
     "execution_count": 130,
     "metadata": {},
     "output_type": "execute_result"
    }
   ],
   "source": [
    "r.age"
   ]
  },
  {
   "cell_type": "code",
   "execution_count": 131,
   "id": "fc21cc34",
   "metadata": {},
   "outputs": [],
   "source": [
    "r.floating = 88.99"
   ]
  },
  {
   "cell_type": "code",
   "execution_count": 133,
   "id": "fc569118",
   "metadata": {},
   "outputs": [
    {
     "data": {
      "text/plain": [
       "88.99"
      ]
     },
     "execution_count": 133,
     "metadata": {},
     "output_type": "execute_result"
    }
   ],
   "source": [
    "r.floating"
   ]
  },
  {
   "cell_type": "code",
   "execution_count": 134,
   "id": "92ab40f4",
   "metadata": {},
   "outputs": [],
   "source": [
    "class seven:\n",
    "    def __init__(self):\n",
    "        pass\n",
    "    "
   ]
  },
  {
   "cell_type": "code",
   "execution_count": 135,
   "id": "a47a59ce",
   "metadata": {},
   "outputs": [],
   "source": [
    "s = seven()"
   ]
  },
  {
   "cell_type": "code",
   "execution_count": 136,
   "id": "e781e05c",
   "metadata": {},
   "outputs": [],
   "source": [
    "s.age = 32"
   ]
  },
  {
   "cell_type": "code",
   "execution_count": 137,
   "id": "ba484ad6",
   "metadata": {},
   "outputs": [
    {
     "data": {
      "text/plain": [
       "32"
      ]
     },
     "execution_count": 137,
     "metadata": {},
     "output_type": "execute_result"
    }
   ],
   "source": [
    "s.age"
   ]
  },
  {
   "cell_type": "code",
   "execution_count": 138,
   "id": "0bd607c6",
   "metadata": {},
   "outputs": [],
   "source": [
    "s.name = \"manunath\""
   ]
  },
  {
   "cell_type": "code",
   "execution_count": 139,
   "id": "8c9962bf",
   "metadata": {},
   "outputs": [],
   "source": [
    "s.float = 22"
   ]
  },
  {
   "cell_type": "code",
   "execution_count": 140,
   "id": "d8bfa2a4",
   "metadata": {},
   "outputs": [
    {
     "data": {
      "text/plain": [
       "22"
      ]
     },
     "execution_count": 140,
     "metadata": {},
     "output_type": "execute_result"
    }
   ],
   "source": [
    "s.float"
   ]
  },
  {
   "cell_type": "code",
   "execution_count": 141,
   "id": "0fe11bb2",
   "metadata": {},
   "outputs": [],
   "source": [
    "s.list = ['my','dad',25,99,3.2,99]"
   ]
  },
  {
   "cell_type": "code",
   "execution_count": 142,
   "id": "bf3dd794",
   "metadata": {},
   "outputs": [
    {
     "data": {
      "text/plain": [
       "['my', 'dad', 25, 99, 3.2, 99]"
      ]
     },
     "execution_count": 142,
     "metadata": {},
     "output_type": "execute_result"
    }
   ],
   "source": [
    "s.list"
   ]
  },
  {
   "cell_type": "code",
   "execution_count": 143,
   "id": "ad5bfb77",
   "metadata": {},
   "outputs": [],
   "source": [
    "class color:\n",
    "    def show(self):\n",
    "        print(\"not declared cosnstructor....\")"
   ]
  },
  {
   "cell_type": "code",
   "execution_count": 144,
   "id": "01188ac0",
   "metadata": {},
   "outputs": [],
   "source": [
    "co = color()"
   ]
  },
  {
   "cell_type": "code",
   "execution_count": 145,
   "id": "55c77d41",
   "metadata": {},
   "outputs": [
    {
     "name": "stdout",
     "output_type": "stream",
     "text": [
      "not declared cosnstructor....\n"
     ]
    }
   ],
   "source": [
    "co.show()"
   ]
  },
  {
   "cell_type": "code",
   "execution_count": 146,
   "id": "99f0cdc9",
   "metadata": {},
   "outputs": [
    {
     "data": {
      "text/plain": [
       "__main__.color"
      ]
     },
     "execution_count": 146,
     "metadata": {},
     "output_type": "execute_result"
    }
   ],
   "source": [
    "color"
   ]
  },
  {
   "cell_type": "code",
   "execution_count": 147,
   "id": "8ed28053",
   "metadata": {},
   "outputs": [
    {
     "data": {
      "text/plain": [
       "<__main__.color at 0x2580bc4ca00>"
      ]
     },
     "execution_count": 147,
     "metadata": {},
     "output_type": "execute_result"
    }
   ],
   "source": [
    "color()"
   ]
  },
  {
   "cell_type": "code",
   "execution_count": 149,
   "id": "5d60c07f",
   "metadata": {},
   "outputs": [
    {
     "name": "stdout",
     "output_type": "stream",
     "text": [
      "not declared cosnstructor....\n"
     ]
    }
   ],
   "source": [
    "color.show('missing')"
   ]
  },
  {
   "cell_type": "code",
   "execution_count": 150,
   "id": "1a0675ee",
   "metadata": {},
   "outputs": [],
   "source": [
    "class mycolor:\n",
    "    def show():\n",
    "        print(\"nothing is printed...\")"
   ]
  },
  {
   "cell_type": "code",
   "execution_count": 151,
   "id": "2fa742b9",
   "metadata": {},
   "outputs": [
    {
     "name": "stdout",
     "output_type": "stream",
     "text": [
      "nothing is printed...\n"
     ]
    }
   ],
   "source": [
    "mycolor.show()"
   ]
  },
  {
   "cell_type": "code",
   "execution_count": 152,
   "id": "6baf4ad1",
   "metadata": {},
   "outputs": [],
   "source": [
    "class to:\n",
    "    def sow(self):\n",
    "        print(f\"my first strig is {self}\")"
   ]
  },
  {
   "cell_type": "code",
   "execution_count": 153,
   "id": "01c24a83",
   "metadata": {},
   "outputs": [
    {
     "name": "stdout",
     "output_type": "stream",
     "text": [
      "my first strig is manjunath\n"
     ]
    }
   ],
   "source": [
    "to.sow('manjunath')"
   ]
  },
  {
   "cell_type": "code",
   "execution_count": 154,
   "id": "7bcc5dc4",
   "metadata": {},
   "outputs": [],
   "source": [
    "class demo:\n",
    "    def show(self):\n",
    "        print(\"my name is jack chan....\")"
   ]
  },
  {
   "cell_type": "code",
   "execution_count": 155,
   "id": "74c67e4e",
   "metadata": {},
   "outputs": [],
   "source": [
    "d = demo()"
   ]
  },
  {
   "cell_type": "code",
   "execution_count": 156,
   "id": "b0102d93",
   "metadata": {},
   "outputs": [
    {
     "name": "stdout",
     "output_type": "stream",
     "text": [
      "my name is jack chan....\n"
     ]
    }
   ],
   "source": [
    "d.show()"
   ]
  },
  {
   "cell_type": "code",
   "execution_count": 157,
   "id": "2920410f",
   "metadata": {},
   "outputs": [],
   "source": [
    "class high:\n",
    "    def result():\n",
    "        print(\"this my first string....\")"
   ]
  },
  {
   "cell_type": "code",
   "execution_count": 160,
   "id": "38abdab1",
   "metadata": {},
   "outputs": [],
   "source": [
    "h = high"
   ]
  },
  {
   "cell_type": "code",
   "execution_count": 161,
   "id": "2278b9d5",
   "metadata": {},
   "outputs": [
    {
     "name": "stdout",
     "output_type": "stream",
     "text": [
      "this my first string....\n"
     ]
    }
   ],
   "source": [
    "h.result()"
   ]
  },
  {
   "cell_type": "code",
   "execution_count": 162,
   "id": "f7a75a09",
   "metadata": {},
   "outputs": [],
   "source": [
    "class one:\n",
    "    def __init__(self):\n",
    "        pass\n",
    "    def pr(self):\n",
    "         print(\"one is string is passed {self}\")"
   ]
  },
  {
   "cell_type": "code",
   "execution_count": 163,
   "id": "09033545",
   "metadata": {},
   "outputs": [],
   "source": [
    "o = one"
   ]
  },
  {
   "cell_type": "code",
   "execution_count": 165,
   "id": "7d434a79",
   "metadata": {},
   "outputs": [
    {
     "name": "stdout",
     "output_type": "stream",
     "text": [
      "one is string is passed {self}\n"
     ]
    }
   ],
   "source": [
    "o.pr('none')"
   ]
  },
  {
   "cell_type": "code",
   "execution_count": 169,
   "id": "03516867",
   "metadata": {},
   "outputs": [],
   "source": [
    "class one :\n",
    "    def __init__(self):\n",
    "        self.val = val\n",
    "    def show(self):\n",
    "        print(f\"printed something is gone be wrong is high..{self}\")"
   ]
  },
  {
   "cell_type": "code",
   "execution_count": 170,
   "id": "8f20fd96",
   "metadata": {},
   "outputs": [],
   "source": [
    "o = one"
   ]
  },
  {
   "cell_type": "code",
   "execution_count": 171,
   "id": "7f394f4b",
   "metadata": {},
   "outputs": [
    {
     "name": "stdout",
     "output_type": "stream",
     "text": [
      "printed something is gone be wrong is high..manjunath\n"
     ]
    }
   ],
   "source": [
    "o.show('manjunath')"
   ]
  },
  {
   "cell_type": "code",
   "execution_count": 172,
   "id": "19266b3a",
   "metadata": {},
   "outputs": [],
   "source": [
    "class two:\n",
    "    def __init__(self,name , age):\n",
    "        self.age = age\n",
    "        self.name = name\n",
    "    def show(self):\n",
    "        print(f\"my fist age is {self.age}\")\n",
    "        print(f\"my first name is {self.name}\")"
   ]
  },
  {
   "cell_type": "code",
   "execution_count": 177,
   "id": "64ccd7d1",
   "metadata": {},
   "outputs": [],
   "source": [
    "t = two(32,'manjunath')"
   ]
  },
  {
   "cell_type": "code",
   "execution_count": 178,
   "id": "9c477f38",
   "metadata": {},
   "outputs": [
    {
     "name": "stdout",
     "output_type": "stream",
     "text": [
      "my fist age is manjunath\n",
      "my first name is 32\n"
     ]
    }
   ],
   "source": [
    "t.show()"
   ]
  },
  {
   "cell_type": "code",
   "execution_count": 180,
   "id": "32ffa26f",
   "metadata": {},
   "outputs": [],
   "source": [
    "tt = two(33,'docstring')"
   ]
  },
  {
   "cell_type": "code",
   "execution_count": 181,
   "id": "409f7400",
   "metadata": {},
   "outputs": [
    {
     "data": {
      "text/plain": [
       "<__main__.two at 0x2580bd2e8b0>"
      ]
     },
     "execution_count": 181,
     "metadata": {},
     "output_type": "execute_result"
    }
   ],
   "source": [
    "tt"
   ]
  },
  {
   "cell_type": "code",
   "execution_count": 182,
   "id": "b4e4ac80",
   "metadata": {},
   "outputs": [
    {
     "name": "stdout",
     "output_type": "stream",
     "text": [
      "my fist age is docstring\n",
      "my first name is 33\n"
     ]
    }
   ],
   "source": [
    "tt.show()"
   ]
  },
  {
   "cell_type": "code",
   "execution_count": 183,
   "id": "dcafb9c3",
   "metadata": {},
   "outputs": [],
   "source": [
    "class one:\n",
    "    def __init__(self):\n",
    "        print(\"fist constructor is values\")\n",
    "    def __init__(self):\n",
    "        print(\"second the constructor is to be values\")"
   ]
  },
  {
   "cell_type": "code",
   "execution_count": 185,
   "id": "9bdb42c1",
   "metadata": {},
   "outputs": [
    {
     "name": "stdout",
     "output_type": "stream",
     "text": [
      "second the constructor is to be values\n"
     ]
    }
   ],
   "source": [
    "o = one()"
   ]
  },
  {
   "cell_type": "code",
   "execution_count": 186,
   "id": "efb7eb43",
   "metadata": {},
   "outputs": [],
   "source": [
    "class one:\n",
    "    def __init__(self , a = 5 , b = 4):\n",
    "        print(a+b)"
   ]
  },
  {
   "cell_type": "code",
   "execution_count": 187,
   "id": "ff1a03bb",
   "metadata": {},
   "outputs": [
    {
     "name": "stdout",
     "output_type": "stream",
     "text": [
      "9\n"
     ]
    }
   ],
   "source": [
    "o = one()"
   ]
  },
  {
   "cell_type": "code",
   "execution_count": 188,
   "id": "6a756134",
   "metadata": {},
   "outputs": [],
   "source": [
    "o1 = one"
   ]
  },
  {
   "cell_type": "code",
   "execution_count": 189,
   "id": "67f1a011",
   "metadata": {},
   "outputs": [],
   "source": [
    "o1.a = 6"
   ]
  },
  {
   "cell_type": "code",
   "execution_count": 190,
   "id": "9e70598c",
   "metadata": {},
   "outputs": [
    {
     "data": {
      "text/plain": [
       "6"
      ]
     },
     "execution_count": 190,
     "metadata": {},
     "output_type": "execute_result"
    }
   ],
   "source": [
    "o1.a"
   ]
  },
  {
   "cell_type": "code",
   "execution_count": 191,
   "id": "c59de15c",
   "metadata": {},
   "outputs": [
    {
     "name": "stdout",
     "output_type": "stream",
     "text": [
      "9\n"
     ]
    }
   ],
   "source": [
    "o1 = one()"
   ]
  },
  {
   "cell_type": "code",
   "execution_count": 192,
   "id": "96a82423",
   "metadata": {},
   "outputs": [
    {
     "data": {
      "text/plain": [
       "int"
      ]
     },
     "execution_count": 192,
     "metadata": {},
     "output_type": "execute_result"
    }
   ],
   "source": [
    "var = 9\n",
    "type(var)"
   ]
  },
  {
   "cell_type": "code",
   "execution_count": 193,
   "id": "040a0918",
   "metadata": {},
   "outputs": [
    {
     "data": {
      "text/plain": [
       "int"
      ]
     },
     "execution_count": 193,
     "metadata": {},
     "output_type": "execute_result"
    }
   ],
   "source": [
    "var = 3 \n",
    "type(var)"
   ]
  },
  {
   "cell_type": "code",
   "execution_count": 194,
   "id": "4b446a67",
   "metadata": {},
   "outputs": [
    {
     "data": {
      "text/plain": [
       "list"
      ]
     },
     "execution_count": 194,
     "metadata": {},
     "output_type": "execute_result"
    }
   ],
   "source": [
    "var = [1,2,3,4,5,6,7,8,9]\n",
    "type(var)"
   ]
  },
  {
   "cell_type": "code",
   "execution_count": 195,
   "id": "3beda52c",
   "metadata": {},
   "outputs": [],
   "source": [
    "def sayhi():\n",
    "    print(\"my name is manjunath kannur\")"
   ]
  },
  {
   "cell_type": "code",
   "execution_count": 196,
   "id": "00c092e2",
   "metadata": {},
   "outputs": [
    {
     "data": {
      "text/plain": [
       "<function __main__.sayhi()>"
      ]
     },
     "execution_count": 196,
     "metadata": {},
     "output_type": "execute_result"
    }
   ],
   "source": [
    "sayhi"
   ]
  },
  {
   "cell_type": "code",
   "execution_count": 197,
   "id": "b5c3205a",
   "metadata": {},
   "outputs": [
    {
     "data": {
      "text/plain": [
       "function"
      ]
     },
     "execution_count": 197,
     "metadata": {},
     "output_type": "execute_result"
    }
   ],
   "source": [
    "type(sayhi)"
   ]
  },
  {
   "cell_type": "code",
   "execution_count": 198,
   "id": "483a1188",
   "metadata": {},
   "outputs": [
    {
     "data": {
      "text/plain": [
       "bool"
      ]
     },
     "execution_count": 198,
     "metadata": {},
     "output_type": "execute_result"
    }
   ],
   "source": [
    "var = True\n",
    "type(var)"
   ]
  },
  {
   "cell_type": "code",
   "execution_count": 199,
   "id": "1c35493c",
   "metadata": {},
   "outputs": [
    {
     "data": {
      "text/plain": [
       "bool"
      ]
     },
     "execution_count": 199,
     "metadata": {},
     "output_type": "execute_result"
    }
   ],
   "source": [
    "var = False\n",
    "type(var)"
   ]
  },
  {
   "cell_type": "code",
   "execution_count": 200,
   "id": "829a4d02",
   "metadata": {},
   "outputs": [
    {
     "data": {
      "text/plain": [
       "NoneType"
      ]
     },
     "execution_count": 200,
     "metadata": {},
     "output_type": "execute_result"
    }
   ],
   "source": [
    "var = None\n",
    "type(var)"
   ]
  },
  {
   "cell_type": "code",
   "execution_count": 202,
   "id": "f8df77a3",
   "metadata": {},
   "outputs": [
    {
     "data": {
      "text/plain": [
       "str"
      ]
     },
     "execution_count": 202,
     "metadata": {},
     "output_type": "execute_result"
    }
   ],
   "source": [
    "var = 'True == '\n",
    "type(var)"
   ]
  },
  {
   "cell_type": "code",
   "execution_count": 203,
   "id": "6d5e48a4",
   "metadata": {},
   "outputs": [],
   "source": [
    "class fruit:\n",
    "    pass"
   ]
  },
  {
   "cell_type": "code",
   "execution_count": 204,
   "id": "82c494ed",
   "metadata": {},
   "outputs": [
    {
     "data": {
      "text/plain": [
       "__main__.fruit"
      ]
     },
     "execution_count": 204,
     "metadata": {},
     "output_type": "execute_result"
    }
   ],
   "source": [
    "fruit"
   ]
  },
  {
   "cell_type": "code",
   "execution_count": 205,
   "id": "202e9049",
   "metadata": {},
   "outputs": [
    {
     "data": {
      "text/plain": [
       "type"
      ]
     },
     "execution_count": 205,
     "metadata": {},
     "output_type": "execute_result"
    }
   ],
   "source": [
    "type(fruit)"
   ]
  },
  {
   "cell_type": "code",
   "execution_count": 210,
   "id": "c24f84bf",
   "metadata": {},
   "outputs": [],
   "source": [
    "class fruit:\n",
    "        def __init__(self, name , age):\n",
    "            self.name = name\n",
    "            self.age = age\n",
    "        def show(self):\n",
    "            print(f\"this message is going to be rock the roll...{self.name} and {self.age}\")"
   ]
  },
  {
   "cell_type": "code",
   "execution_count": 211,
   "id": "0cf66a07",
   "metadata": {},
   "outputs": [],
   "source": [
    "f = fruit('manjunath' , 32)"
   ]
  },
  {
   "cell_type": "code",
   "execution_count": 212,
   "id": "3b7fc297",
   "metadata": {},
   "outputs": [
    {
     "name": "stdout",
     "output_type": "stream",
     "text": [
      "this message is going to be rock the roll...manjunath and 32\n"
     ]
    }
   ],
   "source": [
    "f.show()"
   ]
  },
  {
   "cell_type": "code",
   "execution_count": 213,
   "id": "062bbb62",
   "metadata": {},
   "outputs": [],
   "source": [
    "class person:\n",
    "    def sayhi(self):\n",
    "        print(f\"my first name is {self}\")\n",
    "        "
   ]
  },
  {
   "cell_type": "code",
   "execution_count": 214,
   "id": "c50fa69b",
   "metadata": {},
   "outputs": [],
   "source": [
    "p = person"
   ]
  },
  {
   "cell_type": "code",
   "execution_count": 215,
   "id": "fc8dc14f",
   "metadata": {},
   "outputs": [
    {
     "name": "stdout",
     "output_type": "stream",
     "text": [
      "my first name is manjunath\n"
     ]
    }
   ],
   "source": [
    "p.sayhi('manjunath')"
   ]
  },
  {
   "cell_type": "code",
   "execution_count": 216,
   "id": "71e469eb",
   "metadata": {},
   "outputs": [
    {
     "data": {
      "text/plain": [
       "2577166549248"
      ]
     },
     "execution_count": 216,
     "metadata": {},
     "output_type": "execute_result"
    }
   ],
   "source": [
    "id(p)"
   ]
  },
  {
   "cell_type": "code",
   "execution_count": 217,
   "id": "01d65db3",
   "metadata": {},
   "outputs": [],
   "source": [
    "ob = person()"
   ]
  },
  {
   "cell_type": "code",
   "execution_count": 218,
   "id": "f64a8e2d",
   "metadata": {},
   "outputs": [
    {
     "data": {
      "text/plain": [
       "2577179043488"
      ]
     },
     "execution_count": 218,
     "metadata": {},
     "output_type": "execute_result"
    }
   ],
   "source": [
    "id(ob)"
   ]
  },
  {
   "cell_type": "code",
   "execution_count": 219,
   "id": "cdd17870",
   "metadata": {},
   "outputs": [],
   "source": [
    "bb = person()"
   ]
  },
  {
   "cell_type": "code",
   "execution_count": 220,
   "id": "ba0f05db",
   "metadata": {},
   "outputs": [
    {
     "data": {
      "text/plain": [
       "2577179043872"
      ]
     },
     "execution_count": 220,
     "metadata": {},
     "output_type": "execute_result"
    }
   ],
   "source": [
    "id(bb)"
   ]
  },
  {
   "cell_type": "code",
   "execution_count": 221,
   "id": "984fa473",
   "metadata": {},
   "outputs": [],
   "source": [
    "class one:\n",
    "    def __init__(self):\n",
    "        print(f\"fist string is  values is {self}\")"
   ]
  },
  {
   "cell_type": "code",
   "execution_count": 224,
   "id": "f02a84f4",
   "metadata": {},
   "outputs": [
    {
     "name": "stdout",
     "output_type": "stream",
     "text": [
      "fist string is  values is <__main__.one object at 0x000002580BD6CD00>\n"
     ]
    }
   ],
   "source": [
    "o = one()"
   ]
  },
  {
   "cell_type": "code",
   "execution_count": 225,
   "id": "360e9034",
   "metadata": {},
   "outputs": [
    {
     "name": "stdout",
     "output_type": "stream",
     "text": [
      "fist string is  values is <__main__.one object at 0x000002580BD6C970>\n"
     ]
    }
   ],
   "source": [
    "oo = one()"
   ]
  },
  {
   "cell_type": "code",
   "execution_count": 226,
   "id": "9fd515d7",
   "metadata": {},
   "outputs": [
    {
     "data": {
      "text/plain": [
       "False"
      ]
     },
     "execution_count": 226,
     "metadata": {},
     "output_type": "execute_result"
    }
   ],
   "source": [
    "id(o) == id(oo)"
   ]
  },
  {
   "cell_type": "code",
   "execution_count": 228,
   "id": "c61e5eaa",
   "metadata": {},
   "outputs": [],
   "source": [
    "b = o"
   ]
  },
  {
   "cell_type": "code",
   "execution_count": 229,
   "id": "1d38240a",
   "metadata": {},
   "outputs": [
    {
     "data": {
      "text/plain": [
       "True"
      ]
     },
     "execution_count": 229,
     "metadata": {},
     "output_type": "execute_result"
    }
   ],
   "source": [
    "id(b) == id(o)"
   ]
  },
  {
   "cell_type": "code",
   "execution_count": 230,
   "id": "0f24c21b",
   "metadata": {},
   "outputs": [
    {
     "data": {
      "text/plain": [
       "2577179004160"
      ]
     },
     "execution_count": 230,
     "metadata": {},
     "output_type": "execute_result"
    }
   ],
   "source": [
    "id(o)"
   ]
  },
  {
   "cell_type": "code",
   "execution_count": 231,
   "id": "c392a385",
   "metadata": {},
   "outputs": [
    {
     "data": {
      "text/plain": [
       "2577179004160"
      ]
     },
     "execution_count": 231,
     "metadata": {},
     "output_type": "execute_result"
    }
   ],
   "source": [
    "id(b)"
   ]
  },
  {
   "cell_type": "code",
   "execution_count": 232,
   "id": "eaafb831",
   "metadata": {},
   "outputs": [
    {
     "data": {
      "text/plain": [
       "161073687760"
      ]
     },
     "execution_count": 232,
     "metadata": {},
     "output_type": "execute_result"
    }
   ],
   "source": [
    "hash(o)"
   ]
  },
  {
   "cell_type": "code",
   "execution_count": 233,
   "id": "700dbaa3",
   "metadata": {},
   "outputs": [],
   "source": [
    "class person:\n",
    "    pass\n",
    "class student(person):\n",
    "    pass\n"
   ]
  },
  {
   "cell_type": "code",
   "execution_count": 234,
   "id": "2f322709",
   "metadata": {},
   "outputs": [],
   "source": [
    "stu = student"
   ]
  },
  {
   "cell_type": "code",
   "execution_count": 235,
   "id": "75f36685",
   "metadata": {},
   "outputs": [
    {
     "data": {
      "text/plain": [
       "__main__.student"
      ]
     },
     "execution_count": 235,
     "metadata": {},
     "output_type": "execute_result"
    }
   ],
   "source": [
    "stu"
   ]
  },
  {
   "cell_type": "code",
   "execution_count": 236,
   "id": "0806b6eb",
   "metadata": {},
   "outputs": [
    {
     "data": {
      "text/plain": [
       "False"
      ]
     },
     "execution_count": 236,
     "metadata": {},
     "output_type": "execute_result"
    }
   ],
   "source": [
    "issubclass(person,student)"
   ]
  },
  {
   "cell_type": "code",
   "execution_count": 237,
   "id": "411687a1",
   "metadata": {},
   "outputs": [
    {
     "data": {
      "text/plain": [
       "True"
      ]
     },
     "execution_count": 237,
     "metadata": {},
     "output_type": "execute_result"
    }
   ],
   "source": [
    "issubclass(student, person)"
   ]
  },
  {
   "cell_type": "markdown",
   "id": "f25c20f6",
   "metadata": {},
   "source": [
    "# Multiple inheritance\n",
    "1. single \n",
    "2. multple inheritance\n",
    "3. hybrid inheritance\n",
    "4. multilevel inheritance\n",
    "5. hierachical inheritance\n"
   ]
  },
  {
   "cell_type": "code",
   "execution_count": 248,
   "id": "67fa03b4",
   "metadata": {},
   "outputs": [],
   "source": [
    "x = 0\n",
    "class fruit:\n",
    "    def __init__(self):\n",
    "        global x\n",
    "        x+=2\n",
    "        print(f\"first string in values {x}\")\n",
    "class food(fruit):\n",
    "    def __init__(self):\n",
    "        global x\n",
    "        x+=1\n",
    "        print(f\"second the values is {x}\")"
   ]
  },
  {
   "cell_type": "code",
   "execution_count": 249,
   "id": "a399e1d4",
   "metadata": {},
   "outputs": [
    {
     "data": {
      "text/plain": [
       "0"
      ]
     },
     "execution_count": 249,
     "metadata": {},
     "output_type": "execute_result"
    }
   ],
   "source": [
    "x"
   ]
  },
  {
   "cell_type": "code",
   "execution_count": 250,
   "id": "404f76a6",
   "metadata": {},
   "outputs": [
    {
     "name": "stdout",
     "output_type": "stream",
     "text": [
      "second the values is 1\n"
     ]
    }
   ],
   "source": [
    "f = food()"
   ]
  },
  {
   "cell_type": "code",
   "execution_count": 263,
   "id": "6ed4472b",
   "metadata": {},
   "outputs": [],
   "source": [
    "class person:\n",
    "    def __init__(self):\n",
    "        print(f\"the x values is {x}\")\n",
    "class student(person):\n",
    "    def __init__(self):\n",
    "        super().__init__()\n",
    "        global x\n",
    "        x+=2\n",
    "        print(f\"the second value is {x}\")\n",
    "        "
   ]
  },
  {
   "cell_type": "code",
   "execution_count": 264,
   "id": "2856921d",
   "metadata": {},
   "outputs": [
    {
     "name": "stdout",
     "output_type": "stream",
     "text": [
      "the x values is 1\n",
      "the second value is 3\n"
     ]
    }
   ],
   "source": [
    "s = student()"
   ]
  },
  {
   "cell_type": "code",
   "execution_count": 265,
   "id": "fe48041b",
   "metadata": {},
   "outputs": [
    {
     "data": {
      "text/plain": [
       "3"
      ]
     },
     "execution_count": 265,
     "metadata": {},
     "output_type": "execute_result"
    }
   ],
   "source": [
    "x"
   ]
  },
  {
   "cell_type": "code",
   "execution_count": 269,
   "id": "03e535ce",
   "metadata": {},
   "outputs": [
    {
     "name": "stdout",
     "output_type": "stream",
     "text": [
      "15\n"
     ]
    }
   ],
   "source": [
    "string = \"this is my word\"\n",
    "count = 0\n",
    "for i in string:\n",
    "    count = count +1\n",
    "print(count)"
   ]
  },
  {
   "cell_type": "code",
   "execution_count": 270,
   "id": "d8b3b29e",
   "metadata": {},
   "outputs": [],
   "source": [
    "class person:\n",
    "    pass\n",
    "class student(person):\n",
    "    pass"
   ]
  },
  {
   "cell_type": "code",
   "execution_count": 271,
   "id": "c27d1160",
   "metadata": {},
   "outputs": [
    {
     "data": {
      "text/plain": [
       "True"
      ]
     },
     "execution_count": 271,
     "metadata": {},
     "output_type": "execute_result"
    }
   ],
   "source": [
    "issubclass(student,person)"
   ]
  },
  {
   "cell_type": "markdown",
   "id": "722087fb",
   "metadata": {},
   "source": [
    "# inheritance \n",
    "1. subclass\n",
    "2. parent class\n",
    "3. base class\n",
    "4. child class\n",
    "5. derived class\n",
    "6. "
   ]
  },
  {
   "cell_type": "code",
   "execution_count": 2,
   "id": "72816d0b",
   "metadata": {},
   "outputs": [],
   "source": [
    "class parent:\n",
    "    pass\n",
    "class subclass(parent):\n",
    "    pass"
   ]
  },
  {
   "cell_type": "code",
   "execution_count": 3,
   "id": "1923ebdc",
   "metadata": {},
   "outputs": [],
   "source": [
    "class super:\n",
    "    pass\n",
    "class subclass(parent):\n",
    "    pass"
   ]
  },
  {
   "cell_type": "code",
   "execution_count": 4,
   "id": "955422f3",
   "metadata": {},
   "outputs": [],
   "source": [
    "class parent:\n",
    "    pass\n",
    "class child(parent):\n",
    "    pass\n"
   ]
  },
  {
   "cell_type": "code",
   "execution_count": 5,
   "id": "79d68b9b",
   "metadata": {},
   "outputs": [],
   "source": [
    "class base:\n",
    "    pass\n",
    "class derivedclass(base):\n",
    "    pass"
   ]
  },
  {
   "cell_type": "code",
   "execution_count": 6,
   "id": "12620c8c",
   "metadata": {},
   "outputs": [],
   "source": [
    "class super:\n",
    "    pass\n",
    "class subclass(super):\n",
    "    pass"
   ]
  },
  {
   "cell_type": "code",
   "execution_count": 7,
   "id": "7755a53e",
   "metadata": {},
   "outputs": [],
   "source": [
    "class base:\n",
    "    pass\n",
    "class derived(base):\n",
    "    pass"
   ]
  },
  {
   "cell_type": "code",
   "execution_count": 8,
   "id": "b68c875a",
   "metadata": {},
   "outputs": [],
   "source": [
    "class parent:\n",
    "    pass\n",
    "class child(parent):\n",
    "    pass"
   ]
  },
  {
   "cell_type": "markdown",
   "id": "41e9d868",
   "metadata": {},
   "source": [
    "# types of inheritance\n",
    "1. single \n",
    "2. multilevel\n",
    "3. multiple\n",
    "4. hirarichy\n",
    "5. hybrid "
   ]
  },
  {
   "cell_type": "code",
   "execution_count": 12,
   "id": "4651b350",
   "metadata": {},
   "outputs": [],
   "source": [
    "x = 0\n",
    "class super:\n",
    "    def __init__(self):\n",
    "        global x\n",
    "        x+=2\n",
    "        print(x)\n",
    "class base(super):\n",
    "    def __init__(self):\n",
    "        super().__init__()\n",
    "        global x\n",
    "        x+=3\n",
    "        print(x)\n",
    "        "
   ]
  },
  {
   "cell_type": "code",
   "execution_count": 13,
   "id": "9ff6b427",
   "metadata": {},
   "outputs": [
    {
     "name": "stdout",
     "output_type": "stream",
     "text": [
      "2\n",
      "4\n",
      "7\n"
     ]
    }
   ],
   "source": [
    "b = base()"
   ]
  },
  {
   "cell_type": "code",
   "execution_count": 19,
   "id": "51e4b26d",
   "metadata": {},
   "outputs": [],
   "source": [
    "class parent:\n",
    "    def __init__(self,name):\n",
    "        self.name = name\n",
    "    def showp(self):\n",
    "        print(f\"my name is {self.name}\")\n",
    "class child(parent):\n",
    "    def __init__(self,age):\n",
    "        self.age = age\n",
    "        super().__init__()\n",
    "    def result(self):\n",
    "        print(f\"my age is {self.age}\")"
   ]
  },
  {
   "cell_type": "code",
   "execution_count": 20,
   "id": "fb8af557",
   "metadata": {},
   "outputs": [
    {
     "name": "stdout",
     "output_type": "stream",
     "text": [
      "9\n",
      "11\n"
     ]
    }
   ],
   "source": [
    "c = child(32)"
   ]
  },
  {
   "cell_type": "code",
   "execution_count": 22,
   "id": "945510ba",
   "metadata": {},
   "outputs": [
    {
     "name": "stdout",
     "output_type": "stream",
     "text": [
      "my age is 32\n"
     ]
    }
   ],
   "source": [
    "c.result()"
   ]
  },
  {
   "cell_type": "code",
   "execution_count": 24,
   "id": "8f3b5d87",
   "metadata": {},
   "outputs": [
    {
     "name": "stdout",
     "output_type": "stream",
     "text": [
      "13\n",
      "15\n"
     ]
    }
   ],
   "source": [
    "cc = child(35)"
   ]
  },
  {
   "cell_type": "code",
   "execution_count": 25,
   "id": "c743525b",
   "metadata": {},
   "outputs": [],
   "source": [
    "class base:\n",
    "    def __init__(self):\n",
    "        x = 1\n",
    "        x+=2\n",
    "        print(x)\n",
    "class derived(base):\n",
    "    def __init__(self):\n",
    "        super().__init__()\n",
    "        print(\"second\")"
   ]
  },
  {
   "cell_type": "code",
   "execution_count": 26,
   "id": "d71cb024",
   "metadata": {},
   "outputs": [
    {
     "name": "stdout",
     "output_type": "stream",
     "text": [
      "17\n",
      "19\n",
      "second\n"
     ]
    }
   ],
   "source": [
    "d = derived()"
   ]
  },
  {
   "cell_type": "code",
   "execution_count": 30,
   "id": "5f7ca279",
   "metadata": {},
   "outputs": [],
   "source": [
    "class kannur:\n",
    "    pass\n",
    "class manjunath(kannur):\n",
    "    pass\n",
    "class yarazari(manjunath,kannur):\n",
    "    pass"
   ]
  },
  {
   "cell_type": "code",
   "execution_count": 31,
   "id": "075d8468",
   "metadata": {},
   "outputs": [],
   "source": [
    "class base:\n",
    "    pass\n",
    "class derived(base):\n",
    "    pass\n",
    "class orange(derived , base):\n",
    "    pass"
   ]
  },
  {
   "cell_type": "code",
   "execution_count": 34,
   "id": "fb527bac",
   "metadata": {},
   "outputs": [
    {
     "name": "stdout",
     "output_type": "stream",
     "text": [
      "xxx\n"
     ]
    }
   ],
   "source": [
    "class a:\n",
    "    print(\"xxx\")\n",
    "class b(a):\n",
    "    pass\n",
    "class c(b):\n",
    "    pass"
   ]
  },
  {
   "cell_type": "code",
   "execution_count": 33,
   "id": "ec3bead7",
   "metadata": {},
   "outputs": [],
   "source": [
    "d = c()"
   ]
  },
  {
   "cell_type": "code",
   "execution_count": 35,
   "id": "cbbc7ec1",
   "metadata": {},
   "outputs": [],
   "source": [
    "class a:\n",
    "    pass\n",
    "class b(a):\n",
    "    pass\n",
    "class c(a):\n",
    "    pass"
   ]
  },
  {
   "cell_type": "code",
   "execution_count": 36,
   "id": "000e90ed",
   "metadata": {},
   "outputs": [],
   "source": [
    "class parent:\n",
    "    def start(self):\n",
    "        print(\"start the engine...\")\n",
    "    def stope(self):\n",
    "        print(\"stop the engineee....\")\n",
    "class childe(parent):\n",
    "    def result(self):\n",
    "        super().start()\n",
    "        print(\"we have two functions..\")\n",
    "        super().stop()"
   ]
  },
  {
   "cell_type": "code",
   "execution_count": 38,
   "id": "31952fb4",
   "metadata": {},
   "outputs": [],
   "source": [
    "c = childe()"
   ]
  },
  {
   "cell_type": "code",
   "execution_count": 40,
   "id": "8f1d4137",
   "metadata": {},
   "outputs": [],
   "source": [
    "engine = childe()"
   ]
  },
  {
   "cell_type": "code",
   "execution_count": 41,
   "id": "5969909d",
   "metadata": {},
   "outputs": [
    {
     "name": "stdout",
     "output_type": "stream",
     "text": [
      "23\n"
     ]
    },
    {
     "ename": "AttributeError",
     "evalue": "'super' object has no attribute 'start'",
     "output_type": "error",
     "traceback": [
      "\u001b[1;31m---------------------------------------------------------------------------\u001b[0m",
      "\u001b[1;31mAttributeError\u001b[0m                            Traceback (most recent call last)",
      "\u001b[1;32m~\\AppData\\Local\\Temp/ipykernel_3612/879596386.py\u001b[0m in \u001b[0;36m<module>\u001b[1;34m\u001b[0m\n\u001b[1;32m----> 1\u001b[1;33m \u001b[0mengine\u001b[0m\u001b[1;33m.\u001b[0m\u001b[0mresult\u001b[0m\u001b[1;33m(\u001b[0m\u001b[1;33m)\u001b[0m\u001b[1;33m\u001b[0m\u001b[1;33m\u001b[0m\u001b[0m\n\u001b[0m",
      "\u001b[1;32m~\\AppData\\Local\\Temp/ipykernel_3612/2663149050.py\u001b[0m in \u001b[0;36mresult\u001b[1;34m(self)\u001b[0m\n\u001b[0;32m      6\u001b[0m \u001b[1;32mclass\u001b[0m \u001b[0mchilde\u001b[0m\u001b[1;33m(\u001b[0m\u001b[0mparent\u001b[0m\u001b[1;33m)\u001b[0m\u001b[1;33m:\u001b[0m\u001b[1;33m\u001b[0m\u001b[1;33m\u001b[0m\u001b[0m\n\u001b[0;32m      7\u001b[0m     \u001b[1;32mdef\u001b[0m \u001b[0mresult\u001b[0m\u001b[1;33m(\u001b[0m\u001b[0mself\u001b[0m\u001b[1;33m)\u001b[0m\u001b[1;33m:\u001b[0m\u001b[1;33m\u001b[0m\u001b[1;33m\u001b[0m\u001b[0m\n\u001b[1;32m----> 8\u001b[1;33m         \u001b[0msuper\u001b[0m\u001b[1;33m(\u001b[0m\u001b[1;33m)\u001b[0m\u001b[1;33m.\u001b[0m\u001b[0mstart\u001b[0m\u001b[1;33m(\u001b[0m\u001b[1;33m)\u001b[0m\u001b[1;33m\u001b[0m\u001b[1;33m\u001b[0m\u001b[0m\n\u001b[0m\u001b[0;32m      9\u001b[0m         \u001b[0mprint\u001b[0m\u001b[1;33m(\u001b[0m\u001b[1;34m\"we have two functions..\"\u001b[0m\u001b[1;33m)\u001b[0m\u001b[1;33m\u001b[0m\u001b[1;33m\u001b[0m\u001b[0m\n\u001b[0;32m     10\u001b[0m         \u001b[0msuper\u001b[0m\u001b[1;33m(\u001b[0m\u001b[1;33m)\u001b[0m\u001b[1;33m.\u001b[0m\u001b[0mstop\u001b[0m\u001b[1;33m(\u001b[0m\u001b[1;33m)\u001b[0m\u001b[1;33m\u001b[0m\u001b[1;33m\u001b[0m\u001b[0m\n",
      "\u001b[1;31mAttributeError\u001b[0m: 'super' object has no attribute 'start'"
     ]
    }
   ],
   "source": [
    "engine.result()"
   ]
  },
  {
   "cell_type": "code",
   "execution_count": 48,
   "id": "19c56abf",
   "metadata": {},
   "outputs": [],
   "source": [
    "class vehicle:\n",
    "    def start(self):\n",
    "        print(\"start the engine..\")\n",
    "    def stop(self):\n",
    "        print(\"stop the engine\")\n",
    "class twowheeler(vehicle):\n",
    "    def big(self):\n",
    "        super().__init__()\n",
    "        print(\"we have two wheelers\")\n",
    "        super().__init__()"
   ]
  },
  {
   "cell_type": "code",
   "execution_count": 49,
   "id": "6613dd46",
   "metadata": {},
   "outputs": [],
   "source": [
    "tatto = twowheeler()"
   ]
  },
  {
   "cell_type": "code",
   "execution_count": 50,
   "id": "9f2101b2",
   "metadata": {},
   "outputs": [
    {
     "name": "stdout",
     "output_type": "stream",
     "text": [
      "33\n",
      "35\n",
      "we have two wheelers\n",
      "37\n",
      "39\n"
     ]
    }
   ],
   "source": [
    "tatto.big()"
   ]
  },
  {
   "cell_type": "code",
   "execution_count": 57,
   "id": "1e083d6b",
   "metadata": {},
   "outputs": [],
   "source": [
    "class a:\n",
    "    def say(self):\n",
    "        print(\"a\")\n",
    "class b(a):\n",
    "    def say(self):\n",
    "        super()\n",
    "        print(\"b\")"
   ]
  },
  {
   "cell_type": "code",
   "execution_count": 58,
   "id": "9ef35837",
   "metadata": {},
   "outputs": [],
   "source": [
    "dddd = b()"
   ]
  },
  {
   "cell_type": "code",
   "execution_count": 59,
   "id": "96e193f1",
   "metadata": {},
   "outputs": [
    {
     "name": "stdout",
     "output_type": "stream",
     "text": [
      "43\n",
      "b\n"
     ]
    }
   ],
   "source": [
    "dddd.say()"
   ]
  },
  {
   "cell_type": "code",
   "execution_count": 60,
   "id": "2fe1cd33",
   "metadata": {},
   "outputs": [],
   "source": [
    "class mother:\n",
    "    pass\n",
    "class father:\n",
    "    pass\n",
    "class child(mother,father):\n",
    "    pass"
   ]
  },
  {
   "cell_type": "code",
   "execution_count": 61,
   "id": "8b8b87b8",
   "metadata": {},
   "outputs": [],
   "source": [
    "ch = child()"
   ]
  },
  {
   "cell_type": "code",
   "execution_count": 62,
   "id": "8fb7b891",
   "metadata": {},
   "outputs": [
    {
     "data": {
      "text/plain": [
       "<__main__.child at 0x20554b06190>"
      ]
     },
     "execution_count": 62,
     "metadata": {},
     "output_type": "execute_result"
    }
   ],
   "source": [
    "ch"
   ]
  },
  {
   "cell_type": "code",
   "execution_count": 63,
   "id": "088a33e9",
   "metadata": {},
   "outputs": [
    {
     "data": {
      "text/plain": [
       "'E:\\\\Data Structure'"
      ]
     },
     "execution_count": 63,
     "metadata": {},
     "output_type": "execute_result"
    }
   ],
   "source": [
    "import os\n",
    "os.getcwd()"
   ]
  },
  {
   "cell_type": "code",
   "execution_count": 64,
   "id": "5c7b6efd",
   "metadata": {},
   "outputs": [
    {
     "data": {
      "text/plain": [
       "['.ipynb_checkpoints',\n",
       " 'python.ipynb',\n",
       " 'Recursion.ipynb',\n",
       " 'simple.txt',\n",
       " 'yarazari']"
      ]
     },
     "execution_count": 64,
     "metadata": {},
     "output_type": "execute_result"
    }
   ],
   "source": [
    "os.listdir()"
   ]
  },
  {
   "cell_type": "code",
   "execution_count": 66,
   "id": "2c708605",
   "metadata": {},
   "outputs": [
    {
     "data": {
      "text/plain": [
       "<_io.TextIOWrapper name='simple.txt' mode='r' encoding='cp65001'>"
      ]
     },
     "execution_count": 66,
     "metadata": {},
     "output_type": "execute_result"
    }
   ],
   "source": [
    "open('simple.txt')"
   ]
  },
  {
   "cell_type": "code",
   "execution_count": 75,
   "id": "49f4d78f",
   "metadata": {},
   "outputs": [],
   "source": [
    "with open('simple.txt') as f:\n",
    "       data = f.read()"
   ]
  },
  {
   "cell_type": "code",
   "execution_count": 76,
   "id": "f1bef3af",
   "metadata": {},
   "outputs": [
    {
     "data": {
      "text/plain": [
       "'Obie Trice, real name no gimmicks\\nTwo trailer park girls go round the outside\\nRound the outside, round the outside\\nTwo trailer park girls go round the outside\\nRound the outside, round the outside\\nGuess who\\'s back\\nBack again\\nShady\\'s back\\nTell a friend\\nGuess who\\'s back, guess who\\'s back\\nGuess who\\'s back, guess who\\'s back\\nGuess who\\'s back, guess who\\'s back\\nGuess who\\'s back\\nI\\'ve created a monster\\n\\'Cause nobody wants to see Marshall no more\\nThey want Shady, I\\'m chopped liver\\nWell if you want Shady, this is what I\\'ll give you\\nA little bit of weed mixed with some hard liquor\\nSome vodka that\\'ll jump start my heart quicker\\nThan a shock when I get shocked at the hospital\\nBy the doctor when I\\'m not co-operating\\nWhen I\\'m rockin\\' the table while he\\'s operating\\nYou waited this long, now stop debating\\n\\'Cause I\\'m back, I\\'m on the rag and ovulating\\nI know that you got a job, Ms. Cheney\\nBut your husband\\'s heart problem\\'s complicating\\nSo the FCC won\\'t let me be\\nOr let me be me, so let me see\\nThey try to shut me down on MTV\\nBut it feels so empty, without me\\nSo, come on and dip, bum on your lips\\nFuck that, cum on your lips, and some on your tits\\nAnd get ready, \\'cause this shit\\'s about to get heavy\\nI just settled all my lawsuits, fuck you Debbie!\\nNow this looks like a job for me\\nSo everybody, just follow me\\n\\'Cause we need a little, controversy\\n\\'Cause it feels so empty, without me\\nI said \"This looks like a job for me\"\\nSo everybody, just follow me\\n\\'Cause we need a little, controversy\\n\\'Cause it feels so empty, without me\\nLittle Hellions, kids feelin\\' rebellious\\nEmbarrassed their parents still listen to Elvis\\nThey start feelin\\' like prisoners helpless\\n\\'Til someone comes along on a mission and yells, bitch!\\nA visionary, vision of scary\\nCould start a revolution, pollutin\\' the airwaves\\nA rebel, so just let me revel and bask\\nIn the fact that I got everyone kissin\\' my ass\\nAnd it\\'s a disaster, such a catastrophe\\nFor you to see so damn much of my ass\\nYou asked for me?\\nWell I\\'m back\\nNa-na-na-na-na-na-na-na-na-na\\nFix your bent antenna tune it in and then I\\'m gonna\\nEnter in, endin\\' up under your skin like a splinter\\nThe center of attention, back for the winter\\nI\\'m interesting, the best thing since wrestling\\nInfesting in your kid\\'s ears and nesting\\nTesting, attention please\\nFeel the tension, soon as someone mentions me\\nHere\\'s my ten cents, my two cents is free\\nA nuisance, who sent? You sent for me?\\nNow this looks like a job for me\\nSo everybody, just follow me\\n\\'Cause we need a little, controversy\\n\\'Cause it feels so empty, without me\\nI said, \"This looks like a job for me\"\\nSo everybody, just follow me\\n\\'Cause we need a little, controversy\\n\\'Cause it feels so empty, without me\\nA-tisket a-tasket, I go tit for tat with\\nAnybody who\\'s talkin\\' this shit, that shit\\nChris Kirk Patrick, you can get your ass kicked\\nWorse than them little Limp Bizkit bastards\\nAnd Moby? You can get stomped by Obie\\nYou thirty-six year old baldheaded fag, blow me\\nYou don\\'t know me, you\\'re too old, let go\\nIt\\'s over, nobody listen to techno\\nNow let\\'s go, just gimme the signal\\nI\\'ll be there with a whole list full of new insults\\nI been dope, suspenseful with a pencil\\nEver since Prince turned himself into a symbol\\nBut sometimes the shit just seems\\nEverybody only wants to discuss me\\nSo this must mean I\\'m disgusting\\nBut it\\'s just me, I\\'m just obscene\\nNo I\\'m not the first king of controversy\\nI am the worst thing since Elvis Presley\\nTo do black music so selfishly\\nAnd used it to get myself wealthy\\nThere\\'s a concept that works\\nTwenty million other white rappers emerge\\nBut no matter how many fish in the sea\\nIt\\'ll be so empty, without me\\nNow this looks like a job for me\\nSo everybody, just follow me\\n\\'Cause we need a little, controversy\\n\\'Cause it feels so empty, without me\\nI said \"This looks like a job for me\"\\nSo everybody, just follow me\\n\\'Cause we need a little, controversy\\n\\'Cause it feels so empty, without me'"
      ]
     },
     "execution_count": 76,
     "metadata": {},
     "output_type": "execute_result"
    }
   ],
   "source": [
    "data"
   ]
  },
  {
   "cell_type": "code",
   "execution_count": 79,
   "id": "f6755c6d",
   "metadata": {},
   "outputs": [],
   "source": [
    "with open('simple.txt') as todo:\n",
    "    read = todo.read(100)\n",
    "    todo.close()"
   ]
  },
  {
   "cell_type": "code",
   "execution_count": 80,
   "id": "c645796d",
   "metadata": {},
   "outputs": [
    {
     "data": {
      "text/plain": [
       "'Obie Trice, real name no gimmicks\\nTwo trailer park girls go round the outside\\nRound the outside, rou'"
      ]
     },
     "execution_count": 80,
     "metadata": {},
     "output_type": "execute_result"
    }
   ],
   "source": [
    "read"
   ]
  },
  {
   "cell_type": "code",
   "execution_count": 81,
   "id": "552e49ba",
   "metadata": {},
   "outputs": [
    {
     "name": "stdout",
     "output_type": "stream",
     "text": [
      "Obie Trice, real name no gimmicks\n",
      "\n",
      "Two trailer park girls go round the outside\n",
      "\n",
      "Round the outside, round the outside\n",
      "\n",
      "Two trailer park girls go round the outside\n",
      "\n",
      "Round the outside, round the outside\n",
      "\n",
      "Guess who's back\n",
      "\n",
      "Back again\n",
      "\n",
      "Shady's back\n",
      "\n",
      "Tell a friend\n",
      "\n",
      "Guess who's back, guess who's back\n",
      "\n",
      "Guess who's back, guess who's back\n",
      "\n",
      "Guess who's back, guess who's back\n",
      "\n",
      "Guess who's back\n",
      "\n",
      "I've created a monster\n",
      "\n",
      "'Cause nobody wants to see Marshall no more\n",
      "\n",
      "They want Shady, I'm chopped liver\n",
      "\n",
      "Well if you want Shady, this is what I'll give you\n",
      "\n",
      "A little bit of weed mixed with some hard liquor\n",
      "\n",
      "Some vodka that'll jump start my heart quicker\n",
      "\n",
      "Than a shock when I get shocked at the hospital\n",
      "\n",
      "By the doctor when I'm not co-operating\n",
      "\n",
      "When I'm rockin' the table while he's operating\n",
      "\n",
      "You waited this long, now stop debating\n",
      "\n",
      "'Cause I'm back, I'm on the rag and ovulating\n",
      "\n",
      "I know that you got a job, Ms. Cheney\n",
      "\n",
      "But your husband's heart problem's complicating\n",
      "\n",
      "So the FCC won't let me be\n",
      "\n",
      "Or let me be me, so let me see\n",
      "\n",
      "They try to shut me down on MTV\n",
      "\n",
      "But it feels so empty, without me\n",
      "\n",
      "So, come on and dip, bum on your lips\n",
      "\n",
      "Fuck that, cum on your lips, and some on your tits\n",
      "\n",
      "And get ready, 'cause this shit's about to get heavy\n",
      "\n",
      "I just settled all my lawsuits, fuck you Debbie!\n",
      "\n",
      "Now this looks like a job for me\n",
      "\n",
      "So everybody, just follow me\n",
      "\n",
      "'Cause we need a little, controversy\n",
      "\n",
      "'Cause it feels so empty, without me\n",
      "\n",
      "I said \"This looks like a job for me\"\n",
      "\n",
      "So everybody, just follow me\n",
      "\n",
      "'Cause we need a little, controversy\n",
      "\n",
      "'Cause it feels so empty, without me\n",
      "\n",
      "Little Hellions, kids feelin' rebellious\n",
      "\n",
      "Embarrassed their parents still listen to Elvis\n",
      "\n",
      "They start feelin' like prisoners helpless\n",
      "\n",
      "'Til someone comes along on a mission and yells, bitch!\n",
      "\n",
      "A visionary, vision of scary\n",
      "\n",
      "Could start a revolution, pollutin' the airwaves\n",
      "\n",
      "A rebel, so just let me revel and bask\n",
      "\n",
      "In the fact that I got everyone kissin' my ass\n",
      "\n",
      "And it's a disaster, such a catastrophe\n",
      "\n",
      "For you to see so damn much of my ass\n",
      "\n",
      "You asked for me?\n",
      "\n",
      "Well I'm back\n",
      "\n",
      "Na-na-na-na-na-na-na-na-na-na\n",
      "\n",
      "Fix your bent antenna tune it in and then I'm gonna\n",
      "\n",
      "Enter in, endin' up under your skin like a splinter\n",
      "\n",
      "The center of attention, back for the winter\n",
      "\n",
      "I'm interesting, the best thing since wrestling\n",
      "\n",
      "Infesting in your kid's ears and nesting\n",
      "\n",
      "Testing, attention please\n",
      "\n",
      "Feel the tension, soon as someone mentions me\n",
      "\n",
      "Here's my ten cents, my two cents is free\n",
      "\n",
      "A nuisance, who sent? You sent for me?\n",
      "\n",
      "Now this looks like a job for me\n",
      "\n",
      "So everybody, just follow me\n",
      "\n",
      "'Cause we need a little, controversy\n",
      "\n",
      "'Cause it feels so empty, without me\n",
      "\n",
      "I said, \"This looks like a job for me\"\n",
      "\n",
      "So everybody, just follow me\n",
      "\n",
      "'Cause we need a little, controversy\n",
      "\n",
      "'Cause it feels so empty, without me\n",
      "\n",
      "A-tisket a-tasket, I go tit for tat with\n",
      "\n",
      "Anybody who's talkin' this shit, that shit\n",
      "\n",
      "Chris Kirk Patrick, you can get your ass kicked\n",
      "\n",
      "Worse than them little Limp Bizkit bastards\n",
      "\n",
      "And Moby? You can get stomped by Obie\n",
      "\n",
      "You thirty-six year old baldheaded fag, blow me\n",
      "\n",
      "You don't know me, you're too old, let go\n",
      "\n",
      "It's over, nobody listen to techno\n",
      "\n",
      "Now let's go, just gimme the signal\n",
      "\n",
      "I'll be there with a whole list full of new insults\n",
      "\n",
      "I been dope, suspenseful with a pencil\n",
      "\n",
      "Ever since Prince turned himself into a symbol\n",
      "\n",
      "But sometimes the shit just seems\n",
      "\n",
      "Everybody only wants to discuss me\n",
      "\n",
      "So this must mean I'm disgusting\n",
      "\n",
      "But it's just me, I'm just obscene\n",
      "\n",
      "No I'm not the first king of controversy\n",
      "\n",
      "I am the worst thing since Elvis Presley\n",
      "\n",
      "To do black music so selfishly\n",
      "\n",
      "And used it to get myself wealthy\n",
      "\n",
      "There's a concept that works\n",
      "\n",
      "Twenty million other white rappers emerge\n",
      "\n",
      "But no matter how many fish in the sea\n",
      "\n",
      "It'll be so empty, without me\n",
      "\n",
      "Now this looks like a job for me\n",
      "\n",
      "So everybody, just follow me\n",
      "\n",
      "'Cause we need a little, controversy\n",
      "\n",
      "'Cause it feels so empty, without me\n",
      "\n",
      "I said \"This looks like a job for me\"\n",
      "\n",
      "So everybody, just follow me\n",
      "\n",
      "'Cause we need a little, controversy\n",
      "\n",
      "'Cause it feels so empty, without me\n"
     ]
    }
   ],
   "source": [
    "for i in open('simple.txt'):\n",
    "    print(i)"
   ]
  },
  {
   "cell_type": "code",
   "execution_count": 82,
   "id": "02f61ba5",
   "metadata": {},
   "outputs": [],
   "source": [
    "with open('simple.txt') as todo:\n",
    "    read = todo.readline()"
   ]
  },
  {
   "cell_type": "code",
   "execution_count": 83,
   "id": "04660150",
   "metadata": {},
   "outputs": [
    {
     "data": {
      "text/plain": [
       "'Obie Trice, real name no gimmicks\\n'"
      ]
     },
     "execution_count": 83,
     "metadata": {},
     "output_type": "execute_result"
    }
   ],
   "source": [
    "read"
   ]
  },
  {
   "cell_type": "code",
   "execution_count": 84,
   "id": "c6a5945e",
   "metadata": {},
   "outputs": [
    {
     "ename": "SyntaxError",
     "evalue": "invalid syntax (Temp/ipykernel_3612/2971473159.py, line 1)",
     "output_type": "error",
     "traceback": [
      "\u001b[1;36m  File \u001b[1;32m\"C:\\Users\\yaraz\\AppData\\Local\\Temp/ipykernel_3612/2971473159.py\"\u001b[1;36m, line \u001b[1;32m1\u001b[0m\n\u001b[1;33m    if 2 > 1 print(\"2\")\u001b[0m\n\u001b[1;37m             ^\u001b[0m\n\u001b[1;31mSyntaxError\u001b[0m\u001b[1;31m:\u001b[0m invalid syntax\n"
     ]
    }
   ],
   "source": [
    "if 2 > 1 print(\"2\")"
   ]
  },
  {
   "cell_type": "code",
   "execution_count": 85,
   "id": "80be595c",
   "metadata": {},
   "outputs": [
    {
     "ename": "ZeroDivisionError",
     "evalue": "division by zero",
     "output_type": "error",
     "traceback": [
      "\u001b[1;31m---------------------------------------------------------------------------\u001b[0m",
      "\u001b[1;31mZeroDivisionError\u001b[0m                         Traceback (most recent call last)",
      "\u001b[1;32m~\\AppData\\Local\\Temp/ipykernel_3612/3149809919.py\u001b[0m in \u001b[0;36m<module>\u001b[1;34m\u001b[0m\n\u001b[0;32m      1\u001b[0m \u001b[0ma\u001b[0m \u001b[1;33m,\u001b[0m\u001b[0mb\u001b[0m \u001b[1;33m=\u001b[0m \u001b[1;36m1\u001b[0m\u001b[1;33m,\u001b[0m\u001b[1;36m0\u001b[0m\u001b[1;33m\u001b[0m\u001b[1;33m\u001b[0m\u001b[0m\n\u001b[1;32m----> 2\u001b[1;33m \u001b[0mprint\u001b[0m\u001b[1;33m(\u001b[0m\u001b[0ma\u001b[0m\u001b[1;33m/\u001b[0m\u001b[0mb\u001b[0m\u001b[1;33m)\u001b[0m\u001b[1;33m\u001b[0m\u001b[1;33m\u001b[0m\u001b[0m\n\u001b[0m",
      "\u001b[1;31mZeroDivisionError\u001b[0m: division by zero"
     ]
    }
   ],
   "source": [
    "a ,b = 1,0\n",
    "print(a/b)"
   ]
  },
  {
   "cell_type": "code",
   "execution_count": 86,
   "id": "6c8d4ca1",
   "metadata": {},
   "outputs": [],
   "source": [
    "assert(1==1)"
   ]
  },
  {
   "cell_type": "code",
   "execution_count": 87,
   "id": "7e0b48d0",
   "metadata": {},
   "outputs": [
    {
     "ename": "AssertionError",
     "evalue": "",
     "output_type": "error",
     "traceback": [
      "\u001b[1;31m---------------------------------------------------------------------------\u001b[0m",
      "\u001b[1;31mAssertionError\u001b[0m                            Traceback (most recent call last)",
      "\u001b[1;32m~\\AppData\\Local\\Temp/ipykernel_3612/889009499.py\u001b[0m in \u001b[0;36m<module>\u001b[1;34m\u001b[0m\n\u001b[1;32m----> 1\u001b[1;33m \u001b[1;32massert\u001b[0m\u001b[1;33m(\u001b[0m\u001b[1;36m1\u001b[0m\u001b[1;33m==\u001b[0m\u001b[1;36m2\u001b[0m\u001b[1;33m)\u001b[0m\u001b[1;33m\u001b[0m\u001b[1;33m\u001b[0m\u001b[0m\n\u001b[0m",
      "\u001b[1;31mAssertionError\u001b[0m: "
     ]
    }
   ],
   "source": [
    "assert(1==2)"
   ]
  },
  {
   "cell_type": "code",
   "execution_count": 89,
   "id": "f3be7bf3",
   "metadata": {},
   "outputs": [],
   "source": [
    "class fruit:\n",
    "    pass\n",
    "    "
   ]
  },
  {
   "cell_type": "code",
   "execution_count": 90,
   "id": "206552dd",
   "metadata": {},
   "outputs": [
    {
     "ename": "AttributeError",
     "evalue": "type object 'fruit' has no attribute 'size'",
     "output_type": "error",
     "traceback": [
      "\u001b[1;31m---------------------------------------------------------------------------\u001b[0m",
      "\u001b[1;31mAttributeError\u001b[0m                            Traceback (most recent call last)",
      "\u001b[1;32m~\\AppData\\Local\\Temp/ipykernel_3612/1802424897.py\u001b[0m in \u001b[0;36m<module>\u001b[1;34m\u001b[0m\n\u001b[1;32m----> 1\u001b[1;33m \u001b[0mfruit\u001b[0m\u001b[1;33m.\u001b[0m\u001b[0msize\u001b[0m\u001b[1;33m\u001b[0m\u001b[1;33m\u001b[0m\u001b[0m\n\u001b[0m",
      "\u001b[1;31mAttributeError\u001b[0m: type object 'fruit' has no attribute 'size'"
     ]
    }
   ],
   "source": [
    "fruit.size"
   ]
  },
  {
   "cell_type": "code",
   "execution_count": 91,
   "id": "73c95672",
   "metadata": {},
   "outputs": [
    {
     "ename": "IndexError",
     "evalue": "list index out of range",
     "output_type": "error",
     "traceback": [
      "\u001b[1;31m---------------------------------------------------------------------------\u001b[0m",
      "\u001b[1;31mIndexError\u001b[0m                                Traceback (most recent call last)",
      "\u001b[1;32m~\\AppData\\Local\\Temp/ipykernel_3612/3811659175.py\u001b[0m in \u001b[0;36m<module>\u001b[1;34m\u001b[0m\n\u001b[0;32m      1\u001b[0m \u001b[0mlist\u001b[0m \u001b[1;33m=\u001b[0m \u001b[1;33m[\u001b[0m\u001b[1;36m1\u001b[0m\u001b[1;33m,\u001b[0m\u001b[1;36m2\u001b[0m\u001b[1;33m,\u001b[0m\u001b[1;36m3\u001b[0m\u001b[1;33m]\u001b[0m\u001b[1;33m\u001b[0m\u001b[1;33m\u001b[0m\u001b[0m\n\u001b[1;32m----> 2\u001b[1;33m \u001b[0mlist\u001b[0m\u001b[1;33m[\u001b[0m\u001b[1;36m3\u001b[0m\u001b[1;33m]\u001b[0m\u001b[1;33m\u001b[0m\u001b[1;33m\u001b[0m\u001b[0m\n\u001b[0m",
      "\u001b[1;31mIndexError\u001b[0m: list index out of range"
     ]
    }
   ],
   "source": [
    "list = [1,2,3]\n",
    "list[3]"
   ]
  },
  {
   "cell_type": "markdown",
   "id": "4b5cf3da",
   "metadata": {},
   "source": [
    "# Exception\n",
    "1. try/except block\n",
    "2. finally block\n",
    "3. the raise keyword\n",
    "4. assertion\n",
    "5. defining own exception"
   ]
  },
  {
   "cell_type": "code",
   "execution_count": 92,
   "id": "7923d177",
   "metadata": {},
   "outputs": [
    {
     "name": "stdout",
     "output_type": "stream",
     "text": [
      "it is printed ..\n"
     ]
    }
   ],
   "source": [
    "try:\n",
    "    for i in range(3):\n",
    "        print(3/i)\n",
    "except:\n",
    "    print(\"it is printed ..\")"
   ]
  },
  {
   "cell_type": "code",
   "execution_count": 95,
   "id": "eaafd30e",
   "metadata": {},
   "outputs": [
    {
     "name": "stdout",
     "output_type": "stream",
     "text": [
      "zero division\n"
     ]
    }
   ],
   "source": [
    "a , b = 1, 0\n",
    "try:\n",
    "    print(1/0)\n",
    "    print(\"this wont be printed...\")\n",
    "    print('10'+10)\n",
    "except TypeError:\n",
    "    print(\"catch the type error..\")\n",
    "except ZeroDivisionError:\n",
    "    print(\"zero division\")"
   ]
  },
  {
   "cell_type": "code",
   "execution_count": 96,
   "id": "f30d11bc",
   "metadata": {},
   "outputs": [
    {
     "ename": "SyntaxError",
     "evalue": "default 'except:' must be last (Temp/ipykernel_3612/2156888574.py, line 2)",
     "output_type": "error",
     "traceback": [
      "\u001b[1;36m  File \u001b[1;32m\"C:\\Users\\yaraz\\AppData\\Local\\Temp/ipykernel_3612/2156888574.py\"\u001b[1;36m, line \u001b[1;32m2\u001b[0m\n\u001b[1;33m    print(1/0)\u001b[0m\n\u001b[1;37m    ^\u001b[0m\n\u001b[1;31mSyntaxError\u001b[0m\u001b[1;31m:\u001b[0m default 'except:' must be last\n"
     ]
    }
   ],
   "source": [
    "try:\n",
    "    print(1/0)\n",
    "except :\n",
    "    raise\n",
    "except:\n",
    "    print(\"raised exception \")\n",
    "finally:\n",
    "    print('okay')\n",
    "print('done')"
   ]
  },
  {
   "cell_type": "code",
   "execution_count": 97,
   "id": "5c1f925a",
   "metadata": {},
   "outputs": [],
   "source": [
    "class myerro(Exception):\n",
    "    pass\n",
    "    "
   ]
  },
  {
   "cell_type": "code",
   "execution_count": 98,
   "id": "a3df87d6",
   "metadata": {},
   "outputs": [
    {
     "data": {
      "text/plain": [
       "__main__.myerro"
      ]
     },
     "execution_count": 98,
     "metadata": {},
     "output_type": "execute_result"
    }
   ],
   "source": [
    "myerro"
   ]
  },
  {
   "cell_type": "code",
   "execution_count": 99,
   "id": "fe360f18",
   "metadata": {},
   "outputs": [
    {
     "ename": "AssertionError",
     "evalue": "",
     "output_type": "error",
     "traceback": [
      "\u001b[1;31m---------------------------------------------------------------------------\u001b[0m",
      "\u001b[1;31mAssertionError\u001b[0m                            Traceback (most recent call last)",
      "\u001b[1;32m~\\AppData\\Local\\Temp/ipykernel_3612/1957669625.py\u001b[0m in \u001b[0;36m<module>\u001b[1;34m\u001b[0m\n\u001b[1;32m----> 1\u001b[1;33m \u001b[1;32massert\u001b[0m \u001b[1;36m2\u001b[0m \u001b[1;33m==\u001b[0m\u001b[1;36m3\u001b[0m\u001b[1;33m\u001b[0m\u001b[1;33m\u001b[0m\u001b[0m\n\u001b[0m",
      "\u001b[1;31mAssertionError\u001b[0m: "
     ]
    }
   ],
   "source": [
    "assert 2 ==3"
   ]
  },
  {
   "cell_type": "code",
   "execution_count": 101,
   "id": "0dd1debc",
   "metadata": {},
   "outputs": [],
   "source": [
    "def divide(a,b):\n",
    "    assert a!=0\n",
    "    return a/b"
   ]
  },
  {
   "cell_type": "code",
   "execution_count": 104,
   "id": "81975ade",
   "metadata": {},
   "outputs": [
    {
     "data": {
      "text/plain": [
       "0.4"
      ]
     },
     "execution_count": 104,
     "metadata": {},
     "output_type": "execute_result"
    }
   ],
   "source": [
    "divide(2,5)"
   ]
  },
  {
   "cell_type": "code",
   "execution_count": 105,
   "id": "f30a545e",
   "metadata": {},
   "outputs": [
    {
     "ename": "AssertionError",
     "evalue": "",
     "output_type": "error",
     "traceback": [
      "\u001b[1;31m---------------------------------------------------------------------------\u001b[0m",
      "\u001b[1;31mAssertionError\u001b[0m                            Traceback (most recent call last)",
      "\u001b[1;32m~\\AppData\\Local\\Temp/ipykernel_3612/1711906941.py\u001b[0m in \u001b[0;36m<module>\u001b[1;34m\u001b[0m\n\u001b[1;32m----> 1\u001b[1;33m \u001b[0mdivide\u001b[0m\u001b[1;33m(\u001b[0m\u001b[1;36m0\u001b[0m\u001b[1;33m,\u001b[0m\u001b[1;36m5\u001b[0m\u001b[1;33m)\u001b[0m\u001b[1;33m\u001b[0m\u001b[1;33m\u001b[0m\u001b[0m\n\u001b[0m",
      "\u001b[1;32m~\\AppData\\Local\\Temp/ipykernel_3612/128976414.py\u001b[0m in \u001b[0;36mdivide\u001b[1;34m(a, b)\u001b[0m\n\u001b[0;32m      1\u001b[0m \u001b[1;32mdef\u001b[0m \u001b[0mdivide\u001b[0m\u001b[1;33m(\u001b[0m\u001b[0ma\u001b[0m\u001b[1;33m,\u001b[0m\u001b[0mb\u001b[0m\u001b[1;33m)\u001b[0m\u001b[1;33m:\u001b[0m\u001b[1;33m\u001b[0m\u001b[1;33m\u001b[0m\u001b[0m\n\u001b[1;32m----> 2\u001b[1;33m     \u001b[1;32massert\u001b[0m \u001b[0ma\u001b[0m\u001b[1;33m!=\u001b[0m\u001b[1;36m0\u001b[0m\u001b[1;33m\u001b[0m\u001b[1;33m\u001b[0m\u001b[0m\n\u001b[0m\u001b[0;32m      3\u001b[0m     \u001b[1;32mreturn\u001b[0m \u001b[0ma\u001b[0m\u001b[1;33m/\u001b[0m\u001b[0mb\u001b[0m\u001b[1;33m\u001b[0m\u001b[1;33m\u001b[0m\u001b[0m\n",
      "\u001b[1;31mAssertionError\u001b[0m: "
     ]
    }
   ],
   "source": [
    "divide(0,5)"
   ]
  },
  {
   "cell_type": "code",
   "execution_count": 107,
   "id": "a2cac1eb",
   "metadata": {},
   "outputs": [],
   "source": [
    "def divid(a,b):\n",
    "    assert b!= 0 , \"the invalid data\"\n",
    "    return a/b"
   ]
  },
  {
   "cell_type": "code",
   "execution_count": 108,
   "id": "97d7f61b",
   "metadata": {},
   "outputs": [
    {
     "data": {
      "text/plain": [
       "0.6666666666666666"
      ]
     },
     "execution_count": 108,
     "metadata": {},
     "output_type": "execute_result"
    }
   ],
   "source": [
    "divid(2,3)"
   ]
  },
  {
   "cell_type": "code",
   "execution_count": 109,
   "id": "b30029a0",
   "metadata": {},
   "outputs": [
    {
     "ename": "AssertionError",
     "evalue": "the invalid data",
     "output_type": "error",
     "traceback": [
      "\u001b[1;31m---------------------------------------------------------------------------\u001b[0m",
      "\u001b[1;31mAssertionError\u001b[0m                            Traceback (most recent call last)",
      "\u001b[1;32m~\\AppData\\Local\\Temp/ipykernel_3612/3171183362.py\u001b[0m in \u001b[0;36m<module>\u001b[1;34m\u001b[0m\n\u001b[1;32m----> 1\u001b[1;33m \u001b[0mdivid\u001b[0m\u001b[1;33m(\u001b[0m\u001b[1;36m2\u001b[0m\u001b[1;33m,\u001b[0m\u001b[1;36m0\u001b[0m\u001b[1;33m)\u001b[0m\u001b[1;33m\u001b[0m\u001b[1;33m\u001b[0m\u001b[0m\n\u001b[0m",
      "\u001b[1;32m~\\AppData\\Local\\Temp/ipykernel_3612/4260881307.py\u001b[0m in \u001b[0;36mdivid\u001b[1;34m(a, b)\u001b[0m\n\u001b[0;32m      1\u001b[0m \u001b[1;32mdef\u001b[0m \u001b[0mdivid\u001b[0m\u001b[1;33m(\u001b[0m\u001b[0ma\u001b[0m\u001b[1;33m,\u001b[0m\u001b[0mb\u001b[0m\u001b[1;33m)\u001b[0m\u001b[1;33m:\u001b[0m\u001b[1;33m\u001b[0m\u001b[1;33m\u001b[0m\u001b[0m\n\u001b[1;32m----> 2\u001b[1;33m     \u001b[1;32massert\u001b[0m \u001b[0mb\u001b[0m\u001b[1;33m!=\u001b[0m \u001b[1;36m0\u001b[0m \u001b[1;33m,\u001b[0m \u001b[1;34m\"the invalid data\"\u001b[0m\u001b[1;33m\u001b[0m\u001b[1;33m\u001b[0m\u001b[0m\n\u001b[0m\u001b[0;32m      3\u001b[0m     \u001b[1;32mreturn\u001b[0m \u001b[0ma\u001b[0m\u001b[1;33m/\u001b[0m\u001b[0mb\u001b[0m\u001b[1;33m\u001b[0m\u001b[1;33m\u001b[0m\u001b[0m\n",
      "\u001b[1;31mAssertionError\u001b[0m: the invalid data"
     ]
    }
   ],
   "source": [
    "divid(2,0)"
   ]
  },
  {
   "cell_type": "code",
   "execution_count": 110,
   "id": "3c74b9db",
   "metadata": {},
   "outputs": [],
   "source": [
    "def addition(a,b):\n",
    "    assert b!=0 , 'b valie is zero'\n",
    "    return a/b"
   ]
  },
  {
   "cell_type": "code",
   "execution_count": 113,
   "id": "dbd46de4",
   "metadata": {},
   "outputs": [
    {
     "ename": "AssertionError",
     "evalue": "b valie is zero",
     "output_type": "error",
     "traceback": [
      "\u001b[1;31m---------------------------------------------------------------------------\u001b[0m",
      "\u001b[1;31mAssertionError\u001b[0m                            Traceback (most recent call last)",
      "\u001b[1;32m~\\AppData\\Local\\Temp/ipykernel_3612/531258920.py\u001b[0m in \u001b[0;36m<module>\u001b[1;34m\u001b[0m\n\u001b[1;32m----> 1\u001b[1;33m \u001b[0maddition\u001b[0m\u001b[1;33m(\u001b[0m\u001b[1;36m2\u001b[0m\u001b[1;33m,\u001b[0m\u001b[1;36m0\u001b[0m\u001b[1;33m)\u001b[0m\u001b[1;33m\u001b[0m\u001b[1;33m\u001b[0m\u001b[0m\n\u001b[0m",
      "\u001b[1;32m~\\AppData\\Local\\Temp/ipykernel_3612/2862296959.py\u001b[0m in \u001b[0;36maddition\u001b[1;34m(a, b)\u001b[0m\n\u001b[0;32m      1\u001b[0m \u001b[1;32mdef\u001b[0m \u001b[0maddition\u001b[0m\u001b[1;33m(\u001b[0m\u001b[0ma\u001b[0m\u001b[1;33m,\u001b[0m\u001b[0mb\u001b[0m\u001b[1;33m)\u001b[0m\u001b[1;33m:\u001b[0m\u001b[1;33m\u001b[0m\u001b[1;33m\u001b[0m\u001b[0m\n\u001b[1;32m----> 2\u001b[1;33m     \u001b[1;32massert\u001b[0m \u001b[0mb\u001b[0m\u001b[1;33m!=\u001b[0m\u001b[1;36m0\u001b[0m \u001b[1;33m,\u001b[0m \u001b[1;34m'b valie is zero'\u001b[0m\u001b[1;33m\u001b[0m\u001b[1;33m\u001b[0m\u001b[0m\n\u001b[0m\u001b[0;32m      3\u001b[0m     \u001b[1;32mreturn\u001b[0m \u001b[0ma\u001b[0m\u001b[1;33m/\u001b[0m\u001b[0mb\u001b[0m\u001b[1;33m\u001b[0m\u001b[1;33m\u001b[0m\u001b[0m\n",
      "\u001b[1;31mAssertionError\u001b[0m: b valie is zero"
     ]
    }
   ],
   "source": [
    "addition(2,0)"
   ]
  },
  {
   "cell_type": "code",
   "execution_count": 116,
   "id": "4144ae7c",
   "metadata": {},
   "outputs": [],
   "source": [
    "def add():\n",
    "    a = input(\"enter the first number.\")\n",
    "    b = int(input(\"enter the second number.\"))\n",
    "    assert(b!=0), 'invalide data'\n",
    "    return a/b"
   ]
  },
  {
   "cell_type": "code",
   "execution_count": 118,
   "id": "9865c5a1",
   "metadata": {},
   "outputs": [
    {
     "name": "stdout",
     "output_type": "stream",
     "text": [
      "enter the first number.35\n",
      "enter the second number.65\n"
     ]
    },
    {
     "ename": "TypeError",
     "evalue": "unsupported operand type(s) for /: 'str' and 'int'",
     "output_type": "error",
     "traceback": [
      "\u001b[1;31m---------------------------------------------------------------------------\u001b[0m",
      "\u001b[1;31mTypeError\u001b[0m                                 Traceback (most recent call last)",
      "\u001b[1;32m~\\AppData\\Local\\Temp/ipykernel_3612/3064714114.py\u001b[0m in \u001b[0;36m<module>\u001b[1;34m\u001b[0m\n\u001b[1;32m----> 1\u001b[1;33m \u001b[0madd\u001b[0m\u001b[1;33m(\u001b[0m\u001b[1;33m)\u001b[0m\u001b[1;33m\u001b[0m\u001b[1;33m\u001b[0m\u001b[0m\n\u001b[0m",
      "\u001b[1;32m~\\AppData\\Local\\Temp/ipykernel_3612/137358185.py\u001b[0m in \u001b[0;36madd\u001b[1;34m()\u001b[0m\n\u001b[0;32m      3\u001b[0m     \u001b[0mb\u001b[0m \u001b[1;33m=\u001b[0m \u001b[0mint\u001b[0m\u001b[1;33m(\u001b[0m\u001b[0minput\u001b[0m\u001b[1;33m(\u001b[0m\u001b[1;34m\"enter the second number.\"\u001b[0m\u001b[1;33m)\u001b[0m\u001b[1;33m)\u001b[0m\u001b[1;33m\u001b[0m\u001b[1;33m\u001b[0m\u001b[0m\n\u001b[0;32m      4\u001b[0m     \u001b[1;32massert\u001b[0m\u001b[1;33m(\u001b[0m\u001b[0mb\u001b[0m\u001b[1;33m!=\u001b[0m\u001b[1;36m0\u001b[0m\u001b[1;33m)\u001b[0m\u001b[1;33m,\u001b[0m \u001b[1;34m'invalide data'\u001b[0m\u001b[1;33m\u001b[0m\u001b[1;33m\u001b[0m\u001b[0m\n\u001b[1;32m----> 5\u001b[1;33m     \u001b[1;32mreturn\u001b[0m \u001b[0ma\u001b[0m\u001b[1;33m/\u001b[0m\u001b[0mb\u001b[0m\u001b[1;33m\u001b[0m\u001b[1;33m\u001b[0m\u001b[0m\n\u001b[0m",
      "\u001b[1;31mTypeError\u001b[0m: unsupported operand type(s) for /: 'str' and 'int'"
     ]
    }
   ],
   "source": [
    "add()"
   ]
  },
  {
   "cell_type": "code",
   "execution_count": 121,
   "id": "0c299602",
   "metadata": {},
   "outputs": [
    {
     "name": "stdout",
     "output_type": "stream",
     "text": [
      "total sum of number19 and number26 =15\n"
     ]
    }
   ],
   "source": [
    "num = 9\n",
    "num1 = 6\n",
    "sum = num+num1\n",
    "print(f\"total sum of number1{num} and number2{num1} ={sum}\")"
   ]
  },
  {
   "cell_type": "code",
   "execution_count": 122,
   "id": "6070ce83",
   "metadata": {},
   "outputs": [
    {
     "name": "stdout",
     "output_type": "stream",
     "text": [
      "total number 9 and number1 6 and = 15\n"
     ]
    }
   ],
   "source": [
    "print(\"total number {0} and number1 {1} and = {2}\".format(num,num1,sum))"
   ]
  },
  {
   "cell_type": "code",
   "execution_count": 123,
   "id": "be73ab4c",
   "metadata": {},
   "outputs": [
    {
     "name": "stdout",
     "output_type": "stream",
     "text": [
      "total number is 9 and 6 = 15\n"
     ]
    }
   ],
   "source": [
    "print(f\"total number is {num} and {num1} = {sum}\")"
   ]
  },
  {
   "cell_type": "code",
   "execution_count": 124,
   "id": "ecb42173",
   "metadata": {},
   "outputs": [],
   "source": [
    "def maximum(a,b):\n",
    "    if a > b:\n",
    "        return a\n",
    "    else:\n",
    "        return b"
   ]
  },
  {
   "cell_type": "code",
   "execution_count": 125,
   "id": "6086d8ab",
   "metadata": {},
   "outputs": [
    {
     "data": {
      "text/plain": [
       "6"
      ]
     },
     "execution_count": 125,
     "metadata": {},
     "output_type": "execute_result"
    }
   ],
   "source": [
    "maximum(5,6)"
   ]
  },
  {
   "cell_type": "code",
   "execution_count": 126,
   "id": "ea315492",
   "metadata": {},
   "outputs": [],
   "source": [
    "result = max(num , num1)"
   ]
  },
  {
   "cell_type": "code",
   "execution_count": 127,
   "id": "df0e5ec5",
   "metadata": {},
   "outputs": [
    {
     "data": {
      "text/plain": [
       "9"
      ]
     },
     "execution_count": 127,
     "metadata": {},
     "output_type": "execute_result"
    }
   ],
   "source": [
    "result"
   ]
  },
  {
   "cell_type": "code",
   "execution_count": 131,
   "id": "6477184f",
   "metadata": {},
   "outputs": [],
   "source": [
    "arr = [1,2,3,4,5,6]"
   ]
  },
  {
   "cell_type": "code",
   "execution_count": 132,
   "id": "e822e8f7",
   "metadata": {},
   "outputs": [
    {
     "data": {
      "text/plain": [
       "[1, 2, 3, 4, 5, 6]"
      ]
     },
     "execution_count": 132,
     "metadata": {},
     "output_type": "execute_result"
    }
   ],
   "source": [
    "arr"
   ]
  },
  {
   "cell_type": "code",
   "execution_count": 133,
   "id": "cd61a9fe",
   "metadata": {},
   "outputs": [
    {
     "name": "stdout",
     "output_type": "stream",
     "text": [
      "1\n",
      "2\n",
      "3\n",
      "4\n",
      "5\n",
      "6\n"
     ]
    }
   ],
   "source": [
    "for i in arr:\n",
    "    print(i)"
   ]
  },
  {
   "cell_type": "code",
   "execution_count": 134,
   "id": "e76b4ab0",
   "metadata": {},
   "outputs": [
    {
     "name": "stdout",
     "output_type": "stream",
     "text": [
      "1\n",
      "2\n",
      "3\n"
     ]
    }
   ],
   "source": [
    "print(arr[0])\n",
    "print(arr[1])\n",
    "print(arr[2])"
   ]
  },
  {
   "cell_type": "code",
   "execution_count": 135,
   "id": "e953e924",
   "metadata": {},
   "outputs": [],
   "source": [
    "mylist = [10,20,30,40,50,60,70,80,90]"
   ]
  },
  {
   "cell_type": "code",
   "execution_count": 142,
   "id": "baaa4e39",
   "metadata": {},
   "outputs": [
    {
     "name": "stdout",
     "output_type": "stream",
     "text": [
      "30\n",
      "40\n",
      "50\n",
      "60\n",
      "70\n",
      "80\n",
      "90\n"
     ]
    }
   ],
   "source": [
    "for i in mylist:\n",
    "    if i > 20:\n",
    "        print(i)\n",
    "        "
   ]
  },
  {
   "cell_type": "code",
   "execution_count": 143,
   "id": "39634fa3",
   "metadata": {},
   "outputs": [],
   "source": [
    "def array(n):\n",
    "    for i in n:\n",
    "        return i"
   ]
  },
  {
   "cell_type": "code",
   "execution_count": 144,
   "id": "6e880c87",
   "metadata": {},
   "outputs": [
    {
     "data": {
      "text/plain": [
       "10"
      ]
     },
     "execution_count": 144,
     "metadata": {},
     "output_type": "execute_result"
    }
   ],
   "source": [
    "array(mylist)"
   ]
  },
  {
   "cell_type": "code",
   "execution_count": 145,
   "id": "9725ed78",
   "metadata": {},
   "outputs": [],
   "source": [
    "def traverse(mylist):\n",
    "    for i in mylist:\n",
    "        print(i)"
   ]
  },
  {
   "cell_type": "code",
   "execution_count": 146,
   "id": "00dc0be6",
   "metadata": {},
   "outputs": [
    {
     "name": "stdout",
     "output_type": "stream",
     "text": [
      "10\n",
      "20\n",
      "30\n",
      "40\n",
      "50\n",
      "60\n",
      "70\n",
      "80\n",
      "90\n"
     ]
    }
   ],
   "source": [
    "traverse(mylist)"
   ]
  },
  {
   "cell_type": "code",
   "execution_count": 147,
   "id": "7b8efbc7",
   "metadata": {},
   "outputs": [],
   "source": [
    "def trav(mylist):\n",
    "    for i in mylist:\n",
    "        return i"
   ]
  },
  {
   "cell_type": "code",
   "execution_count": 148,
   "id": "9e6251c5",
   "metadata": {},
   "outputs": [
    {
     "data": {
      "text/plain": [
       "10"
      ]
     },
     "execution_count": 148,
     "metadata": {},
     "output_type": "execute_result"
    }
   ],
   "source": [
    "trav(mylist)"
   ]
  },
  {
   "cell_type": "code",
   "execution_count": 149,
   "id": "d4a0bee5",
   "metadata": {},
   "outputs": [],
   "source": [
    "newlist = [1,2,3,4]"
   ]
  },
  {
   "cell_type": "code",
   "execution_count": 152,
   "id": "6a2cdde6",
   "metadata": {},
   "outputs": [],
   "source": [
    "def trav(newlist):\n",
    "    for i in newlist:\n",
    "        yield i"
   ]
  },
  {
   "cell_type": "code",
   "execution_count": 155,
   "id": "47662d84",
   "metadata": {},
   "outputs": [
    {
     "data": {
      "text/plain": [
       "1"
      ]
     },
     "execution_count": 155,
     "metadata": {},
     "output_type": "execute_result"
    }
   ],
   "source": [
    "next(trav(newlist))"
   ]
  },
  {
   "cell_type": "code",
   "execution_count": 156,
   "id": "a59e9bab",
   "metadata": {},
   "outputs": [
    {
     "data": {
      "text/plain": [
       "1"
      ]
     },
     "execution_count": 156,
     "metadata": {},
     "output_type": "execute_result"
    }
   ],
   "source": [
    "next(trav(newlist))"
   ]
  },
  {
   "cell_type": "code",
   "execution_count": 157,
   "id": "f0face6c",
   "metadata": {},
   "outputs": [],
   "source": [
    "\n",
    "def add():\n",
    "    mylist = []\n",
    "    for i in range(0,9):\n",
    "        mylist.append(i)\n",
    "    return mylist\n"
   ]
  },
  {
   "cell_type": "code",
   "execution_count": 158,
   "id": "4a452ded",
   "metadata": {},
   "outputs": [
    {
     "data": {
      "text/plain": [
       "[0, 1, 2, 3, 4, 5, 6, 7, 8]"
      ]
     },
     "execution_count": 158,
     "metadata": {},
     "output_type": "execute_result"
    }
   ],
   "source": [
    "add()"
   ]
  },
  {
   "cell_type": "code",
   "execution_count": 159,
   "id": "d98394fd",
   "metadata": {},
   "outputs": [],
   "source": [
    "mylist = [1,2,3,4,5,6]"
   ]
  },
  {
   "cell_type": "code",
   "execution_count": 160,
   "id": "bc034cca",
   "metadata": {},
   "outputs": [
    {
     "data": {
      "text/plain": [
       "1"
      ]
     },
     "execution_count": 160,
     "metadata": {},
     "output_type": "execute_result"
    }
   ],
   "source": [
    "mylist[0]"
   ]
  },
  {
   "cell_type": "code",
   "execution_count": 1,
   "id": "300386e2",
   "metadata": {},
   "outputs": [],
   "source": [
    "def add(a,b):\n",
    "    return a+b"
   ]
  },
  {
   "cell_type": "code",
   "execution_count": 2,
   "id": "70736dca",
   "metadata": {},
   "outputs": [
    {
     "data": {
      "text/plain": [
       "9"
      ]
     },
     "execution_count": 2,
     "metadata": {},
     "output_type": "execute_result"
    }
   ],
   "source": [
    "add(5,4)"
   ]
  },
  {
   "cell_type": "code",
   "execution_count": 5,
   "id": "39917a02",
   "metadata": {},
   "outputs": [],
   "source": [
    "def add(a,b):\n",
    "    a = input(\"enter the first number\\n\")\n",
    "    b = input(\"enter the second number\\n\")\n",
    "    result = a+b\n",
    "    return int(result)"
   ]
  },
  {
   "cell_type": "code",
   "execution_count": 6,
   "id": "ff70acb8",
   "metadata": {},
   "outputs": [
    {
     "name": "stdout",
     "output_type": "stream",
     "text": [
      "enter the first number\n",
      "5\n",
      "enter the second number\n",
      "4\n"
     ]
    },
    {
     "data": {
      "text/plain": [
       "54"
      ]
     },
     "execution_count": 6,
     "metadata": {},
     "output_type": "execute_result"
    }
   ],
   "source": [
    "add(5,4)"
   ]
  },
  {
   "cell_type": "code",
   "execution_count": 7,
   "id": "9c95695b",
   "metadata": {},
   "outputs": [
    {
     "name": "stdout",
     "output_type": "stream",
     "text": [
      "the total sum of is 9 and 9 result is 18\n"
     ]
    }
   ],
   "source": [
    "number = 9\n",
    "number1 = 9\n",
    "sum = number + number1\n",
    "print(\"the total sum of is {0} and {1} result is {2}\".format(number , number1 ,sum))"
   ]
  },
  {
   "cell_type": "code",
   "execution_count": 8,
   "id": "b0a9bafa",
   "metadata": {},
   "outputs": [
    {
     "name": "stdout",
     "output_type": "stream",
     "text": [
      "Enter the first number\n",
      "25\n",
      "Enter the second number\n",
      "24\n",
      "the total number of sum is 25 and 24 and result 33.0\n"
     ]
    }
   ],
   "source": [
    "number1 = input(\"Enter the first number\\n\")\n",
    "number2 = input(\"Enter the second number\\n\")\n",
    "sum = float(number) + float(number2)\n",
    "print(\"the total number of sum is {0} and {1} and result {2}\".format(number1 , number2 ,sum))"
   ]
  },
  {
   "cell_type": "code",
   "execution_count": 15,
   "id": "00b93de6",
   "metadata": {},
   "outputs": [],
   "source": [
    "def addition(a,b):\n",
    "    assert b!= 0, \"invalide number\"\n",
    "    return a/b"
   ]
  },
  {
   "cell_type": "code",
   "execution_count": 18,
   "id": "eac3f06f",
   "metadata": {},
   "outputs": [
    {
     "data": {
      "text/plain": [
       "0.625"
      ]
     },
     "execution_count": 18,
     "metadata": {},
     "output_type": "execute_result"
    }
   ],
   "source": [
    "addition(5,8)"
   ]
  },
  {
   "cell_type": "code",
   "execution_count": 19,
   "id": "3f5f0b41",
   "metadata": {},
   "outputs": [],
   "source": [
    "def add(a,b):\n",
    "    assert a!=0 , 'input number!'\n",
    "    return a+b"
   ]
  },
  {
   "cell_type": "code",
   "execution_count": 20,
   "id": "53705717",
   "metadata": {},
   "outputs": [
    {
     "data": {
      "text/plain": [
       "11"
      ]
     },
     "execution_count": 20,
     "metadata": {},
     "output_type": "execute_result"
    }
   ],
   "source": [
    "add(5,6)"
   ]
  },
  {
   "cell_type": "code",
   "execution_count": 21,
   "id": "07a560f8",
   "metadata": {},
   "outputs": [
    {
     "ename": "AssertionError",
     "evalue": "input number!",
     "output_type": "error",
     "traceback": [
      "\u001b[1;31m---------------------------------------------------------------------------\u001b[0m",
      "\u001b[1;31mAssertionError\u001b[0m                            Traceback (most recent call last)",
      "\u001b[1;32m~\\AppData\\Local\\Temp/ipykernel_12972/79603298.py\u001b[0m in \u001b[0;36m<module>\u001b[1;34m\u001b[0m\n\u001b[1;32m----> 1\u001b[1;33m \u001b[0madd\u001b[0m\u001b[1;33m(\u001b[0m\u001b[1;36m0\u001b[0m\u001b[1;33m,\u001b[0m\u001b[1;36m5\u001b[0m\u001b[1;33m)\u001b[0m\u001b[1;33m\u001b[0m\u001b[1;33m\u001b[0m\u001b[0m\n\u001b[0m",
      "\u001b[1;32m~\\AppData\\Local\\Temp/ipykernel_12972/3407802467.py\u001b[0m in \u001b[0;36madd\u001b[1;34m(a, b)\u001b[0m\n\u001b[0;32m      1\u001b[0m \u001b[1;32mdef\u001b[0m \u001b[0madd\u001b[0m\u001b[1;33m(\u001b[0m\u001b[0ma\u001b[0m\u001b[1;33m,\u001b[0m\u001b[0mb\u001b[0m\u001b[1;33m)\u001b[0m\u001b[1;33m:\u001b[0m\u001b[1;33m\u001b[0m\u001b[1;33m\u001b[0m\u001b[0m\n\u001b[1;32m----> 2\u001b[1;33m     \u001b[1;32massert\u001b[0m \u001b[0ma\u001b[0m\u001b[1;33m!=\u001b[0m\u001b[1;36m0\u001b[0m \u001b[1;33m,\u001b[0m \u001b[1;34m'input number!'\u001b[0m\u001b[1;33m\u001b[0m\u001b[1;33m\u001b[0m\u001b[0m\n\u001b[0m\u001b[0;32m      3\u001b[0m     \u001b[1;32mreturn\u001b[0m \u001b[0ma\u001b[0m\u001b[1;33m+\u001b[0m\u001b[0mb\u001b[0m\u001b[1;33m\u001b[0m\u001b[1;33m\u001b[0m\u001b[0m\n",
      "\u001b[1;31mAssertionError\u001b[0m: input number!"
     ]
    }
   ],
   "source": [
    "add(0,5)"
   ]
  },
  {
   "cell_type": "code",
   "execution_count": 22,
   "id": "f18ed8cf",
   "metadata": {},
   "outputs": [
    {
     "data": {
      "text/plain": [
       "11"
      ]
     },
     "execution_count": 22,
     "metadata": {},
     "output_type": "execute_result"
    }
   ],
   "source": [
    "add(5,6)"
   ]
  },
  {
   "cell_type": "code",
   "execution_count": 25,
   "id": "ba894fd3",
   "metadata": {},
   "outputs": [],
   "source": [
    "def factorial(n):\n",
    "    if (n==0):\n",
    "        return 1\n",
    "    return n*factorial(n-1)"
   ]
  },
  {
   "cell_type": "code",
   "execution_count": 26,
   "id": "1ae596d0",
   "metadata": {},
   "outputs": [
    {
     "data": {
      "text/plain": [
       "120"
      ]
     },
     "execution_count": 26,
     "metadata": {},
     "output_type": "execute_result"
    }
   ],
   "source": [
    "factorial(5)"
   ]
  },
  {
   "cell_type": "code",
   "execution_count": 29,
   "id": "eb41729e",
   "metadata": {},
   "outputs": [],
   "source": [
    "def fact(n):\n",
    "    if n<0:\n",
    "        return 0\n",
    "    elif(n == 0) or (n==1):\n",
    "        return 1\n",
    "    else:\n",
    "        fact = 1\n",
    "        while(n > 1):\n",
    "            fact*=n\n",
    "            n-=1\n",
    "        return fact"
   ]
  },
  {
   "cell_type": "code",
   "execution_count": 30,
   "id": "f47e18ae",
   "metadata": {},
   "outputs": [
    {
     "data": {
      "text/plain": [
       "120"
      ]
     },
     "execution_count": 30,
     "metadata": {},
     "output_type": "execute_result"
    }
   ],
   "source": [
    "fact(5)"
   ]
  },
  {
   "cell_type": "code",
   "execution_count": 31,
   "id": "15c8713c",
   "metadata": {},
   "outputs": [
    {
     "name": "stdout",
     "output_type": "stream",
     "text": [
      "120\n"
     ]
    }
   ],
   "source": [
    "import math\n",
    "print(math.factorial(5))"
   ]
  },
  {
   "cell_type": "code",
   "execution_count": 32,
   "id": "d89aa62c",
   "metadata": {},
   "outputs": [],
   "source": [
    "def interest(p,t , r):\n",
    "    return p*t*r/100"
   ]
  },
  {
   "cell_type": "code",
   "execution_count": 33,
   "id": "49e4b958",
   "metadata": {},
   "outputs": [
    {
     "data": {
      "text/plain": [
       "48000.0"
      ]
     },
     "execution_count": 33,
     "metadata": {},
     "output_type": "execute_result"
    }
   ],
   "source": [
    "interest(200000,12,2)"
   ]
  },
  {
   "cell_type": "code",
   "execution_count": 34,
   "id": "6424aff4",
   "metadata": {},
   "outputs": [
    {
     "data": {
      "text/plain": [
       "24000.0"
      ]
     },
     "execution_count": 34,
     "metadata": {},
     "output_type": "execute_result"
    }
   ],
   "source": [
    "interest(100000,12,2)"
   ]
  },
  {
   "cell_type": "code",
   "execution_count": 36,
   "id": "6c7dda68",
   "metadata": {},
   "outputs": [
    {
     "data": {
      "text/plain": [
       "4800.0"
      ]
     },
     "execution_count": 36,
     "metadata": {},
     "output_type": "execute_result"
    }
   ],
   "source": [
    "interest(20000,12,2)"
   ]
  },
  {
   "cell_type": "code",
   "execution_count": 39,
   "id": "abc6b882",
   "metadata": {},
   "outputs": [],
   "source": [
    "def interest(principal , time , rate):\n",
    "    print(\"principal amount :\",principal)\n",
    "    print(\"time to be taken\", time)\n",
    "    print(\"rate of interest\",rate)\n",
    "    si = (principal* time*rate)/100\n",
    "    return si"
   ]
  },
  {
   "cell_type": "code",
   "execution_count": 40,
   "id": "b3b3125e",
   "metadata": {},
   "outputs": [
    {
     "name": "stdout",
     "output_type": "stream",
     "text": [
      "principal amount : 20000\n",
      "time to be taken 12\n",
      "rate of interest 2\n"
     ]
    },
    {
     "data": {
      "text/plain": [
       "4800.0"
      ]
     },
     "execution_count": 40,
     "metadata": {},
     "output_type": "execute_result"
    }
   ],
   "source": [
    "interest(20000,12,2)"
   ]
  },
  {
   "cell_type": "code",
   "execution_count": 42,
   "id": "7df2d4da",
   "metadata": {},
   "outputs": [],
   "source": [
    "def simpleinterest(p,t,r):\n",
    "    print(\"principal amount:\",p)\n",
    "    print(\"amount of time\" , t)\n",
    "    print(\"rate of interest\",r)\n",
    "    si = (p*t*r)/100\n",
    "    return si"
   ]
  },
  {
   "cell_type": "code",
   "execution_count": null,
   "id": "919aa7f0",
   "metadata": {},
   "outputs": [],
   "source": []
  }
 ],
 "metadata": {
  "kernelspec": {
   "display_name": "Python 3 (ipykernel)",
   "language": "python",
   "name": "python3"
  },
  "language_info": {
   "codemirror_mode": {
    "name": "ipython",
    "version": 3
   },
   "file_extension": ".py",
   "mimetype": "text/x-python",
   "name": "python",
   "nbconvert_exporter": "python",
   "pygments_lexer": "ipython3",
   "version": "3.9.2"
  }
 },
 "nbformat": 4,
 "nbformat_minor": 5
}
