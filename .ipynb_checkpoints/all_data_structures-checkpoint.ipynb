{
 "cells": [
  {
   "cell_type": "code",
   "execution_count": 1,
   "id": "5b1b040b",
   "metadata": {},
   "outputs": [],
   "source": [
    "A = [1, 2, 3, 4, 5]"
   ]
  },
  {
   "cell_type": "code",
   "execution_count": 2,
   "id": "93a55dc0",
   "metadata": {},
   "outputs": [
    {
     "name": "stdout",
     "output_type": "stream",
     "text": [
      "[1, 2]\n",
      "[2, 3]\n",
      "[3, 4]\n",
      "[4, 5]\n"
     ]
    }
   ],
   "source": [
    "for item in range(len(A)-1):\n",
    "    value = A[item:item+2]\n",
    "    print(value)"
   ]
  },
  {
   "cell_type": "code",
   "execution_count": 3,
   "id": "9adb8811",
   "metadata": {},
   "outputs": [
    {
     "data": {
      "text/plain": [
       "[1, 2, 3, 4, 5]"
      ]
     },
     "execution_count": 3,
     "metadata": {},
     "output_type": "execute_result"
    }
   ],
   "source": [
    "A"
   ]
  },
  {
   "cell_type": "code",
   "execution_count": 4,
   "id": "682e05ab",
   "metadata": {},
   "outputs": [
    {
     "name": "stdout",
     "output_type": "stream",
     "text": [
      "0\n",
      "1\n",
      "2\n",
      "3\n"
     ]
    }
   ],
   "source": [
    "for i in range(len(A)-1):\n",
    "    print(i)"
   ]
  },
  {
   "cell_type": "code",
   "execution_count": 8,
   "id": "d364f7a0",
   "metadata": {},
   "outputs": [
    {
     "name": "stdout",
     "output_type": "stream",
     "text": [
      "1 2\n",
      "1 3\n",
      "1 4\n",
      "1 5\n",
      "2 2\n",
      "2 3\n",
      "2 4\n",
      "2 5\n",
      "3 2\n",
      "3 3\n",
      "3 4\n",
      "3 5\n",
      "4 2\n",
      "4 3\n",
      "4 4\n",
      "4 5\n",
      "5 2\n",
      "5 3\n",
      "5 4\n",
      "5 5\n"
     ]
    }
   ],
   "source": [
    "for x in A:\n",
    "    for y in A[1:]:\n",
    "        print(x,y)"
   ]
  },
  {
   "cell_type": "code",
   "execution_count": 10,
   "id": "7c8ed28a",
   "metadata": {},
   "outputs": [],
   "source": [
    "mylist = [4,5,6,7,8,9,3,6,2,1,4,9]"
   ]
  },
  {
   "cell_type": "code",
   "execution_count": 11,
   "id": "2648e87e",
   "metadata": {},
   "outputs": [
    {
     "data": {
      "text/plain": [
       "[4, 5, 6, 7, 8, 9, 3, 6, 2, 1, 4, 9]"
      ]
     },
     "execution_count": 11,
     "metadata": {},
     "output_type": "execute_result"
    }
   ],
   "source": [
    "mylist"
   ]
  },
  {
   "cell_type": "code",
   "execution_count": 17,
   "id": "bdfd9726",
   "metadata": {},
   "outputs": [
    {
     "name": "stdout",
     "output_type": "stream",
     "text": [
      "4 5\n",
      "4 6\n",
      "4 7\n",
      "4 8\n",
      "4 9\n",
      "4 3\n",
      "4 6\n",
      "4 2\n",
      "4 1\n",
      "4 4\n",
      "4 9\n",
      "5 6\n",
      "5 7\n",
      "5 8\n",
      "5 9\n",
      "5 3\n",
      "5 6\n",
      "5 2\n",
      "5 1\n",
      "5 4\n",
      "5 9\n",
      "6 7\n",
      "6 8\n",
      "6 9\n",
      "6 3\n",
      "6 6\n",
      "6 2\n",
      "6 1\n",
      "6 4\n",
      "6 9\n",
      "7 8\n",
      "7 9\n",
      "7 3\n",
      "7 6\n",
      "7 2\n",
      "7 1\n",
      "7 4\n",
      "7 9\n",
      "8 9\n",
      "8 3\n",
      "8 6\n",
      "8 2\n",
      "8 1\n",
      "8 4\n",
      "8 9\n",
      "9 3\n",
      "9 6\n",
      "9 2\n",
      "9 1\n",
      "9 4\n",
      "9 9\n",
      "3 6\n",
      "3 2\n",
      "3 1\n",
      "3 4\n",
      "3 9\n",
      "6 2\n",
      "6 1\n",
      "6 4\n",
      "6 9\n",
      "2 1\n",
      "2 4\n",
      "2 9\n",
      "1 4\n",
      "1 9\n",
      "4 9\n"
     ]
    }
   ],
   "source": [
    "for x in range(len(mylist)):\n",
    "    for y in range(x+1,len(mylist)):\n",
    "        print(mylist[x],mylist[y])"
   ]
  },
  {
   "cell_type": "code",
   "execution_count": 18,
   "id": "974acf2f",
   "metadata": {},
   "outputs": [],
   "source": [
    "numbers = []"
   ]
  },
  {
   "cell_type": "code",
   "execution_count": 22,
   "id": "47c40fbf",
   "metadata": {},
   "outputs": [
    {
     "name": "stdout",
     "output_type": "stream",
     "text": [
      "true\n",
      "true\n",
      "true\n"
     ]
    }
   ],
   "source": [
    "for i in range(0,3):\n",
    "    numbers.append(i)\n",
    "    if numbers[0] < numbers[1]:\n",
    "        print(\"true\")\n",
    "    else:\n",
    "        print(\"no\")"
   ]
  },
  {
   "cell_type": "code",
   "execution_count": 20,
   "id": "db2a567e",
   "metadata": {},
   "outputs": [
    {
     "data": {
      "text/plain": [
       "[0, 1, 2]"
      ]
     },
     "execution_count": 20,
     "metadata": {},
     "output_type": "execute_result"
    }
   ],
   "source": [
    "numbers"
   ]
  },
  {
   "cell_type": "code",
   "execution_count": 4,
   "id": "ea8e3584",
   "metadata": {},
   "outputs": [],
   "source": [
    "mylist = [9,6,3]"
   ]
  },
  {
   "cell_type": "code",
   "execution_count": 7,
   "id": "ac1b69cb",
   "metadata": {},
   "outputs": [
    {
     "name": "stdout",
     "output_type": "stream",
     "text": [
      "[3, 6, 9]\n"
     ]
    }
   ],
   "source": [
    "n = len(mylist)\n",
    "for i in range(n):\n",
    "    for j in range(i-1):\n",
    "        if mylist[j] > mylist[j+1]:\n",
    "            temp = mylist[j]\n",
    "            mylist[j] = mylist[j+1]\n",
    "            mylist[j+1] = temp\n",
    "print(mylist)"
   ]
  },
  {
   "cell_type": "code",
   "execution_count": 9,
   "id": "a4772eaa",
   "metadata": {},
   "outputs": [],
   "source": [
    "mylist = [6,3,9]"
   ]
  },
  {
   "cell_type": "code",
   "execution_count": 10,
   "id": "4a7e4d4e",
   "metadata": {},
   "outputs": [
    {
     "data": {
      "text/plain": [
       "[6, 3, 9]"
      ]
     },
     "execution_count": 10,
     "metadata": {},
     "output_type": "execute_result"
    }
   ],
   "source": [
    "mylist"
   ]
  },
  {
   "cell_type": "code",
   "execution_count": 11,
   "id": "9b6c4fd2",
   "metadata": {},
   "outputs": [],
   "source": [
    "n = len(mylist)"
   ]
  },
  {
   "cell_type": "code",
   "execution_count": 12,
   "id": "bc9eb77c",
   "metadata": {},
   "outputs": [
    {
     "data": {
      "text/plain": [
       "3"
      ]
     },
     "execution_count": 12,
     "metadata": {},
     "output_type": "execute_result"
    }
   ],
   "source": [
    "n"
   ]
  },
  {
   "cell_type": "code",
   "execution_count": 20,
   "id": "b5bd91e6",
   "metadata": {},
   "outputs": [
    {
     "data": {
      "text/plain": [
       "3"
      ]
     },
     "execution_count": 20,
     "metadata": {},
     "output_type": "execute_result"
    }
   ],
   "source": [
    "n"
   ]
  },
  {
   "cell_type": "code",
   "execution_count": 23,
   "id": "89c186d9",
   "metadata": {},
   "outputs": [
    {
     "name": "stdout",
     "output_type": "stream",
     "text": [
      "3\n",
      "9\n"
     ]
    },
    {
     "ename": "IndexError",
     "evalue": "list index out of range",
     "output_type": "error",
     "traceback": [
      "\u001b[1;31m---------------------------------------------------------------------------\u001b[0m",
      "\u001b[1;31mIndexError\u001b[0m                                Traceback (most recent call last)",
      "\u001b[1;32m~\\AppData\\Local\\Temp/ipykernel_8808/1101969036.py\u001b[0m in \u001b[0;36m<module>\u001b[1;34m\u001b[0m\n\u001b[0;32m      1\u001b[0m \u001b[1;32mfor\u001b[0m \u001b[0mi\u001b[0m \u001b[1;32min\u001b[0m \u001b[0mrange\u001b[0m\u001b[1;33m(\u001b[0m\u001b[0mn\u001b[0m\u001b[1;33m)\u001b[0m\u001b[1;33m:\u001b[0m\u001b[1;33m\u001b[0m\u001b[1;33m\u001b[0m\u001b[0m\n\u001b[1;32m----> 2\u001b[1;33m     \u001b[0mprint\u001b[0m\u001b[1;33m(\u001b[0m\u001b[0mmylist\u001b[0m\u001b[1;33m[\u001b[0m\u001b[0mi\u001b[0m\u001b[1;33m+\u001b[0m\u001b[1;36m1\u001b[0m\u001b[1;33m]\u001b[0m\u001b[1;33m)\u001b[0m\u001b[1;33m\u001b[0m\u001b[1;33m\u001b[0m\u001b[0m\n\u001b[0m",
      "\u001b[1;31mIndexError\u001b[0m: list index out of range"
     ]
    }
   ],
   "source": [
    "for i in range(n):\n",
    "    print(mylist[i+1])"
   ]
  },
  {
   "cell_type": "code",
   "execution_count": 24,
   "id": "45f175f5",
   "metadata": {},
   "outputs": [
    {
     "data": {
      "text/plain": [
       "[6, 3, 9]"
      ]
     },
     "execution_count": 24,
     "metadata": {},
     "output_type": "execute_result"
    }
   ],
   "source": [
    "mylist"
   ]
  },
  {
   "cell_type": "code",
   "execution_count": 36,
   "id": "a1705619",
   "metadata": {},
   "outputs": [
    {
     "ename": "IndexError",
     "evalue": "list index out of range",
     "output_type": "error",
     "traceback": [
      "\u001b[1;31m---------------------------------------------------------------------------\u001b[0m",
      "\u001b[1;31mIndexError\u001b[0m                                Traceback (most recent call last)",
      "\u001b[1;32m~\\AppData\\Local\\Temp/ipykernel_8808/3400485979.py\u001b[0m in \u001b[0;36m<module>\u001b[1;34m\u001b[0m\n\u001b[0;32m      1\u001b[0m \u001b[1;32mfor\u001b[0m \u001b[0mi\u001b[0m \u001b[1;32min\u001b[0m \u001b[0mrange\u001b[0m\u001b[1;33m(\u001b[0m\u001b[0mlen\u001b[0m\u001b[1;33m(\u001b[0m\u001b[0mmylist\u001b[0m\u001b[1;33m)\u001b[0m\u001b[1;33m)\u001b[0m\u001b[1;33m:\u001b[0m\u001b[1;33m\u001b[0m\u001b[1;33m\u001b[0m\u001b[0m\n\u001b[1;32m----> 2\u001b[1;33m     \u001b[1;32mif\u001b[0m \u001b[0mmylist\u001b[0m\u001b[1;33m[\u001b[0m\u001b[0mi\u001b[0m\u001b[1;33m]\u001b[0m \u001b[1;33m>\u001b[0m \u001b[0mmylist\u001b[0m\u001b[1;33m[\u001b[0m\u001b[0mi\u001b[0m\u001b[1;33m+\u001b[0m\u001b[1;36m1\u001b[0m\u001b[1;33m]\u001b[0m\u001b[1;33m:\u001b[0m\u001b[1;33m\u001b[0m\u001b[1;33m\u001b[0m\u001b[0m\n\u001b[0m\u001b[0;32m      3\u001b[0m         \u001b[0mtemp\u001b[0m \u001b[1;33m=\u001b[0m \u001b[0mmylist\u001b[0m\u001b[1;33m[\u001b[0m\u001b[0mi\u001b[0m\u001b[1;33m]\u001b[0m\u001b[1;33m\u001b[0m\u001b[1;33m\u001b[0m\u001b[0m\n\u001b[0;32m      4\u001b[0m         \u001b[0mmylist\u001b[0m\u001b[1;33m[\u001b[0m\u001b[0mi\u001b[0m\u001b[1;33m]\u001b[0m \u001b[1;33m=\u001b[0m \u001b[0mmylist\u001b[0m\u001b[1;33m[\u001b[0m\u001b[0mi\u001b[0m\u001b[1;33m+\u001b[0m\u001b[1;36m1\u001b[0m\u001b[1;33m]\u001b[0m\u001b[1;33m\u001b[0m\u001b[1;33m\u001b[0m\u001b[0m\n\u001b[0;32m      5\u001b[0m         \u001b[0mmylist\u001b[0m\u001b[1;33m[\u001b[0m\u001b[0mi\u001b[0m\u001b[1;33m+\u001b[0m\u001b[1;36m1\u001b[0m\u001b[1;33m]\u001b[0m \u001b[1;33m=\u001b[0m \u001b[0mtemp\u001b[0m\u001b[1;33m\u001b[0m\u001b[1;33m\u001b[0m\u001b[0m\n",
      "\u001b[1;31mIndexError\u001b[0m: list index out of range"
     ]
    }
   ],
   "source": [
    "for i in range(len(mylist)):\n",
    "    if mylist[i] > mylist[i+1]:\n",
    "        temp = mylist[i]\n",
    "        mylist[i] = mylist[i+1]\n",
    "        mylist[i+1] = temp\n"
   ]
  },
  {
   "cell_type": "code",
   "execution_count": 43,
   "id": "9aa0ca63",
   "metadata": {},
   "outputs": [
    {
     "name": "stdout",
     "output_type": "stream",
     "text": [
      "[3, 6, 9]\n"
     ]
    }
   ],
   "source": [
    "for i in range(len(mylist)):\n",
    "    for j in range(i):\n",
    "        if mylist[j] > mylist[j+1]:\n",
    "            temp = mylist[i]\n",
    "            mylist[i] = mylist[i+1]\n",
    "            mylist[i+1] = temp\n",
    "print(mylist)"
   ]
  },
  {
   "cell_type": "code",
   "execution_count": 44,
   "id": "033c82ec",
   "metadata": {},
   "outputs": [],
   "source": [
    "def bubblesort(arr):\n",
    "    n = len(arr)\n",
    "    for i in range(n):\n",
    "        flat = False\n",
    "        for j in range(n-i-1):\n",
    "            if arr[j] > arr[j+1]:\n",
    "                temp = arr[j]\n",
    "                arr[j] = arr[j+1]\n",
    "                arr[j+1] = temp\n",
    "        flag = True\n",
    "    return arr\n",
    "            "
   ]
  },
  {
   "cell_type": "code",
   "execution_count": 45,
   "id": "bf1fe568",
   "metadata": {},
   "outputs": [],
   "source": [
    "arr= [ 9,8,7,6,3,5,4,2,1,4,5,8,9,6,8]"
   ]
  },
  {
   "cell_type": "code",
   "execution_count": 46,
   "id": "9c5bd808",
   "metadata": {},
   "outputs": [
    {
     "data": {
      "text/plain": [
       "[1, 2, 3, 4, 4, 5, 5, 6, 6, 7, 8, 8, 8, 9, 9]"
      ]
     },
     "execution_count": 46,
     "metadata": {},
     "output_type": "execute_result"
    }
   ],
   "source": [
    "bubblesort(arr)"
   ]
  },
  {
   "cell_type": "code",
   "execution_count": null,
   "id": "42cefa83",
   "metadata": {},
   "outputs": [],
   "source": []
  }
 ],
 "metadata": {
  "kernelspec": {
   "display_name": "Python 3 (ipykernel)",
   "language": "python",
   "name": "python3"
  },
  "language_info": {
   "codemirror_mode": {
    "name": "ipython",
    "version": 3
   },
   "file_extension": ".py",
   "mimetype": "text/x-python",
   "name": "python",
   "nbconvert_exporter": "python",
   "pygments_lexer": "ipython3",
   "version": "3.9.2"
  }
 },
 "nbformat": 4,
 "nbformat_minor": 5
}
