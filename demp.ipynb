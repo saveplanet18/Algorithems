{
 "cells": [
  {
   "cell_type": "code",
   "execution_count": 1,
   "metadata": {},
   "outputs": [],
   "source": [
    "class create_node:\n",
    "    def __init__(self, elements):\n",
    "        self.elements = elements\n",
    "        self.next = None\n",
    "\n",
    "\n",
    "class link_node:\n",
    "    def __init__(self):\n",
    "        self.head = None\n",
    "\n",
    "    def insertion_at_begin(self,new_data):\n",
    "        new_node = create_node(new_data)\n",
    "        new_node.next = self.head\n",
    "        self.head = new_node\n",
    "    \n",
    "    def insertion_at_end(self,new_data):\n",
    "        new_node = create_node(new_data)\n",
    "        temp = self.head\n",
    "        while(temp.next != None):\n",
    "            temp = temp.next\n",
    "        temp.next = new_node\n",
    "    \n",
    "    def insertion_at_specific(self,new_data,pos):\n",
    "        new_node = create_node(new_data)\n",
    "        temp = self.head\n",
    "        for i in range(pos-1):\n",
    "            if(temp.next != None):\n",
    "                temp = temp.next\n",
    "        new_node.next = temp.next\n",
    "        temp.next = new_node\n",
    "    \n",
    "    def display(self):\n",
    "        temp = self.head\n",
    "        while(temp.next != None):\n",
    "            print(temp.elements)\n",
    "            temp = temp.next"
   ]
  },
  {
   "cell_type": "code",
   "execution_count": 11,
   "metadata": {},
   "outputs": [
    {
     "name": "stdout",
     "output_type": "stream",
     "text": [
      "3\n",
      "6\n",
      "36\n",
      "9\n",
      "90\n",
      "45\n",
      "87\n",
      "None\n"
     ]
    }
   ],
   "source": [
    "link = link_node()\n",
    "link.insertion_at_begin(9)\n",
    "link.insertion_at_begin(6)\n",
    "link.insertion_at_begin(3)\n",
    "link.insertion_at_end(45)\n",
    "link.insertion_at_end(87)\n",
    "link.insertion_at_specific(90,3)\n",
    "link.insertion_at_end(63)\n",
    "link.insertion_at_specific(36,2)\n",
    "print(link.display())"
   ]
  },
  {
   "cell_type": "code",
   "execution_count": 14,
   "metadata": {},
   "outputs": [],
   "source": [
    "class Node:\n",
    "\n",
    "    def __init__(self,item):\n",
    "\n",
    "        self.item = item\n",
    "        self.next = None\n",
    "class link_make:\n",
    "\n",
    "    def __init__(self):\n",
    "\n",
    "        self.head = None\n",
    "    \n",
    "    def result(self):\n",
    "        while(self.head != None):\n",
    "            print(self.head.item)\n",
    "            self.head = self.head.next"
   ]
  },
  {
   "cell_type": "code",
   "execution_count": 15,
   "metadata": {},
   "outputs": [
    {
     "name": "stdout",
     "output_type": "stream",
     "text": [
      "Monday\n",
      "tuesday\n",
      "thursday\n"
     ]
    }
   ],
   "source": [
    "l_link = link_make()\n",
    "l_link.head = Node('Monday')\n",
    "e2 = Node(\"tuesday\")\n",
    "e3 = Node(\"thursday\")\n",
    "l_link.head.next = e2\n",
    "e2.next = e3\n",
    "l_link.result()"
   ]
  },
  {
   "cell_type": "code",
   "execution_count": null,
   "metadata": {},
   "outputs": [],
   "source": []
  }
 ],
 "metadata": {
  "kernelspec": {
   "display_name": "Python 3.9.2 64-bit",
   "language": "python",
   "name": "python3"
  },
  "language_info": {
   "codemirror_mode": {
    "name": "ipython",
    "version": 3
   },
   "file_extension": ".py",
   "mimetype": "text/x-python",
   "name": "python",
   "nbconvert_exporter": "python",
   "pygments_lexer": "ipython3",
   "version": "3.9.2"
  },
  "orig_nbformat": 4,
  "vscode": {
   "interpreter": {
    "hash": "b44dec303c593d8d8daa19f9928a44a58f5dd6858780405ef540750c1cbc0680"
   }
  }
 },
 "nbformat": 4,
 "nbformat_minor": 2
}
