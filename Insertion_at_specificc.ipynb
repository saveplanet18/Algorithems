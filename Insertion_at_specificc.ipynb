{
 "cells": [
  {
   "cell_type": "code",
   "execution_count": 1,
   "metadata": {},
   "outputs": [],
   "source": [
    "class create_node:\n",
    "\n",
    "    def __init__(self,element):\n",
    "\n",
    "        self.element = element\n",
    "\n",
    "        self.next = None\n",
    "\n",
    "class Linked_list:\n",
    "\n",
    "    def __init__(self):\n",
    "\n",
    "        self.head = None\n",
    "\n",
    "    def Insertion_at_specific(self,ele,pos):\n",
    "        new_node = create_node(ele)\n",
    "        if(self.head == None):\n",
    "            self.head = new_node\n",
    "            return\n",
    "        else:\n",
    "            temp = self.head\n",
    "            for i in range(pos-1):\n",
    "                if(temp.next != None):\n",
    "                    temp = temp.next\n",
    "            new_node.next = temp.next\n",
    "            temp.next = new_node\n",
    "\n",
    "    def Insertion_at_end(self,ele):\n",
    "        new_node = create_node(ele)\n",
    "        if(self.head == None):\n",
    "            self.head = new_node\n",
    "        else:\n",
    "            temp = self.head\n",
    "            while(temp.next != None):\n",
    "                temp = temp.next\n",
    "            temp.next = new_node\n",
    "\n",
    "    def print_show(self):\n",
    "        temp = self.head\n",
    "        while(temp != None):\n",
    "            print(temp.element)\n",
    "            temp = temp.next"
   ]
  },
  {
   "cell_type": "code",
   "execution_count": 2,
   "metadata": {},
   "outputs": [
    {
     "name": "stdout",
     "output_type": "stream",
     "text": [
      "18\n",
      "9\n",
      "45\n",
      "81\n",
      "6\n",
      "3\n"
     ]
    }
   ],
   "source": [
    "LL = Linked_list()\n",
    "LL.Insertion_at_end(18)\n",
    "LL.Insertion_at_end(9)\n",
    "LL.Insertion_at_end(6)\n",
    "LL.Insertion_at_end(3)\n",
    "LL.Insertion_at_specific(45,2)\n",
    "LL.Insertion_at_specific(81,3)\n",
    "LL.print_show()"
   ]
  },
  {
   "cell_type": "code",
   "execution_count": null,
   "metadata": {},
   "outputs": [],
   "source": []
  }
 ],
 "metadata": {
  "kernelspec": {
   "display_name": "Python 3.9.2 64-bit",
   "language": "python",
   "name": "python3"
  },
  "language_info": {
   "codemirror_mode": {
    "name": "ipython",
    "version": 3
   },
   "file_extension": ".py",
   "mimetype": "text/x-python",
   "name": "python",
   "nbconvert_exporter": "python",
   "pygments_lexer": "ipython3",
   "version": "3.9.2"
  },
  "orig_nbformat": 4,
  "vscode": {
   "interpreter": {
    "hash": "b44dec303c593d8d8daa19f9928a44a58f5dd6858780405ef540750c1cbc0680"
   }
  }
 },
 "nbformat": 4,
 "nbformat_minor": 2
}
