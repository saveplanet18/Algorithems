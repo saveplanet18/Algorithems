{
 "cells": [
  {
   "cell_type": "code",
   "execution_count": 15,
   "metadata": {},
   "outputs": [],
   "source": [
    "class Creation_Node:\n",
    "\n",
    "    def __init__(self,element):\n",
    "\n",
    "        self.element = element\n",
    "        self.next = None\n",
    "\n",
    "class Linked_List:\n",
    "\n",
    "    def __init__(self):\n",
    "        self.head = None\n",
    "    \n",
    "    def Insertion_at_Begin(self,ele):\n",
    "        new_node = Creation_Node(ele)\n",
    "        if (new_node == None):\n",
    "            print(\"list overflow\")\n",
    "        else:\n",
    "            new_node.next = self.head\n",
    "            self.head = new_node\n",
    "            # print(\"element is inserted into list\", ele)\n",
    "    \n",
    "    def Insertion_at_End(self,ele):\n",
    "        new_node = Creation_Node(ele)\n",
    "        if(self.head == None):\n",
    "            self.head = new_node\n",
    "            return\n",
    "        else:\n",
    "            temp = self.head\n",
    "            while(temp.next != None):\n",
    "                temp = temp.next\n",
    "            temp.next = new_node\n",
    "    \n",
    "    def Insertion_at_Specific(self,pos,ele):\n",
    "        new_node = Creation_Node(ele)\n",
    "        temp = self.head\n",
    "        for i in range(pos-1):\n",
    "            if(temp.next != None):\n",
    "                temp = temp.next\n",
    "        new_node.next = temp.next\n",
    "        temp.next = new_node\n",
    "    \n",
    "    def Deletion_at_first(self):\n",
    "        temp = self.head\n",
    "        self.head = self.head.next\n",
    "        temp = None\n",
    "    \n",
    "    def print_list(self):\n",
    "        temp = self.head\n",
    "        while(temp != None):\n",
    "            print(temp.element)\n",
    "            temp = temp.next"
   ]
  },
  {
   "cell_type": "code",
   "execution_count": 16,
   "metadata": {},
   "outputs": [
    {
     "name": "stdout",
     "output_type": "stream",
     "text": [
      "89\n",
      "3\n",
      "99\n",
      "88\n",
      "66\n",
      "6\n",
      "9\n",
      "18\n",
      "45\n",
      "87\n",
      "42\n",
      "3\n",
      "99\n",
      "88\n",
      "66\n",
      "6\n",
      "9\n",
      "18\n",
      "45\n",
      "87\n",
      "42\n",
      "deleted item None\n"
     ]
    }
   ],
   "source": [
    "LL = Linked_List()\n",
    "LL.Insertion_at_Begin(9)\n",
    "LL.Insertion_at_Begin(6)\n",
    "LL.Insertion_at_Begin(3)\n",
    "LL.Insertion_at_End(18)\n",
    "LL.Insertion_at_End(45)\n",
    "LL.Insertion_at_End(87)\n",
    "LL.Insertion_at_Begin(89)\n",
    "LL.Insertion_at_End(42)\n",
    "LL.Insertion_at_Specific(2,99)\n",
    "LL.Insertion_at_Specific(3,88)\n",
    "LL.Insertion_at_Specific(4,66)\n",
    "LL.print_list()\n",
    "LL.Deletion_at_first()\n",
    "\n",
    "print(\"deleted item\",LL.print_list())"
   ]
  },
  {
   "cell_type": "code",
   "execution_count": null,
   "metadata": {},
   "outputs": [],
   "source": []
  }
 ],
 "metadata": {
  "kernelspec": {
   "display_name": "Python 3.9.2 64-bit",
   "language": "python",
   "name": "python3"
  },
  "language_info": {
   "codemirror_mode": {
    "name": "ipython",
    "version": 3
   },
   "file_extension": ".py",
   "mimetype": "text/x-python",
   "name": "python",
   "nbconvert_exporter": "python",
   "pygments_lexer": "ipython3",
   "version": "3.9.2"
  },
  "orig_nbformat": 4,
  "vscode": {
   "interpreter": {
    "hash": "b44dec303c593d8d8daa19f9928a44a58f5dd6858780405ef540750c1cbc0680"
   }
  }
 },
 "nbformat": 4,
 "nbformat_minor": 2
}
