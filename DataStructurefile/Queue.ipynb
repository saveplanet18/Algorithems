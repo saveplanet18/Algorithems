{
 "cells": [
  {
   "cell_type": "code",
   "execution_count": 58,
   "metadata": {},
   "outputs": [],
   "source": [
    "class Queue:\n",
    "    def __init__(self):\n",
    "        self.elements = []\n",
    "\n",
    "    def is_empty(self):\n",
    "        if len(self.elements) == 0:\n",
    "            return \"queue is empty\"\n",
    "        return \"queu is full\"\n",
    "    def push(self, item):\n",
    "        self.elements.append(item)\n",
    "\n",
    "    def rear(self):\n",
    "        return self.elements[-1]\n",
    "\n",
    "    def front(self):\n",
    "        return self.elements[0]\n",
    "\n",
    "    def pop(self):\n",
    "        return self.elements.pop(0)"
   ]
  },
  {
   "cell_type": "code",
   "execution_count": 59,
   "metadata": {},
   "outputs": [
    {
     "data": {
      "text/plain": [
       "[6, 3]"
      ]
     },
     "execution_count": 59,
     "metadata": {},
     "output_type": "execute_result"
    }
   ],
   "source": [
    "Q = Queue()\n",
    "Q.elements\n",
    "Q.is_empty()\n",
    "Q.push(9)\n",
    "Q.push(6)\n",
    "Q.push(3)\n",
    "Q.elements\n",
    "Q.rear()\n",
    "Q.front()\n",
    "Q.pop()\n",
    "Q.elements"
   ]
  },
  {
   "cell_type": "markdown",
   "metadata": {},
   "source": [
    "# basic operation Queue\n",
    "1. is_empty\n",
    "2. enqueue\n",
    "3. dqueue\n",
    "4. peek\n",
    "5. rear & front = -1"
   ]
  },
  {
   "cell_type": "code",
   "execution_count": 61,
   "metadata": {},
   "outputs": [],
   "source": [
    "def CreatQueue():\n",
    "    Queue = []\n",
    "    return Queue"
   ]
  },
  {
   "cell_type": "code",
   "execution_count": 62,
   "metadata": {},
   "outputs": [],
   "source": [
    "def is_empty1(queue):\n",
    "    if len(queue) == 0:\n",
    "        return \"Queue is Empty\"\n",
    "    return \"Queue is full\"\n",
    "    "
   ]
  },
  {
   "cell_type": "code",
   "execution_count": 63,
   "metadata": {},
   "outputs": [],
   "source": [
    "def is_full1(queue):\n",
    "    if len(queue) != 0:\n",
    "        return \"queue is full\"\n",
    "    return \"queue is empty\""
   ]
  },
  {
   "cell_type": "code",
   "execution_count": 65,
   "metadata": {},
   "outputs": [],
   "source": [
    "def enqueue(stack , item):\n",
    "    if is_empty1(stack):\n",
    "        return stack.append(item)\n",
    "    else:\n",
    "        return 0"
   ]
  },
  {
   "cell_type": "code",
   "execution_count": 66,
   "metadata": {},
   "outputs": [],
   "source": [
    "def dqueue(stack):\n",
    "    if is_full1(stack):\n",
    "        return stack.pop(0)\n",
    "    return 0\n"
   ]
  },
  {
   "cell_type": "code",
   "execution_count": 72,
   "metadata": {},
   "outputs": [],
   "source": [
    "def front(stack):\n",
    "    return stack[0]"
   ]
  },
  {
   "cell_type": "code",
   "execution_count": 74,
   "metadata": {},
   "outputs": [],
   "source": [
    "def rear(stack):\n",
    "    return stack[-1]"
   ]
  },
  {
   "cell_type": "code",
   "execution_count": 75,
   "metadata": {},
   "outputs": [
    {
     "name": "stdout",
     "output_type": "stream",
     "text": [
      "Queue is Empty\n",
      "[9, 6, 3]\n",
      "queue is full\n",
      "[6, 3]\n",
      "6\n",
      "3\n"
     ]
    }
   ],
   "source": [
    "queue = CreatQueue()\n",
    "print(is_empty1(queue))\n",
    "enqueue(queue,9)\n",
    "enqueue(queue,6)\n",
    "enqueue(queue,3)\n",
    "print(queue)\n",
    "print(is_full1(queue))\n",
    "dqueue(queue)\n",
    "print(queue)\n",
    "print(front(queue))\n",
    "print(rear(queue))\n"
   ]
  },
  {
   "cell_type": "code",
   "execution_count": null,
   "metadata": {},
   "outputs": [],
   "source": []
  }
 ],
 "metadata": {
  "kernelspec": {
   "display_name": "Python 3.8.8 ('base')",
   "language": "python",
   "name": "python3"
  },
  "language_info": {
   "codemirror_mode": {
    "name": "ipython",
    "version": 3
   },
   "file_extension": ".py",
   "mimetype": "text/x-python",
   "name": "python",
   "nbconvert_exporter": "python",
   "pygments_lexer": "ipython3",
   "version": "3.8.8"
  },
  "orig_nbformat": 4,
  "vscode": {
   "interpreter": {
    "hash": "82adaca09b26f941339d497ab109b3479f090966e110972cd932eac4ae78641a"
   }
  }
 },
 "nbformat": 4,
 "nbformat_minor": 2
}
