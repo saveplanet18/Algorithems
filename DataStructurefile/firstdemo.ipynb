{
 "cells": [
  {
   "cell_type": "code",
   "execution_count": 20,
   "metadata": {},
   "outputs": [],
   "source": [
    "class stack:\n",
    "\n",
    "    def __init__(self):\n",
    "        self.elements = []\n",
    "        self.top = len(self.elements)\n",
    "\n",
    "    def is_empty(self):\n",
    "        if (self.top) == 0:\n",
    "            return \"stack is empty\"\n",
    "        return \"stack is full\"\n",
    "\n",
    "    def push(self,ele):\n",
    "        if self.is_empty():\n",
    "            return self.elements.append(ele)\n",
    "        return \"stack is empty\"\n",
    "\n",
    "    def is_full(self):\n",
    "        if (self.top) != 0 :\n",
    "            return \"stack is full\"\n",
    "        return 0\n",
    "    \n",
    "    def pop(self):\n",
    "        if self.is_full():\n",
    "            return \"add elements into stack\"\n",
    "        return self.elements.pop()\n"
   ]
  },
  {
   "cell_type": "code",
   "execution_count": 22,
   "metadata": {},
   "outputs": [
    {
     "data": {
      "text/plain": [
       "[9, 6]"
      ]
     },
     "execution_count": 22,
     "metadata": {},
     "output_type": "execute_result"
    }
   ],
   "source": [
    "st = stack()\n",
    "st.is_empty()\n",
    "st.push(9)\n",
    "st.push(6)\n",
    "st.push(3)\n",
    "st.elements\n",
    "st.is_full()\n",
    "st.pop()\n",
    "st.elements\n"
   ]
  },
  {
   "cell_type": "code",
   "execution_count": 28,
   "metadata": {},
   "outputs": [],
   "source": [
    "class Queue:\n",
    "    def __init__(self):\n",
    "        self.elements = []\n",
    "    \n",
    "    def enqueue(self, item):\n",
    "        return self.elements.append(item)\n",
    "    def dqueue(self):\n",
    "        return self.elements.pop(0)\n",
    "\n",
    "    def rear(self):\n",
    "        return self.elements[-1]\n",
    "    \n",
    "    def front(self):\n",
    "        return self.elements[0]\n",
    "\n",
    "    def is_empty(self):\n",
    "        return len(self.elements) == 0"
   ]
  },
  {
   "cell_type": "code",
   "execution_count": 30,
   "metadata": {},
   "outputs": [],
   "source": [
    "QQ = Queue()"
   ]
  },
  {
   "cell_type": "code",
   "execution_count": 31,
   "metadata": {},
   "outputs": [
    {
     "name": "stdout",
     "output_type": "stream",
     "text": [
      "3\n",
      "6\n",
      "[6, 3]\n",
      "False\n"
     ]
    }
   ],
   "source": [
    "QQ.enqueue(9)\n",
    "QQ.enqueue(6)\n",
    "QQ.enqueue(3)\n",
    "QQ.elements\n",
    "QQ.dqueue()\n",
    "QQ.elements\n",
    "print(QQ.rear())\n",
    "print(QQ.front())\n",
    "print(QQ.elements)\n",
    "print(QQ.is_empty())\n"
   ]
  },
  {
   "cell_type": "code",
   "execution_count": 38,
   "metadata": {},
   "outputs": [],
   "source": [
    "class Node:\n",
    "\n",
    "    def __init__(self,elements):\n",
    "        self.elements = elements\n",
    "        self.next = None\n",
    "class linkedlist:\n",
    "\n",
    "    def __init__(self):\n",
    "        self.head = None\n",
    "        self.tial = None\n",
    "    def insert(self,new_node):\n",
    "        if self.head:\n",
    "            last_node = self.head\n",
    "            while last_node != None:\n",
    "                last_node = last_node.next\n",
    "            last_node = new_node\n",
    "        else:\n",
    "            self.head = new_node\n"
   ]
  },
  {
   "cell_type": "code",
   "execution_count": 40,
   "metadata": {},
   "outputs": [
    {
     "name": "stdout",
     "output_type": "stream",
     "text": [
      "9\n",
      "None\n",
      "None\n",
      "None\n"
     ]
    }
   ],
   "source": [
    "n = Node(9)\n",
    "print(n.elements)\n",
    "print(n.next)\n",
    "ll = linkedlist()\n",
    "print(ll.head)\n",
    "print(ll.tial)\n",
    "ll.insert(Node(9))\n",
    "ll.insert(Node(6))"
   ]
  },
  {
   "cell_type": "code",
   "execution_count": 8,
   "metadata": {},
   "outputs": [],
   "source": [
    "class Queue:\n",
    "\n",
    "    def __init__(self):\n",
    "        self.elements = []\n",
    "\n",
    "    def Enqueue(self,item):\n",
    "        add = self.elements.append(item)\n",
    "        return add\n",
    "    \n",
    "    def is_empty(self):\n",
    "        return len(self.elements) ==0\n",
    "\n",
    "    def rear(self):\n",
    "        return self.elements[-1]\n",
    "    \n",
    "    def front(self):\n",
    "        return self.elements[0]\n",
    "\n",
    "    def Dqueue(self):\n",
    "        delete = self.elements.pop(0)\n",
    "        return delete\n",
    "    \n",
    "    \n",
    "   \n"
   ]
  },
  {
   "cell_type": "code",
   "execution_count": 10,
   "metadata": {},
   "outputs": [
    {
     "name": "stdout",
     "output_type": "stream",
     "text": [
      "[]\n",
      "True\n",
      "end of the queue 3\n",
      "start of the queue 9\n",
      "[9, 6, 3]\n",
      "[6, 3]\n"
     ]
    }
   ],
   "source": [
    "QQ = Queue()\n",
    "print(QQ.elements)\n",
    "print(QQ.is_empty())\n",
    "QQ.Enqueue(9)\n",
    "QQ.Enqueue(6)\n",
    "QQ.Enqueue(3)\n",
    "print(\"end of the queue\",QQ.rear())\n",
    "print(\"start of the queue\",QQ.front())\n",
    "print(QQ.elements)\n",
    "QQ.Dqueue()\n",
    "print(QQ.elements)"
   ]
  },
  {
   "cell_type": "code",
   "execution_count": 12,
   "metadata": {},
   "outputs": [],
   "source": [
    "def creation():\n",
    "    QQ = []\n",
    "    return QQ\n",
    "def is_empty(stack):\n",
    "    if len(stack)==0:\n",
    "        return \"Queue is emtpy\"\n",
    "    return \"queue is full\"\n",
    "\n",
    "def Enqueue(queue,element):\n",
    "    add = queue.append(element)\n",
    "    return add\n",
    "\n",
    "def rear(queue):\n",
    "    return queue[-1]\n",
    "\n",
    "def front(queue):\n",
    "    return queue[0]\n",
    "\n",
    "def dequeue(queue):\n",
    "    delete = queue.pop(0)\n",
    "    return delete\n"
   ]
  },
  {
   "cell_type": "code",
   "execution_count": 15,
   "metadata": {},
   "outputs": [
    {
     "name": "stdout",
     "output_type": "stream",
     "text": [
      "Queue is emtpy\n",
      "[9, 6, 3]\n",
      "9\n",
      "3\n",
      "[6, 3]\n"
     ]
    }
   ],
   "source": [
    "qq = creation()\n",
    "print(is_empty(qq))\n",
    "Enqueue(qq,9)\n",
    "Enqueue(qq,6)\n",
    "Enqueue(qq,3)\n",
    "print(qq)\n",
    "print(front(qq))\n",
    "print(rear(qq))\n",
    "dequeue(qq)\n",
    "print(qq)\n"
   ]
  },
  {
   "cell_type": "code",
   "execution_count": 17,
   "metadata": {},
   "outputs": [],
   "source": [
    "class circular:\n",
    "\n",
    "    def __init__(self,capacity):\n",
    "        self.capacity = capacity\n",
    "        self.head = 0\n",
    "        self.tail = 0\n",
    "        self.size = 0\n",
    "        self.storage = [None]*capacity"
   ]
  },
  {
   "cell_type": "code",
   "execution_count": 19,
   "metadata": {},
   "outputs": [
    {
     "name": "stdout",
     "output_type": "stream",
     "text": [
      "[None, None, None, None, None, None, None, None, None]\n",
      "0\n",
      "9\n"
     ]
    }
   ],
   "source": [
    "cqueue = circular(9)\n",
    "print(cqueue.storage)\n",
    "print(cqueue.head)\n",
    "print(cqueue.capacity)\n"
   ]
  },
  {
   "cell_type": "code",
   "execution_count": 6,
   "metadata": {},
   "outputs": [],
   "source": [
    "def display(arr):\n",
    "    n = len(arr)\n",
    "    for i in range(n):\n",
    "        print(\"\",arr[i],end = \",\")"
   ]
  },
  {
   "cell_type": "code",
   "execution_count": 7,
   "metadata": {},
   "outputs": [
    {
     "name": "stdout",
     "output_type": "stream",
     "text": [
      " 9, 6, 3, 8, 5, 2, 7, 4, 1,"
     ]
    }
   ],
   "source": [
    "arr = [9,6,3,8,5,2,7,4,1]\n",
    "display(arr)"
   ]
  },
  {
   "cell_type": "code",
   "execution_count": 13,
   "metadata": {},
   "outputs": [],
   "source": [
    "def linear_search(arr , search):\n",
    "    length = len(arr)\n",
    "    for i in range(length):\n",
    "        if arr[i] == search:\n",
    "            return search\n",
    "    return \"element is not found\""
   ]
  },
  {
   "cell_type": "code",
   "execution_count": 14,
   "metadata": {},
   "outputs": [
    {
     "data": {
      "text/plain": [
       "'element is not found'"
      ]
     },
     "execution_count": 14,
     "metadata": {},
     "output_type": "execute_result"
    }
   ],
   "source": [
    "linear_search(arr , 55)"
   ]
  },
  {
   "cell_type": "code",
   "execution_count": 18,
   "metadata": {},
   "outputs": [],
   "source": [
    "def linear(arr , target):\n",
    "    n = len(arr)\n",
    "    i = 0\n",
    "    while (i < n):\n",
    "        if arr[i] == target:\n",
    "            return arr[i]\n",
    "        i+=1\n",
    "    return \"target is not found..\"\n",
    "    "
   ]
  },
  {
   "cell_type": "code",
   "execution_count": 19,
   "metadata": {},
   "outputs": [
    {
     "data": {
      "text/plain": [
       "'target is not found..'"
      ]
     },
     "execution_count": 19,
     "metadata": {},
     "output_type": "execute_result"
    }
   ],
   "source": [
    "linear(arr, 99)"
   ]
  },
  {
   "cell_type": "code",
   "execution_count": 17,
   "metadata": {},
   "outputs": [
    {
     "data": {
      "text/plain": [
       "8"
      ]
     },
     "execution_count": 17,
     "metadata": {},
     "output_type": "execute_result"
    }
   ],
   "source": [
    "linear(arr, 8)"
   ]
  },
  {
   "cell_type": "code",
   "execution_count": 23,
   "metadata": {},
   "outputs": [
    {
     "name": "stdout",
     "output_type": "stream",
     "text": [
      "True\n",
      "2\n",
      "2\n"
     ]
    }
   ],
   "source": [
    "low = 0\n",
    "n = 5\n",
    "high = n-1\n",
    "print(low <=high)\n",
    "mid = low +(high-low)//2\n",
    "print(mid)\n",
    "mid1 = (low+high)//2\n",
    "print(mid1)"
   ]
  },
  {
   "cell_type": "code",
   "execution_count": 40,
   "metadata": {},
   "outputs": [],
   "source": [
    "def binary_search(arr , target):\n",
    "    n = len(arr)\n",
    "    low = 0\n",
    "    high = n-1\n",
    "    while(low <= high):\n",
    "        mid = (low + high)//2\n",
    "        if arr[mid] == target:\n",
    "            return mid\n",
    "        elif arr[mid] <= target:\n",
    "            low = mid+1\n",
    "        else:\n",
    "            high = mid-1\n",
    "    return -1"
   ]
  },
  {
   "cell_type": "code",
   "execution_count": 43,
   "metadata": {},
   "outputs": [
    {
     "data": {
      "text/plain": [
       "-1"
      ]
     },
     "execution_count": 43,
     "metadata": {},
     "output_type": "execute_result"
    }
   ],
   "source": [
    "arr = [9,6,3,7,4,1,2,8,9,3,5,6]\n",
    "binary_search(arr , 3)"
   ]
  },
  {
   "cell_type": "code",
   "execution_count": 49,
   "metadata": {},
   "outputs": [],
   "source": [
    "def binary(arr , target):\n",
    "    length = len(arr)\n",
    "    low = 0\n",
    "    high = length-1\n",
    "    mid = 0\n",
    "    while(low <= high):\n",
    "        mid = (low + high)//2\n",
    "        if arr[mid] == target:\n",
    "            return mid\n",
    "        elif arr[mid] < target:\n",
    "            low = mid+1\n",
    "        else:\n",
    "            high = mid-1\n",
    "    return -1"
   ]
  },
  {
   "cell_type": "code",
   "execution_count": 50,
   "metadata": {},
   "outputs": [
    {
     "data": {
      "text/plain": [
       "8"
      ]
     },
     "execution_count": 50,
     "metadata": {},
     "output_type": "execute_result"
    }
   ],
   "source": [
    "binary(arr , 9)"
   ]
  },
  {
   "cell_type": "code",
   "execution_count": 51,
   "metadata": {},
   "outputs": [
    {
     "data": {
      "text/plain": [
       "-1"
      ]
     },
     "execution_count": 51,
     "metadata": {},
     "output_type": "execute_result"
    }
   ],
   "source": [
    "binary(arr , 3)"
   ]
  },
  {
   "cell_type": "code",
   "execution_count": 52,
   "metadata": {},
   "outputs": [
    {
     "name": "stdout",
     "output_type": "stream",
     "text": [
      "True\n"
     ]
    }
   ],
   "source": [
    "print(40<90)"
   ]
  },
  {
   "cell_type": "code",
   "execution_count": 53,
   "metadata": {},
   "outputs": [
    {
     "name": "stdout",
     "output_type": "stream",
     "text": [
      "True\n"
     ]
    }
   ],
   "source": [
    "print(3<6)"
   ]
  },
  {
   "cell_type": "code",
   "execution_count": 8,
   "metadata": {},
   "outputs": [],
   "source": [
    "def bit(arr , target):\n",
    "    n = len(arr)\n",
    "    low = 0\n",
    "    high = n-1\n",
    "    while (low <= high):\n",
    "        mid = (low+high)//2\n",
    "        if arr[mid] == target:\n",
    "            return mid\n",
    "        elif arr[mid] < target:\n",
    "            low = mid+1\n",
    "        elif arr[mid] > target:\n",
    "            high = mid-1\n",
    "        else:\n",
    "            return \"element not found\"\n",
    "    return -1\n"
   ]
  },
  {
   "cell_type": "code",
   "execution_count": 9,
   "metadata": {},
   "outputs": [
    {
     "data": {
      "text/plain": [
       "1"
      ]
     },
     "execution_count": 9,
     "metadata": {},
     "output_type": "execute_result"
    }
   ],
   "source": [
    "arr = [9,6,3,90,60,20,40,80,30,10]\n",
    "bit(arr , 6)"
   ]
  },
  {
   "cell_type": "code",
   "execution_count": 10,
   "metadata": {},
   "outputs": [
    {
     "data": {
      "text/plain": [
       "4"
      ]
     },
     "execution_count": 10,
     "metadata": {},
     "output_type": "execute_result"
    }
   ],
   "source": [
    "bit(arr , 60)"
   ]
  },
  {
   "cell_type": "code",
   "execution_count": 11,
   "metadata": {},
   "outputs": [
    {
     "data": {
      "text/plain": [
       "-1"
      ]
     },
     "execution_count": 11,
     "metadata": {},
     "output_type": "execute_result"
    }
   ],
   "source": [
    "bit(arr , 99)"
   ]
  },
  {
   "cell_type": "code",
   "execution_count": 30,
   "metadata": {},
   "outputs": [],
   "source": [
    "def line(arr , target):\n",
    "    n = len(arr)\n",
    "    i = 0\n",
    "    while(i < n):\n",
    "        if arr[i] == target:\n",
    "            return arr[i]\n",
    "        i+=1\n",
    "    return 0"
   ]
  },
  {
   "cell_type": "code",
   "execution_count": 31,
   "metadata": {},
   "outputs": [
    {
     "data": {
      "text/plain": [
       "0"
      ]
     },
     "execution_count": 31,
     "metadata": {},
     "output_type": "execute_result"
    }
   ],
   "source": [
    "line(arr,66)"
   ]
  },
  {
   "cell_type": "code",
   "execution_count": 32,
   "metadata": {},
   "outputs": [
    {
     "data": {
      "text/plain": [
       "6"
      ]
     },
     "execution_count": 32,
     "metadata": {},
     "output_type": "execute_result"
    }
   ],
   "source": [
    "line(arr, 6)"
   ]
  },
  {
   "cell_type": "code",
   "execution_count": 33,
   "metadata": {},
   "outputs": [],
   "source": [
    "def show(arr , target):\n",
    "    n = len(arr)\n",
    "    for i in range(n):\n",
    "        if arr[i] == target:\n",
    "            return arr[i]\n",
    "    return 0"
   ]
  },
  {
   "cell_type": "code",
   "execution_count": 29,
   "metadata": {},
   "outputs": [
    {
     "name": "stdout",
     "output_type": "stream",
     "text": [
      "element is found 9\n"
     ]
    }
   ],
   "source": [
    "arr = [9,6,3,90,60,20,40,80,30,10]\n",
    "result = show(arr,9)\n",
    "if result == 0:\n",
    "    print(\"element is not found\",result)\n",
    "else:\n",
    "    print(\"element is found\",result)"
   ]
  },
  {
   "cell_type": "code",
   "execution_count": 36,
   "metadata": {},
   "outputs": [],
   "source": [
    "class linear_search:\n",
    "\n",
    "    def __init__(self,arr, element):\n",
    "        self.arr = arr\n",
    "        self.element = element\n",
    "    def search(self):\n",
    "        for i in range(len(self.arr)):\n",
    "            if self.arr[i] == self.element:\n",
    "                return self.arr[i]\n",
    "        return \"no found\"\n",
    "\n",
    "\n"
   ]
  },
  {
   "cell_type": "code",
   "execution_count": 39,
   "metadata": {},
   "outputs": [
    {
     "data": {
      "text/plain": [
       "90"
      ]
     },
     "execution_count": 39,
     "metadata": {},
     "output_type": "execute_result"
    }
   ],
   "source": [
    "arr = [9,6,3,90,60,20,40,80,30,10]\n",
    "l = linear_search(arr,99)\n",
    "l.search()\n",
    "o = linear_search(arr, 90)\n",
    "o.search()"
   ]
  },
  {
   "cell_type": "code",
   "execution_count": 40,
   "metadata": {},
   "outputs": [],
   "source": [
    "class linear :\n",
    "    def __init__(self):\n",
    "        self.arr = []\n",
    "        self.element = None\n",
    "\n",
    "    def search(self):\n",
    "        for i in range(len(self.arr)):\n",
    "            if self.arr[i] == self.element:\n",
    "                return self.arr[i]\n",
    "        return \"element is not found\"\n"
   ]
  },
  {
   "cell_type": "code",
   "execution_count": 43,
   "metadata": {},
   "outputs": [
    {
     "data": {
      "text/plain": [
       "2"
      ]
     },
     "execution_count": 43,
     "metadata": {},
     "output_type": "execute_result"
    }
   ],
   "source": [
    "l = linear()\n",
    "l.arr = [9,6,3,5,8,7,4,2,5,9]\n",
    "l.element = 2\n",
    "l.search()"
   ]
  },
  {
   "cell_type": "code",
   "execution_count": 46,
   "metadata": {},
   "outputs": [],
   "source": [
    "class binary_search:\n",
    "  \n",
    "  def __init__(self,arr, element):\n",
    "    self.arr = arr\n",
    "    self.element = element\n",
    "    \n",
    "  def binary(self):\n",
    "    n = len(self.arr)\n",
    "    low = 0\n",
    "    high = n-1\n",
    "    while (low <= high):\n",
    "        mid = (low+high)//2\n",
    "        if self.arr[mid] == self.element:\n",
    "            return mid\n",
    "        elif self.arr[mid] < self.element:\n",
    "            low = mid+1\n",
    "        else:\n",
    "            high = mid-1\n",
    "    return 0\n",
    "\n",
    "\n",
    "      "
   ]
  },
  {
   "cell_type": "code",
   "execution_count": 47,
   "metadata": {},
   "outputs": [
    {
     "name": "stdout",
     "output_type": "stream",
     "text": [
      "0\n"
     ]
    }
   ],
   "source": [
    "\n",
    "obj = binary_search(arr,element)\n",
    "print(obj.binary())"
   ]
  },
  {
   "cell_type": "code",
   "execution_count": 50,
   "metadata": {},
   "outputs": [],
   "source": [
    "def binary_search9(arr , target):\n",
    "    n = len(arr)\n",
    "    low = 0\n",
    "    high = n-1\n",
    "    while(low<= high):\n",
    "        mid = (low+high)//2\n",
    "        if arr[mid] == target:\n",
    "            return mid\n",
    "        elif arr[mid] < target:\n",
    "            low = mid+1\n",
    "        else:\n",
    "            high = mid -1\n",
    "    return 0"
   ]
  },
  {
   "cell_type": "code",
   "execution_count": 52,
   "metadata": {},
   "outputs": [
    {
     "data": {
      "text/plain": [
       "0"
      ]
     },
     "execution_count": 52,
     "metadata": {},
     "output_type": "execute_result"
    }
   ],
   "source": [
    "binary_search9(arr,32)"
   ]
  },
  {
   "cell_type": "code",
   "execution_count": 53,
   "metadata": {},
   "outputs": [
    {
     "data": {
      "text/plain": [
       "10"
      ]
     },
     "execution_count": 53,
     "metadata": {},
     "output_type": "execute_result"
    }
   ],
   "source": [
    "binary_search9(arr,80)"
   ]
  },
  {
   "cell_type": "code",
   "execution_count": 57,
   "metadata": {},
   "outputs": [],
   "source": [
    "class binar_search10:\n",
    "    def __init__(self,arr , element):\n",
    "        self.arr = arr\n",
    "        self.element = element\n",
    "\n",
    "    def search(self):\n",
    "        n = len(self.arr)\n",
    "        low = 0\n",
    "        high = n-1\n",
    "        while(low <= high):\n",
    "            mid = (low+high)//2\n",
    "            if self.arr[mid] == self.element:\n",
    "                return mid\n",
    "            elif self.arr[mid] < self.element:\n",
    "                low = mid+1\n",
    "            else:\n",
    "                high = mid -1\n",
    "        return 0"
   ]
  },
  {
   "cell_type": "code",
   "execution_count": 65,
   "metadata": {},
   "outputs": [
    {
     "data": {
      "text/plain": [
       "4"
      ]
     },
     "execution_count": 65,
     "metadata": {},
     "output_type": "execute_result"
    }
   ],
   "source": [
    "arr = [9,6,3,10,50,90,60,20,40,30,80,22,33,56]\n",
    "hanuman = binar_search10(arr,50)\n",
    "hanuman.search()"
   ]
  },
  {
   "cell_type": "code",
   "execution_count": 66,
   "metadata": {},
   "outputs": [],
   "source": [
    "class node:\n",
    "\n",
    "    def __init__(self,data):\n",
    "        self.data = data\n",
    "        self.next = None"
   ]
  },
  {
   "cell_type": "code",
   "execution_count": 71,
   "metadata": {},
   "outputs": [],
   "source": [
    "class linkedlist:\n",
    "    def __init__(self):\n",
    "        self.head = None\n",
    "\n",
    "    def listprint(self):\n",
    "        temp = self.head\n",
    "        while (temp != None):\n",
    "            print(temp.data)\n",
    "            temp = temp.next\n",
    "\n"
   ]
  },
  {
   "cell_type": "code",
   "execution_count": 72,
   "metadata": {},
   "outputs": [
    {
     "name": "stdout",
     "output_type": "stream",
     "text": [
      "9\n",
      "6\n",
      "3\n"
     ]
    }
   ],
   "source": [
    "n_node = node(9)\n",
    "nn_node = node(6)\n",
    "nnn_node = node(3)\n",
    "linklist = linkedlist()\n",
    "linklist.head = n_node\n",
    "n_node.next = nn_node\n",
    "nn_node.next = nnn_node\n",
    "linklist.listprint()"
   ]
  },
  {
   "cell_type": "code",
   "execution_count": 76,
   "metadata": {},
   "outputs": [],
   "source": [
    "class node:\n",
    "\n",
    "    def __init__(self,elements):\n",
    "        self.elements = elements\n",
    "        self.link = None\n",
    "class link_list:\n",
    "    def __init__(self):\n",
    "        self.head = None"
   ]
  },
  {
   "cell_type": "code",
   "execution_count": 78,
   "metadata": {},
   "outputs": [
    {
     "data": {
      "text/plain": [
       "9"
      ]
     },
     "execution_count": 78,
     "metadata": {},
     "output_type": "execute_result"
    }
   ],
   "source": [
    "first = node(9)\n",
    "first.elements"
   ]
  },
  {
   "cell_type": "code",
   "execution_count": null,
   "metadata": {},
   "outputs": [],
   "source": []
  }
 ],
 "metadata": {
  "kernelspec": {
   "display_name": "Python 3.8.8 ('base')",
   "language": "python",
   "name": "python3"
  },
  "language_info": {
   "codemirror_mode": {
    "name": "ipython",
    "version": 3
   },
   "file_extension": ".py",
   "mimetype": "text/x-python",
   "name": "python",
   "nbconvert_exporter": "python",
   "pygments_lexer": "ipython3",
   "version": "3.8.8"
  },
  "orig_nbformat": 4,
  "vscode": {
   "interpreter": {
    "hash": "82adaca09b26f941339d497ab109b3479f090966e110972cd932eac4ae78641a"
   }
  }
 },
 "nbformat": 4,
 "nbformat_minor": 2
}
