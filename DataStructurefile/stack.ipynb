{
 "cells": [
  {
   "cell_type": "markdown",
   "metadata": {},
   "source": [
    "# stack is linear data structure follow the principal of last in - first out(LIFO)"
   ]
  },
  {
   "cell_type": "markdown",
   "metadata": {},
   "source": [
    "## Basic operation stack\n",
    "1. push\n",
    "2. pop\n",
    "3. isEmpty\n",
    "4. isFull\n",
    "5. peek "
   ]
  },
  {
   "cell_type": "code",
   "execution_count": 1,
   "metadata": {},
   "outputs": [],
   "source": [
    "def create():\n",
    "    stack = []\n",
    "    return stack"
   ]
  },
  {
   "cell_type": "code",
   "execution_count": 2,
   "metadata": {},
   "outputs": [],
   "source": [
    "def isEmpty(stack):\n",
    "    if len(stack) == 0:\n",
    "        return \"stack is empty\"\n",
    "    else:\n",
    "        return \"stack is full\""
   ]
  },
  {
   "cell_type": "code",
   "execution_count": 3,
   "metadata": {},
   "outputs": [],
   "source": [
    "def isFull(stack):\n",
    "    if len(stack) !=0:\n",
    "        return \"stack is full\"\n",
    "    return \"stack is empty\""
   ]
  },
  {
   "cell_type": "code",
   "execution_count": 4,
   "metadata": {},
   "outputs": [],
   "source": [
    "def peek(stack):\n",
    "    return stack[-1]"
   ]
  },
  {
   "cell_type": "code",
   "execution_count": 6,
   "metadata": {},
   "outputs": [],
   "source": [
    "def push(stack , item):\n",
    "    if isEmpty(stack):\n",
    "        stack.append(item)\n",
    "    return \"stack is full\""
   ]
  },
  {
   "cell_type": "code",
   "execution_count": 7,
   "metadata": {},
   "outputs": [],
   "source": [
    "def pop(stack):\n",
    "    if isFull(stack):\n",
    "        return stack.pop()\n",
    "    else:\n",
    "        return \"stack is empty\""
   ]
  },
  {
   "cell_type": "code",
   "execution_count": 8,
   "metadata": {},
   "outputs": [],
   "source": [
    "def display(stack):\n",
    "    print(\"elements in the stack\",stack)\n",
    "    return stack\n",
    "    "
   ]
  },
  {
   "cell_type": "code",
   "execution_count": 9,
   "metadata": {},
   "outputs": [
    {
     "name": "stdout",
     "output_type": "stream",
     "text": [
      "Enter the option 1.push ,2.pop, 3.display , 4.exit\n",
      "Enter the option 1.push ,2.pop, 3.display , 4.exit\n"
     ]
    }
   ],
   "source": [
    "while True:\n",
    "    print(\"Enter the option 1.push ,2.pop, 3.display , 4.exit\")\n",
    "    choice = input(\"Enter the choice\")\n",
    "    stack = create()\n",
    "    if choice == '1':\n",
    "        push(stack ,str(1))\n",
    "    elif choice == '2':\n",
    "        pop(stack)\n",
    "    elif choice == '3':\n",
    "        display()\n",
    "    else:\n",
    "        break"
   ]
  },
  {
   "cell_type": "code",
   "execution_count": 11,
   "metadata": {},
   "outputs": [
    {
     "name": "stdout",
     "output_type": "stream",
     "text": [
      "element is inserted.. ['9']\n",
      "stack is removed []\n"
     ]
    }
   ],
   "source": [
    "stack = create()\n",
    "push(stack, str(9))\n",
    "print(\"element is inserted..\",stack)\n",
    "pop(stack)\n",
    "print(\"stack is removed\",stack)"
   ]
  },
  {
   "cell_type": "markdown",
   "metadata": {},
   "source": [
    "# class based implementation on stack"
   ]
  },
  {
   "cell_type": "code",
   "execution_count": 55,
   "metadata": {},
   "outputs": [],
   "source": [
    "class stack:\n",
    "    \n",
    "    def __init__(self):\n",
    "        self.elements = []\n",
    "\n",
    "    def is_empty(self):\n",
    "        return len(self.elements) == 0\n",
    "    \n",
    "    def push(self,item):\n",
    "        self.elements.append(item)\n",
    "    \n",
    "    def peek(self):\n",
    "        return self.elements[-1]\n",
    "\n",
    "    def pop(self):\n",
    "        return self.elements.pop()\n",
    "    "
   ]
  },
  {
   "cell_type": "code",
   "execution_count": 56,
   "metadata": {},
   "outputs": [
    {
     "name": "stdout",
     "output_type": "stream",
     "text": [
      "True\n",
      "[9, 6, 3]\n",
      "top of the elements 3\n",
      "remove elements 3\n",
      "elements are present in a elements [9, 6]\n"
     ]
    }
   ],
   "source": [
    "st = stack()\n",
    "print(st.is_empty())\n",
    "st.push(9)\n",
    "st.push(6)\n",
    "st.push(3)\n",
    "print(st.elements)\n",
    "print(\"top of the elements\",st.peek())\n",
    "print(\"remove elements\",st.pop())\n",
    "print(\"elements are present in a elements\",st.elements)\n"
   ]
  },
  {
   "cell_type": "code",
   "execution_count": 45,
   "metadata": {},
   "outputs": [
    {
     "data": {
      "text/plain": [
       "[]"
      ]
     },
     "execution_count": 45,
     "metadata": {},
     "output_type": "execute_result"
    }
   ],
   "source": [
    "st.elements"
   ]
  },
  {
   "cell_type": "code",
   "execution_count": null,
   "metadata": {},
   "outputs": [],
   "source": []
  }
 ],
 "metadata": {
  "kernelspec": {
   "display_name": "Python 3.8.8 ('base')",
   "language": "python",
   "name": "python3"
  },
  "language_info": {
   "codemirror_mode": {
    "name": "ipython",
    "version": 3
   },
   "file_extension": ".py",
   "mimetype": "text/x-python",
   "name": "python",
   "nbconvert_exporter": "python",
   "pygments_lexer": "ipython3",
   "version": "3.8.8"
  },
  "orig_nbformat": 4,
  "vscode": {
   "interpreter": {
    "hash": "82adaca09b26f941339d497ab109b3479f090966e110972cd932eac4ae78641a"
   }
  }
 },
 "nbformat": 4,
 "nbformat_minor": 2
}
