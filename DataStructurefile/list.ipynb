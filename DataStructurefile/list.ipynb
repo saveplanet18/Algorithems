{
 "cells": [
  {
   "cell_type": "code",
   "execution_count": 1,
   "metadata": {},
   "outputs": [],
   "source": [
    "def creation():\n",
    "    arr = []\n",
    "    return arr"
   ]
  },
  {
   "cell_type": "code",
   "execution_count": 4,
   "metadata": {},
   "outputs": [
    {
     "name": "stdout",
     "output_type": "stream",
     "text": [
      "[]\n"
     ]
    }
   ],
   "source": [
    "if __name__ == \"__main__\":\n",
    "    arr = creation()\n",
    "    print(arr)"
   ]
  },
  {
   "cell_type": "code",
   "execution_count": 5,
   "metadata": {},
   "outputs": [],
   "source": [
    "def add(arr , item):\n",
    "    n = len(arr)\n",
    "    \n",
    "    return n\n"
   ]
  },
  {
   "cell_type": "code",
   "execution_count": 6,
   "metadata": {},
   "outputs": [
    {
     "data": {
      "text/plain": [
       "0"
      ]
     },
     "execution_count": 6,
     "metadata": {},
     "output_type": "execute_result"
    }
   ],
   "source": [
    "arr = []\n",
    "add(arr,9)"
   ]
  },
  {
   "cell_type": "code",
   "execution_count": 2,
   "metadata": {},
   "outputs": [],
   "source": [
    "def count(arr,x):\n",
    "    n = 0\n",
    "    for i in range(len(arr)):\n",
    "        n = n+1\n",
    "        if i == x:\n",
    "            return n\n"
   ]
  },
  {
   "cell_type": "code",
   "execution_count": 3,
   "metadata": {},
   "outputs": [
    {
     "data": {
      "text/plain": [
       "9"
      ]
     },
     "execution_count": 3,
     "metadata": {},
     "output_type": "execute_result"
    }
   ],
   "source": [
    "arr = [9,6,3,4,5,6,8,7,2,3,5,7]\n",
    "x = 8\n",
    "count(arr,x)"
   ]
  },
  {
   "cell_type": "code",
   "execution_count": 4,
   "metadata": {},
   "outputs": [],
   "source": [
    "def count(arr , x):\n",
    "    n = 0\n",
    "    for i in range(len(arr)):\n",
    "        if i == x:\n",
    "            n = n+1\n",
    "    return n"
   ]
  },
  {
   "cell_type": "code",
   "execution_count": 7,
   "metadata": {},
   "outputs": [
    {
     "data": {
      "text/plain": [
       "1"
      ]
     },
     "execution_count": 7,
     "metadata": {},
     "output_type": "execute_result"
    }
   ],
   "source": [
    "count(arr,6)"
   ]
  },
  {
   "cell_type": "code",
   "execution_count": 32,
   "metadata": {},
   "outputs": [],
   "source": [
    "def show(arr , x):\n",
    "    count = 0\n",
    "    for i in range(len(arr)):\n",
    "        if i == x:\n",
    "            count = count+x\n",
    "    return count"
   ]
  },
  {
   "cell_type": "code",
   "execution_count": 33,
   "metadata": {},
   "outputs": [
    {
     "data": {
      "text/plain": [
       "4"
      ]
     },
     "execution_count": 33,
     "metadata": {},
     "output_type": "execute_result"
    }
   ],
   "source": [
    "\n",
    "show(arr,4)"
   ]
  },
  {
   "cell_type": "code",
   "execution_count": 37,
   "metadata": {},
   "outputs": [],
   "source": [
    "def result(arr ,x):\n",
    "    count = 0\n",
    "    for i in range(len(arr)):\n",
    "        if arr[i] == x:\n",
    "            count = count+1\n",
    "    return count"
   ]
  },
  {
   "cell_type": "code",
   "execution_count": 39,
   "metadata": {},
   "outputs": [],
   "source": [
    "arr = [9,6,3,4,5,7,8,6,2,1,4,7,8,5,6,9,5,4,8,3,2,5,6,8,9,8,5,6,3,2,1,5,4,7,8,9]"
   ]
  },
  {
   "cell_type": "code",
   "execution_count": 42,
   "metadata": {},
   "outputs": [
    {
     "name": "stdout",
     "output_type": "stream",
     "text": [
      "3\n",
      "5\n",
      "4\n",
      "2\n"
     ]
    }
   ],
   "source": [
    "print(result(arr,3))\n",
    "print(result(arr,6))\n",
    "print(result(arr, 9))\n",
    "print(result(arr , 1))"
   ]
  },
  {
   "cell_type": "code",
   "execution_count": 43,
   "metadata": {},
   "outputs": [],
   "source": [
    "def begin(arr ,x):\n",
    "    return [x]+arr"
   ]
  },
  {
   "cell_type": "code",
   "execution_count": 44,
   "metadata": {},
   "outputs": [
    {
     "data": {
      "text/plain": [
       "[6, 9, 6, 3]"
      ]
     },
     "execution_count": 44,
     "metadata": {},
     "output_type": "execute_result"
    }
   ],
   "source": [
    "arr = [9,6,3]\n",
    "begin(arr,6)"
   ]
  },
  {
   "cell_type": "code",
   "execution_count": 47,
   "metadata": {},
   "outputs": [],
   "source": [
    "def show(arr):\n",
    "    upper = int *None\n",
    "    lower = 0\n",
    "    number = upper-lower+1\n",
    "    print(number)\n"
   ]
  },
  {
   "cell_type": "code",
   "execution_count": 58,
   "metadata": {},
   "outputs": [],
   "source": [
    "def at_end(arr ,x):\n",
    "    res = arr+[x]\n",
    "    return res"
   ]
  },
  {
   "cell_type": "code",
   "execution_count": 59,
   "metadata": {},
   "outputs": [
    {
     "data": {
      "text/plain": [
       "[9, 6, 3, 9]"
      ]
     },
     "execution_count": 59,
     "metadata": {},
     "output_type": "execute_result"
    }
   ],
   "source": [
    "arr = [9,6,3]\n",
    "at_end(arr,9)"
   ]
  },
  {
   "cell_type": "code",
   "execution_count": 64,
   "metadata": {},
   "outputs": [
    {
     "data": {
      "text/plain": [
       "True"
      ]
     },
     "execution_count": 64,
     "metadata": {},
     "output_type": "execute_result"
    }
   ],
   "source": [
    "stack = []\n",
    "len(stack) == 0"
   ]
  },
  {
   "cell_type": "code",
   "execution_count": 65,
   "metadata": {},
   "outputs": [
    {
     "data": {
      "text/plain": [
       "True"
      ]
     },
     "execution_count": 65,
     "metadata": {},
     "output_type": "execute_result"
    }
   ],
   "source": [
    "not stack"
   ]
  },
  {
   "cell_type": "code",
   "execution_count": 66,
   "metadata": {},
   "outputs": [],
   "source": [
    "def create():\n",
    "    stack = []\n",
    "    return stack"
   ]
  },
  {
   "cell_type": "code",
   "execution_count": 69,
   "metadata": {},
   "outputs": [],
   "source": [
    "def push():\n",
    "    element = input(\"enter the element\")\n",
    "    stack = create()\n",
    "    res = stack.append(element)\n",
    "    return res"
   ]
  },
  {
   "cell_type": "code",
   "execution_count": 70,
   "metadata": {},
   "outputs": [],
   "source": [
    "def popshow():\n",
    "    stack = create()\n",
    "    if len(stack) == 0:\n",
    "        return \"stack is empty\"\n",
    "    else:\n",
    "        return stack.pop()"
   ]
  },
  {
   "cell_type": "code",
   "execution_count": 74,
   "metadata": {},
   "outputs": [
    {
     "name": "stdout",
     "output_type": "stream",
     "text": [
      "enter the operation 1.push,2.pop,3.exit,4.display\n",
      "enter the operation 1.push,2.pop,3.exit,4.display\n",
      "enter the operation 1.push,2.pop,3.exit,4.display\n",
      "enter the operation 1.push,2.pop,3.exit,4.display\n",
      "all elements are displayed here []\n",
      "enter the operation 1.push,2.pop,3.exit,4.display\n"
     ]
    }
   ],
   "source": [
    "while True:\n",
    "    print(\"enter the operation 1.push,2.pop,3.exit,4.display\")\n",
    "    chioce = int(input(\"Enter the first operation..\"))\n",
    "    if chioce == 1:\n",
    "        push()\n",
    "    elif chioce == 2:\n",
    "        popshow()\n",
    "    elif chioce == 4:\n",
    "        display()\n",
    "    else:\n",
    "            break\n"
   ]
  },
  {
   "cell_type": "code",
   "execution_count": 73,
   "metadata": {},
   "outputs": [],
   "source": [
    "def display():\n",
    "    stack = create()\n",
    "    print(\"all elements are displayed here\",stack)\n",
    "    "
   ]
  },
  {
   "cell_type": "code",
   "execution_count": 81,
   "metadata": {},
   "outputs": [
    {
     "name": "stdout",
     "output_type": "stream",
     "text": [
      "Enter operation 1.ninetimes, 2.six times,3.three_time, 4.exit\n",
      "6\n",
      "9\n",
      "3\n",
      "Enter operation 1.ninetimes, 2.six times,3.three_time, 4.exit\n",
      "4\n",
      "1\n",
      "2\n",
      "Enter operation 1.ninetimes, 2.six times,3.three_time, 4.exit\n",
      "\n",
      "\n",
      "\n",
      "Enter operation 1.ninetimes, 2.six times,3.three_time, 4.exit\n"
     ]
    },
    {
     "ename": "ValueError",
     "evalue": "invalid literal for int() with base 10: ''",
     "output_type": "error",
     "traceback": [
      "\u001b[1;31m---------------------------------------------------------------------------\u001b[0m",
      "\u001b[1;31mValueError\u001b[0m                                Traceback (most recent call last)",
      "\u001b[1;32m<ipython-input-81-3f2d0ffbd070>\u001b[0m in \u001b[0;36m<module>\u001b[1;34m\u001b[0m\n\u001b[0;32m      1\u001b[0m \u001b[1;32mwhile\u001b[0m \u001b[1;32mTrue\u001b[0m\u001b[1;33m:\u001b[0m\u001b[1;33m\u001b[0m\u001b[1;33m\u001b[0m\u001b[0m\n\u001b[0;32m      2\u001b[0m     \u001b[0mprint\u001b[0m\u001b[1;33m(\u001b[0m\u001b[1;34m\"Enter operation 1.ninetimes, 2.six times,3.three_time, 4.exit\"\u001b[0m\u001b[1;33m)\u001b[0m\u001b[1;33m\u001b[0m\u001b[1;33m\u001b[0m\u001b[0m\n\u001b[1;32m----> 3\u001b[1;33m     \u001b[0mchoice\u001b[0m \u001b[1;33m=\u001b[0m \u001b[0mint\u001b[0m\u001b[1;33m(\u001b[0m\u001b[0minput\u001b[0m\u001b[1;33m(\u001b[0m\u001b[1;34m\"enter the opeartion\"\u001b[0m\u001b[1;33m)\u001b[0m\u001b[1;33m)\u001b[0m\u001b[1;33m\u001b[0m\u001b[1;33m\u001b[0m\u001b[0m\n\u001b[0m\u001b[0;32m      4\u001b[0m     \u001b[1;32mif\u001b[0m \u001b[0mchoice\u001b[0m \u001b[1;33m==\u001b[0m \u001b[1;36m1\u001b[0m\u001b[1;33m:\u001b[0m\u001b[1;33m\u001b[0m\u001b[1;33m\u001b[0m\u001b[0m\n\u001b[0;32m      5\u001b[0m         \u001b[1;32mfor\u001b[0m \u001b[0mi\u001b[0m \u001b[1;32min\u001b[0m \u001b[0mrange\u001b[0m\u001b[1;33m(\u001b[0m\u001b[1;36m9\u001b[0m\u001b[1;33m)\u001b[0m\u001b[1;33m:\u001b[0m\u001b[1;33m\u001b[0m\u001b[1;33m\u001b[0m\u001b[0m\n",
      "\u001b[1;31mValueError\u001b[0m: invalid literal for int() with base 10: ''"
     ]
    }
   ],
   "source": [
    "while True:\n",
    "    print(\"Enter operation 1.ninetimes, 2.six times,3.three_time, 4.exit\")\n",
    "    choice = int(input(\"enter the opeartion\"))\n",
    "    if choice == 1:\n",
    "        for i in range(9):\n",
    "            nine = input(i)\n",
    "            print(nine)\n",
    "    elif chioce == 2:\n",
    "        for i in range(6):\n",
    "            six = input(i)\n",
    "    elif chioce == 3:\n",
    "        for i in range(3):\n",
    "            three = input(i)\n",
    "            print(three)\n",
    "    elif choice == 4:\n",
    "        break\n",
    "    else:\n",
    "        print(\"enter the correct opeation\")"
   ]
  },
  {
   "cell_type": "code",
   "execution_count": 80,
   "metadata": {},
   "outputs": [
    {
     "name": "stdout",
     "output_type": "stream",
     "text": [
      "0\n",
      "1\n",
      "2\n",
      "something\n"
     ]
    }
   ],
   "source": [
    "while True:\n",
    "    choice = int(input(\"enter the elements\"))\n",
    "    for i in range(choice):\n",
    "        print(i)\n",
    "    print(\"something\")\n",
    "    break"
   ]
  },
  {
   "cell_type": "code",
   "execution_count": 82,
   "metadata": {},
   "outputs": [],
   "source": [
    "stack = []"
   ]
  },
  {
   "cell_type": "code",
   "execution_count": 83,
   "metadata": {},
   "outputs": [],
   "source": [
    "def pushshow():\n",
    "    element = input(\"enter the elements\")\n",
    "    res = stack.append(element)\n",
    "    return res"
   ]
  },
  {
   "cell_type": "code",
   "execution_count": 84,
   "metadata": {},
   "outputs": [],
   "source": [
    "def popshow():\n",
    "    if not stack:\n",
    "        print(\"stack is emtpy\")\n",
    "    else:\n",
    "        return stack.pop()"
   ]
  },
  {
   "cell_type": "code",
   "execution_count": 85,
   "metadata": {},
   "outputs": [],
   "source": [
    "def display():\n",
    "    return stack"
   ]
  },
  {
   "cell_type": "code",
   "execution_count": 87,
   "metadata": {},
   "outputs": [
    {
     "name": "stdout",
     "output_type": "stream",
     "text": [
      "enter the operation 1.push,2.pop,3.display,4.exit\n",
      "enter valid inputs\n",
      "enter the operation 1.push,2.pop,3.display,4.exit\n",
      "enter valid inputs\n",
      "enter the operation 1.push,2.pop,3.display,4.exit\n",
      "enter valid inputs\n",
      "enter the operation 1.push,2.pop,3.display,4.exit\n",
      "enter valid inputs\n",
      "enter the operation 1.push,2.pop,3.display,4.exit\n",
      "enter valid inputs\n",
      "enter the operation 1.push,2.pop,3.display,4.exit\n"
     ]
    },
    {
     "ename": "ValueError",
     "evalue": "invalid literal for int() with base 10: ''",
     "output_type": "error",
     "traceback": [
      "\u001b[1;31m---------------------------------------------------------------------------\u001b[0m",
      "\u001b[1;31mValueError\u001b[0m                                Traceback (most recent call last)",
      "\u001b[1;32m<ipython-input-87-d4657f054792>\u001b[0m in \u001b[0;36m<module>\u001b[1;34m\u001b[0m\n\u001b[0;32m      1\u001b[0m \u001b[1;32mwhile\u001b[0m \u001b[1;32mTrue\u001b[0m\u001b[1;33m:\u001b[0m\u001b[1;33m\u001b[0m\u001b[1;33m\u001b[0m\u001b[0m\n\u001b[0;32m      2\u001b[0m     \u001b[0mprint\u001b[0m\u001b[1;33m(\u001b[0m\u001b[1;34m\"enter the operation 1.push,2.pop,3.display,4.exit\"\u001b[0m\u001b[1;33m)\u001b[0m\u001b[1;33m\u001b[0m\u001b[1;33m\u001b[0m\u001b[0m\n\u001b[1;32m----> 3\u001b[1;33m     \u001b[0mchoice\u001b[0m \u001b[1;33m=\u001b[0m \u001b[0mint\u001b[0m\u001b[1;33m(\u001b[0m\u001b[0minput\u001b[0m\u001b[1;33m(\u001b[0m\u001b[1;34m\"Enter the opeation\"\u001b[0m\u001b[1;33m)\u001b[0m\u001b[1;33m)\u001b[0m\u001b[1;33m\u001b[0m\u001b[1;33m\u001b[0m\u001b[0m\n\u001b[0m\u001b[0;32m      4\u001b[0m     \u001b[1;32mif\u001b[0m \u001b[0mchoice\u001b[0m \u001b[1;33m==\u001b[0m \u001b[1;34m'1'\u001b[0m\u001b[1;33m:\u001b[0m\u001b[1;33m\u001b[0m\u001b[1;33m\u001b[0m\u001b[0m\n\u001b[0;32m      5\u001b[0m         \u001b[0mpushshow\u001b[0m\u001b[1;33m(\u001b[0m\u001b[1;33m)\u001b[0m\u001b[1;33m\u001b[0m\u001b[1;33m\u001b[0m\u001b[0m\n",
      "\u001b[1;31mValueError\u001b[0m: invalid literal for int() with base 10: ''"
     ]
    }
   ],
   "source": [
    "while True:\n",
    "    print(\"enter the operation 1.push,2.pop,3.display,4.exit\")\n",
    "    choice = int(input(\"Enter the opeation\"))\n",
    "    if choice == '1':\n",
    "        pushshow()\n",
    "    elif choice == '2':\n",
    "        popshow()\n",
    "    elif choice == '3':\n",
    "        display()\n",
    "    elif chioce == '4':\n",
    "        break\n",
    "    else:\n",
    "        print(\"enter valid inputs\")"
   ]
  },
  {
   "cell_type": "code",
   "execution_count": null,
   "metadata": {},
   "outputs": [],
   "source": []
  }
 ],
 "metadata": {
  "kernelspec": {
   "display_name": "Python 3.8.8 ('base')",
   "language": "python",
   "name": "python3"
  },
  "language_info": {
   "codemirror_mode": {
    "name": "ipython",
    "version": 3
   },
   "file_extension": ".py",
   "mimetype": "text/x-python",
   "name": "python",
   "nbconvert_exporter": "python",
   "pygments_lexer": "ipython3",
   "version": "3.8.8"
  },
  "orig_nbformat": 4,
  "vscode": {
   "interpreter": {
    "hash": "82adaca09b26f941339d497ab109b3479f090966e110972cd932eac4ae78641a"
   }
  }
 },
 "nbformat": 4,
 "nbformat_minor": 2
}
