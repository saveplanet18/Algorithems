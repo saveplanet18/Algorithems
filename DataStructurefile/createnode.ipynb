{
 "cells": [
  {
   "cell_type": "code",
   "execution_count": 1,
   "metadata": {},
   "outputs": [],
   "source": [
    "arr = [9,6,3,18,27,45,81,36]\n",
    "class Node:\n",
    "    def __init__(self,elements) -> arr:\n",
    "        self.elements = elements\n",
    "        self.next = None\n"
   ]
  },
  {
   "cell_type": "code",
   "execution_count": 3,
   "metadata": {},
   "outputs": [
    {
     "name": "stdout",
     "output_type": "stream",
     "text": [
      "9\n",
      "None\n"
     ]
    }
   ],
   "source": [
    "node = Node(9)\n",
    "print(node.elements)\n",
    "print(node.next)"
   ]
  },
  {
   "cell_type": "code",
   "execution_count": 4,
   "metadata": {},
   "outputs": [],
   "source": [
    "class another:\n",
    "\n",
    "    def __init__(self):\n",
    "        self.head = None\n",
    "        "
   ]
  },
  {
   "cell_type": "code",
   "execution_count": 8,
   "metadata": {},
   "outputs": [],
   "source": [
    "linkedlist = another()\n",
    "linkedlist.head = Node(9)\n",
    "firstnode = Node(6)\n",
    "thirdnode = Node(3)"
   ]
  },
  {
   "cell_type": "code",
   "execution_count": 9,
   "metadata": {},
   "outputs": [],
   "source": [
    "# connecting the nodes\n",
    "linkedlist.head.next = firstnode\n",
    "firstnode.next = thirdnode"
   ]
  },
  {
   "cell_type": "code",
   "execution_count": 14,
   "metadata": {},
   "outputs": [],
   "source": [
    "while(linkedlist.head != None):\n",
    "    print(linkedlist.head.elements,end='')\n",
    "    linkedlist.head = linkedlist.head.next"
   ]
  },
  {
   "cell_type": "code",
   "execution_count": 1,
   "metadata": {},
   "outputs": [],
   "source": [
    "class Node:\n",
    "\n",
    "    def __init__(self,elements):\n",
    "        self.elements = elements\n",
    "        self.next = None\n",
    "\n",
    "class link:\n",
    "\n",
    "    def __init__(self):\n",
    "        self.head = None\n"
   ]
  },
  {
   "cell_type": "code",
   "execution_count": 3,
   "metadata": {},
   "outputs": [
    {
     "name": "stdout",
     "output_type": "stream",
     "text": [
      "9\n",
      "6\n",
      "3\n"
     ]
    }
   ],
   "source": [
    "make = link()\n",
    "one = Node(9)\n",
    "two = Node(6)\n",
    "three = Node(3)\n",
    "\n",
    "# connecting nodes\n",
    "make.head = one\n",
    "one.next = two\n",
    "two.next = three\n",
    "\n",
    "# display the node\n",
    "while(make.head !=None):\n",
    "    print(make.head.elements)\n",
    "    make.head = make.head.next\n"
   ]
  },
  {
   "cell_type": "code",
   "execution_count": 4,
   "metadata": {},
   "outputs": [],
   "source": [
    "from tkinter import N\n",
    "\n",
    "\n",
    "class Node1:\n",
    "\n",
    "    def __init__(self,elements):\n",
    "        self.elements = elements\n",
    "\n",
    "        # next pointer\n",
    "        self.next = None\n",
    "\n",
    "class link1:\n",
    "    \n",
    "    def __init__(self):\n",
    "        self.head = None"
   ]
  },
  {
   "cell_type": "code",
   "execution_count": 5,
   "metadata": {},
   "outputs": [
    {
     "name": "stdout",
     "output_type": "stream",
     "text": [
      "9\n",
      "6\n",
      "3\n"
     ]
    }
   ],
   "source": [
    "l = link1()\n",
    "n = Node1(9)\n",
    "n2 = Node1(6)\n",
    "n3 = Node1(3)\n",
    "\n",
    "\n",
    "# conneted nodes\n",
    "l.head = n\n",
    "n.next = n2\n",
    "n2.next = n3\n",
    "\n",
    "# display the nodes\n",
    "while(l.head != None):\n",
    "    print(l.head.elements)\n",
    "    l.head = l.head.next"
   ]
  },
  {
   "cell_type": "code",
   "execution_count": 6,
   "metadata": {},
   "outputs": [],
   "source": [
    "n = 6\n",
    "mylist = []\n",
    "for i in range(3,n):\n",
    "    mylist.append(i)"
   ]
  },
  {
   "cell_type": "code",
   "execution_count": 7,
   "metadata": {},
   "outputs": [
    {
     "data": {
      "text/plain": [
       "[3, 4, 5]"
      ]
     },
     "execution_count": 7,
     "metadata": {},
     "output_type": "execute_result"
    }
   ],
   "source": [
    "mylist"
   ]
  },
  {
   "cell_type": "code",
   "execution_count": 8,
   "metadata": {},
   "outputs": [],
   "source": [
    "arr = [9,6,3,18,27,24,45,51,21,81]\n",
    "mylist = []"
   ]
  },
  {
   "cell_type": "code",
   "execution_count": 10,
   "metadata": {},
   "outputs": [
    {
     "name": "stdout",
     "output_type": "stream",
     "text": [
      "9\n",
      "6\n",
      "3\n",
      "18\n",
      "27\n",
      "24\n",
      "45\n",
      "51\n",
      "21\n",
      "81\n"
     ]
    }
   ],
   "source": [
    "for i in range(len(arr)):\n",
    "    print(arr[i])\n"
   ]
  },
  {
   "cell_type": "code",
   "execution_count": null,
   "metadata": {},
   "outputs": [],
   "source": []
  }
 ],
 "metadata": {
  "kernelspec": {
   "display_name": "Python 3.8.8 ('base')",
   "language": "python",
   "name": "python3"
  },
  "language_info": {
   "codemirror_mode": {
    "name": "ipython",
    "version": 3
   },
   "file_extension": ".py",
   "mimetype": "text/x-python",
   "name": "python",
   "nbconvert_exporter": "python",
   "pygments_lexer": "ipython3",
   "version": "3.8.8"
  },
  "orig_nbformat": 4,
  "vscode": {
   "interpreter": {
    "hash": "82adaca09b26f941339d497ab109b3479f090966e110972cd932eac4ae78641a"
   }
  }
 },
 "nbformat": 4,
 "nbformat_minor": 2
}
