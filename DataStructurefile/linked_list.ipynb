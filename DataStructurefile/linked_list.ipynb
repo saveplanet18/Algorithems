{
 "cells": [
  {
   "cell_type": "code",
   "execution_count": 9,
   "metadata": {},
   "outputs": [
    {
     "name": "stdout",
     "output_type": "stream",
     "text": [
      "9\n",
      "6\n"
     ]
    }
   ],
   "source": [
    "class node :\n",
    "    def __init__(self,data):\n",
    "        self.data = data\n",
    "        self.next = None\n",
    "\n",
    "class linkedlist:\n",
    "    def __init__(self):\n",
    "        self.head = None\n",
    "\n",
    "\n",
    "object = linkedlist()\n",
    "object.head = node(9)\n",
    "show = node(6)\n",
    "\n",
    "#connect nodes\n",
    "object.head.next = show\n",
    "\n",
    "while(object.head!= None):\n",
    "    print(object.head.data)\n",
    "    object.head = object.head.next"
   ]
  },
  {
   "cell_type": "code",
   "execution_count": 14,
   "metadata": {},
   "outputs": [],
   "source": [
    "class node:\n",
    "    def __init__(self,item):\n",
    "        self.item = item\n",
    "        self.next = None\n",
    "\n",
    "class link:\n",
    "    def __init__(self):\n",
    "        self.head = None        "
   ]
  },
  {
   "cell_type": "code",
   "execution_count": 15,
   "metadata": {},
   "outputs": [
    {
     "name": "stdout",
     "output_type": "stream",
     "text": [
      "9,6,3,"
     ]
    }
   ],
   "source": [
    "obj = link()\n",
    "obj.head = node(9)\n",
    "one = node(6)\n",
    "two = node(3)\n",
    "\n",
    "obj.head.next = one\n",
    "one.next = two\n",
    "\n",
    "while(obj.head != None):\n",
    "    print(obj.head.item , end=\",\")\n",
    "    obj.head = obj.head.next"
   ]
  },
  {
   "cell_type": "code",
   "execution_count": 16,
   "metadata": {},
   "outputs": [],
   "source": [
    "class something:\n",
    "    def __init__(self, add):\n",
    "        self.add = add\n",
    "        self.next = None\n",
    "\n",
    "class listway:\n",
    "    def __init__(self):\n",
    "        self.head = None\n",
    "        "
   ]
  },
  {
   "cell_type": "code",
   "execution_count": 17,
   "metadata": {},
   "outputs": [
    {
     "name": "stdout",
     "output_type": "stream",
     "text": [
      "963"
     ]
    }
   ],
   "source": [
    "object = listway()\n",
    "\n",
    "#initilize the object here\n",
    "object.head = something(9)\n",
    "new = something(6)\n",
    "addnew = something(3)\n",
    "\n",
    "#connect nodes\n",
    "\n",
    "object.head.next = new\n",
    "new.next = addnew\n",
    "\n",
    "temp = object.head\n",
    "\n",
    "while(temp != None):\n",
    "    print(temp.add ,end =\"\")\n",
    "    temp = temp.next"
   ]
  },
  {
   "cell_type": "code",
   "execution_count": 8,
   "metadata": {},
   "outputs": [],
   "source": [
    "def linkedlist(data , next):\n",
    "    head = None\n",
    "    tail = None\n",
    "    if (head == None):\n",
    "        head = data\n",
    "        tail = data\n",
    "    else:\n",
    "        tail= next\n",
    "        next = tail\n",
    "        tail = data\n"
   ]
  },
  {
   "cell_type": "code",
   "execution_count": 9,
   "metadata": {},
   "outputs": [],
   "source": [
    "arr = [9]\n",
    "linkedlist(arr, 6)"
   ]
  },
  {
   "cell_type": "code",
   "execution_count": 10,
   "metadata": {},
   "outputs": [
    {
     "data": {
      "text/plain": [
       "[9]"
      ]
     },
     "execution_count": 10,
     "metadata": {},
     "output_type": "execute_result"
    }
   ],
   "source": [
    "arr"
   ]
  },
  {
   "cell_type": "code",
   "execution_count": 11,
   "metadata": {},
   "outputs": [],
   "source": [
    "class Node:\n",
    "\n",
    "    def __init__(self, data):\n",
    "        self.data = data\n",
    "        self.next = None\n"
   ]
  },
  {
   "cell_type": "code",
   "execution_count": 15,
   "metadata": {},
   "outputs": [],
   "source": [
    "n = Node(9)\n",
    "one = Node(6)\n",
    "thre = Node(3)"
   ]
  },
  {
   "cell_type": "code",
   "execution_count": 16,
   "metadata": {},
   "outputs": [],
   "source": [
    "one.next = thre"
   ]
  },
  {
   "cell_type": "code",
   "execution_count": 17,
   "metadata": {},
   "outputs": [
    {
     "data": {
      "text/plain": [
       "<__main__.Node at 0x2996b643a60>"
      ]
     },
     "execution_count": 17,
     "metadata": {},
     "output_type": "execute_result"
    }
   ],
   "source": [
    "n"
   ]
  },
  {
   "cell_type": "code",
   "execution_count": 19,
   "metadata": {},
   "outputs": [
    {
     "data": {
      "text/plain": [
       "9"
      ]
     },
     "execution_count": 19,
     "metadata": {},
     "output_type": "execute_result"
    }
   ],
   "source": [
    "n.data"
   ]
  },
  {
   "cell_type": "code",
   "execution_count": 20,
   "metadata": {},
   "outputs": [
    {
     "data": {
      "text/plain": [
       "6"
      ]
     },
     "execution_count": 20,
     "metadata": {},
     "output_type": "execute_result"
    }
   ],
   "source": [
    "one.data"
   ]
  },
  {
   "cell_type": "code",
   "execution_count": 22,
   "metadata": {},
   "outputs": [],
   "source": [
    "class Node:\n",
    "    def __init__(self,data):\n",
    "        self.data = data\n",
    "        # next pointer \n",
    "\n",
    "        self.next = None\n",
    "        "
   ]
  },
  {
   "cell_type": "code",
   "execution_count": 23,
   "metadata": {},
   "outputs": [],
   "source": [
    "node = Node(9)\n"
   ]
  },
  {
   "cell_type": "code",
   "execution_count": 24,
   "metadata": {},
   "outputs": [
    {
     "data": {
      "text/plain": [
       "9"
      ]
     },
     "execution_count": 24,
     "metadata": {},
     "output_type": "execute_result"
    }
   ],
   "source": [
    "node.data"
   ]
  },
  {
   "cell_type": "code",
   "execution_count": 25,
   "metadata": {},
   "outputs": [],
   "source": [
    "class linkedlist:\n",
    "\n",
    "    def __init__(self):\n",
    "        self.head = None"
   ]
  },
  {
   "cell_type": "code",
   "execution_count": 1,
   "metadata": {},
   "outputs": [],
   "source": [
    "def creation():\n",
    "    stack = []\n",
    "    return stack"
   ]
  },
  {
   "cell_type": "code",
   "execution_count": 2,
   "metadata": {},
   "outputs": [],
   "source": [
    "def push(stack,item):\n",
    "    stack.append(item)\n",
    "    return stack\n"
   ]
  },
  {
   "cell_type": "code",
   "execution_count": 3,
   "metadata": {},
   "outputs": [],
   "source": [
    "def peek(stack):\n",
    "    return stack[-1]\n",
    "    "
   ]
  },
  {
   "cell_type": "code",
   "execution_count": 4,
   "metadata": {},
   "outputs": [],
   "source": [
    "def is_empty(stack):\n",
    "    if len(stack) == 0:\n",
    "        return stack\n",
    "    return \"stack is full\""
   ]
  },
  {
   "cell_type": "code",
   "execution_count": 5,
   "metadata": {},
   "outputs": [],
   "source": [
    "def pop(stack):\n",
    "    if len(stack) != 0:\n",
    "        return stack.pop()\n",
    "    return \"stack is empty\""
   ]
  },
  {
   "cell_type": "code",
   "execution_count": 7,
   "metadata": {},
   "outputs": [
    {
     "name": "stdout",
     "output_type": "stream",
     "text": [
      "display empty list\n",
      "['9']\n",
      "stack is full\n",
      "9\n",
      "9\n"
     ]
    }
   ],
   "source": [
    "# while True:\n",
    "#     print(\"select the operation 1.push 2.pop 3.display 4.exit \")\n",
    "#     choice = input(\"enter the operation\")\n",
    "#     stack = creation()\n",
    "#     if choice == '1':\n",
    "#         push(stack,)\n",
    "\n",
    "stack = creation()\n",
    "print(\"display empty list\")\n",
    "print(push(stack,str(9)))\n",
    "print(is_empty(stack))\n",
    "print(peek(stack))\n",
    "print(pop(stack))\n",
    "\n"
   ]
  },
  {
   "cell_type": "code",
   "execution_count": 16,
   "metadata": {},
   "outputs": [],
   "source": [
    "class stack:\n",
    "\n",
    "    def __init__(self):\n",
    "        self.st = []\n",
    "    \n",
    "    def is_empty1(self):\n",
    "        return self.st == 0\n",
    "    \n",
    "    def push1(self,item):\n",
    "        \n",
    "        return self.st.append(item)\n",
    "     \n",
    "    \n",
    "    def peek1(self):\n",
    "        return self.st[-1]\n",
    "\n",
    "    def pop1(self):\n",
    "        if self.st != 0:\n",
    "            return self.st.pop()\n",
    "        return \"stack is empty\"\n"
   ]
  },
  {
   "cell_type": "code",
   "execution_count": 17,
   "metadata": {},
   "outputs": [
    {
     "name": "stdout",
     "output_type": "stream",
     "text": [
      "False\n",
      "None\n"
     ]
    }
   ],
   "source": [
    "store = stack()\n",
    "print(store.is_empty1())\n",
    "store.push1(6)\n",
    "store.push1(3)\n",
    "print(store.push1(str(9)))\n",
    "# print(store.peek1())\n",
    "# print(store.pop1())"
   ]
  },
  {
   "cell_type": "code",
   "execution_count": 33,
   "metadata": {},
   "outputs": [],
   "source": [
    "class stak:\n",
    "\n",
    "    def __init__(self):\n",
    "\n",
    "        self.data = []\n",
    "    \n",
    "    def is_empty1(self):\n",
    "        return self.data == 0\n",
    "\n",
    "    def push1(self,item):\n",
    "        return self.data.append(item)\n",
    "\n",
    "    def dis(self):\n",
    "        return self.data"
   ]
  },
  {
   "cell_type": "code",
   "execution_count": 35,
   "metadata": {},
   "outputs": [],
   "source": [
    "st = stack()\n",
    "st.is_empty1()\n",
    "st.push1(9)\n",
    "st.push1(6)\n",
    "st.push1(3)\n"
   ]
  },
  {
   "cell_type": "code",
   "execution_count": 54,
   "metadata": {},
   "outputs": [],
   "source": [
    "class Stack:\n",
    "    # create constructor \n",
    "    def __init__(self):\n",
    "        self.elements = []\n",
    "\n",
    "    def empty(self):\n",
    "        return len(self.elements) == 0\n",
    "        \n",
    "    def push(self,item):\n",
    "        if self.elements == 0:\n",
    "            return \"stack is empty\"\n",
    "        return self.elements.append(item)\n",
    "\n",
    "    def peek1(self):\n",
    "        return self.elements[-1]\n",
    "\n",
    "    def pop1(self):\n",
    "        if self.elements !=0:\n",
    "            return self.elements.pop()\n",
    "        return \"stack is full\"\n",
    "\n",
    "    def dispay(self):\n",
    "        return self.elements\n",
    "        \n",
    "    "
   ]
  },
  {
   "cell_type": "code",
   "execution_count": 55,
   "metadata": {},
   "outputs": [
    {
     "name": "stdout",
     "output_type": "stream",
     "text": [
      "3\n",
      "3\n"
     ]
    },
    {
     "data": {
      "text/plain": [
       "False"
      ]
     },
     "execution_count": 55,
     "metadata": {},
     "output_type": "execute_result"
    }
   ],
   "source": [
    "small = Stack()\n",
    "small.push(9)\n",
    "small.push(6)\n",
    "small.push(3)\n",
    "small.elements\n",
    "print(small.peek1())\n",
    "print(small.pop1())\n",
    "small.dispay()\n",
    "small.empty()\n",
    "\n"
   ]
  },
  {
   "cell_type": "code",
   "execution_count": 58,
   "metadata": {},
   "outputs": [
    {
     "name": "stdout",
     "output_type": "stream",
     "text": [
      "[[9, 6, 3]]\n"
     ]
    }
   ],
   "source": [
    "mylist = [[9,6,3],[3,6,9]]\n",
    "mylist.pop()\n",
    "print(mylist)"
   ]
  },
  {
   "cell_type": "code",
   "execution_count": 70,
   "metadata": {},
   "outputs": [],
   "source": [
    "class Queue:\n",
    "\n",
    "    def __init__(self):\n",
    "        self.elements = []\n",
    "        \n",
    "    def enqueue(self,item) :\n",
    "        result = self.elements.append(item)\n",
    "        return result"
   ]
  },
  {
   "cell_type": "code",
   "execution_count": 72,
   "metadata": {},
   "outputs": [
    {
     "name": "stdout",
     "output_type": "stream",
     "text": [
      "None\n",
      "[9, 6, 3]\n"
     ]
    }
   ],
   "source": [
    "que = Queue()\n",
    "que.enqueue(9)\n",
    "print(que.enqueue(6))\n",
    "que.enqueue(3)\n",
    "print(que.elements)"
   ]
  },
  {
   "cell_type": "code",
   "execution_count": 77,
   "metadata": {},
   "outputs": [],
   "source": [
    "def insert(stack ,item):\n",
    "    if len(stack) == 0:\n",
    "        return \"stack is full\"\n",
    "    return stack.append(item)"
   ]
  },
  {
   "cell_type": "code",
   "execution_count": 78,
   "metadata": {},
   "outputs": [
    {
     "data": {
      "text/plain": [
       "'stack is full'"
      ]
     },
     "execution_count": 78,
     "metadata": {},
     "output_type": "execute_result"
    }
   ],
   "source": [
    "stack = []\n",
    "insert(stack,9)"
   ]
  },
  {
   "cell_type": "code",
   "execution_count": 75,
   "metadata": {},
   "outputs": [
    {
     "data": {
      "text/plain": [
       "[9]"
      ]
     },
     "execution_count": 75,
     "metadata": {},
     "output_type": "execute_result"
    }
   ],
   "source": [
    "stack"
   ]
  },
  {
   "cell_type": "code",
   "execution_count": 79,
   "metadata": {},
   "outputs": [
    {
     "data": {
      "text/plain": [
       "'stack is full'"
      ]
     },
     "execution_count": 79,
     "metadata": {},
     "output_type": "execute_result"
    }
   ],
   "source": [
    "insert(stack,6)"
   ]
  },
  {
   "cell_type": "code",
   "execution_count": 96,
   "metadata": {},
   "outputs": [],
   "source": [
    "class Queue:\n",
    "\n",
    "    def __init__(self):\n",
    "        self.elements = []\n",
    "    \n",
    "    def enqueue(self,item):\n",
    "        result = self.elements.append(item)\n",
    "        return result\n",
    "\n",
    "    def dqueue(self):\n",
    "        ans = self.elements.pop(0)\n",
    "        return ans\n",
    "    def rear(self):\n",
    "        return self.elements[-1]\n",
    "\n",
    "    def front(self):\n",
    "        return self.elements[0]\n",
    "\n",
    "    def is_empty(self):\n",
    "        return len(self.elements) == 0\n",
    "    "
   ]
  },
  {
   "cell_type": "code",
   "execution_count": 98,
   "metadata": {},
   "outputs": [
    {
     "name": "stdout",
     "output_type": "stream",
     "text": [
      "True\n",
      "False\n"
     ]
    }
   ],
   "source": [
    "queue = Queue()\n",
    "queue.elements\n",
    "print(queue.is_empty())\n",
    "queue.enqueue(9)\n",
    "queue.enqueue(6)\n",
    "queue.enqueue(3)\n",
    "queue.elements\n",
    "queue.dqueue()\n",
    "queue.elements\n",
    "queue.rear()\n",
    "queue.front()\n",
    "print(queue.is_empty())"
   ]
  },
  {
   "cell_type": "code",
   "execution_count": 99,
   "metadata": {},
   "outputs": [],
   "source": [
    "# function based queue\n",
    "def create():\n",
    "    queue = []\n",
    "    return queue"
   ]
  },
  {
   "cell_type": "code",
   "execution_count": 100,
   "metadata": {},
   "outputs": [],
   "source": [
    "def equeue(queue,item):\n",
    "    result = queue.append(item)\n",
    "    return result"
   ]
  },
  {
   "cell_type": "code",
   "execution_count": 101,
   "metadata": {},
   "outputs": [],
   "source": [
    "def dqueue(queue):\n",
    "    return queue.pop(0)"
   ]
  },
  {
   "cell_type": "code",
   "execution_count": 102,
   "metadata": {},
   "outputs": [],
   "source": [
    "def rear(queue):\n",
    "    return queue[-1]"
   ]
  },
  {
   "cell_type": "code",
   "execution_count": 103,
   "metadata": {},
   "outputs": [],
   "source": [
    "def front(queue):\n",
    "    return queue[0]"
   ]
  },
  {
   "cell_type": "code",
   "execution_count": 104,
   "metadata": {},
   "outputs": [],
   "source": [
    "def empty(queue):\n",
    "    return len(queue) == 0"
   ]
  },
  {
   "cell_type": "code",
   "execution_count": 106,
   "metadata": {},
   "outputs": [
    {
     "name": "stdout",
     "output_type": "stream",
     "text": [
      "[9, 6, 3]\n",
      "9\n",
      "3\n",
      "6\n",
      "[6, 3]\n"
     ]
    }
   ],
   "source": [
    "queue = create()\n",
    "equeue(queue , 9)\n",
    "equeue(queue , 6)\n",
    "equeue(queue , 3)\n",
    "print(queue)\n",
    "print(dqueue(queue))\n",
    "print(rear(queue))\n",
    "print(front(queue))\n",
    "print(queue)\n"
   ]
  },
  {
   "cell_type": "code",
   "execution_count": 1,
   "metadata": {},
   "outputs": [],
   "source": [
    "def creation(stack,ele):\n",
    "    top = len(stack)\n",
    "    if (stack == top-1):\n",
    "        return \"stack is empty\"\n",
    "    top+=1\n",
    "    stack[top] = ele\n",
    "    "
   ]
  },
  {
   "cell_type": "code",
   "execution_count": null,
   "metadata": {},
   "outputs": [],
   "source": []
  }
 ],
 "metadata": {
  "kernelspec": {
   "display_name": "Python 3.8.8 ('base')",
   "language": "python",
   "name": "python3"
  },
  "language_info": {
   "codemirror_mode": {
    "name": "ipython",
    "version": 3
   },
   "file_extension": ".py",
   "mimetype": "text/x-python",
   "name": "python",
   "nbconvert_exporter": "python",
   "pygments_lexer": "ipython3",
   "version": "3.8.8"
  },
  "orig_nbformat": 4,
  "vscode": {
   "interpreter": {
    "hash": "82adaca09b26f941339d497ab109b3479f090966e110972cd932eac4ae78641a"
   }
  }
 },
 "nbformat": 4,
 "nbformat_minor": 2
}
