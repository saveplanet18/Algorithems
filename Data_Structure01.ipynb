{
 "cells": [
  {
   "cell_type": "code",
   "execution_count": 1,
   "id": "f43aa615",
   "metadata": {},
   "outputs": [
    {
     "name": "stdout",
     "output_type": "stream",
     "text": [
      "yes its raining ...\n"
     ]
    }
   ],
   "source": [
    "its_raining = True\n",
    "if its_raining:\n",
    "    print(\"yes its raining ...\")"
   ]
  },
  {
   "cell_type": "code",
   "execution_count": 2,
   "id": "e5909ee3",
   "metadata": {},
   "outputs": [
    {
     "name": "stdout",
     "output_type": "stream",
     "text": [
      "yes it's raining\n"
     ]
    }
   ],
   "source": [
    "raining = False\n",
    "if raining:\n",
    "    print(\"no its not raining ..\")\n",
    "else:\n",
    "    print(\"yes it's raining\")"
   ]
  },
  {
   "cell_type": "code",
   "execution_count": 3,
   "id": "f756a1e6",
   "metadata": {},
   "outputs": [
    {
     "name": "stdout",
     "output_type": "stream",
     "text": [
      "yes its raining.....\n",
      "is it raining ? (y = yes , n = no)y\n",
      "yes its raining .\n",
      "its not raining anymore\n",
      "yes its raining.....\n",
      "is it raining ? (y = yes , n = no)n\n",
      "its not raining anymore\n"
     ]
    }
   ],
   "source": [
    "its_raining = True\n",
    "while its_raining:\n",
    "    print(\"yes its raining.....\")\n",
    "    answer = input(\"is it raining ? (y = yes , n = no)\")\n",
    "    if answer == 'y':\n",
    "        print(\"yes its raining .\")\n",
    "    elif answer == 'n':\n",
    "        its_raining = False\n",
    "    else:\n",
    "        print(\"yes or no \")\n",
    "    print(\"its not raining anymore\")"
   ]
  },
  {
   "cell_type": "code",
   "execution_count": 4,
   "id": "81606ea4",
   "metadata": {},
   "outputs": [
    {
     "name": "stdout",
     "output_type": "stream",
     "text": [
      "nothing is more important..\n"
     ]
    }
   ],
   "source": [
    "its_raining = True\n",
    "while its_raining:\n",
    "    its_raining = False\n",
    "    print(\"nothing is more important..\")\n",
    "        "
   ]
  },
  {
   "cell_type": "code",
   "execution_count": 1,
   "id": "f6a77e67",
   "metadata": {},
   "outputs": [
    {
     "name": "stdout",
     "output_type": "stream",
     "text": [
      "yes or no ? (y = yes , n = no)y\n",
      "today we have raining day ...\n",
      "yes or no ? (y = yes , n = no)y\n",
      "today we have raining day ...\n",
      "yes or no ? (y = yes , n = no)n\n",
      "we dont have raining day in your area...\n"
     ]
    }
   ],
   "source": [
    "while True:\n",
    "    ans = input(\"yes or no ? (y = yes , n = no)\")\n",
    "    if ans == 'y':\n",
    "        print(\"today we have raining day ...\")\n",
    "    elif ans == 'n':\n",
    "        print(\"we dont have raining day in your area...\")\n",
    "        break\n",
    "    else:\n",
    "        print(\"nothing will be printed...\")"
   ]
  },
  {
   "cell_type": "code",
   "execution_count": 2,
   "id": "543d1680",
   "metadata": {},
   "outputs": [],
   "source": [
    "def add(a,b):\n",
    "    return a+b"
   ]
  },
  {
   "cell_type": "code",
   "execution_count": 3,
   "id": "b3a9dbc3",
   "metadata": {},
   "outputs": [],
   "source": [
    "def sub(a,b):\n",
    "    return a-b"
   ]
  },
  {
   "cell_type": "code",
   "execution_count": 4,
   "id": "ce65e2f7",
   "metadata": {},
   "outputs": [],
   "source": [
    "def mul(a,b):\n",
    "    return a*b\n"
   ]
  },
  {
   "cell_type": "code",
   "execution_count": 5,
   "id": "b17e83f3",
   "metadata": {},
   "outputs": [],
   "source": [
    "def div(a,b):\n",
    "    return a/b"
   ]
  },
  {
   "cell_type": "code",
   "execution_count": 7,
   "id": "382c6f90",
   "metadata": {},
   "outputs": [],
   "source": [
    "def main():\n",
    "    while True:    \n",
    "        ino = input(\"enter the elements addition 1. substraction 2. multiplication 3. devision 4. exit 5.\")\n",
    "        obj = input()\n",
    "        obj2 = input()\n",
    "        if ino == 1:\n",
    "            add(obj,obj2)\n",
    "        elif ino == 2:\n",
    "            sub(obj , obj2)\n",
    "        elif ino == 3:\n",
    "            mul(obj , obj2)\n",
    "        elif ino == 4:\n",
    "            div(obj , obj2)\n",
    "        elif ino == 5:\n",
    "            print(\"exit the loop\")\n",
    "            break\n",
    "        else:\n",
    "            print(\"invalid elements...\")\n",
    "            \n",
    "        \n",
    "        \n",
    "        \n",
    "        \n",
    "    "
   ]
  },
  {
   "cell_type": "code",
   "execution_count": 1,
   "id": "86a98086",
   "metadata": {},
   "outputs": [],
   "source": [
    "while True:\n",
    "    break \n",
    "    print(\"nothin print\")"
   ]
  },
  {
   "cell_type": "code",
   "execution_count": 2,
   "id": "2b809969",
   "metadata": {},
   "outputs": [
    {
     "name": "stdout",
     "output_type": "stream",
     "text": [
      "this will printed....\n"
     ]
    }
   ],
   "source": [
    "while True:\n",
    "    print(\"this will printed....\")\n",
    "    break"
   ]
  },
  {
   "cell_type": "code",
   "execution_count": 3,
   "id": "ab559a84",
   "metadata": {},
   "outputs": [],
   "source": [
    "stuff = ['hello', 'hi', 'how are you doing', 'im fine', 'how about you']"
   ]
  },
  {
   "cell_type": "code",
   "execution_count": 4,
   "id": "8c9c561a",
   "metadata": {},
   "outputs": [
    {
     "data": {
      "text/plain": [
       "['hello', 'hi', 'how are you doing', 'im fine', 'how about you']"
      ]
     },
     "execution_count": 4,
     "metadata": {},
     "output_type": "execute_result"
    }
   ],
   "source": [
    "stuff"
   ]
  },
  {
   "cell_type": "code",
   "execution_count": 5,
   "id": "6043a8e5",
   "metadata": {},
   "outputs": [],
   "source": [
    "lenth_of_index = len(stuff)"
   ]
  },
  {
   "cell_type": "code",
   "execution_count": 6,
   "id": "4b7d83fb",
   "metadata": {},
   "outputs": [
    {
     "data": {
      "text/plain": [
       "5"
      ]
     },
     "execution_count": 6,
     "metadata": {},
     "output_type": "execute_result"
    }
   ],
   "source": [
    "lenth_of_index"
   ]
  },
  {
   "cell_type": "code",
   "execution_count": 7,
   "id": "0d665b37",
   "metadata": {},
   "outputs": [],
   "source": [
    "index  = 0"
   ]
  },
  {
   "cell_type": "code",
   "execution_count": 9,
   "id": "5b5406e4",
   "metadata": {},
   "outputs": [
    {
     "name": "stdout",
     "output_type": "stream",
     "text": [
      "hello\n",
      "hi\n",
      "how are you doing\n",
      "im fine\n",
      "how about you\n"
     ]
    }
   ],
   "source": [
    "while index < lenth_of_index:\n",
    "    print(stuff[index])\n",
    "    index+=1"
   ]
  },
  {
   "cell_type": "code",
   "execution_count": 10,
   "id": "fd74aef2",
   "metadata": {},
   "outputs": [
    {
     "data": {
      "text/plain": [
       "['hello', 'hi', 'how are you doing', 'im fine', 'how about you']"
      ]
     },
     "execution_count": 10,
     "metadata": {},
     "output_type": "execute_result"
    }
   ],
   "source": [
    "stuff"
   ]
  },
  {
   "cell_type": "code",
   "execution_count": 12,
   "id": "3e67a76d",
   "metadata": {},
   "outputs": [
    {
     "name": "stdout",
     "output_type": "stream",
     "text": [
      "hello\n",
      "hi\n",
      "how are you doing\n",
      "im fine\n",
      "how about you\n"
     ]
    }
   ],
   "source": [
    "for thing in stuff:\n",
    "    print(thing)"
   ]
  },
  {
   "cell_type": "code",
   "execution_count": 13,
   "id": "2506c143",
   "metadata": {},
   "outputs": [
    {
     "name": "stdout",
     "output_type": "stream",
     "text": [
      "a\n",
      "b\n",
      "c\n"
     ]
    }
   ],
   "source": [
    "for short in \"abc\":\n",
    "    print(short)"
   ]
  },
  {
   "cell_type": "code",
   "execution_count": 14,
   "id": "8c6abd05",
   "metadata": {},
   "outputs": [
    {
     "name": "stdout",
     "output_type": "stream",
     "text": [
      "0\n",
      "1\n",
      "2\n",
      "3\n",
      "4\n",
      "5\n"
     ]
    }
   ],
   "source": [
    "for i in range(6):\n",
    "    print(i)"
   ]
  },
  {
   "cell_type": "code",
   "execution_count": 15,
   "id": "73805886",
   "metadata": {},
   "outputs": [
    {
     "data": {
      "text/plain": [
       "['hello', 'hi', 'how are you doing', 'im fine', 'how about you']"
      ]
     },
     "execution_count": 15,
     "metadata": {},
     "output_type": "execute_result"
    }
   ],
   "source": [
    "stuff"
   ]
  },
  {
   "cell_type": "code",
   "execution_count": 16,
   "id": "2aa06d5a",
   "metadata": {},
   "outputs": [],
   "source": [
    "for thing in stuff:\n",
    "    stuff.remove(thing)"
   ]
  },
  {
   "cell_type": "code",
   "execution_count": 17,
   "id": "fab3e988",
   "metadata": {},
   "outputs": [
    {
     "data": {
      "text/plain": [
       "['hi', 'im fine']"
      ]
     },
     "execution_count": 17,
     "metadata": {},
     "output_type": "execute_result"
    }
   ],
   "source": [
    "stuff"
   ]
  },
  {
   "cell_type": "code",
   "execution_count": 18,
   "id": "16179f61",
   "metadata": {},
   "outputs": [],
   "source": [
    "# while condition:\n",
    "#     code goes is her\n"
   ]
  },
  {
   "cell_type": "code",
   "execution_count": 19,
   "id": "1ec66ec9",
   "metadata": {},
   "outputs": [
    {
     "name": "stdout",
     "output_type": "stream",
     "text": [
      "it will print six times..\n",
      "it will print six times..\n",
      "it will print six times..\n",
      "it will print six times..\n",
      "it will print six times..\n",
      "it will print six times..\n"
     ]
    }
   ],
   "source": [
    "count = 0\n",
    "while count < 6:\n",
    "    print(\"it will print six times..\")\n",
    "    count+=1"
   ]
  },
  {
   "cell_type": "code",
   "execution_count": 1,
   "id": "246aff8a",
   "metadata": {},
   "outputs": [
    {
     "name": "stdout",
     "output_type": "stream",
     "text": [
      "it whill print -10 timess?\n",
      "it whill print -10 timess?\n",
      "it whill print -10 timess?\n",
      "it whill print -10 timess?\n",
      "it whill print -10 timess?\n",
      "it whill print -10 timess?\n",
      "it whill print -10 timess?\n",
      "it whill print -10 timess?\n",
      "it whill print -10 timess?\n",
      "it whill print -10 timess?\n"
     ]
    }
   ],
   "source": [
    "count = 0\n",
    "while count > -10:\n",
    "    print(\"it whill print -10 timess?\")\n",
    "    count-=1"
   ]
  },
  {
   "cell_type": "code",
   "execution_count": 2,
   "id": "6b9062ce",
   "metadata": {},
   "outputs": [],
   "source": [
    "count = 0\n",
    "while count > 2:\n",
    "    print(\"no print here..\")\n",
    "    count+=1"
   ]
  },
  {
   "cell_type": "code",
   "execution_count": 3,
   "id": "b0c50a5b",
   "metadata": {},
   "outputs": [
    {
     "name": "stdout",
     "output_type": "stream",
     "text": [
      "MK...\n",
      "MK...\n",
      "MK...\n",
      "nothing is printed...\n"
     ]
    }
   ],
   "source": [
    "# while condition:\n",
    "#     code goes here\n",
    "# else:\n",
    "#     code goes here\n",
    "\n",
    "count = 0\n",
    "while count < 3:\n",
    "    print(\"MK...\")\n",
    "    count +=1\n",
    "else:\n",
    "    print(\"nothing is printed...\")\n"
   ]
  },
  {
   "cell_type": "code",
   "execution_count": 5,
   "id": "64b0f7e0",
   "metadata": {},
   "outputs": [
    {
     "name": "stdout",
     "output_type": "stream",
     "text": [
      "1\n",
      "2\n",
      "3\n",
      "4\n",
      "more printed..\n"
     ]
    }
   ],
   "source": [
    "count = 1\n",
    "while count < 5:\n",
    "    print(count)\n",
    "    count+=1\n",
    "else:\n",
    "    print(\"more printed..\")"
   ]
  },
  {
   "cell_type": "code",
   "execution_count": 1,
   "id": "c65e96ce",
   "metadata": {},
   "outputs": [
    {
     "name": "stdout",
     "output_type": "stream",
     "text": [
      "0\n",
      "1\n",
      "2\n"
     ]
    }
   ],
   "source": [
    "count = 0\n",
    "while count < 6:\n",
    "    print(count)\n",
    "    count +=1\n",
    "    if count == 3:\n",
    "        break"
   ]
  },
  {
   "cell_type": "code",
   "execution_count": 2,
   "id": "eb37f17d",
   "metadata": {},
   "outputs": [
    {
     "name": "stdout",
     "output_type": "stream",
     "text": [
      "0\n",
      "1\n",
      "2\n",
      "3\n",
      "4\n",
      "5\n"
     ]
    }
   ],
   "source": [
    "count = 0\n",
    "while count < 6:\n",
    "    print(count)\n",
    "    count +=1\n",
    "    if count == 3:\n",
    "        continue"
   ]
  },
  {
   "cell_type": "code",
   "execution_count": 3,
   "id": "450cb73d",
   "metadata": {},
   "outputs": [
    {
     "name": "stdout",
     "output_type": "stream",
     "text": [
      "0\n",
      "1\n",
      "2\n"
     ]
    }
   ],
   "source": [
    "count = 0\n",
    "while count < 6:\n",
    "    if count == 3:\n",
    "        break\n",
    "    print(count)\n",
    "    count +=1"
   ]
  },
  {
   "cell_type": "code",
   "execution_count": 4,
   "id": "dc711e8f",
   "metadata": {},
   "outputs": [],
   "source": [
    "person = {\n",
    "    'first_name':'Asabeneh',\n",
    "    'last_name':'Yetayeh',\n",
    "    'age':250,\n",
    "    'country':'Finland',\n",
    "    'is_marred':True,\n",
    "    'skills':['JavaScript', 'React', 'Node', 'MongoDB', 'Python'],\n",
    "    'address':{\n",
    "        'street':'Space street',\n",
    "        'zipcode':'02210'\n",
    "    }\n",
    "}"
   ]
  },
  {
   "cell_type": "code",
   "execution_count": 5,
   "id": "210258c3",
   "metadata": {},
   "outputs": [
    {
     "data": {
      "text/plain": [
       "{'first_name': 'Asabeneh',\n",
       " 'last_name': 'Yetayeh',\n",
       " 'age': 250,\n",
       " 'country': 'Finland',\n",
       " 'is_marred': True,\n",
       " 'skills': ['JavaScript', 'React', 'Node', 'MongoDB', 'Python'],\n",
       " 'address': {'street': 'Space street', 'zipcode': '02210'}}"
      ]
     },
     "execution_count": 5,
     "metadata": {},
     "output_type": "execute_result"
    }
   ],
   "source": [
    "person"
   ]
  },
  {
   "cell_type": "code",
   "execution_count": 6,
   "id": "88f166fc",
   "metadata": {},
   "outputs": [
    {
     "name": "stdout",
     "output_type": "stream",
     "text": [
      "first_name\n",
      "last_name\n",
      "age\n",
      "country\n",
      "is_marred\n",
      "skills\n",
      "address\n"
     ]
    }
   ],
   "source": [
    "for key in person:\n",
    "    print(key)"
   ]
  },
  {
   "cell_type": "code",
   "execution_count": 9,
   "id": "19e91a9e",
   "metadata": {},
   "outputs": [
    {
     "name": "stdout",
     "output_type": "stream",
     "text": [
      "0 first_name\n",
      "1 last_name\n",
      "2 age\n",
      "3 country\n",
      "4 is_marred\n",
      "5 skills\n",
      "6 address\n"
     ]
    }
   ],
   "source": [
    "for key , values in enumerate(person):\n",
    "    print(key,values)"
   ]
  },
  {
   "cell_type": "code",
   "execution_count": 10,
   "id": "f86d8917",
   "metadata": {},
   "outputs": [],
   "source": [
    "# for iteratore in sequence:\n",
    "#     code goes here\n",
    "#     if condition:\n",
    "#         code goes here"
   ]
  },
  {
   "cell_type": "code",
   "execution_count": 11,
   "id": "a84ec671",
   "metadata": {},
   "outputs": [],
   "source": [
    "number = [4,5,6,9,7,8,3,5]"
   ]
  },
  {
   "cell_type": "code",
   "execution_count": 14,
   "id": "ce858b3b",
   "metadata": {},
   "outputs": [
    {
     "name": "stdout",
     "output_type": "stream",
     "text": [
      "4\n",
      "5\n",
      "6\n",
      "9\n",
      "7\n",
      "8\n",
      "3\n",
      "3\n"
     ]
    }
   ],
   "source": [
    "for item in number:\n",
    "    print(item)\n",
    "    if item == 3:\n",
    "        print(item)\n",
    "        break"
   ]
  },
  {
   "cell_type": "code",
   "execution_count": null,
   "id": "a7edd56f",
   "metadata": {},
   "outputs": [],
   "source": [
    "while True:\n",
    "    for i in number:\n",
    "        if i == 3:\n",
    "            break"
   ]
  },
  {
   "cell_type": "code",
   "execution_count": 1,
   "id": "cec6ad54",
   "metadata": {},
   "outputs": [],
   "source": [
    "person = {\n",
    "    'first_name': 'Asabeneh',\n",
    "    'last_name': 'Yetayeh',\n",
    "    'age': 250,\n",
    "    'country': 'Finland',\n",
    "    'is_marred': True,\n",
    "    'skills': ['JavaScript', 'React', 'Node', 'MongoDB', 'Python'],\n",
    "    'address': {\n",
    "        'street': 'Space street',\n",
    "        'zipcode': '02210'\n",
    "    }\n",
    "}"
   ]
  },
  {
   "cell_type": "code",
   "execution_count": 2,
   "id": "ad37e794",
   "metadata": {},
   "outputs": [
    {
     "data": {
      "text/plain": [
       "{'first_name': 'Asabeneh',\n",
       " 'last_name': 'Yetayeh',\n",
       " 'age': 250,\n",
       " 'country': 'Finland',\n",
       " 'is_marred': True,\n",
       " 'skills': ['JavaScript', 'React', 'Node', 'MongoDB', 'Python'],\n",
       " 'address': {'street': 'Space street', 'zipcode': '02210'}}"
      ]
     },
     "execution_count": 2,
     "metadata": {},
     "output_type": "execute_result"
    }
   ],
   "source": [
    "person"
   ]
  },
  {
   "cell_type": "code",
   "execution_count": 4,
   "id": "5912a6a7",
   "metadata": {},
   "outputs": [
    {
     "name": "stdout",
     "output_type": "stream",
     "text": [
      "JavaScript\n",
      "React\n",
      "Node\n",
      "MongoDB\n",
      "Python\n"
     ]
    }
   ],
   "source": [
    "for item in person:\n",
    "    if item == 'skills':\n",
    "        for skill in person['skills']:\n",
    "            print(skill)"
   ]
  },
  {
   "cell_type": "code",
   "execution_count": 7,
   "id": "d94a4f71",
   "metadata": {},
   "outputs": [
    {
     "name": "stdout",
     "output_type": "stream",
     "text": [
      "street\n",
      "zipcode\n"
     ]
    }
   ],
   "source": [
    "for key in person:\n",
    "    if key == 'address':\n",
    "        for add in person['address']:\n",
    "            print(add)"
   ]
  },
  {
   "cell_type": "code",
   "execution_count": 9,
   "id": "1bfa3693",
   "metadata": {},
   "outputs": [
    {
     "name": "stdout",
     "output_type": "stream",
     "text": [
      "still your playing more than %d 5\n",
      "still your playing more than %d 4\n",
      "still your playing more than %d 3\n",
      "still your playing more than %d 2\n",
      "still your playing more than %d 1\n"
     ]
    }
   ],
   "source": [
    "power = 5\n",
    "while power > 0:\n",
    "    print(\"still your playing more than %d\",power)\n",
    "    power -=1\n",
    "    "
   ]
  },
  {
   "cell_type": "code",
   "execution_count": 10,
   "id": "e4a0b34c",
   "metadata": {},
   "outputs": [
    {
     "name": "stdout",
     "output_type": "stream",
     "text": [
      "its only print %d 6\n",
      "its only print %d 5\n",
      "its only print %d 4\n",
      "its only print %d 3\n",
      "its only print %d 2\n",
      "its only print %d 1\n"
     ]
    }
   ],
   "source": [
    "count = 6\n",
    "while count > 0:\n",
    "    print(\"its only print %d\",count)\n",
    "    count = count -1\n",
    "    "
   ]
  },
  {
   "cell_type": "code",
   "execution_count": 19,
   "id": "8566e9e2",
   "metadata": {},
   "outputs": [
    {
     "name": "stdout",
     "output_type": "stream",
     "text": [
      "6\n",
      "5\n",
      "4\n",
      "3\n",
      "2\n",
      "1\n",
      "0\n"
     ]
    }
   ],
   "source": [
    "for count in range(6,-1,-1):\n",
    "    print(count)"
   ]
  },
  {
   "cell_type": "code",
   "execution_count": 22,
   "id": "8759990c",
   "metadata": {},
   "outputs": [
    {
     "name": "stdout",
     "output_type": "stream",
     "text": [
      "enter the numbers...6\n"
     ]
    }
   ],
   "source": [
    "variable = int(input(\"enter the numbers...\"))"
   ]
  },
  {
   "cell_type": "code",
   "execution_count": 23,
   "id": "527645a2",
   "metadata": {},
   "outputs": [
    {
     "name": "stdout",
     "output_type": "stream",
     "text": [
      "0\n",
      "1\n",
      "2\n",
      "3\n",
      "4\n",
      "5\n"
     ]
    }
   ],
   "source": [
    "for index in range(variable):\n",
    "    print(index)"
   ]
  },
  {
   "cell_type": "code",
   "execution_count": 24,
   "id": "5894775b",
   "metadata": {},
   "outputs": [],
   "source": [
    "mylist = []"
   ]
  },
  {
   "cell_type": "code",
   "execution_count": 25,
   "id": "7402fdd1",
   "metadata": {},
   "outputs": [
    {
     "name": "stdout",
     "output_type": "stream",
     "text": [
      "enter the first element...56\n"
     ]
    }
   ],
   "source": [
    "add = input(\"enter the first element...\")"
   ]
  },
  {
   "cell_type": "code",
   "execution_count": 26,
   "id": "0f5b8d76",
   "metadata": {},
   "outputs": [],
   "source": [
    "mylist.append(add)"
   ]
  },
  {
   "cell_type": "code",
   "execution_count": 27,
   "id": "dd0a6047",
   "metadata": {},
   "outputs": [
    {
     "data": {
      "text/plain": [
       "['56']"
      ]
     },
     "execution_count": 27,
     "metadata": {},
     "output_type": "execute_result"
    }
   ],
   "source": [
    "mylist"
   ]
  },
  {
   "cell_type": "code",
   "execution_count": 1,
   "id": "66dd2ca3",
   "metadata": {},
   "outputs": [],
   "source": [
    "name = []"
   ]
  },
  {
   "cell_type": "code",
   "execution_count": 2,
   "id": "3e4c26f1",
   "metadata": {},
   "outputs": [],
   "source": [
    "new_name = ''"
   ]
  },
  {
   "cell_type": "code",
   "execution_count": null,
   "id": "1c441c7e",
   "metadata": {},
   "outputs": [
    {
     "name": "stdout",
     "output_type": "stream",
     "text": [
      "enter the first number ...'exit'manjunath\n",
      "enter the first number ...'exit'kannur\n",
      "enter the first number ...'exit'exit\n"
     ]
    }
   ],
   "source": [
    "while new_name !='exit':\n",
    "    naw_name = input(\"enter the first number ...'exit'\")\n",
    "    name.append(new_name)"
   ]
  },
  {
   "cell_type": "code",
   "execution_count": 6,
   "id": "72e43ad3",
   "metadata": {},
   "outputs": [
    {
     "name": "stdout",
     "output_type": "stream",
     "text": [
      "0\n",
      "2\n",
      "3\n"
     ]
    }
   ],
   "source": [
    "for i in range(6):\n",
    "    if i == 0 or (i == 2 or i == 3):\n",
    "        print(i)"
   ]
  },
  {
   "cell_type": "code",
   "execution_count": 9,
   "id": "7b176460",
   "metadata": {},
   "outputs": [
    {
     "name": "stdout",
     "output_type": "stream",
     "text": [
      "0\n",
      "1\n",
      "2\n",
      "4\n",
      "5\n"
     ]
    }
   ],
   "source": [
    "for i in range(6):\n",
    "    if i !=3:\n",
    "        print(i)"
   ]
  },
  {
   "cell_type": "code",
   "execution_count": 10,
   "id": "52c3731a",
   "metadata": {},
   "outputs": [
    {
     "name": "stdout",
     "output_type": "stream",
     "text": [
      "0\n",
      "0\n",
      "1\n",
      "0\n",
      "1\n",
      "2\n",
      "0\n",
      "1\n",
      "2\n",
      "3\n",
      "0\n",
      "1\n",
      "2\n",
      "3\n",
      "4\n"
     ]
    }
   ],
   "source": [
    "for i in range(6):\n",
    "    for j in range(i):\n",
    "        print(j)"
   ]
  },
  {
   "cell_type": "code",
   "execution_count": 11,
   "id": "b6f43015",
   "metadata": {},
   "outputs": [
    {
     "name": "stdout",
     "output_type": "stream",
     "text": [
      "0\n",
      "0\n",
      "1\n",
      "0\n",
      "1\n",
      "2\n",
      "0\n",
      "1\n",
      "2\n",
      "3\n",
      "0\n",
      "1\n",
      "2\n",
      "3\n",
      "4\n",
      "0\n",
      "1\n",
      "2\n",
      "3\n",
      "4\n",
      "5\n"
     ]
    }
   ],
   "source": [
    "for i in range(6):\n",
    "    for j in range(i+1):\n",
    "        print(j)"
   ]
  },
  {
   "cell_type": "code",
   "execution_count": 12,
   "id": "076399f9",
   "metadata": {},
   "outputs": [
    {
     "name": "stdout",
     "output_type": "stream",
     "text": [
      "0\n",
      "0\n",
      "1\n",
      "0\n",
      "1\n",
      "2\n",
      "0\n",
      "1\n",
      "2\n",
      "3\n"
     ]
    }
   ],
   "source": [
    "for i in range(6):\n",
    "    for j in range(i-1):\n",
    "        print(j)"
   ]
  },
  {
   "cell_type": "code",
   "execution_count": 20,
   "id": "e9c41882",
   "metadata": {},
   "outputs": [
    {
     "name": "stdout",
     "output_type": "stream",
     "text": [
      "0\n",
      "1\n",
      "2\n",
      "3\n",
      "4\n",
      "5\n",
      "6\n",
      "0\n",
      "\n",
      "\n",
      "\n",
      "\n",
      "\n",
      "6\n",
      "0\n",
      "\n",
      "\n",
      "\n",
      "\n",
      "\n",
      "6\n",
      "0\n",
      "1\n",
      "2\n",
      "3\n",
      "4\n",
      "5\n",
      "6\n",
      "0\n",
      "\n",
      "\n",
      "\n",
      "\n",
      "\n",
      "6\n",
      "0\n",
      "\n",
      "\n",
      "\n",
      "\n",
      "\n",
      "6\n",
      "0\n",
      "\n",
      "\n",
      "\n",
      "\n",
      "\n",
      "6\n"
     ]
    }
   ],
   "source": [
    "for i in range(7):\n",
    "    for j in range(7):\n",
    "        if (j == 0 or  j == 6) and (i>0) or (i == 0 or i == 3) and ( j>0 or i <6):\n",
    "            print(j,end = \"\")\n",
    "        else:\n",
    "            print(end = \"\")\n",
    "        print()"
   ]
  },
  {
   "cell_type": "code",
   "execution_count": null,
   "id": "54fd877f",
   "metadata": {},
   "outputs": [],
   "source": []
  }
 ],
 "metadata": {
  "kernelspec": {
   "display_name": "Python 3 (ipykernel)",
   "language": "python",
   "name": "python3"
  },
  "language_info": {
   "codemirror_mode": {
    "name": "ipython",
    "version": 3
   },
   "file_extension": ".py",
   "mimetype": "text/x-python",
   "name": "python",
   "nbconvert_exporter": "python",
   "pygments_lexer": "ipython3",
   "version": "3.9.2"
  }
 },
 "nbformat": 4,
 "nbformat_minor": 5
}
