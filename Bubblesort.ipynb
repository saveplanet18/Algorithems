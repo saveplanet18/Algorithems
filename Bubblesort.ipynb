{
 "cells": [
  {
   "cell_type": "markdown",
   "id": "c3e12156",
   "metadata": {},
   "source": [
    "# Bubblesort\n",
    "1. first iteration ( compare & swap)\n",
    "2. start from first index compare first and second element\n",
    "3. if the frist element is greater than the second element they are swap\n",
    "4. now compare second and third element swap them if they are not order \n"
   ]
  },
  {
   "cell_type": "code",
   "execution_count": 11,
   "id": "d4b7ecea",
   "metadata": {},
   "outputs": [],
   "source": [
    "mylist = [2 , 45 , 0, 11 , 9]"
   ]
  },
  {
   "cell_type": "code",
   "execution_count": 12,
   "id": "85d876b8",
   "metadata": {},
   "outputs": [
    {
     "data": {
      "text/plain": [
       "False"
      ]
     },
     "execution_count": 12,
     "metadata": {},
     "output_type": "execute_result"
    }
   ],
   "source": [
    "2 > 45, [2 , 45 , 0, 11 , 9]"
   ]
  },
  {
   "cell_type": "code",
   "execution_count": 13,
   "id": "7cf63d46",
   "metadata": {},
   "outputs": [
    {
     "data": {
      "text/plain": [
       "True"
      ]
     },
     "execution_count": 13,
     "metadata": {},
     "output_type": "execute_result"
    }
   ],
   "source": [
    "45 > 0 [2 , 0, 45, 11 , 9]"
   ]
  },
  {
   "cell_type": "code",
   "execution_count": null,
   "id": "b628fb82",
   "metadata": {},
   "outputs": [],
   "source": []
  }
 ],
 "metadata": {
  "kernelspec": {
   "display_name": "Python 3 (ipykernel)",
   "language": "python",
   "name": "python3"
  },
  "language_info": {
   "codemirror_mode": {
    "name": "ipython",
    "version": 3
   },
   "file_extension": ".py",
   "mimetype": "text/x-python",
   "name": "python",
   "nbconvert_exporter": "python",
   "pygments_lexer": "ipython3",
   "version": "3.9.2"
  }
 },
 "nbformat": 4,
 "nbformat_minor": 5
}
