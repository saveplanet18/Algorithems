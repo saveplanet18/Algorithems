{
 "cells": [
  {
   "cell_type": "code",
   "execution_count": 2,
   "metadata": {},
   "outputs": [],
   "source": [
    "class Queue:\n",
    "\n",
    "    def __init__(self):\n",
    "        self.elements = []\n",
    "    \n",
    "    def isempty(self):\n",
    "        return len(self.elements) == 0\n",
    "\n",
    "    def enqueue(self,add):\n",
    "        return self.elements.append(add)\n",
    "\n",
    "    def dqueue(self):\n",
    "        return self.elements.pop(0)\n",
    "    \n",
    "    def rear(self):\n",
    "        return self.elements[-1]\n",
    "\n",
    "    def front(self):\n",
    "        return self.elements[0]\n"
   ]
  },
  {
   "cell_type": "code",
   "execution_count": 3,
   "metadata": {},
   "outputs": [
    {
     "name": "stdout",
     "output_type": "stream",
     "text": [
      "True\n",
      "[9, 6, 3]\n",
      "[6, 3]\n",
      "6\n",
      "3\n"
     ]
    }
   ],
   "source": [
    "q = Queue()\n",
    "print(q.isempty())\n",
    "q.enqueue(9)\n",
    "q.enqueue(6)\n",
    "q.enqueue(3)\n",
    "print(q.elements)\n",
    "q.dqueue()\n",
    "print(q.elements)\n",
    "print(q.front())\n",
    "print(q.rear())\n"
   ]
  },
  {
   "cell_type": "code",
   "execution_count": 11,
   "metadata": {},
   "outputs": [],
   "source": [
    "queue = []\n",
    "def enqueue():\n",
    "    element = input(\"enter the elements\")\n",
    "    r = queue.append(element)\n",
    "    print(\"adding elements in rear side\",r)\n"
   ]
  },
  {
   "cell_type": "code",
   "execution_count": 7,
   "metadata": {},
   "outputs": [],
   "source": [
    "def dequeue():\n",
    "    if len(queue) != 0:\n",
    "        return \"queue is full\"\n",
    "    return queue.pop(0)"
   ]
  },
  {
   "cell_type": "code",
   "execution_count": 12,
   "metadata": {},
   "outputs": [],
   "source": [
    "def show():\n",
    "    print(queue)"
   ]
  },
  {
   "cell_type": "code",
   "execution_count": 13,
   "metadata": {},
   "outputs": [
    {
     "name": "stdout",
     "output_type": "stream",
     "text": [
      "operations of 1.enqueue 2.dequeue 3.show,4.exit\n",
      "adding elements in rear side None\n",
      "operations of 1.enqueue 2.dequeue 3.show,4.exit\n"
     ]
    }
   ],
   "source": [
    "while True:\n",
    "    print(\"operations of 1.enqueue 2.dequeue 3.show,4.exit\")\n",
    "    choice = int(input())\n",
    "    if choice == 1:\n",
    "        enqueue()\n",
    "    elif choice == 2:\n",
    "        dequeue()\n",
    "    elif choice == 3:\n",
    "        show()\n",
    "    elif choice == 4:\n",
    "        break\n",
    "    else:\n",
    "        print(\"invalid input from the given elements\")"
   ]
  },
  {
   "cell_type": "code",
   "execution_count": null,
   "metadata": {},
   "outputs": [],
   "source": []
  }
 ],
 "metadata": {
  "kernelspec": {
   "display_name": "Python 3.9.2 64-bit",
   "language": "python",
   "name": "python3"
  },
  "language_info": {
   "codemirror_mode": {
    "name": "ipython",
    "version": 3
   },
   "file_extension": ".py",
   "mimetype": "text/x-python",
   "name": "python",
   "nbconvert_exporter": "python",
   "pygments_lexer": "ipython3",
   "version": "3.9.2"
  },
  "orig_nbformat": 4,
  "vscode": {
   "interpreter": {
    "hash": "b44dec303c593d8d8daa19f9928a44a58f5dd6858780405ef540750c1cbc0680"
   }
  }
 },
 "nbformat": 4,
 "nbformat_minor": 2
}
