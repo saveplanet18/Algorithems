{
 "cells": [
  {
   "cell_type": "code",
   "execution_count": 1,
   "metadata": {},
   "outputs": [],
   "source": [
    "# function based implementation\n",
    "def create_stack():\n",
    "    stack = []\n",
    "    return stack"
   ]
  },
  {
   "cell_type": "code",
   "execution_count": 2,
   "metadata": {},
   "outputs": [],
   "source": [
    "def isempty(stack):\n",
    "    if len(stack) == 0:\n",
    "        return \"stack is emtpy\"\n",
    "    else:\n",
    "        return \"stack is full\""
   ]
  },
  {
   "cell_type": "code",
   "execution_count": 3,
   "metadata": {},
   "outputs": [],
   "source": [
    "def push(stack, elements):\n",
    "    if isempty(stack):\n",
    "        stack.append(elements)\n",
    "    else:\n",
    "        return \"stack is full\"\n",
    "        "
   ]
  },
  {
   "cell_type": "code",
   "execution_count": 9,
   "metadata": {},
   "outputs": [],
   "source": [
    "def pop(stack):\n",
    "    if len(stack) != 0:\n",
    "        return stack.pop()\n",
    "    return \"stack is empty\""
   ]
  },
  {
   "cell_type": "code",
   "execution_count": 10,
   "metadata": {},
   "outputs": [],
   "source": [
    "def peek(stack):\n",
    "    return stack[-1]"
   ]
  },
  {
   "cell_type": "code",
   "execution_count": 11,
   "metadata": {},
   "outputs": [
    {
     "name": "stdout",
     "output_type": "stream",
     "text": [
      "stack is emtpy\n",
      "['9', '6', '3']\n",
      "3\n",
      "6\n"
     ]
    }
   ],
   "source": [
    "stack = create_stack()\n",
    "print(isempty(stack))\n",
    "push(stack,str(9))\n",
    "push(stack,str(6))\n",
    "push(stack,str(3))\n",
    "print(stack)\n",
    "print(pop(stack))\n",
    "print(peek(stack))"
   ]
  },
  {
   "cell_type": "code",
   "execution_count": 12,
   "metadata": {},
   "outputs": [],
   "source": [
    "def push():\n",
    "    element = input(\"Enter the elements here\")\n",
    "    stack.append(element)\n",
    "    print(stack)"
   ]
  },
  {
   "cell_type": "code",
   "execution_count": 13,
   "metadata": {},
   "outputs": [],
   "source": [
    "def pop():\n",
    "    if len(stack) !=0:\n",
    "        return \"stack is empty\"\n",
    "    else:\n",
    "        e = stack.pop()\n",
    "        print(\"removed the elements\",e)\n",
    "        print(stack)"
   ]
  },
  {
   "cell_type": "code",
   "execution_count": 14,
   "metadata": {},
   "outputs": [
    {
     "name": "stdout",
     "output_type": "stream",
     "text": [
      "enter the operation 1.push 2.pop 3.exit\n",
      "['9', '6', '18']\n",
      "enter the operation 1.push 2.pop 3.exit\n",
      "['9', '6', '18', '68']\n",
      "enter the operation 1.push 2.pop 3.exit\n",
      "['9', '6', '18', '68', '81']\n",
      "enter the operation 1.push 2.pop 3.exit\n"
     ]
    }
   ],
   "source": [
    "while True:\n",
    "    print(\"enter the operation 1.push 2.pop 3.exit\")\n",
    "    choice = int(input())\n",
    "    if choice == 1:\n",
    "        push()\n",
    "    elif choice == 2:\n",
    "        pop()\n",
    "    elif choice == 3:\n",
    "        break\n",
    "    else:\n",
    "        print(\"enter the valide inputs\")"
   ]
  },
  {
   "cell_type": "code",
   "execution_count": 15,
   "metadata": {},
   "outputs": [],
   "source": [
    "class stack:\n",
    "\n",
    "    def __init__(self):\n",
    "        self.elements = []\n",
    "    \n",
    "    def push(self,add):\n",
    "        return self.elements.append(add)\n",
    "    \n",
    "    def pop(self):\n",
    "        return self.elements.pop()\n",
    "\n",
    "    def peek(self):\n",
    "        return self.elements[-1]\n"
   ]
  },
  {
   "cell_type": "code",
   "execution_count": 16,
   "metadata": {},
   "outputs": [],
   "source": [
    "s = stack()"
   ]
  },
  {
   "cell_type": "code",
   "execution_count": 17,
   "metadata": {},
   "outputs": [
    {
     "name": "stdout",
     "output_type": "stream",
     "text": [
      "[9, 6, 3]\n",
      "3\n",
      "3\n",
      "[9, 6]\n"
     ]
    }
   ],
   "source": [
    "s.push(9)\n",
    "s.push(6)\n",
    "s.push(3)\n",
    "print(s.elements)\n",
    "print(s.peek())\n",
    "print(s.pop())\n",
    "print(s.elements)"
   ]
  },
  {
   "cell_type": "code",
   "execution_count": null,
   "metadata": {},
   "outputs": [],
   "source": []
  }
 ],
 "metadata": {
  "kernelspec": {
   "display_name": "Python 3.9.2 64-bit",
   "language": "python",
   "name": "python3"
  },
  "language_info": {
   "codemirror_mode": {
    "name": "ipython",
    "version": 3
   },
   "file_extension": ".py",
   "mimetype": "text/x-python",
   "name": "python",
   "nbconvert_exporter": "python",
   "pygments_lexer": "ipython3",
   "version": "3.9.2"
  },
  "orig_nbformat": 4,
  "vscode": {
   "interpreter": {
    "hash": "b44dec303c593d8d8daa19f9928a44a58f5dd6858780405ef540750c1cbc0680"
   }
  }
 },
 "nbformat": 4,
 "nbformat_minor": 2
}
