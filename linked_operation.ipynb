{
 "cells": [
  {
   "cell_type": "markdown",
   "metadata": {},
   "source": [
    "# Linked List Operations: Traverse, Insert and Delete"
   ]
  },
  {
   "cell_type": "markdown",
   "metadata": {},
   "source": [
    "### operations\n",
    "1. traversal\n",
    "2. inseration\n",
    "3. deletion\n",
    "4. search\n",
    "5. sort"
   ]
  },
  {
   "cell_type": "code",
   "execution_count": null,
   "metadata": {},
   "outputs": [],
   "source": [
    "class Node:\n",
    "\n",
    "    def __init__(self,elements):\n",
    "        # assign the data \n",
    "        self.elements = elements\n",
    "        # assign the next pointer or address\n",
    "        self.next = None\n",
    "class Linked_list:\n",
    "\n",
    "    def __init__(self):\n",
    "        # assign the head \n",
    "        self.head = None\n"
   ]
  },
  {
   "cell_type": "code",
   "execution_count": null,
   "metadata": {},
   "outputs": [],
   "source": [
    "first_node = Node(9)\n",
    "second_node = Node(6)\n",
    "third_node = Node(3)\n",
    "fourth_node = Node(18)\n",
    "fifth_node  = Node(45)\n",
    "sixth_node = Node(36)\n",
    "\n",
    "# connect the nodes\n",
    "link = Linked_list()\n",
    "link.head = first_node\n",
    "first_node.next = second_node\n",
    "second_node.next = third_node\n",
    "third_node.next = fourth_node\n",
    "fourth_node.next = fifth_node\n",
    "fifth_node.next = sixth_node\n",
    "\n"
   ]
  },
  {
   "cell_type": "markdown",
   "metadata": {},
   "source": [
    "## Travers the linked_list"
   ]
  },
  {
   "cell_type": "code",
   "execution_count": null,
   "metadata": {},
   "outputs": [],
   "source": [
    "while(link.head != None):\n",
    "    print(link.head.elements)\n",
    "    link.head = link.head.next"
   ]
  },
  {
   "cell_type": "markdown",
   "metadata": {},
   "source": [
    "# Insert Elements to a Linked List\n",
    "## You can add elements to either the beginning, middle or end of the linked list."
   ]
  },
  {
   "cell_type": "code",
   "execution_count": 1,
   "metadata": {},
   "outputs": [],
   "source": [
    "class Create_node:\n",
    "\n",
    "    def __init__(self,elements):\n",
    "\n",
    "        self.elements = elements\n",
    "        self.next = None\n",
    "\n",
    "class Linked_node:\n",
    "\n",
    "    def __init__(self):\n",
    "\n",
    "        self.head = None\n",
    "    \n",
    "    def insertion_at_begin(self,new_data):\n",
    "        new_node = Create_node(new_data)\n",
    "        new_node.next = self.head\n",
    "        self.head = new_node\n",
    "    \n",
    "    def insertion_at_end(self,new_data):\n",
    "        new_node = Create_node(new_data)\n",
    "        temp = self.head\n",
    "        while(temp.next != None):\n",
    "            temp = temp.next\n",
    "        temp.next = new_node\n",
    "    \n",
    "    def insertion_at_specific(self,new_data,pos):\n",
    "        new_node = Create_node(new_data)\n",
    "        temp = self.head\n",
    "        for i in range(pos-1):\n",
    "            if (temp.next != None):\n",
    "                temp = temp.next\n",
    "        new_node.next = temp.next\n",
    "        temp.next = new_node\n",
    "\n",
    "    def iteration(self):\n",
    "        temp = self.head\n",
    "        while(temp != None):\n",
    "            print(temp.elements)\n",
    "            temp = temp.next\n"
   ]
  },
  {
   "cell_type": "code",
   "execution_count": 4,
   "metadata": {},
   "outputs": [
    {
     "name": "stdout",
     "output_type": "stream",
     "text": [
      "1\n",
      "3\n",
      "6\n",
      "78\n",
      "68\n",
      "55\n",
      "88\n",
      "9\n",
      "45\n",
      "69\n",
      "32\n",
      "885\n"
     ]
    }
   ],
   "source": [
    "like = Linked_node()\n",
    "like.insertion_at_begin(9)\n",
    "like.insertion_at_begin(6)\n",
    "like.insertion_at_begin(3)\n",
    "like.insertion_at_end(45)\n",
    "like.insertion_at_end(69)\n",
    "like.insertion_at_end(32)\n",
    "like.insertion_at_specific(78,2)\n",
    "like.insertion_at_specific(68,3)\n",
    "like.insertion_at_specific(88,4)\n",
    "like.insertion_at_end(885)\n",
    "like.insertion_at_begin(1)\n",
    "like.insertion_at_specific(55,5)\n",
    "like.iteration()"
   ]
  },
  {
   "cell_type": "code",
   "execution_count": null,
   "metadata": {},
   "outputs": [],
   "source": [
    "class color:\n",
    "\n",
    "    def __init__(self, red , green , blue):\n",
    "\n",
    "        self.red = red\n",
    "        self.green = green\n",
    "        self.blue = blue\n",
    "    \n",
    "    def __str__(self):\n",
    "        return \"color : R = {0:d},G = {1:d},B = {2:d}\".format(self.red,self.green,self.blue)"
   ]
  },
  {
   "cell_type": "code",
   "execution_count": null,
   "metadata": {},
   "outputs": [],
   "source": [
    "co = color(0,1,2)"
   ]
  },
  {
   "cell_type": "code",
   "execution_count": null,
   "metadata": {},
   "outputs": [],
   "source": [
    "co.blue"
   ]
  },
  {
   "cell_type": "code",
   "execution_count": null,
   "metadata": {},
   "outputs": [],
   "source": [
    "class fruit:\n",
    "    \"\"\"docstring is displayed\"\"\"\n",
    "    pass"
   ]
  },
  {
   "cell_type": "code",
   "execution_count": null,
   "metadata": {},
   "outputs": [],
   "source": [
    "f = fruit()"
   ]
  },
  {
   "cell_type": "code",
   "execution_count": null,
   "metadata": {},
   "outputs": [],
   "source": [
    "fruit"
   ]
  },
  {
   "cell_type": "code",
   "execution_count": null,
   "metadata": {},
   "outputs": [],
   "source": [
    "class fruit:\n",
    "    \"\"\"this class displayed instance of the class\"\"\"\n",
    "    color = ''\n",
    "    def sayhi(self):\n",
    "        print(\"hi\")"
   ]
  },
  {
   "cell_type": "code",
   "execution_count": null,
   "metadata": {},
   "outputs": [],
   "source": [
    "f = fruit()"
   ]
  },
  {
   "cell_type": "code",
   "execution_count": null,
   "metadata": {},
   "outputs": [],
   "source": [
    "class try1:\n",
    "    def mymethod(self):\n",
    "        def sayhello():\n",
    "            print(\"hello word\")\n",
    "        sayhello()\n",
    "    "
   ]
  },
  {
   "cell_type": "code",
   "execution_count": null,
   "metadata": {},
   "outputs": [],
   "source": [
    "t = try1()\n",
    "t.mymethod()"
   ]
  },
  {
   "cell_type": "code",
   "execution_count": null,
   "metadata": {},
   "outputs": [],
   "source": [
    "class size:\n",
    "    def size(self,x):\n",
    "        print(f\"i am size {x}\")"
   ]
  },
  {
   "cell_type": "code",
   "execution_count": null,
   "metadata": {},
   "outputs": [],
   "source": [
    "s = size()\n",
    "s.size(6)"
   ]
  },
  {
   "cell_type": "code",
   "execution_count": null,
   "metadata": {},
   "outputs": [],
   "source": [
    "class color:\n",
    "    def __init__(self,red,blue):\n",
    "        self.red = red \n",
    "        self.blue = blue\n",
    "\n",
    "    def sayhello(self):\n",
    "        print(f\"{self.blue} and {self.red}\")"
   ]
  },
  {
   "cell_type": "code",
   "execution_count": null,
   "metadata": {},
   "outputs": [],
   "source": [
    "co = color(66,35)\n",
    "co.sayhello()"
   ]
  },
  {
   "cell_type": "code",
   "execution_count": null,
   "metadata": {},
   "outputs": [],
   "source": [
    "class fruit:\n",
    "    def __init__(self,color , size):\n",
    "        self.color = color\n",
    "        self.size = size\n",
    "    \n",
    "    def show(self):\n",
    "        print(f\"{self.color} and size {self.size}\")"
   ]
  },
  {
   "cell_type": "code",
   "execution_count": null,
   "metadata": {},
   "outputs": [],
   "source": [
    "f = fruit('red',25)\n",
    "f.show()"
   ]
  },
  {
   "cell_type": "code",
   "execution_count": null,
   "metadata": {},
   "outputs": [],
   "source": [
    "print(f.color)\n",
    "print(f.size)\n",
    "print(f.show())"
   ]
  },
  {
   "cell_type": "code",
   "execution_count": null,
   "metadata": {},
   "outputs": [],
   "source": [
    "result = fruit('green',36)\n",
    "result.show()"
   ]
  },
  {
   "cell_type": "code",
   "execution_count": null,
   "metadata": {},
   "outputs": [],
   "source": [
    "class fruit:\n",
    "    size = 'small'\n",
    "    def __init__(self,color,shape):\n",
    "        self.color = color\n",
    "        self.shape = shape\n",
    "\n",
    "    def simulation(self):\n",
    "        print(f\"{self.color} and shape {self.shape}\")"
   ]
  },
  {
   "cell_type": "code",
   "execution_count": null,
   "metadata": {},
   "outputs": [],
   "source": [
    "ff = fruit('red','round')\n",
    "ff.simulation()"
   ]
  },
  {
   "cell_type": "code",
   "execution_count": null,
   "metadata": {},
   "outputs": [],
   "source": [
    "ff.size"
   ]
  },
  {
   "cell_type": "code",
   "execution_count": null,
   "metadata": {},
   "outputs": [],
   "source": [
    "orange = fruit('blue','circle')\n",
    "orange.simulation()"
   ]
  },
  {
   "cell_type": "code",
   "execution_count": null,
   "metadata": {},
   "outputs": [],
   "source": [
    "class car:\n",
    "    def __init__(self,brand,model,color,fuel):\n",
    "        self.brand = brand\n",
    "        self.model = model\n",
    "        self.color = color\n",
    "        self.fuel = fuel\n",
    "    \n",
    "    def start(self):\n",
    "        pass\n",
    "    def stop(self):\n",
    "        pass\n",
    "    def halt(self):\n",
    "        pass\n",
    "    \n",
    "\n"
   ]
  },
  {
   "cell_type": "code",
   "execution_count": null,
   "metadata": {},
   "outputs": [],
   "source": [
    "c = car('suzaki','red','petrol','m1')\n",
    "c.start()"
   ]
  },
  {
   "cell_type": "code",
   "execution_count": null,
   "metadata": {},
   "outputs": [],
   "source": [
    "class try11:\n",
    "\n",
    "    def __init__(self):\n",
    "        pass\n",
    "    def printsay(self):\n",
    "        print(\"hello word\")"
   ]
  },
  {
   "cell_type": "code",
   "execution_count": 3,
   "metadata": {},
   "outputs": [],
   "source": [
    "class Name:\n",
    "    def __init__(self):\n",
    "        pass\n",
    "\n",
    "    def printname(self,name):\n",
    "        print(f\"{name} is my name..?\")"
   ]
  },
  {
   "cell_type": "code",
   "execution_count": 4,
   "metadata": {},
   "outputs": [
    {
     "name": "stdout",
     "output_type": "stream",
     "text": [
      "manjunath kannur is my name..?\n"
     ]
    }
   ],
   "source": [
    "nn = Name()\n",
    "nn.printname('manjunath kannur')"
   ]
  },
  {
   "cell_type": "code",
   "execution_count": 5,
   "metadata": {},
   "outputs": [],
   "source": [
    "class Animal:\n",
    "    def __init__(self,species,gender):\n",
    "        self.species = species\n",
    "        self.gender = gender\n",
    "    \n",
    "    def printname(self):\n",
    "        print(f\"my gender is {self.gender} & species{self.species}\")"
   ]
  },
  {
   "cell_type": "code",
   "execution_count": 6,
   "metadata": {},
   "outputs": [],
   "source": [
    "an = Animal('male','human')"
   ]
  },
  {
   "cell_type": "code",
   "execution_count": 7,
   "metadata": {},
   "outputs": [
    {
     "name": "stdout",
     "output_type": "stream",
     "text": [
      "my gender is human & speciesmale\n"
     ]
    }
   ],
   "source": [
    "an.printname()"
   ]
  },
  {
   "cell_type": "code",
   "execution_count": 9,
   "metadata": {},
   "outputs": [
    {
     "name": "stdout",
     "output_type": "stream",
     "text": [
      "human\n",
      "male\n"
     ]
    }
   ],
   "source": [
    "print(an.gender)\n",
    "print(an.species)"
   ]
  },
  {
   "cell_type": "code",
   "execution_count": 14,
   "metadata": {},
   "outputs": [],
   "source": [
    "class try2:\n",
    "    def sayhello(self,name):\n",
    "        print(f\"hello my name is something {name}\")\n"
   ]
  },
  {
   "cell_type": "code",
   "execution_count": 16,
   "metadata": {},
   "outputs": [
    {
     "name": "stdout",
     "output_type": "stream",
     "text": [
      "hello my name is something manjunath\n"
     ]
    }
   ],
   "source": [
    "t = try2()\n",
    "t.sayhello('manjunath')"
   ]
  },
  {
   "cell_type": "code",
   "execution_count": 17,
   "metadata": {},
   "outputs": [],
   "source": [
    "class fruit:\n",
    "    def printstate(self,state):\n",
    "        print(f\"the orange state is {state}\")"
   ]
  },
  {
   "cell_type": "code",
   "execution_count": 19,
   "metadata": {},
   "outputs": [
    {
     "name": "stdout",
     "output_type": "stream",
     "text": [
      "the orange state is yarazari\n"
     ]
    }
   ],
   "source": [
    "f = fruit()\n",
    "f.printstate('yarazari')"
   ]
  },
  {
   "cell_type": "code",
   "execution_count": 22,
   "metadata": {},
   "outputs": [],
   "source": [
    "class result:\n",
    "    def __init__(self,chem , phy, math):\n",
    "        self.math = math\n",
    "        self.chem = chem\n",
    "        self.phy = phy\n",
    "\n",
    "    def final(self):\n",
    "        total = (self.chem+self.phy+self.math)/3\n",
    "        print(f\"final result is {total}\")"
   ]
  },
  {
   "cell_type": "code",
   "execution_count": 23,
   "metadata": {},
   "outputs": [
    {
     "name": "stdout",
     "output_type": "stream",
     "text": [
      "final result is 95.0\n"
     ]
    }
   ],
   "source": [
    "rr = result(90,99,96)\n",
    "rr.final()"
   ]
  },
  {
   "cell_type": "code",
   "execution_count": 24,
   "metadata": {},
   "outputs": [
    {
     "name": "stdout",
     "output_type": "stream",
     "text": [
      "90\n",
      "99\n",
      "96\n"
     ]
    }
   ],
   "source": [
    "print(rr.chem)\n",
    "print(rr.phy)\n",
    "print(rr.math)"
   ]
  },
  {
   "cell_type": "code",
   "execution_count": 25,
   "metadata": {},
   "outputs": [],
   "source": [
    "class three:\n",
    "    val = 99\n",
    "    "
   ]
  },
  {
   "cell_type": "code",
   "execution_count": 26,
   "metadata": {},
   "outputs": [
    {
     "data": {
      "text/plain": [
       "99"
      ]
     },
     "execution_count": 26,
     "metadata": {},
     "output_type": "execute_result"
    }
   ],
   "source": [
    "three.val"
   ]
  },
  {
   "cell_type": "code",
   "execution_count": 27,
   "metadata": {},
   "outputs": [],
   "source": [
    "class name:\n",
    "    f_name = 'manjunath'\n",
    "    l_name = 'kannur'\n",
    "    m_name = 'siddappa'\n",
    "    age = 32\n",
    "    def sayhelo(self):\n",
    "        print(f\"first name is {self.f_name} and last name is {self.l_name} middle name {self.m_name} and the age {self.age}\")"
   ]
  },
  {
   "cell_type": "code",
   "execution_count": 28,
   "metadata": {},
   "outputs": [
    {
     "name": "stdout",
     "output_type": "stream",
     "text": [
      "first name is manjunath and last name is kannur middle name siddappa and the age 32\n"
     ]
    }
   ],
   "source": [
    "khan = name()\n",
    "khan.sayhelo()"
   ]
  },
  {
   "cell_type": "code",
   "execution_count": 29,
   "metadata": {},
   "outputs": [],
   "source": [
    "class value:\n",
    "    def sayhelo(self,val):\n",
    "        self.val = val\n",
    "        "
   ]
  },
  {
   "cell_type": "code",
   "execution_count": 31,
   "metadata": {},
   "outputs": [
    {
     "data": {
      "text/plain": [
       "8"
      ]
     },
     "execution_count": 31,
     "metadata": {},
     "output_type": "execute_result"
    }
   ],
   "source": [
    "v = value()\n",
    "v.sayhelo(8)\n",
    "v.val"
   ]
  },
  {
   "cell_type": "code",
   "execution_count": 32,
   "metadata": {},
   "outputs": [
    {
     "data": {
      "text/plain": [
       "9"
      ]
     },
     "execution_count": 32,
     "metadata": {},
     "output_type": "execute_result"
    }
   ],
   "source": [
    "v.sayhelo(9)\n",
    "v.val"
   ]
  },
  {
   "cell_type": "code",
   "execution_count": 33,
   "metadata": {},
   "outputs": [],
   "source": [
    "class three:\n",
    "    def sayhello(self,val):\n",
    "        self.val = val\n",
    "        print(self.val)\n"
   ]
  },
  {
   "cell_type": "code",
   "execution_count": 34,
   "metadata": {},
   "outputs": [
    {
     "name": "stdout",
     "output_type": "stream",
     "text": [
      "9\n"
     ]
    }
   ],
   "source": [
    "th = three()\n",
    "th.sayhello(9)"
   ]
  },
  {
   "cell_type": "code",
   "execution_count": 35,
   "metadata": {},
   "outputs": [
    {
     "data": {
      "text/plain": [
       "9"
      ]
     },
     "execution_count": 35,
     "metadata": {},
     "output_type": "execute_result"
    }
   ],
   "source": [
    "th.val"
   ]
  },
  {
   "cell_type": "code",
   "execution_count": 40,
   "metadata": {},
   "outputs": [],
   "source": [
    "class three:\n",
    "    def sayhello(self):\n",
    "        self.val = input(\"whats new values?\")\n",
    "        print(self.val)"
   ]
  },
  {
   "cell_type": "code",
   "execution_count": 41,
   "metadata": {},
   "outputs": [
    {
     "name": "stdout",
     "output_type": "stream",
     "text": [
      "9\n"
     ]
    },
    {
     "data": {
      "text/plain": [
       "'9'"
      ]
     },
     "execution_count": 41,
     "metadata": {},
     "output_type": "execute_result"
    }
   ],
   "source": [
    "th = three()\n",
    "th.sayhello()\n",
    "th.val"
   ]
  },
  {
   "cell_type": "code",
   "execution_count": 42,
   "metadata": {},
   "outputs": [],
   "source": [
    "class demo:\n",
    "    def __new__(self):\n",
    "        return \"python\""
   ]
  },
  {
   "cell_type": "code",
   "execution_count": 43,
   "metadata": {},
   "outputs": [],
   "source": [
    "d = demo()"
   ]
  },
  {
   "cell_type": "code",
   "execution_count": 44,
   "metadata": {},
   "outputs": [
    {
     "data": {
      "text/plain": [
       "<function str.__new__(*args, **kwargs)>"
      ]
     },
     "execution_count": 44,
     "metadata": {},
     "output_type": "execute_result"
    }
   ],
   "source": [
    "d.__new__"
   ]
  },
  {
   "cell_type": "code",
   "execution_count": 45,
   "metadata": {},
   "outputs": [
    {
     "data": {
      "text/plain": [
       "str"
      ]
     },
     "execution_count": 45,
     "metadata": {},
     "output_type": "execute_result"
    }
   ],
   "source": [
    "type(d)"
   ]
  },
  {
   "cell_type": "code",
   "execution_count": 47,
   "metadata": {},
   "outputs": [
    {
     "name": "stdout",
     "output_type": "stream",
     "text": [
      "python\n"
     ]
    }
   ],
   "source": [
    "print(d)"
   ]
  },
  {
   "cell_type": "code",
   "execution_count": 50,
   "metadata": {},
   "outputs": [],
   "source": [
    "class something:\n",
    "    def __init__(self,name):\n",
    "        self.name = name\n"
   ]
  },
  {
   "cell_type": "code",
   "execution_count": 51,
   "metadata": {},
   "outputs": [],
   "source": [
    "so = something(\"manjunath\")"
   ]
  },
  {
   "cell_type": "code",
   "execution_count": 52,
   "metadata": {},
   "outputs": [
    {
     "name": "stdout",
     "output_type": "stream",
     "text": [
      "<__main__.something object at 0x00000268B7EE3490>\n"
     ]
    }
   ],
   "source": [
    "print(so)"
   ]
  },
  {
   "cell_type": "code",
   "execution_count": 53,
   "metadata": {},
   "outputs": [],
   "source": [
    "dd = demo()"
   ]
  },
  {
   "cell_type": "code",
   "execution_count": 54,
   "metadata": {},
   "outputs": [
    {
     "name": "stdout",
     "output_type": "stream",
     "text": [
      "python\n"
     ]
    }
   ],
   "source": [
    "print(dd)"
   ]
  },
  {
   "cell_type": "code",
   "execution_count": 55,
   "metadata": {},
   "outputs": [],
   "source": [
    "class color(object):\n",
    "    def sayhello(self):\n",
    "        print(\"hello word...\")"
   ]
  },
  {
   "cell_type": "code",
   "execution_count": 56,
   "metadata": {},
   "outputs": [],
   "source": [
    "c = color()"
   ]
  },
  {
   "cell_type": "code",
   "execution_count": 57,
   "metadata": {},
   "outputs": [
    {
     "name": "stdout",
     "output_type": "stream",
     "text": [
      "hello word...\n"
     ]
    }
   ],
   "source": [
    "c.sayhello()"
   ]
  },
  {
   "cell_type": "code",
   "execution_count": 58,
   "metadata": {},
   "outputs": [],
   "source": [
    "class demo:\n",
    "    def sayhello(self):\n",
    "        print(\"thanks for sharing me \")"
   ]
  },
  {
   "cell_type": "code",
   "execution_count": 59,
   "metadata": {},
   "outputs": [
    {
     "name": "stdout",
     "output_type": "stream",
     "text": [
      "thanks for sharing me \n"
     ]
    }
   ],
   "source": [
    "d = demo()\n",
    "d.sayhello()"
   ]
  },
  {
   "cell_type": "code",
   "execution_count": 60,
   "metadata": {},
   "outputs": [],
   "source": [
    "class demo:\n",
    "    def __init__(self):\n",
    "        print(\"thanks for sharing something here\")"
   ]
  },
  {
   "cell_type": "code",
   "execution_count": 61,
   "metadata": {},
   "outputs": [
    {
     "name": "stdout",
     "output_type": "stream",
     "text": [
      "thanks for sharing something here\n"
     ]
    }
   ],
   "source": [
    "dd = demo()"
   ]
  },
  {
   "cell_type": "code",
   "execution_count": 62,
   "metadata": {},
   "outputs": [],
   "source": [
    "class breakfast:\n",
    "    def __init__(self):\n",
    "        self.tea = 'black'\n",
    "        self.drink = 'cup of tea'\n",
    "    def sayhello(self):\n",
    "        print(f\"moring breakfast{self.tea} and then {self.drink}\")"
   ]
  },
  {
   "cell_type": "code",
   "execution_count": 63,
   "metadata": {},
   "outputs": [
    {
     "name": "stdout",
     "output_type": "stream",
     "text": [
      "moring breakfastblack and then cup of tea\n"
     ]
    }
   ],
   "source": [
    "bp = breakfast()\n",
    "bp.sayhello()"
   ]
  },
  {
   "cell_type": "code",
   "execution_count": 64,
   "metadata": {},
   "outputs": [],
   "source": [
    "class sayhello:\n",
    "    def __init__(self):\n",
    "        self.gender = 'male'\n",
    "        self.name = 'manjunath'\n",
    "        self.age = 33\n",
    "        self.last_name = 'kannur'\n",
    "    def show(self):\n",
    "        print(f\"my name is{self.name} & gender {self.gender} & {self.last_name} & {self.last_name}\")"
   ]
  },
  {
   "cell_type": "code",
   "execution_count": 65,
   "metadata": {},
   "outputs": [
    {
     "name": "stdout",
     "output_type": "stream",
     "text": [
      "my name ismanjunath & gender male & kannur & kannur\n"
     ]
    }
   ],
   "source": [
    "say = sayhello()\n",
    "say.show()"
   ]
  },
  {
   "cell_type": "code",
   "execution_count": 66,
   "metadata": {},
   "outputs": [],
   "source": [
    "class some:\n",
    "    def __init__(self):\n",
    "        self.name = None\n",
    "        self.age = None\n",
    "    def say(self):\n",
    "        print(self.name)\n",
    "        print(self.age)"
   ]
  },
  {
   "cell_type": "code",
   "execution_count": 67,
   "metadata": {},
   "outputs": [],
   "source": [
    "class demo:\n",
    "    def __init__(self,name ,age):\n",
    "        self.name = name\n",
    "        self.age = age\n",
    "    def show(self):\n",
    "        print(f\"my name is {self.name} ang age {self.age}\")\n",
    "        "
   ]
  },
  {
   "cell_type": "code",
   "execution_count": 69,
   "metadata": {},
   "outputs": [
    {
     "name": "stdout",
     "output_type": "stream",
     "text": [
      "my name is renukadevi ang age 999\n"
     ]
    }
   ],
   "source": [
    "dd = demo('renukadevi',999)\n",
    "dd.show()"
   ]
  },
  {
   "cell_type": "code",
   "execution_count": 70,
   "metadata": {},
   "outputs": [],
   "source": [
    "class one:\n",
    "    def __init__(self):\n",
    "        print(\"first constructor\")\n",
    "    def __init__(self):\n",
    "        print(\"second constructor\")"
   ]
  },
  {
   "cell_type": "code",
   "execution_count": 71,
   "metadata": {},
   "outputs": [
    {
     "name": "stdout",
     "output_type": "stream",
     "text": [
      "second constructor\n"
     ]
    }
   ],
   "source": [
    "o = one()"
   ]
  },
  {
   "cell_type": "code",
   "execution_count": 72,
   "metadata": {},
   "outputs": [],
   "source": [
    "class one :\n",
    "    def __init__(self):\n",
    "        print(\"first constructor\")\n",
    "    def __init__(self,val):\n",
    "        print(f\"sayhello {val}\")"
   ]
  },
  {
   "cell_type": "code",
   "execution_count": 74,
   "metadata": {},
   "outputs": [
    {
     "name": "stdout",
     "output_type": "stream",
     "text": [
      "sayhello 8\n"
     ]
    }
   ],
   "source": [
    "o = one(8)"
   ]
  },
  {
   "cell_type": "code",
   "execution_count": 75,
   "metadata": {},
   "outputs": [],
   "source": [
    "class two:\n",
    "    def __init__(self,val):\n",
    "        self.item = val\n",
    "    def sayheloo(self,wala):\n",
    "        print(f\"{self.item},{wala}\")"
   ]
  },
  {
   "cell_type": "code",
   "execution_count": 77,
   "metadata": {},
   "outputs": [
    {
     "name": "stdout",
     "output_type": "stream",
     "text": [
      "9,99\n"
     ]
    }
   ],
   "source": [
    "t =two(9)\n",
    "t.sayheloo(99)"
   ]
  },
  {
   "cell_type": "code",
   "execution_count": 78,
   "metadata": {},
   "outputs": [],
   "source": [
    "class one:\n",
    "    def __init__(self,o = 9,t = 6):\n",
    "        self.first = o\n",
    "        self.second = t\n",
    "    def sayhellp(self):\n",
    "        print(f\"{self.first} and {self.second}\")"
   ]
  },
  {
   "cell_type": "code",
   "execution_count": 80,
   "metadata": {},
   "outputs": [
    {
     "name": "stdout",
     "output_type": "stream",
     "text": [
      "9 and 6\n"
     ]
    }
   ],
   "source": [
    "o = one()\n",
    "o.sayhellp()"
   ]
  },
  {
   "cell_type": "code",
   "execution_count": 81,
   "metadata": {},
   "outputs": [],
   "source": [
    "o = one(88,77)"
   ]
  },
  {
   "cell_type": "code",
   "execution_count": 82,
   "metadata": {},
   "outputs": [
    {
     "name": "stdout",
     "output_type": "stream",
     "text": [
      "88 and 77\n"
     ]
    }
   ],
   "source": [
    "o.sayhellp()"
   ]
  },
  {
   "cell_type": "code",
   "execution_count": 87,
   "metadata": {},
   "outputs": [
    {
     "ename": "TypeError",
     "evalue": "'one' object is not callable",
     "output_type": "error",
     "traceback": [
      "\u001b[1;31m---------------------------------------------------------------------------\u001b[0m",
      "\u001b[1;31mTypeError\u001b[0m                                 Traceback (most recent call last)",
      "\u001b[1;32m~\\AppData\\Local\\Temp/ipykernel_9968/1873050158.py\u001b[0m in \u001b[0;36m<module>\u001b[1;34m\u001b[0m\n\u001b[1;32m----> 1\u001b[1;33m \u001b[0mshow\u001b[0m \u001b[1;33m=\u001b[0m \u001b[0mone\u001b[0m\u001b[1;33m(\u001b[0m\u001b[1;33m)\u001b[0m\u001b[1;33m\u001b[0m\u001b[1;33m\u001b[0m\u001b[0m\n\u001b[0m\u001b[0;32m      2\u001b[0m \u001b[0mshow\u001b[0m\u001b[1;33m.\u001b[0m\u001b[0msayhellp\u001b[0m\u001b[1;33m(\u001b[0m\u001b[1;33m)\u001b[0m\u001b[1;33m\u001b[0m\u001b[1;33m\u001b[0m\u001b[0m\n",
      "\u001b[1;31mTypeError\u001b[0m: 'one' object is not callable"
     ]
    }
   ],
   "source": [
    "show = one()\n",
    "show.sayhellp()"
   ]
  },
  {
   "cell_type": "code",
   "execution_count": 88,
   "metadata": {},
   "outputs": [
    {
     "data": {
      "text/plain": [
       "int"
      ]
     },
     "execution_count": 88,
     "metadata": {},
     "output_type": "execute_result"
    }
   ],
   "source": [
    "type(9)"
   ]
  },
  {
   "cell_type": "code",
   "execution_count": 89,
   "metadata": {},
   "outputs": [
    {
     "name": "stdout",
     "output_type": "stream",
     "text": [
      "<class 'int'>\n"
     ]
    }
   ],
   "source": [
    "print(type(9))"
   ]
  },
  {
   "cell_type": "code",
   "execution_count": 90,
   "metadata": {},
   "outputs": [
    {
     "name": "stdout",
     "output_type": "stream",
     "text": [
      "<class 'list'>\n"
     ]
    }
   ],
   "source": [
    "a = [1,5,6]\n",
    "print(type(a))"
   ]
  },
  {
   "cell_type": "code",
   "execution_count": 92,
   "metadata": {},
   "outputs": [],
   "source": [
    "def sayhellooooo():\n",
    "    print(\"helo\")"
   ]
  },
  {
   "cell_type": "code",
   "execution_count": 93,
   "metadata": {},
   "outputs": [
    {
     "data": {
      "text/plain": [
       "function"
      ]
     },
     "execution_count": 93,
     "metadata": {},
     "output_type": "execute_result"
    }
   ],
   "source": [
    "type(sayhellooooo)"
   ]
  },
  {
   "cell_type": "code",
   "execution_count": 94,
   "metadata": {},
   "outputs": [
    {
     "name": "stdout",
     "output_type": "stream",
     "text": [
      "<class 'bool'>\n"
     ]
    }
   ],
   "source": [
    "a = True\n",
    "print(type(a))"
   ]
  },
  {
   "cell_type": "code",
   "execution_count": 95,
   "metadata": {},
   "outputs": [],
   "source": [
    "class fruit:\n",
    "    pass\n"
   ]
  },
  {
   "cell_type": "code",
   "execution_count": 96,
   "metadata": {},
   "outputs": [
    {
     "data": {
      "text/plain": [
       "type"
      ]
     },
     "execution_count": 96,
     "metadata": {},
     "output_type": "execute_result"
    }
   ],
   "source": [
    "type(fruit)"
   ]
  },
  {
   "cell_type": "code",
   "execution_count": 97,
   "metadata": {},
   "outputs": [
    {
     "data": {
      "text/plain": [
       "__main__.fruit"
      ]
     },
     "execution_count": 97,
     "metadata": {},
     "output_type": "execute_result"
    }
   ],
   "source": [
    "fruit"
   ]
  },
  {
   "cell_type": "code",
   "execution_count": 98,
   "metadata": {},
   "outputs": [],
   "source": [
    "class fruit:\n",
    "    def __init__(self,name ,age):\n",
    "        self.name = name\n",
    "        self.age = age\n",
    "    \n",
    "    def sayhello(self):\n",
    "        print(f\"my name is {self.name} and my age {self.age}\")"
   ]
  },
  {
   "cell_type": "code",
   "execution_count": 99,
   "metadata": {},
   "outputs": [],
   "source": [
    "f = fruit('hanuman',55)"
   ]
  },
  {
   "cell_type": "code",
   "execution_count": 100,
   "metadata": {},
   "outputs": [
    {
     "name": "stdout",
     "output_type": "stream",
     "text": [
      "my name is hanuman and my age 55\n"
     ]
    }
   ],
   "source": [
    "f.sayhello()"
   ]
  },
  {
   "cell_type": "code",
   "execution_count": 101,
   "metadata": {},
   "outputs": [],
   "source": [
    "class person:\n",
    "    def sayhello(self):\n",
    "        print(\"hello\")"
   ]
  },
  {
   "cell_type": "code",
   "execution_count": 102,
   "metadata": {},
   "outputs": [
    {
     "name": "stdout",
     "output_type": "stream",
     "text": [
      "hello\n"
     ]
    }
   ],
   "source": [
    "p = person()\n",
    "p.sayhello()"
   ]
  },
  {
   "cell_type": "code",
   "execution_count": 103,
   "metadata": {},
   "outputs": [
    {
     "name": "stdout",
     "output_type": "stream",
     "text": [
      "hello\n"
     ]
    }
   ],
   "source": [
    "malingray_prasann = p\n",
    "malingray_prasann.sayhello()"
   ]
  },
  {
   "cell_type": "code",
   "execution_count": 104,
   "metadata": {},
   "outputs": [
    {
     "data": {
      "text/plain": [
       "True"
      ]
     },
     "execution_count": 104,
     "metadata": {},
     "output_type": "execute_result"
    }
   ],
   "source": [
    "id(p) == id(malingray_prasann)"
   ]
  },
  {
   "cell_type": "code",
   "execution_count": 105,
   "metadata": {},
   "outputs": [
    {
     "data": {
      "text/plain": [
       "2648769121920"
      ]
     },
     "execution_count": 105,
     "metadata": {},
     "output_type": "execute_result"
    }
   ],
   "source": [
    "id(malingray_prasann)"
   ]
  },
  {
   "cell_type": "code",
   "execution_count": 106,
   "metadata": {},
   "outputs": [
    {
     "data": {
      "text/plain": [
       "2648769121920"
      ]
     },
     "execution_count": 106,
     "metadata": {},
     "output_type": "execute_result"
    }
   ],
   "source": [
    "id(p)"
   ]
  },
  {
   "cell_type": "code",
   "execution_count": 107,
   "metadata": {},
   "outputs": [
    {
     "data": {
      "text/plain": [
       "165548070120"
      ]
     },
     "execution_count": 107,
     "metadata": {},
     "output_type": "execute_result"
    }
   ],
   "source": [
    "hash(p)"
   ]
  },
  {
   "cell_type": "code",
   "execution_count": 108,
   "metadata": {},
   "outputs": [],
   "source": [
    "class person:\n",
    "    pass\n",
    "class student(person):\n",
    "    pass"
   ]
  },
  {
   "cell_type": "code",
   "execution_count": 109,
   "metadata": {},
   "outputs": [
    {
     "data": {
      "text/plain": [
       "False"
      ]
     },
     "execution_count": 109,
     "metadata": {},
     "output_type": "execute_result"
    }
   ],
   "source": [
    "issubclass(person,student)"
   ]
  },
  {
   "cell_type": "code",
   "execution_count": 110,
   "metadata": {},
   "outputs": [
    {
     "data": {
      "text/plain": [
       "True"
      ]
     },
     "execution_count": 110,
     "metadata": {},
     "output_type": "execute_result"
    }
   ],
   "source": [
    "issubclass(student,person)"
   ]
  },
  {
   "cell_type": "code",
   "execution_count": 117,
   "metadata": {},
   "outputs": [],
   "source": [
    "x = 0\n",
    "class fruit:\n",
    "\n",
    "    def __init__(self):\n",
    "        global x\n",
    "        x+=1\n",
    "        print(\"i am pretty girl\",x)\n",
    "\n",
    "class citrus(fruit):\n",
    "    \n",
    "    def __init__(self):\n",
    "        super().__init__()\n",
    "        global x \n",
    "        x+=2\n",
    "        print(\"i am krisna\",x)\n"
   ]
  },
  {
   "cell_type": "code",
   "execution_count": 118,
   "metadata": {},
   "outputs": [
    {
     "data": {
      "text/plain": [
       "0"
      ]
     },
     "execution_count": 118,
     "metadata": {},
     "output_type": "execute_result"
    }
   ],
   "source": [
    "x"
   ]
  },
  {
   "cell_type": "code",
   "execution_count": 119,
   "metadata": {},
   "outputs": [
    {
     "name": "stdout",
     "output_type": "stream",
     "text": [
      "i am pretty girl 1\n",
      "i am krisna 3\n"
     ]
    }
   ],
   "source": [
    "shine = citrus()"
   ]
  },
  {
   "cell_type": "code",
   "execution_count": 120,
   "metadata": {},
   "outputs": [],
   "source": [
    "class fruit:\n",
    "    pass\n",
    "class orange:\n",
    "    pass\n",
    "class makefruit(fruit,orange):\n",
    "    pass"
   ]
  },
  {
   "cell_type": "code",
   "execution_count": 121,
   "metadata": {},
   "outputs": [
    {
     "data": {
      "text/plain": [
       "False"
      ]
     },
     "execution_count": 121,
     "metadata": {},
     "output_type": "execute_result"
    }
   ],
   "source": [
    "issubclass(fruit,orange)"
   ]
  },
  {
   "cell_type": "code",
   "execution_count": 125,
   "metadata": {},
   "outputs": [],
   "source": [
    "class vehicle:\n",
    "\n",
    "    def start(self):\n",
    "        print(\"start the button\")\n",
    "    \n",
    "    def stop(self):\n",
    "        print(\"stop the vehicle\")\n",
    "\n",
    "class twowheelar(vehicle):\n",
    "    def show(self):\n",
    "        super().start()\n",
    "        print(\"start the button\")\n",
    "        super().stop()\n",
    "        # print(\"stop the vehicle\")"
   ]
  },
  {
   "cell_type": "code",
   "execution_count": 126,
   "metadata": {},
   "outputs": [],
   "source": [
    "two = twowheelar()"
   ]
  },
  {
   "cell_type": "code",
   "execution_count": 127,
   "metadata": {},
   "outputs": [
    {
     "name": "stdout",
     "output_type": "stream",
     "text": [
      "start the button\n",
      "start the button\n",
      "stop the vehicle\n"
     ]
    }
   ],
   "source": [
    "two.show()"
   ]
  },
  {
   "cell_type": "code",
   "execution_count": 133,
   "metadata": {},
   "outputs": [],
   "source": [
    "class something:\n",
    "    \n",
    "    def __init__(self,name,age):\n",
    "        self.name = name\n",
    "        self.age = age\n",
    "    def show(self):\n",
    "        print(f\"{self.name} and {self.age}\")\n",
    "\n",
    "class makelist(something):\n",
    "    \n",
    "    def sayhello(self):\n",
    "        super().show()\n",
    "        \n"
   ]
  },
  {
   "cell_type": "code",
   "execution_count": 135,
   "metadata": {},
   "outputs": [
    {
     "name": "stdout",
     "output_type": "stream",
     "text": [
      "manjunath and 33\n"
     ]
    }
   ],
   "source": [
    "make = makelist('manjunath',33)\n",
    "make.sayhello()"
   ]
  },
  {
   "cell_type": "code",
   "execution_count": 136,
   "metadata": {},
   "outputs": [],
   "source": [
    "class A:\n",
    "    def sayhelloooo(self):\n",
    "        print(\"my name is hello A\")\n",
    "\n",
    "class B(A):\n",
    "    def sayhelloooo(self):\n",
    "        print(\"doctor say\")"
   ]
  },
  {
   "cell_type": "code",
   "execution_count": 138,
   "metadata": {},
   "outputs": [
    {
     "name": "stdout",
     "output_type": "stream",
     "text": [
      "doctor say\n"
     ]
    }
   ],
   "source": [
    "o = B()\n",
    "o.sayhelloooo()"
   ]
  },
  {
   "cell_type": "code",
   "execution_count": 139,
   "metadata": {},
   "outputs": [],
   "source": [
    "class mother:\n",
    "    pass\n",
    "class another:\n",
    "    pass\n",
    "class make(mother,another):\n",
    "    pass"
   ]
  },
  {
   "cell_type": "code",
   "execution_count": 140,
   "metadata": {},
   "outputs": [],
   "source": [
    "# spam = 'test spam'\n",
    "# def test_scop():\n",
    "#     def do_local():\n",
    "#         spam = \"local spam\"\n",
    "#     def do_nonlocal():\n",
    "#         nonlocal spam\n",
    "#         spam = \"non local variable\"\n",
    "#     def do_global():\n",
    "#         spam = \"earth to make the variable\"\n",
    "    "
   ]
  },
  {
   "cell_type": "code",
   "execution_count": 141,
   "metadata": {},
   "outputs": [],
   "source": [
    "class myclass:\n",
    "    val = 1365447\n",
    "\n",
    "    def show(self):\n",
    "        print(\"hello word...\")"
   ]
  },
  {
   "cell_type": "code",
   "execution_count": 142,
   "metadata": {},
   "outputs": [
    {
     "name": "stdout",
     "output_type": "stream",
     "text": [
      "hello word...\n"
     ]
    }
   ],
   "source": [
    "my = myclass()\n",
    "my.show()"
   ]
  },
  {
   "cell_type": "code",
   "execution_count": 143,
   "metadata": {},
   "outputs": [
    {
     "data": {
      "text/plain": [
       "1365447"
      ]
     },
     "execution_count": 143,
     "metadata": {},
     "output_type": "execute_result"
    }
   ],
   "source": [
    "my.val"
   ]
  },
  {
   "cell_type": "code",
   "execution_count": 144,
   "metadata": {},
   "outputs": [],
   "source": [
    "class complex:\n",
    "    def __init__(self,realpart , imaginary):\n",
    "        self.r = realpart\n",
    "        self.i = imaginary\n",
    "    "
   ]
  },
  {
   "cell_type": "code",
   "execution_count": 147,
   "metadata": {},
   "outputs": [
    {
     "name": "stdout",
     "output_type": "stream",
     "text": [
      "3.6\n",
      "9\n"
     ]
    }
   ],
   "source": [
    "com = complex(9,3.6)\n",
    "print(com.i)\n",
    "print(com.r)"
   ]
  },
  {
   "cell_type": "code",
   "execution_count": 148,
   "metadata": {},
   "outputs": [
    {
     "name": "stdout",
     "output_type": "stream",
     "text": [
      "16\n"
     ]
    }
   ],
   "source": [
    "x = complex(6,3)\n",
    "x.counter = 1\n",
    "while(x.counter < 10):\n",
    "    x.counter = x.counter*2\n",
    "print(x.counter)\n"
   ]
  },
  {
   "cell_type": "code",
   "execution_count": 149,
   "metadata": {},
   "outputs": [],
   "source": [
    "class dog:\n",
    "    kind = 'cocain'\n",
    "\n",
    "    def __init__(self,name):\n",
    "        self.name = name\n",
    "        "
   ]
  },
  {
   "cell_type": "code",
   "execution_count": 150,
   "metadata": {},
   "outputs": [
    {
     "data": {
      "text/plain": [
       "'kukku'"
      ]
     },
     "execution_count": 150,
     "metadata": {},
     "output_type": "execute_result"
    }
   ],
   "source": [
    "d = dog('kukku')\n",
    "d.name"
   ]
  },
  {
   "cell_type": "code",
   "execution_count": 151,
   "metadata": {},
   "outputs": [
    {
     "data": {
      "text/plain": [
       "'cocain'"
      ]
     },
     "execution_count": 151,
     "metadata": {},
     "output_type": "execute_result"
    }
   ],
   "source": [
    "d.kind"
   ]
  },
  {
   "cell_type": "code",
   "execution_count": 152,
   "metadata": {},
   "outputs": [],
   "source": [
    "e = dog(\"nothing\")"
   ]
  },
  {
   "cell_type": "code",
   "execution_count": 153,
   "metadata": {},
   "outputs": [
    {
     "data": {
      "text/plain": [
       "'nothing'"
      ]
     },
     "execution_count": 153,
     "metadata": {},
     "output_type": "execute_result"
    }
   ],
   "source": [
    "e.name"
   ]
  },
  {
   "cell_type": "code",
   "execution_count": 154,
   "metadata": {},
   "outputs": [],
   "source": [
    "class Dog:\n",
    "    tiger = []\n",
    "    def __init__(self,name):\n",
    "        self.name = name\n",
    "\n",
    "    def add(self,trick):\n",
    "        self.tiger.append(trick)"
   ]
  },
  {
   "cell_type": "code",
   "execution_count": 156,
   "metadata": {},
   "outputs": [
    {
     "data": {
      "text/plain": [
       "['rolling out', 'rolling out']"
      ]
     },
     "execution_count": 156,
     "metadata": {},
     "output_type": "execute_result"
    }
   ],
   "source": [
    "dog = Dog('tiger')\n",
    "dog.add('rolling out')\n",
    "dog.tiger"
   ]
  },
  {
   "cell_type": "code",
   "execution_count": 157,
   "metadata": {},
   "outputs": [],
   "source": [
    "class another_dog:\n",
    "    def __init__(self,name):\n",
    "        self.name = name\n",
    "        self.tiger = []\n",
    "\n",
    "    def add(self,ele):\n",
    "        self.tiger.append(ele)\n",
    "        print(self.tiger,\"name is add to the list\")"
   ]
  },
  {
   "cell_type": "code",
   "execution_count": 158,
   "metadata": {},
   "outputs": [
    {
     "name": "stdout",
     "output_type": "stream",
     "text": [
      "['barking'] name is add to the list\n"
     ]
    }
   ],
   "source": [
    "tom = another_dog('tiger')\n",
    "tom.add('barking')"
   ]
  },
  {
   "cell_type": "code",
   "execution_count": null,
   "metadata": {},
   "outputs": [],
   "source": []
  }
 ],
 "metadata": {
  "kernelspec": {
   "display_name": "Python 3.9.2 64-bit",
   "language": "python",
   "name": "python3"
  },
  "language_info": {
   "codemirror_mode": {
    "name": "ipython",
    "version": 3
   },
   "file_extension": ".py",
   "mimetype": "text/x-python",
   "name": "python",
   "nbconvert_exporter": "python",
   "pygments_lexer": "ipython3",
   "version": "3.9.2"
  },
  "orig_nbformat": 4,
  "vscode": {
   "interpreter": {
    "hash": "b44dec303c593d8d8daa19f9928a44a58f5dd6858780405ef540750c1cbc0680"
   }
  }
 },
 "nbformat": 4,
 "nbformat_minor": 2
}
