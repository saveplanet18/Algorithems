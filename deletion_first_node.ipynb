{
 "cells": [
  {
   "cell_type": "code",
   "execution_count": 2,
   "metadata": {},
   "outputs": [],
   "source": [
    "class Creation_Node:\n",
    "\n",
    "    def __init__(self,element):\n",
    "        self.element = element\n",
    "        self.next = None\n",
    "\n",
    "class Linked_List_Node:\n",
    "\n",
    "    def __init__(self):\n",
    "\n",
    "        self.head = None\n",
    "\n",
    "    def Insertion_at_first(self,ele):\n",
    "        new_node = Creation_Node(ele)\n",
    "        new_node.next = self.head\n",
    "        self.head = new_node\n",
    "    \n",
    "    def Deletion_at_first(self):\n",
    "        temp = self.head\n",
    "        self.head = self.head.next\n",
    "        temp = None\n",
    "    \n",
    "    def print_list(self):\n",
    "        temp = self.head\n",
    "        while(temp != None):\n",
    "            print(temp.element)\n",
    "            temp = temp.next\n",
    "            "
   ]
  },
  {
   "cell_type": "code",
   "execution_count": 4,
   "metadata": {},
   "outputs": [
    {
     "name": "stdout",
     "output_type": "stream",
     "text": [
      "6\n",
      "9\n"
     ]
    }
   ],
   "source": [
    "LL = Linked_List_Node()\n",
    "LL.Insertion_at_first(9)\n",
    "LL.Insertion_at_first(6)\n",
    "LL.Insertion_at_first(3)\n",
    "LL.Deletion_at_first()\n",
    "LL.print_list()"
   ]
  },
  {
   "cell_type": "code",
   "execution_count": null,
   "metadata": {},
   "outputs": [],
   "source": []
  }
 ],
 "metadata": {
  "kernelspec": {
   "display_name": "Python 3.9.2 64-bit",
   "language": "python",
   "name": "python3"
  },
  "language_info": {
   "codemirror_mode": {
    "name": "ipython",
    "version": 3
   },
   "file_extension": ".py",
   "mimetype": "text/x-python",
   "name": "python",
   "nbconvert_exporter": "python",
   "pygments_lexer": "ipython3",
   "version": "3.9.2"
  },
  "orig_nbformat": 4,
  "vscode": {
   "interpreter": {
    "hash": "b44dec303c593d8d8daa19f9928a44a58f5dd6858780405ef540750c1cbc0680"
   }
  }
 },
 "nbformat": 4,
 "nbformat_minor": 2
}
