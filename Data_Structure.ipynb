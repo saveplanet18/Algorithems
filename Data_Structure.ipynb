{
 "cells": [
  {
   "cell_type": "markdown",
   "id": "45fd3d4f",
   "metadata": {},
   "source": [
    "# implement stack in pyton\n",
    "1. list \n",
    "2. modules \n",
    "3. stack operation fallowed in lifo operation\n"
   ]
  },
  {
   "cell_type": "code",
   "execution_count": 1,
   "id": "bf7fe480",
   "metadata": {},
   "outputs": [],
   "source": [
    "mylist = []"
   ]
  },
  {
   "cell_type": "code",
   "execution_count": 2,
   "id": "760ca997",
   "metadata": {},
   "outputs": [],
   "source": [
    "mylist.append(10)"
   ]
  },
  {
   "cell_type": "code",
   "execution_count": 3,
   "id": "b39d3ccf",
   "metadata": {},
   "outputs": [
    {
     "data": {
      "text/plain": [
       "[10]"
      ]
     },
     "execution_count": 3,
     "metadata": {},
     "output_type": "execute_result"
    }
   ],
   "source": [
    "mylist"
   ]
  },
  {
   "cell_type": "code",
   "execution_count": 4,
   "id": "14224e45",
   "metadata": {},
   "outputs": [],
   "source": [
    "mylist.append(30)"
   ]
  },
  {
   "cell_type": "code",
   "execution_count": 5,
   "id": "2cf83b60",
   "metadata": {},
   "outputs": [],
   "source": [
    "mylist.append(40)"
   ]
  },
  {
   "cell_type": "code",
   "execution_count": 6,
   "id": "9ae6535a",
   "metadata": {},
   "outputs": [],
   "source": [
    "mylist.append(50)"
   ]
  },
  {
   "cell_type": "code",
   "execution_count": 7,
   "id": "17330b05",
   "metadata": {},
   "outputs": [],
   "source": [
    "mylist.append(63)"
   ]
  },
  {
   "cell_type": "code",
   "execution_count": 8,
   "id": "95c4830e",
   "metadata": {},
   "outputs": [
    {
     "data": {
      "text/plain": [
       "[10, 30, 40, 50, 63]"
      ]
     },
     "execution_count": 8,
     "metadata": {},
     "output_type": "execute_result"
    }
   ],
   "source": [
    "mylist"
   ]
  },
  {
   "cell_type": "code",
   "execution_count": 9,
   "id": "20c3288c",
   "metadata": {},
   "outputs": [],
   "source": [
    "for stack in range(10,20):\n",
    "    mylist.append(stack)"
   ]
  },
  {
   "cell_type": "code",
   "execution_count": 10,
   "id": "7fc1659c",
   "metadata": {},
   "outputs": [
    {
     "data": {
      "text/plain": [
       "[10, 30, 40, 50, 63, 10, 11, 12, 13, 14, 15, 16, 17, 18, 19]"
      ]
     },
     "execution_count": 10,
     "metadata": {},
     "output_type": "execute_result"
    }
   ],
   "source": [
    "mylist"
   ]
  },
  {
   "cell_type": "markdown",
   "id": "ad5402dd",
   "metadata": {},
   "source": [
    "# pop operation in python"
   ]
  },
  {
   "cell_type": "code",
   "execution_count": 11,
   "id": "ed3314d7",
   "metadata": {},
   "outputs": [
    {
     "data": {
      "text/plain": [
       "19"
      ]
     },
     "execution_count": 11,
     "metadata": {},
     "output_type": "execute_result"
    }
   ],
   "source": [
    "mylist.pop()"
   ]
  },
  {
   "cell_type": "code",
   "execution_count": 12,
   "id": "c0cd5240",
   "metadata": {},
   "outputs": [
    {
     "data": {
      "text/plain": [
       "18"
      ]
     },
     "execution_count": 12,
     "metadata": {},
     "output_type": "execute_result"
    }
   ],
   "source": [
    "mylist.pop()"
   ]
  },
  {
   "cell_type": "code",
   "execution_count": 13,
   "id": "8f9c046a",
   "metadata": {},
   "outputs": [
    {
     "data": {
      "text/plain": [
       "[10, 30, 40, 50, 63, 10, 11, 12, 13, 14, 15, 16, 17]"
      ]
     },
     "execution_count": 13,
     "metadata": {},
     "output_type": "execute_result"
    }
   ],
   "source": [
    "mylist"
   ]
  },
  {
   "cell_type": "code",
   "execution_count": 14,
   "id": "848a8a61",
   "metadata": {},
   "outputs": [],
   "source": [
    "stack = []\n"
   ]
  },
  {
   "cell_type": "code",
   "execution_count": 15,
   "id": "b828d323",
   "metadata": {},
   "outputs": [
    {
     "data": {
      "text/plain": [
       "True"
      ]
     },
     "execution_count": 15,
     "metadata": {},
     "output_type": "execute_result"
    }
   ],
   "source": [
    "len(stack) == 0"
   ]
  },
  {
   "cell_type": "code",
   "execution_count": 16,
   "id": "5f2b13f3",
   "metadata": {},
   "outputs": [
    {
     "data": {
      "text/plain": [
       "True"
      ]
     },
     "execution_count": 16,
     "metadata": {},
     "output_type": "execute_result"
    }
   ],
   "source": [
    "not stack"
   ]
  },
  {
   "cell_type": "code",
   "execution_count": 17,
   "id": "58325e4d",
   "metadata": {},
   "outputs": [],
   "source": [
    "stack.append(10)\n",
    "stack.append(20)"
   ]
  },
  {
   "cell_type": "code",
   "execution_count": 18,
   "id": "e79a3e14",
   "metadata": {},
   "outputs": [
    {
     "data": {
      "text/plain": [
       "[10, 20]"
      ]
     },
     "execution_count": 18,
     "metadata": {},
     "output_type": "execute_result"
    }
   ],
   "source": [
    "stack"
   ]
  },
  {
   "cell_type": "code",
   "execution_count": 19,
   "id": "d0f405c7",
   "metadata": {},
   "outputs": [],
   "source": [
    "stack.append(30)"
   ]
  },
  {
   "cell_type": "code",
   "execution_count": 20,
   "id": "e6c91cd2",
   "metadata": {},
   "outputs": [
    {
     "data": {
      "text/plain": [
       "[10, 20, 30]"
      ]
     },
     "execution_count": 20,
     "metadata": {},
     "output_type": "execute_result"
    }
   ],
   "source": [
    "stack"
   ]
  },
  {
   "cell_type": "code",
   "execution_count": 21,
   "id": "735a8dfa",
   "metadata": {},
   "outputs": [],
   "source": [
    "stack.append(40)"
   ]
  },
  {
   "cell_type": "code",
   "execution_count": 22,
   "id": "febc39a2",
   "metadata": {},
   "outputs": [
    {
     "data": {
      "text/plain": [
       "[10, 20, 30, 40]"
      ]
     },
     "execution_count": 22,
     "metadata": {},
     "output_type": "execute_result"
    }
   ],
   "source": [
    "stack"
   ]
  },
  {
   "cell_type": "code",
   "execution_count": 23,
   "id": "27232f10",
   "metadata": {},
   "outputs": [],
   "source": [
    "stack.append(60)"
   ]
  },
  {
   "cell_type": "code",
   "execution_count": 24,
   "id": "85d41086",
   "metadata": {},
   "outputs": [
    {
     "data": {
      "text/plain": [
       "[10, 20, 30, 40, 60]"
      ]
     },
     "execution_count": 24,
     "metadata": {},
     "output_type": "execute_result"
    }
   ],
   "source": [
    "stack"
   ]
  },
  {
   "cell_type": "code",
   "execution_count": 25,
   "id": "938e8fd5",
   "metadata": {},
   "outputs": [],
   "source": [
    "stack.append(70)"
   ]
  },
  {
   "cell_type": "code",
   "execution_count": 26,
   "id": "50a0e1bb",
   "metadata": {},
   "outputs": [],
   "source": [
    "stack.append(80)"
   ]
  },
  {
   "cell_type": "code",
   "execution_count": 27,
   "id": "dc9eebd3",
   "metadata": {},
   "outputs": [
    {
     "data": {
      "text/plain": [
       "[10, 20, 30, 40, 60, 70, 80]"
      ]
     },
     "execution_count": 27,
     "metadata": {},
     "output_type": "execute_result"
    }
   ],
   "source": [
    "stack"
   ]
  },
  {
   "cell_type": "code",
   "execution_count": 30,
   "id": "ff747162",
   "metadata": {},
   "outputs": [
    {
     "name": "stdout",
     "output_type": "stream",
     "text": [
      "list index out of range\n"
     ]
    }
   ],
   "source": [
    "try:\n",
    "    stack[8]\n",
    "except IndexError as e:\n",
    "    print(e)"
   ]
  },
  {
   "cell_type": "markdown",
   "id": "5b5d29cc",
   "metadata": {},
   "source": [
    "# stack operation Examples"
   ]
  },
  {
   "cell_type": "code",
   "execution_count": 31,
   "id": "221fd92b",
   "metadata": {},
   "outputs": [],
   "source": [
    "stack = []"
   ]
  },
  {
   "cell_type": "code",
   "execution_count": 32,
   "id": "26204437",
   "metadata": {},
   "outputs": [],
   "source": [
    "def Push():\n",
    "    element = input(\"Enter the element\\n\")\n",
    "    stack.append(element)\n",
    "    print(stack)"
   ]
  },
  {
   "cell_type": "code",
   "execution_count": 33,
   "id": "54b6f1ab",
   "metadata": {},
   "outputs": [
    {
     "name": "stdout",
     "output_type": "stream",
     "text": [
      "Enter the element\n",
      "9\n",
      "['9']\n"
     ]
    }
   ],
   "source": [
    "Push()"
   ]
  },
  {
   "cell_type": "code",
   "execution_count": 34,
   "id": "d7a42913",
   "metadata": {},
   "outputs": [
    {
     "data": {
      "text/plain": [
       "['9']"
      ]
     },
     "execution_count": 34,
     "metadata": {},
     "output_type": "execute_result"
    }
   ],
   "source": [
    "stack"
   ]
  },
  {
   "cell_type": "code",
   "execution_count": 36,
   "id": "d96d8369",
   "metadata": {},
   "outputs": [
    {
     "name": "stdout",
     "output_type": "stream",
     "text": [
      "Enter the element\n",
      "20\n",
      "['9', '20']\n"
     ]
    }
   ],
   "source": [
    "Push()"
   ]
  },
  {
   "cell_type": "code",
   "execution_count": 37,
   "id": "a1e2b205",
   "metadata": {},
   "outputs": [],
   "source": [
    "def Pop():\n",
    "    if not stack:\n",
    "        print(\"stack is empty..\")\n",
    "    else:\n",
    "        e = stack.pop()\n",
    "        print(\"removed from element\",e)\n",
    "        print(stack)"
   ]
  },
  {
   "cell_type": "code",
   "execution_count": 38,
   "id": "691c47ff",
   "metadata": {},
   "outputs": [
    {
     "name": "stdout",
     "output_type": "stream",
     "text": [
      "removed from element 20\n",
      "['9']\n"
     ]
    }
   ],
   "source": [
    "Pop()"
   ]
  },
  {
   "cell_type": "code",
   "execution_count": 39,
   "id": "cf195aca",
   "metadata": {},
   "outputs": [
    {
     "data": {
      "text/plain": [
       "['9']"
      ]
     },
     "execution_count": 39,
     "metadata": {},
     "output_type": "execute_result"
    }
   ],
   "source": [
    "stack"
   ]
  },
  {
   "cell_type": "code",
   "execution_count": 40,
   "id": "afad1d5d",
   "metadata": {},
   "outputs": [
    {
     "name": "stdout",
     "output_type": "stream",
     "text": [
      "Enter the element\n",
      "10\n",
      "['9', '10']\n"
     ]
    }
   ],
   "source": [
    "Push()"
   ]
  },
  {
   "cell_type": "code",
   "execution_count": 41,
   "id": "4d050780",
   "metadata": {},
   "outputs": [
    {
     "name": "stdout",
     "output_type": "stream",
     "text": [
      "select the options 1. Push, 2.Pop , 3. Quit\n",
      "1\n",
      "Enter the element\n",
      "36\n",
      "['9', '10', '36']\n",
      "select the options 1. Push, 2.Pop , 3. Quit\n",
      "66\n",
      "Enter the correct opetion..\n",
      "select the options 1. Push, 2.Pop , 3. Quit\n",
      "99\n",
      "Enter the correct opetion..\n",
      "select the options 1. Push, 2.Pop , 3. Quit\n",
      "33\n",
      "Enter the correct opetion..\n",
      "select the options 1. Push, 2.Pop , 3. Quit\n",
      "88\n",
      "Enter the correct opetion..\n",
      "select the options 1. Push, 2.Pop , 3. Quit\n",
      "77\n",
      "Enter the correct opetion..\n",
      "select the options 1. Push, 2.Pop , 3. Quit\n",
      "99\n",
      "Enter the correct opetion..\n",
      "select the options 1. Push, 2.Pop , 3. Quit\n",
      "66\n",
      "Enter the correct opetion..\n",
      "select the options 1. Push, 2.Pop , 3. Quit\n",
      "55\n",
      "Enter the correct opetion..\n",
      "select the options 1. Push, 2.Pop , 3. Quit\n",
      "77\n",
      "Enter the correct opetion..\n",
      "select the options 1. Push, 2.Pop , 3. Quit\n",
      "11\n",
      "Enter the correct opetion..\n",
      "select the options 1. Push, 2.Pop , 3. Quit\n",
      "22\n",
      "Enter the correct opetion..\n",
      "select the options 1. Push, 2.Pop , 3. Quit\n",
      "3\n"
     ]
    }
   ],
   "source": [
    "while True:\n",
    "    print(\"select the options 1. Push, 2.Pop , 3. Quit\")\n",
    "    Choice = int(input())\n",
    "    if Choice == 1:\n",
    "        Push()\n",
    "    elif Choice == 2:\n",
    "        Pop()\n",
    "    elif Choice == 3:\n",
    "        break\n",
    "    else:\n",
    "        print(\"Enter the correct opetion..\")"
   ]
  },
  {
   "cell_type": "code",
   "execution_count": 42,
   "id": "a46ffd1c",
   "metadata": {},
   "outputs": [
    {
     "data": {
      "text/plain": [
       "['9', '10', '36']"
      ]
     },
     "execution_count": 42,
     "metadata": {},
     "output_type": "execute_result"
    }
   ],
   "source": [
    "stack"
   ]
  },
  {
   "cell_type": "code",
   "execution_count": 43,
   "id": "8d644502",
   "metadata": {},
   "outputs": [],
   "source": [
    "def main():\n",
    "    while True:\n",
    "        print(\"Select Operations 1. Push, 2. Pop , 3. Quit\")\n",
    "        Choice = int(input())\n",
    "        if Choice == 1:\n",
    "            Push()\n",
    "        elif Choice == 2:\n",
    "            Pop()\n",
    "        elif Choice == 3:\n",
    "            break\n",
    "        else:\n",
    "            print(\"select Proper Operations..\")"
   ]
  },
  {
   "cell_type": "code",
   "execution_count": 44,
   "id": "7cca49dc",
   "metadata": {},
   "outputs": [
    {
     "name": "stdout",
     "output_type": "stream",
     "text": [
      "Select Operations 1. Push, 2. Pop , 3. Quit\n",
      "1\n",
      "Enter the element\n",
      "10\n",
      "['9', '10', '36', '10']\n",
      "Select Operations 1. Push, 2. Pop , 3. Quit\n",
      "1\n",
      "Enter the element\n",
      "20\n",
      "['9', '10', '36', '10', '20']\n",
      "Select Operations 1. Push, 2. Pop , 3. Quit\n",
      "1\n",
      "Enter the element\n",
      "9\n",
      "['9', '10', '36', '10', '20', '9']\n",
      "Select Operations 1. Push, 2. Pop , 3. Quit\n",
      "3\n"
     ]
    }
   ],
   "source": [
    "main()"
   ]
  },
  {
   "cell_type": "code",
   "execution_count": 45,
   "id": "e2faa854",
   "metadata": {},
   "outputs": [
    {
     "name": "stdout",
     "output_type": "stream",
     "text": [
      "operations in 1. Push , 2. Pop , 3. Quit\n",
      "1\n",
      "Enter the element\n",
      "20\n",
      "['9', '10', '36', '10', '20', '9', '20']\n",
      "operations in 1. Push , 2. Pop , 3. Quit\n",
      "3\n"
     ]
    }
   ],
   "source": [
    "while True:\n",
    "    print(\"operations in 1. Push , 2. Pop , 3. Quit\")\n",
    "    enter = int(input())\n",
    "    if enter == 1:\n",
    "        Push()\n",
    "    elif enter == 2:\n",
    "        Pop()\n",
    "    elif enter == 3:\n",
    "        break\n",
    "    else:\n",
    "        print(\"select proper operations...\")"
   ]
  },
  {
   "cell_type": "markdown",
   "id": "1d26ba28",
   "metadata": {},
   "source": [
    "# stack operation\n",
    "1. Push\n",
    "2. isEmpty\n",
    "3. pop\n",
    "4. peek\n",
    "5. isfull"
   ]
  },
  {
   "cell_type": "code",
   "execution_count": 54,
   "id": "88296098",
   "metadata": {},
   "outputs": [],
   "source": [
    "# stack is implented\n",
    "def Empty():\n",
    "    Stack = []\n",
    "    return Stack"
   ]
  },
  {
   "cell_type": "code",
   "execution_count": 57,
   "id": "125718d1",
   "metadata": {},
   "outputs": [],
   "source": [
    "stack = Empty()"
   ]
  },
  {
   "cell_type": "code",
   "execution_count": 56,
   "id": "d8a5dc7f",
   "metadata": {},
   "outputs": [],
   "source": [
    "def isEmpty(stack):\n",
    "    return len(stack) == 0"
   ]
  },
  {
   "cell_type": "code",
   "execution_count": 58,
   "id": "da27b27b",
   "metadata": {},
   "outputs": [
    {
     "data": {
      "text/plain": [
       "True"
      ]
     },
     "execution_count": 58,
     "metadata": {},
     "output_type": "execute_result"
    }
   ],
   "source": [
    "isEmpty(stack)"
   ]
  },
  {
   "cell_type": "code",
   "execution_count": 59,
   "id": "641f2865",
   "metadata": {},
   "outputs": [],
   "source": [
    "def Push(Stack, item):\n",
    "    stack.append(item)\n",
    "    return stack\n",
    "    "
   ]
  },
  {
   "cell_type": "code",
   "execution_count": 60,
   "id": "1f86593b",
   "metadata": {},
   "outputs": [
    {
     "data": {
      "text/plain": [
       "[10]"
      ]
     },
     "execution_count": 60,
     "metadata": {},
     "output_type": "execute_result"
    }
   ],
   "source": [
    "Push(stack,10)"
   ]
  },
  {
   "cell_type": "code",
   "execution_count": 61,
   "id": "e8dd8c78",
   "metadata": {},
   "outputs": [
    {
     "data": {
      "text/plain": [
       "[10]"
      ]
     },
     "execution_count": 61,
     "metadata": {},
     "output_type": "execute_result"
    }
   ],
   "source": [
    "stack"
   ]
  },
  {
   "cell_type": "code",
   "execution_count": 62,
   "id": "289605c2",
   "metadata": {},
   "outputs": [
    {
     "data": {
      "text/plain": [
       "[10, 20]"
      ]
     },
     "execution_count": 62,
     "metadata": {},
     "output_type": "execute_result"
    }
   ],
   "source": [
    "Push(stack,20)"
   ]
  },
  {
   "cell_type": "code",
   "execution_count": 63,
   "id": "2cc09276",
   "metadata": {},
   "outputs": [
    {
     "data": {
      "text/plain": [
       "[10, 20]"
      ]
     },
     "execution_count": 63,
     "metadata": {},
     "output_type": "execute_result"
    }
   ],
   "source": [
    "stack"
   ]
  },
  {
   "cell_type": "code",
   "execution_count": 68,
   "id": "7b9123a5",
   "metadata": {},
   "outputs": [],
   "source": [
    "def Pop(stack):\n",
    "    if (isEmpty(stack)):\n",
    "        print(\"stack is empty..\")\n",
    "    else:\n",
    "        stack.pop()"
   ]
  },
  {
   "cell_type": "code",
   "execution_count": 69,
   "id": "b29454a1",
   "metadata": {},
   "outputs": [],
   "source": [
    "Pop(stack)"
   ]
  },
  {
   "cell_type": "code",
   "execution_count": 70,
   "id": "6ececc1e",
   "metadata": {},
   "outputs": [
    {
     "data": {
      "text/plain": [
       "[10]"
      ]
     },
     "execution_count": 70,
     "metadata": {},
     "output_type": "execute_result"
    }
   ],
   "source": [
    "stack"
   ]
  },
  {
   "cell_type": "code",
   "execution_count": 71,
   "id": "6ea0a5f3",
   "metadata": {},
   "outputs": [
    {
     "data": {
      "text/plain": [
       "[10, 20]"
      ]
     },
     "execution_count": 71,
     "metadata": {},
     "output_type": "execute_result"
    }
   ],
   "source": [
    "Push(stack,20)"
   ]
  },
  {
   "cell_type": "code",
   "execution_count": 72,
   "id": "e61d893d",
   "metadata": {},
   "outputs": [
    {
     "data": {
      "text/plain": [
       "[10, 20, 30]"
      ]
     },
     "execution_count": 72,
     "metadata": {},
     "output_type": "execute_result"
    }
   ],
   "source": [
    "Push(stack,30)"
   ]
  },
  {
   "cell_type": "code",
   "execution_count": 73,
   "id": "210b43a2",
   "metadata": {},
   "outputs": [],
   "source": [
    "def space():\n",
    "    stack = []\n",
    "    return stack"
   ]
  },
  {
   "cell_type": "code",
   "execution_count": 95,
   "id": "bef7ab79",
   "metadata": {},
   "outputs": [],
   "source": [
    "def Push(stack , item):\n",
    "    stack.append(item)\n",
    "    print(\"item is Pushed to the stack..\")\n",
    "    return stack"
   ]
  },
  {
   "cell_type": "code",
   "execution_count": 96,
   "id": "fe3cc2ed",
   "metadata": {},
   "outputs": [],
   "source": [
    "s = space()"
   ]
  },
  {
   "cell_type": "code",
   "execution_count": 97,
   "id": "3e939be4",
   "metadata": {},
   "outputs": [
    {
     "data": {
      "text/plain": [
       "[]"
      ]
     },
     "execution_count": 97,
     "metadata": {},
     "output_type": "execute_result"
    }
   ],
   "source": [
    "s"
   ]
  },
  {
   "cell_type": "code",
   "execution_count": 100,
   "id": "7a30bd1a",
   "metadata": {},
   "outputs": [
    {
     "name": "stdout",
     "output_type": "stream",
     "text": [
      "item is Pushed to the stack..\n"
     ]
    },
    {
     "data": {
      "text/plain": [
       "[40, 30, 20]"
      ]
     },
     "execution_count": 100,
     "metadata": {},
     "output_type": "execute_result"
    }
   ],
   "source": [
    "Push(s , 20)"
   ]
  },
  {
   "cell_type": "code",
   "execution_count": 101,
   "id": "2b9af267",
   "metadata": {},
   "outputs": [
    {
     "data": {
      "text/plain": [
       "[40, 30, 20]"
      ]
     },
     "execution_count": 101,
     "metadata": {},
     "output_type": "execute_result"
    }
   ],
   "source": [
    "s"
   ]
  },
  {
   "cell_type": "code",
   "execution_count": 102,
   "id": "190312c2",
   "metadata": {},
   "outputs": [],
   "source": [
    "def Pop(stack):\n",
    "    if (isEmpty(stack)):\n",
    "        return \"stack is Empty\"\n",
    "    return stack.pop()"
   ]
  },
  {
   "cell_type": "code",
   "execution_count": 103,
   "id": "1a84bfa1",
   "metadata": {},
   "outputs": [
    {
     "data": {
      "text/plain": [
       "30"
      ]
     },
     "execution_count": 103,
     "metadata": {},
     "output_type": "execute_result"
    }
   ],
   "source": [
    "Pop(stack)"
   ]
  },
  {
   "cell_type": "code",
   "execution_count": 104,
   "id": "b8d1fd7c",
   "metadata": {},
   "outputs": [
    {
     "data": {
      "text/plain": [
       "[10, 20]"
      ]
     },
     "execution_count": 104,
     "metadata": {},
     "output_type": "execute_result"
    }
   ],
   "source": [
    "stack"
   ]
  },
  {
   "cell_type": "code",
   "execution_count": 105,
   "id": "6518bf88",
   "metadata": {},
   "outputs": [],
   "source": [
    "mylist = []"
   ]
  },
  {
   "cell_type": "code",
   "execution_count": 106,
   "id": "cee75ca3",
   "metadata": {},
   "outputs": [
    {
     "data": {
      "text/plain": [
       "'stack is Empty'"
      ]
     },
     "execution_count": 106,
     "metadata": {},
     "output_type": "execute_result"
    }
   ],
   "source": [
    "Pop(mylist)"
   ]
  },
  {
   "cell_type": "code",
   "execution_count": 121,
   "id": "92575c42",
   "metadata": {},
   "outputs": [],
   "source": [
    "class stack:\n",
    "    def __init__(self):\n",
    "        self.stack = []\n",
    "    def isEmpty(self):\n",
    "        return self.stack == []"
   ]
  },
  {
   "cell_type": "code",
   "execution_count": 122,
   "id": "8b006610",
   "metadata": {},
   "outputs": [],
   "source": [
    "s = stack()"
   ]
  },
  {
   "cell_type": "code",
   "execution_count": 123,
   "id": "89d06cee",
   "metadata": {},
   "outputs": [
    {
     "data": {
      "text/plain": [
       "<__main__.stack at 0x1f32bdde910>"
      ]
     },
     "execution_count": 123,
     "metadata": {},
     "output_type": "execute_result"
    }
   ],
   "source": [
    "s"
   ]
  },
  {
   "cell_type": "code",
   "execution_count": 124,
   "id": "fac7da32",
   "metadata": {},
   "outputs": [
    {
     "data": {
      "text/plain": [
       "[]"
      ]
     },
     "execution_count": 124,
     "metadata": {},
     "output_type": "execute_result"
    }
   ],
   "source": [
    "s.stack"
   ]
  },
  {
   "cell_type": "code",
   "execution_count": 125,
   "id": "0773d199",
   "metadata": {},
   "outputs": [
    {
     "data": {
      "text/plain": [
       "True"
      ]
     },
     "execution_count": 125,
     "metadata": {},
     "output_type": "execute_result"
    }
   ],
   "source": [
    "s.isEmpty()"
   ]
  },
  {
   "cell_type": "code",
   "execution_count": 128,
   "id": "693301fb",
   "metadata": {},
   "outputs": [],
   "source": [
    "def Push():\n",
    "    elment = input(\"Enter the first element.\")\n",
    "    stack = []\n",
    "    stack.append(elment)\n",
    "    return stack"
   ]
  },
  {
   "cell_type": "code",
   "execution_count": 131,
   "id": "c7534bff",
   "metadata": {},
   "outputs": [
    {
     "name": "stdout",
     "output_type": "stream",
     "text": [
      "Enter the first element.20\n"
     ]
    }
   ],
   "source": [
    "s = Push()"
   ]
  },
  {
   "cell_type": "code",
   "execution_count": 130,
   "id": "2f1e4410",
   "metadata": {},
   "outputs": [],
   "source": [
    "def Pop(stack):\n",
    "    if (stack)==0:\n",
    "        return \"stack is empty\"\n",
    "    return stack.pop()\n",
    "    "
   ]
  },
  {
   "cell_type": "code",
   "execution_count": 132,
   "id": "1421494f",
   "metadata": {},
   "outputs": [
    {
     "data": {
      "text/plain": [
       "'20'"
      ]
     },
     "execution_count": 132,
     "metadata": {},
     "output_type": "execute_result"
    }
   ],
   "source": [
    "Pop(s)"
   ]
  },
  {
   "cell_type": "code",
   "execution_count": 133,
   "id": "b9511641",
   "metadata": {},
   "outputs": [
    {
     "data": {
      "text/plain": [
       "[]"
      ]
     },
     "execution_count": 133,
     "metadata": {},
     "output_type": "execute_result"
    }
   ],
   "source": [
    "s"
   ]
  },
  {
   "cell_type": "code",
   "execution_count": 221,
   "id": "7a0d2fe7",
   "metadata": {},
   "outputs": [],
   "source": [
    "class stack:\n",
    "    def __init__(self):\n",
    "        self.stack = []\n",
    "    def isEmpty(self):\n",
    "        return self.stack == []\n",
    "    def add(self,item):\n",
    "        self.stack.append(item)\n",
    "    def remove(self):\n",
    "        return self.stack.pop()\n",
    "        \n",
    "    def siz(self):\n",
    "        return len(self.stack)"
   ]
  },
  {
   "cell_type": "code",
   "execution_count": 220,
   "id": "01aee2e9",
   "metadata": {},
   "outputs": [],
   "source": [
    "s = stack()"
   ]
  },
  {
   "cell_type": "code",
   "execution_count": null,
   "id": "ecd180d8",
   "metadata": {},
   "outputs": [
    {
     "name": "stdout",
     "output_type": "stream",
     "text": [
      "select the operatio 1.add 2. remove 3. Quit\n",
      "1\n",
      "select proper operations\n",
      "select the operatio 1.add 2. remove 3. Quit\n",
      "25\n",
      "select proper operations\n",
      "select the operatio 1.add 2. remove 3. Quit\n",
      "1\n",
      "select proper operations\n",
      "select the operatio 1.add 2. remove 3. Quit\n",
      "36\n",
      "select proper operations\n",
      "select the operatio 1.add 2. remove 3. Quit\n",
      "1\n",
      "select proper operations\n",
      "select the operatio 1.add 2. remove 3. Quit\n",
      "69\n",
      "select proper operations\n",
      "select the operatio 1.add 2. remove 3. Quit\n",
      "3\n",
      "select proper operations\n",
      "select the operatio 1.add 2. remove 3. Quit\n",
      "3\n",
      "select proper operations\n",
      "select the operatio 1.add 2. remove 3. Quit\n"
     ]
    }
   ],
   "source": [
    "while True:\n",
    "    print(\"select the operatio 1.add 2. remove 3. Quit\")\n",
    "    option = input()\n",
    "    if option == 1:\n",
    "        s.add(option)\n",
    "    elif option == 2:\n",
    "        s.remove()\n",
    "    elif option == 3:\n",
    "        break\n",
    "    else:\n",
    "        print(\"select proper operations\")"
   ]
  },
  {
   "cell_type": "markdown",
   "id": "be05ce94",
   "metadata": {},
   "source": [
    "# queue\n",
    "1. Enqueue\n",
    "2. Dqueue"
   ]
  },
  {
   "cell_type": "code",
   "execution_count": 2,
   "id": "6b3953bc",
   "metadata": {},
   "outputs": [],
   "source": [
    "queue = []"
   ]
  },
  {
   "cell_type": "code",
   "execution_count": 3,
   "id": "c37e7c9b",
   "metadata": {},
   "outputs": [],
   "source": [
    "def Enqueue():\n",
    "    element = input(\"Enter the first element\")\n",
    "    queue.append(element)\n",
    "    return queue"
   ]
  },
  {
   "cell_type": "code",
   "execution_count": 4,
   "id": "115770f8",
   "metadata": {},
   "outputs": [
    {
     "name": "stdout",
     "output_type": "stream",
     "text": [
      "Enter the first element10\n"
     ]
    }
   ],
   "source": [
    "e = Enqueue()"
   ]
  },
  {
   "cell_type": "code",
   "execution_count": 5,
   "id": "ab3c522e",
   "metadata": {},
   "outputs": [
    {
     "data": {
      "text/plain": [
       "['10']"
      ]
     },
     "execution_count": 5,
     "metadata": {},
     "output_type": "execute_result"
    }
   ],
   "source": [
    "queue"
   ]
  },
  {
   "cell_type": "code",
   "execution_count": 6,
   "id": "052957a9",
   "metadata": {},
   "outputs": [],
   "source": [
    "def Dqueue():\n",
    "    if not queue:\n",
    "        return \"queue is Empty..\"\n",
    "    else:\n",
    "        queue.pop(0)\n",
    "        return queue\n",
    "        "
   ]
  },
  {
   "cell_type": "code",
   "execution_count": 7,
   "id": "da44ed7a",
   "metadata": {},
   "outputs": [],
   "source": [
    "def display():\n",
    "    print(queue)"
   ]
  },
  {
   "cell_type": "code",
   "execution_count": 8,
   "id": "dfaaca2b",
   "metadata": {},
   "outputs": [
    {
     "name": "stdout",
     "output_type": "stream",
     "text": [
      "selecet option here 1.Enqueue 2. Dqueue 3. display 4. Exit\n",
      "1\n",
      "Enter the first element10\n",
      "selecet option here 1.Enqueue 2. Dqueue 3. display 4. Exit\n",
      "1\n",
      "Enter the first element20\n",
      "selecet option here 1.Enqueue 2. Dqueue 3. display 4. Exit\n",
      "1\n",
      "Enter the first element30\n",
      "selecet option here 1.Enqueue 2. Dqueue 3. display 4. Exit\n",
      "1\n",
      "Enter the first element50\n",
      "selecet option here 1.Enqueue 2. Dqueue 3. display 4. Exit\n",
      "3\n",
      "['10', '10', '20', '30', '50']\n",
      "selecet option here 1.Enqueue 2. Dqueue 3. display 4. Exit\n",
      "4\n"
     ]
    }
   ],
   "source": [
    "while True:\n",
    "    print(\"selecet option here 1.Enqueue 2. Dqueue 3. display 4. Exit\")\n",
    "    option = int(input())\n",
    "    if option == 1:\n",
    "        Enqueue()\n",
    "    elif option == 2:\n",
    "        Dqueue()\n",
    "    elif option == 3:\n",
    "        display()\n",
    "    elif option == 4:\n",
    "        break\n",
    "    else:\n",
    "        print(\"select the correct option..\")"
   ]
  },
  {
   "cell_type": "code",
   "execution_count": 12,
   "id": "914d3881",
   "metadata": {},
   "outputs": [],
   "source": [
    "def Enquiry(list1):\n",
    "    if len(list1) == 0:\n",
    "        return 0\n",
    "    else:\n",
    "        return 1"
   ]
  },
  {
   "cell_type": "code",
   "execution_count": 15,
   "id": "5bb56a76",
   "metadata": {},
   "outputs": [
    {
     "data": {
      "text/plain": [
       "0"
      ]
     },
     "execution_count": 15,
     "metadata": {},
     "output_type": "execute_result"
    }
   ],
   "source": [
    "Enquiry(mylist)"
   ]
  },
  {
   "cell_type": "code",
   "execution_count": 14,
   "id": "b09e9072",
   "metadata": {},
   "outputs": [],
   "source": [
    "mylist = []"
   ]
  },
  {
   "cell_type": "code",
   "execution_count": 63,
   "id": "4428d77e",
   "metadata": {},
   "outputs": [],
   "source": [
    "class Queue:\n",
    "    def __init__(self):\n",
    "        self.queue = []\n",
    "    def isEmpty(self):\n",
    "        return len(self.queue)==0\n",
    "    def add(self, item):\n",
    "        if len(queue) ==0:\n",
    "            return \"que is empty\"\n",
    "        return self.queue.append(item)\n",
    "    def remove(self):\n",
    "        pass\n",
    "        "
   ]
  },
  {
   "cell_type": "code",
   "execution_count": 64,
   "id": "46c51523",
   "metadata": {},
   "outputs": [],
   "source": [
    "q = Queue()"
   ]
  },
  {
   "cell_type": "code",
   "execution_count": 65,
   "id": "39bbe2a2",
   "metadata": {},
   "outputs": [
    {
     "data": {
      "text/plain": [
       "[]"
      ]
     },
     "execution_count": 65,
     "metadata": {},
     "output_type": "execute_result"
    }
   ],
   "source": [
    "q.queue"
   ]
  },
  {
   "cell_type": "code",
   "execution_count": 66,
   "id": "fbb494c9",
   "metadata": {},
   "outputs": [
    {
     "data": {
      "text/plain": [
       "True"
      ]
     },
     "execution_count": 66,
     "metadata": {},
     "output_type": "execute_result"
    }
   ],
   "source": [
    "q.isEmpty()"
   ]
  },
  {
   "cell_type": "code",
   "execution_count": 67,
   "id": "b3875a86",
   "metadata": {},
   "outputs": [],
   "source": [
    "q.add(25)"
   ]
  },
  {
   "cell_type": "code",
   "execution_count": 68,
   "id": "b39068b7",
   "metadata": {},
   "outputs": [
    {
     "data": {
      "text/plain": [
       "[25]"
      ]
     },
     "execution_count": 68,
     "metadata": {},
     "output_type": "execute_result"
    }
   ],
   "source": [
    "q.queue"
   ]
  },
  {
   "cell_type": "code",
   "execution_count": 69,
   "id": "b20d0f95",
   "metadata": {},
   "outputs": [],
   "source": [
    "q.add(36)"
   ]
  },
  {
   "cell_type": "code",
   "execution_count": 70,
   "id": "22db3981",
   "metadata": {},
   "outputs": [],
   "source": [
    "q.add(55)"
   ]
  },
  {
   "cell_type": "code",
   "execution_count": 71,
   "id": "76ea4f91",
   "metadata": {},
   "outputs": [],
   "source": [
    "q.add(88)"
   ]
  },
  {
   "cell_type": "code",
   "execution_count": 72,
   "id": "d742bf09",
   "metadata": {},
   "outputs": [
    {
     "data": {
      "text/plain": [
       "[25, 36, 55, 88]"
      ]
     },
     "execution_count": 72,
     "metadata": {},
     "output_type": "execute_result"
    }
   ],
   "source": [
    "q.queue"
   ]
  },
  {
   "cell_type": "code",
   "execution_count": null,
   "id": "466e457b",
   "metadata": {},
   "outputs": [],
   "source": []
  }
 ],
 "metadata": {
  "kernelspec": {
   "display_name": "Python 3 (ipykernel)",
   "language": "python",
   "name": "python3"
  },
  "language_info": {
   "codemirror_mode": {
    "name": "ipython",
    "version": 3
   },
   "file_extension": ".py",
   "mimetype": "text/x-python",
   "name": "python",
   "nbconvert_exporter": "python",
   "pygments_lexer": "ipython3",
   "version": "3.9.2"
  }
 },
 "nbformat": 4,
 "nbformat_minor": 5
}
