{
 "cells": [
  {
   "cell_type": "code",
   "execution_count": 1,
   "metadata": {},
   "outputs": [],
   "source": [
    "class mycircular:\n",
    "\n",
    "    def __init__(self,maxsize):\n",
    "        self.head = 0\n",
    "        self.tail = 0\n",
    "        self.maxsize = maxsize\n",
    "        self.queue = list()\n",
    "    def enqueue(self,element):\n",
    "        if (self.size() == self.maxsize-1):\n",
    "            return \"stack is full\"\n",
    "        self.queue.append(element)\n",
    "        self.tail = (self.tail+1)%self.maxsize\n"
   ]
  },
  {
   "cell_type": "code",
   "execution_count": 9,
   "metadata": {},
   "outputs": [],
   "source": [
    "class node :\n",
    "\n",
    "    def __init__(self,elements):\n",
    "        self.elements = elements\n",
    "        self.next = None\n",
    "class linked_list:\n",
    "    def __init__(self):\n",
    "        self.head = None\n",
    "        self.tail = None\n",
    "\n",
    "    def insertion(self):\n",
    "        temp = node(9)\n",
    "        print(temp)\n",
    "        if (self.head == None):\n",
    "            self.head = temp\n",
    "            self.tail = temp\n",
    "        else:\n",
    "            self.tail.next = temp\n",
    "            self.tail = temp\n",
    "    def display(self):\n",
    "        while(self.head != None):\n",
    "            print(self.head.elements,end=\",\")\n",
    "            self.head = self.head.next\n"
   ]
  },
  {
   "cell_type": "code",
   "execution_count": 10,
   "metadata": {},
   "outputs": [
    {
     "name": "stdout",
     "output_type": "stream",
     "text": [
      "None\n"
     ]
    }
   ],
   "source": [
    "link = linked_list()\n",
    "print(link.display())"
   ]
  },
  {
   "cell_type": "code",
   "execution_count": 11,
   "metadata": {},
   "outputs": [
    {
     "name": "stdout",
     "output_type": "stream",
     "text": [
      "<__main__.node object at 0x00000225B251CF70>\n"
     ]
    }
   ],
   "source": [
    "link.insertion()"
   ]
  },
  {
   "cell_type": "code",
   "execution_count": 12,
   "metadata": {},
   "outputs": [],
   "source": [
    "class node :\n",
    "\n",
    "    def __init__(self):\n",
    "\n",
    "        self.elements = []\n",
    "        self.next = None\n",
    "class linkedlist:\n",
    "    def __init__(self):\n",
    "        self.head = None\n",
    "        self.tail = None\n",
    "\n",
    "    def insertion(self):\n",
    "        if (self.head == None):\n",
    "            self.head = node()\n",
    "            self.tail = node()\n",
    "        else:\n",
    "            self.tail.next = node()\n",
    "            self.tail = node()\n",
    "    def display(self):\n",
    "        while(self.tail != None):\n",
    "            print(self.tail.elements)\n",
    "            self.tail = self.tail.next\n",
    "\n"
   ]
  },
  {
   "cell_type": "code",
   "execution_count": 26,
   "metadata": {},
   "outputs": [],
   "source": [
    "class Node:\n",
    "\n",
    "    def __init__(self,elements):\n",
    "        # initilize data\n",
    "        self.elements = elements\n",
    "        self.next = None\n",
    "    \n",
    "class linkedlist_fist:\n",
    "\n",
    "    def __init__(self):\n",
    "        self.head = None\n",
    "        self.tail = None\n",
    "\n",
    "    def insertions(self,new_data):\n",
    "        new_node = Node(new_data)\n",
    "        new_node.next = self.head\n",
    "        self.head = new_node\n",
    "    \n",
    "    def insertin_at_end(self,new_data):\n",
    "        new_node = Node(new_data)\n",
    "        new_node.next = None\n",
    "        temp = self.head\n",
    "        while(temp.next != None):\n",
    "            temp = temp.next\n",
    "        temp.next = new_node\n",
    "    def result(self):\n",
    "        while(self.head != None):\n",
    "            print(self.head.elements)\n",
    "            self.head = self.head.next\n"
   ]
  },
  {
   "cell_type": "code",
   "execution_count": 29,
   "metadata": {},
   "outputs": [
    {
     "name": "stdout",
     "output_type": "stream",
     "text": [
      "None\n",
      "None\n"
     ]
    }
   ],
   "source": [
    "ll = linkedlist_fist()\n",
    "print(ll.insertions(9))\n",
    "print(ll.insertions(6))\n",
    "ll.insertin_at_end(108)\n",
    "ll.insertions(36)"
   ]
  },
  {
   "cell_type": "code",
   "execution_count": 30,
   "metadata": {},
   "outputs": [
    {
     "name": "stdout",
     "output_type": "stream",
     "text": [
      "36\n",
      "6\n",
      "9\n",
      "108\n"
     ]
    }
   ],
   "source": [
    "ll.result()"
   ]
  },
  {
   "cell_type": "code",
   "execution_count": 32,
   "metadata": {},
   "outputs": [],
   "source": [
    "class createnode:\n",
    "\n",
    "    # initilize node\n",
    "    def __init__(self,elements):\n",
    "        self.elements = elements\n",
    "        self.next = None\n",
    "class linknode:\n",
    "    def __init__(self):\n",
    "        self.head = None\n",
    "\n",
    "    def insertion_at_begin(self,new_data):\n",
    "        new_node = createnode(new_data)\n",
    "        new_node.next = self.head\n",
    "        self.head = new_node\n",
    "    \n",
    "    def insertion_at_end(self,new_data):\n",
    "        new_node = createnode(new_data)\n",
    "        temp = self.head\n",
    "        while(temp.next != None):\n",
    "            temp = temp.next\n",
    "        temp.next = new_node\n",
    "    def showme(self):\n",
    "        temp = self.head\n",
    "        while(temp != None):\n",
    "            print(temp.elements)\n",
    "            temp = temp.next\n",
    "\n"
   ]
  },
  {
   "cell_type": "code",
   "execution_count": 36,
   "metadata": {},
   "outputs": [
    {
     "name": "stdout",
     "output_type": "stream",
     "text": [
      "89\n",
      "108\n",
      "3\n",
      "63\n",
      "None\n",
      "21\n",
      "89\n",
      "108\n",
      "3\n",
      "63\n",
      "None\n",
      "21\n",
      "89\n",
      "108\n",
      "3\n",
      "63\n",
      "45\n",
      "None\n"
     ]
    }
   ],
   "source": [
    "link_data = linknode()\n",
    "link_data.insertion_at_begin(108)\n",
    "link_data.insertion_at_end(3)\n",
    "link_data.insertion_at_begin(89)\n",
    "link_data.insertion_at_end(63)\n",
    "print(link_data.showme())\n",
    "link_data.insertion_at_begin(21)\n",
    "print(link_data.showme())\n",
    "link_data.insertion_at_end(45)\n",
    "print(link_data.showme())"
   ]
  },
  {
   "cell_type": "code",
   "execution_count": 37,
   "metadata": {},
   "outputs": [],
   "source": [
    "class firs_node:\n",
    "\n",
    "    def __init__(self,elements):\n",
    "        self.elements = elements\n",
    "        self.next = None\n",
    "    \n",
    "class second_node:\n",
    "    \n",
    "    def __init__(self):\n",
    "        self.head = None\n",
    "    \n",
    "    def insertion_at_begin(self,new_data):\n",
    "        new_node = firs_node(new_data)\n",
    "        new_node.next = self.head\n",
    "        self.head = new_node\n",
    "    \n",
    "    def insertion_at_specific(self,new_data,pos = 3):\n",
    "        new_node = firs_node(new_data)\n",
    "        temp = self.head\n",
    "        for i in range(pos):\n",
    "            if (temp.next != None):\n",
    "                temp = temp.next\n",
    "        new_node.next = temp.next\n",
    "        temp.next = new_node\n",
    "\n",
    "    def insertion_at_end(self,new_data):\n",
    "        new_node = firs_node(new_data)\n",
    "        temp_value = self.head\n",
    "        while(temp_value != None):\n",
    "            temp_value = temp_value.next\n",
    "        temp_value.\n",
    "        \n",
    "    def showme(self):\n",
    "        temp = self.head\n",
    "        while(temp != None):\n",
    "            print(temp.elements)\n",
    "            temp = temp.next\n",
    "\n"
   ]
  },
  {
   "cell_type": "code",
   "execution_count": 38,
   "metadata": {},
   "outputs": [
    {
     "ename": "AttributeError",
     "evalue": "'NoneType' object has no attribute 'next'",
     "output_type": "error",
     "traceback": [
      "\u001b[1;31m---------------------------------------------------------------------------\u001b[0m",
      "\u001b[1;31mAttributeError\u001b[0m                            Traceback (most recent call last)",
      "\u001b[1;32m~\\AppData\\Local\\Temp/ipykernel_332/485212745.py\u001b[0m in \u001b[0;36m<module>\u001b[1;34m\u001b[0m\n\u001b[0;32m      1\u001b[0m \u001b[0mnode\u001b[0m \u001b[1;33m=\u001b[0m \u001b[0msecond_node\u001b[0m\u001b[1;33m(\u001b[0m\u001b[1;33m)\u001b[0m\u001b[1;33m\u001b[0m\u001b[1;33m\u001b[0m\u001b[0m\n\u001b[0;32m      2\u001b[0m \u001b[0mnode\u001b[0m\u001b[1;33m.\u001b[0m\u001b[0minsertion_at_begin\u001b[0m\u001b[1;33m(\u001b[0m\u001b[1;36m96\u001b[0m\u001b[1;33m)\u001b[0m\u001b[1;33m\u001b[0m\u001b[1;33m\u001b[0m\u001b[0m\n\u001b[1;32m----> 3\u001b[1;33m \u001b[0mnode\u001b[0m\u001b[1;33m.\u001b[0m\u001b[0minsertion_at_end\u001b[0m\u001b[1;33m(\u001b[0m\u001b[1;36m32\u001b[0m\u001b[1;33m)\u001b[0m\u001b[1;33m\u001b[0m\u001b[1;33m\u001b[0m\u001b[0m\n\u001b[0m\u001b[0;32m      4\u001b[0m \u001b[0mnode\u001b[0m\u001b[1;33m.\u001b[0m\u001b[0minsertion_at_specific\u001b[0m\u001b[1;33m(\u001b[0m\u001b[1;36m45\u001b[0m\u001b[1;33m)\u001b[0m\u001b[1;33m\u001b[0m\u001b[1;33m\u001b[0m\u001b[0m\n\u001b[0;32m      5\u001b[0m \u001b[0mnode\u001b[0m\u001b[1;33m.\u001b[0m\u001b[0minsertion_at_begin\u001b[0m\u001b[1;33m(\u001b[0m\u001b[1;36m87\u001b[0m\u001b[1;33m)\u001b[0m\u001b[1;33m\u001b[0m\u001b[1;33m\u001b[0m\u001b[0m\n",
      "\u001b[1;32m~\\AppData\\Local\\Temp/ipykernel_332/1502435877.py\u001b[0m in \u001b[0;36minsertion_at_end\u001b[1;34m(self, new_data)\u001b[0m\n\u001b[0;32m     29\u001b[0m         \u001b[1;32mwhile\u001b[0m\u001b[1;33m(\u001b[0m\u001b[0mtemp\u001b[0m \u001b[1;33m!=\u001b[0m \u001b[1;32mNone\u001b[0m\u001b[1;33m)\u001b[0m\u001b[1;33m:\u001b[0m\u001b[1;33m\u001b[0m\u001b[1;33m\u001b[0m\u001b[0m\n\u001b[0;32m     30\u001b[0m             \u001b[0mtemp\u001b[0m \u001b[1;33m=\u001b[0m \u001b[0mtemp\u001b[0m\u001b[1;33m.\u001b[0m\u001b[0mnext\u001b[0m\u001b[1;33m\u001b[0m\u001b[1;33m\u001b[0m\u001b[0m\n\u001b[1;32m---> 31\u001b[1;33m         \u001b[0mtemp\u001b[0m\u001b[1;33m.\u001b[0m\u001b[0mnext\u001b[0m \u001b[1;33m=\u001b[0m \u001b[0mnew_node\u001b[0m\u001b[1;33m\u001b[0m\u001b[1;33m\u001b[0m\u001b[0m\n\u001b[0m\u001b[0;32m     32\u001b[0m     \u001b[1;32mdef\u001b[0m \u001b[0mshowme\u001b[0m\u001b[1;33m(\u001b[0m\u001b[0mself\u001b[0m\u001b[1;33m)\u001b[0m\u001b[1;33m:\u001b[0m\u001b[1;33m\u001b[0m\u001b[1;33m\u001b[0m\u001b[0m\n\u001b[0;32m     33\u001b[0m         \u001b[0mtemp\u001b[0m \u001b[1;33m=\u001b[0m \u001b[0mself\u001b[0m\u001b[1;33m.\u001b[0m\u001b[0mhead\u001b[0m\u001b[1;33m\u001b[0m\u001b[1;33m\u001b[0m\u001b[0m\n",
      "\u001b[1;31mAttributeError\u001b[0m: 'NoneType' object has no attribute 'next'"
     ]
    }
   ],
   "source": [
    "node = second_node()\n",
    "node.insertion_at_begin(96)\n",
    "node.insertion_at_end(32)\n",
    "node.insertion_at_specific(45)\n",
    "node.insertion_at_begin(87)\n",
    "node.insertion_at_end(87)\n",
    "print(node.showme())\n"
   ]
  },
  {
   "cell_type": "code",
   "execution_count": null,
   "metadata": {},
   "outputs": [],
   "source": []
  }
 ],
 "metadata": {
  "kernelspec": {
   "display_name": "Python 3.9.2 64-bit",
   "language": "python",
   "name": "python3"
  },
  "language_info": {
   "codemirror_mode": {
    "name": "ipython",
    "version": 3
   },
   "file_extension": ".py",
   "mimetype": "text/x-python",
   "name": "python",
   "nbconvert_exporter": "python",
   "pygments_lexer": "ipython3",
   "version": "3.9.2"
  },
  "orig_nbformat": 4,
  "vscode": {
   "interpreter": {
    "hash": "b44dec303c593d8d8daa19f9928a44a58f5dd6858780405ef540750c1cbc0680"
   }
  }
 },
 "nbformat": 4,
 "nbformat_minor": 2
}
