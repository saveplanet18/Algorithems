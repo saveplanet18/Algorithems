{
 "cells": [
  {
   "cell_type": "code",
   "execution_count": 10,
   "metadata": {},
   "outputs": [],
   "source": [
    "class stack:\n",
    "\n",
    "    def __init__(self):\n",
    "        self.arr = []\n",
    "        self.capacity = 9\n",
    "        self.top = -1\n",
    "    \n",
    "    def is_full(self):\n",
    "        if(self.top == self.capacity-1):\n",
    "            return 1\n",
    "        else:\n",
    "            return 0\n",
    "    def push(self , ele):\n",
    "        if (self.is_full()):\n",
    "            print(\"stack is full\")\n",
    "        else:\n",
    "            self.top+=1\n",
    "            self.arr.append(ele)\n",
    "            print(\"element is inserted..\",ele)"
   ]
  },
  {
   "cell_type": "code",
   "execution_count": 13,
   "metadata": {},
   "outputs": [
    {
     "name": "stdout",
     "output_type": "stream",
     "text": [
      "0\n",
      "element is inserted.. 9\n"
     ]
    },
    {
     "data": {
      "text/plain": [
       "[9]"
      ]
     },
     "execution_count": 13,
     "metadata": {},
     "output_type": "execute_result"
    }
   ],
   "source": [
    "s = stack()\n",
    "print(s.is_full())\n",
    "s.push(9)\n",
    "s.arr"
   ]
  },
  {
   "cell_type": "code",
   "execution_count": 26,
   "metadata": {},
   "outputs": [],
   "source": [
    "class array :\n",
    "    def __init__(self):\n",
    "        self.arr = []\n",
    "        self.size = int(input())\n",
    "\n",
    "    def insertion(self,ele):\n",
    "        for i in range(self.size):\n",
    "            element = int(input(\"enter the element\"))\n",
    "            self.arr.append(element)\n",
    "            print(\"all element is inseted into arr\",self.arr)\n",
    "    def travers(self):\n",
    "        for i in range(len(self.arr)):\n",
    "            print(self.arr[i])\n"
   ]
  },
  {
   "cell_type": "code",
   "execution_count": 27,
   "metadata": {},
   "outputs": [
    {
     "name": "stdout",
     "output_type": "stream",
     "text": [
      "all element is inseted into arr [25]\n",
      "all element is inseted into arr [25, 36]\n",
      "all element is inseted into arr [25, 36, 98]\n",
      "all element is inseted into arr [25, 36, 98, 74]\n",
      "all element is inseted into arr [25, 36, 98, 74, 15]\n",
      "all element is inseted into arr [25, 36, 98, 74, 15, 89]\n"
     ]
    }
   ],
   "source": [
    "arr = array()\n",
    "arr.insertion(6)\n"
   ]
  },
  {
   "cell_type": "code",
   "execution_count": 28,
   "metadata": {},
   "outputs": [
    {
     "name": "stdout",
     "output_type": "stream",
     "text": [
      "25\n",
      "36\n",
      "98\n",
      "74\n",
      "15\n",
      "89\n"
     ]
    }
   ],
   "source": [
    "arr.travers()"
   ]
  },
  {
   "cell_type": "code",
   "execution_count": 35,
   "metadata": {},
   "outputs": [],
   "source": [
    "class Bubblesort:\n",
    "    def __init__(self) -> arr:\n",
    "        for i in range(len(arr)):\n",
    "            for j in range(len(arr)-i-1):\n",
    "                if arr[j] > arr[j+1]:\n",
    "                    temp = arr[j]\n",
    "                    arr[j] = arr[j+1]\n",
    "                    arr[j+1] = temp\n",
    "                    "
   ]
  },
  {
   "cell_type": "code",
   "execution_count": 37,
   "metadata": {},
   "outputs": [
    {
     "name": "stdout",
     "output_type": "stream",
     "text": [
      "<__main__.Bubblesort object at 0x000002059FE13640>\n"
     ]
    }
   ],
   "source": [
    "arr = [4,5,6,7,8,9,5,1,2,3,4,4,6,5,2,1,53]\n",
    "bubble = Bubblesort()\n",
    "print(bubble)"
   ]
  },
  {
   "cell_type": "code",
   "execution_count": 16,
   "metadata": {},
   "outputs": [],
   "source": [
    "class stack:\n",
    "    def __init__(self):\n",
    "        self.top = -1\n",
    "        self.capacity = 9\n",
    "        self.arr = []\n",
    "    def is_empty(self):\n",
    "        if(self.top == -1):\n",
    "            return 0\n",
    "        else:\n",
    "            return 1\n",
    "\n",
    "    def is_full(self):\n",
    "        if(self.top == self.capacity-1):\n",
    "            return 1\n",
    "        else:\n",
    "            return 0\n",
    "    \n",
    "    def push(self,ele):\n",
    "        if(self.is_full()):\n",
    "            print(\"stack is full\")\n",
    "        else:\n",
    "            self.top+=1\n",
    "            self.arr.append(ele)\n",
    "            print(\"element is inserted..\",ele)\n",
    "    def pop(self):\n",
    "        if(self.is_empty()):\n",
    "            return 0\n",
    "        else:\n",
    "            self.arr.pop()\n",
    "            self.top-=1\n",
    "            print(\"element is removed\")\n",
    "    \n",
    "\n"
   ]
  },
  {
   "cell_type": "code",
   "execution_count": 19,
   "metadata": {},
   "outputs": [
    {
     "name": "stdout",
     "output_type": "stream",
     "text": [
      "0\n",
      "element is inserted.. 9\n",
      "element is inserted.. 6\n",
      "element is inserted.. 3\n",
      "element is inserted.. 18\n",
      "element is inserted.. 45\n",
      "element is inserted.. 63\n",
      "element is inserted.. 65\n",
      "element is inserted.. 58\n",
      "element is inserted.. 64\n",
      "stack is full\n",
      "[9, 6, 3, 18, 45, 63, 65, 58, 64]\n",
      "1\n",
      "1\n",
      "[9, 6, 3, 18, 45, 63, 65, 58, 64]\n"
     ]
    }
   ],
   "source": [
    "st = stack()\n",
    "print(st.is_full())\n",
    "st.push(9)\n",
    "st.push(6)\n",
    "st.push(3)\n",
    "st.push(18)\n",
    "st.push(45)\n",
    "st.push(63)\n",
    "st.push(65)\n",
    "st.push(58)\n",
    "st.push(64)\n",
    "st.push(99)\n",
    "print(st.arr)\n",
    "print(st.is_empty())\n",
    "st.pop()\n",
    "print(st.is_full())\n",
    "print(st.arr)"
   ]
  },
  {
   "cell_type": "code",
   "execution_count": 18,
   "metadata": {},
   "outputs": [
    {
     "data": {
      "text/plain": [
       "0"
      ]
     },
     "execution_count": 18,
     "metadata": {},
     "output_type": "execute_result"
    }
   ],
   "source": [
    "st.pop()"
   ]
  },
  {
   "cell_type": "code",
   "execution_count": 50,
   "metadata": {},
   "outputs": [],
   "source": [
    "class Stack:\n",
    "\n",
    "    def __init__(self):\n",
    "        self.arr = []\n",
    "        self.top = -1\n",
    "        self.capacity = 3\n",
    "    \n",
    "    def is_empty(self):\n",
    "        if (self.top == -1):\n",
    "            return 0\n",
    "        else:\n",
    "            return 1\n",
    "\n",
    "    def is_full(self):\n",
    "        if(self.top == self.capacity-1):\n",
    "            return 1\n",
    "        else:\n",
    "            return 0\n",
    "    \n",
    "    def push(self,ele):\n",
    "        if(self.is_full()):\n",
    "            print(\"stack is full\")\n",
    "        else:\n",
    "            self.top+=1\n",
    "            self.arr.append(ele)\n",
    "            print(\"element is inserted..\",ele)\n",
    "        \n",
    "    def removing(self):\n",
    "        if(self.is_empty() == 0):\n",
    "            return 0\n",
    "        else:\n",
    "            self.arr.pop()\n",
    "            self.top-=1\n",
    "            print(\"removing an element\")\n",
    "    def peek(self):\n",
    "        pass\n",
    "        \n",
    "            \n",
    "            \n",
    "            \n",
    "\n"
   ]
  },
  {
   "cell_type": "code",
   "execution_count": 47,
   "metadata": {},
   "outputs": [
    {
     "data": {
      "text/plain": [
       "0"
      ]
     },
     "execution_count": 47,
     "metadata": {},
     "output_type": "execute_result"
    }
   ],
   "source": [
    "stack = Stack()\n",
    "stack.is_empty()"
   ]
  },
  {
   "cell_type": "code",
   "execution_count": 46,
   "metadata": {},
   "outputs": [
    {
     "name": "stdout",
     "output_type": "stream",
     "text": [
      "element is inserted.. 6\n"
     ]
    }
   ],
   "source": [
    "stack.push(6)"
   ]
  },
  {
   "cell_type": "code",
   "execution_count": 49,
   "metadata": {},
   "outputs": [
    {
     "data": {
      "text/plain": [
       "0"
      ]
     },
     "execution_count": 49,
     "metadata": {},
     "output_type": "execute_result"
    }
   ],
   "source": [
    "stack.is_empty()"
   ]
  },
  {
   "cell_type": "code",
   "execution_count": 62,
   "metadata": {},
   "outputs": [],
   "source": [
    "class stack_to:\n",
    "\n",
    "    def __init__(self):\n",
    "        self.arr = []\n",
    "        self.maxsize = 6\n",
    "        self.Top = -1\n",
    "\n",
    "    def is_empty(self):\n",
    "        if (self.Top == -1):\n",
    "            return 1\n",
    "        else:\n",
    "            return 0\n",
    "    def is_full(self):\n",
    "        if(self.Top == self.maxsize-1):\n",
    "            return 1\n",
    "        else:\n",
    "            return 0\n",
    "\n",
    "    def push(self,ele):\n",
    "        if(self.is_full()):\n",
    "            print(\"stack is full\")\n",
    "        else:\n",
    "            self.Top+=1\n",
    "            self.arr.append(ele)\n",
    "            print(\"element is inserted into a stack \",ele)\n",
    "\n",
    "    def pop(self):\n",
    "        if(self.is_empty() == 0):\n",
    "            self.arr.pop()\n",
    "            self.Top-=1\n",
    "        else:\n",
    "            return 0\n",
    "            \n",
    "            \n",
    "\n",
    "    "
   ]
  },
  {
   "cell_type": "code",
   "execution_count": 65,
   "metadata": {},
   "outputs": [
    {
     "name": "stdout",
     "output_type": "stream",
     "text": [
      "1\n",
      "0\n",
      "element is inserted into a stack  9\n",
      "None\n",
      "element is inserted into a stack  6\n",
      "None\n",
      "element is inserted into a stack  3\n",
      "None\n",
      "None\n",
      "[9, 6]\n",
      "element is inserted into a stack  9\n"
     ]
    },
    {
     "data": {
      "text/plain": [
       "[9, 6, 9]"
      ]
     },
     "execution_count": 65,
     "metadata": {},
     "output_type": "execute_result"
    }
   ],
   "source": [
    "my_stack = stack_to()\n",
    "print(my_stack.is_empty())\n",
    "print(my_stack.is_full())\n",
    "print(my_stack.push(9))\n",
    "print(my_stack.push(6))\n",
    "print(my_stack.push(3))\n",
    "print(my_stack.pop())\n",
    "print(my_stack.arr)\n",
    "my_stack.push(9)\n",
    "my_stack.arr\n"
   ]
  },
  {
   "cell_type": "code",
   "execution_count": 68,
   "metadata": {},
   "outputs": [],
   "source": [
    "class Node:\n",
    "\n",
    "    def __init__(self,data):\n",
    "        self.data = data\n",
    "        self.next = None\n",
    "class linked_list:\n",
    "    def __init__(self):\n",
    "        self.head = None\n",
    "    \n",
    "    def dis(self):\n",
    "        temp = self.head\n",
    "        while(temp != None):\n",
    "            print(temp.data)\n",
    "            temp = temp.next\n"
   ]
  },
  {
   "cell_type": "code",
   "execution_count": 69,
   "metadata": {},
   "outputs": [
    {
     "name": "stdout",
     "output_type": "stream",
     "text": [
      "9\n",
      "6\n",
      "3\n"
     ]
    }
   ],
   "source": [
    "LL = linked_list()\n",
    "one = LL.head\n",
    "one = Node(9)\n",
    "two = Node(6)\n",
    "three = Node(3)\n",
    "\n",
    "one.next = two\n",
    "two.next = three\n",
    "three.next = None\n",
    "LL.head = one\n",
    "LL.dis()"
   ]
  },
  {
   "cell_type": "code",
   "execution_count": 71,
   "metadata": {},
   "outputs": [],
   "source": [
    "class first_node:\n",
    "    def __init__(self,ele):\n",
    "        self.ele = ele\n",
    "        self.next = None\n",
    "class second_node:\n",
    "    def __init__(self):\n",
    "        self.head = None\n",
    "\n",
    "    def dis(self):\n",
    "        while(self.head != None):\n",
    "            print(self.head.ele)\n",
    "            self.head = self.head.next"
   ]
  },
  {
   "cell_type": "code",
   "execution_count": 72,
   "metadata": {},
   "outputs": [
    {
     "name": "stdout",
     "output_type": "stream",
     "text": [
      "9\n",
      "6\n",
      "3\n"
     ]
    }
   ],
   "source": [
    "second = second_node()\n",
    "one = first_node(9)\n",
    "two = first_node(6)\n",
    "three = first_node(3)\n",
    "second.head = one\n",
    "one.next = two\n",
    "two.next = three\n",
    "three.next = None\n",
    "second.dis()\n"
   ]
  },
  {
   "cell_type": "code",
   "execution_count": 1,
   "metadata": {},
   "outputs": [],
   "source": [
    "class Creation_Node:\n",
    "\n",
    "    def __init__(self,elements):\n",
    "        self.elements = elements\n",
    "        self.next = None\n",
    "\n",
    "class Linked_list_node:\n",
    "    \n",
    "    def __init__(self):\n",
    "        self.head = None\n",
    "\n",
    "    def Insertion_at_Begin(self,ele):\n",
    "        new_node = Creation_Node(ele)\n",
    "        new_node.next = self.head\n",
    "        self.head = new_node\n",
    "    \n",
    "    def Insertion_at_End(self,ele):\n",
    "        new_node = Creation_Node(ele)\n",
    "        while (self.head.next != None):\n",
    "            self.head = self.head.next\n",
    "        self.head.next = new_node\n",
    "    \n",
    "    def Insertion_at_specific(self,ele,pos):\n",
    "        new_node = Creation_Node(ele)\n",
    "        for i in range(pos-1):\n",
    "            if (self.head.next != None):\n",
    "                self.head = self.head.next\n",
    "        new_node.next = self.head.next\n",
    "        self.head.next = new_node\n",
    "    \n",
    "    def show_list(self):\n",
    "        while(self.head != None):\n",
    "            print(self.head.elements)\n",
    "            self.head = self.head.next\n",
    "\n"
   ]
  },
  {
   "cell_type": "code",
   "execution_count": 2,
   "metadata": {},
   "outputs": [
    {
     "name": "stdout",
     "output_type": "stream",
     "text": [
      "3\n",
      "6\n",
      "9\n"
     ]
    },
    {
     "ename": "AttributeError",
     "evalue": "'NoneType' object has no attribute 'next'",
     "output_type": "error",
     "traceback": [
      "\u001b[1;31m---------------------------------------------------------------------------\u001b[0m",
      "\u001b[1;31mAttributeError\u001b[0m                            Traceback (most recent call last)",
      "\u001b[1;32m~\\AppData\\Local\\Temp/ipykernel_11860/1072343196.py\u001b[0m in \u001b[0;36m<module>\u001b[1;34m\u001b[0m\n\u001b[0;32m      4\u001b[0m \u001b[0mLL\u001b[0m\u001b[1;33m.\u001b[0m\u001b[0mInsertion_at_Begin\u001b[0m\u001b[1;33m(\u001b[0m\u001b[1;36m3\u001b[0m\u001b[1;33m)\u001b[0m\u001b[1;33m\u001b[0m\u001b[1;33m\u001b[0m\u001b[0m\n\u001b[0;32m      5\u001b[0m \u001b[0mLL\u001b[0m\u001b[1;33m.\u001b[0m\u001b[0mshow_list\u001b[0m\u001b[1;33m(\u001b[0m\u001b[1;33m)\u001b[0m\u001b[1;33m\u001b[0m\u001b[1;33m\u001b[0m\u001b[0m\n\u001b[1;32m----> 6\u001b[1;33m \u001b[0mLL\u001b[0m\u001b[1;33m.\u001b[0m\u001b[0mInsertion_at_End\u001b[0m\u001b[1;33m(\u001b[0m\u001b[1;36m18\u001b[0m\u001b[1;33m)\u001b[0m\u001b[1;33m\u001b[0m\u001b[1;33m\u001b[0m\u001b[0m\n\u001b[0m\u001b[0;32m      7\u001b[0m \u001b[0mLL\u001b[0m\u001b[1;33m.\u001b[0m\u001b[0mInsertion_at_End\u001b[0m\u001b[1;33m(\u001b[0m\u001b[1;36m45\u001b[0m\u001b[1;33m)\u001b[0m\u001b[1;33m\u001b[0m\u001b[1;33m\u001b[0m\u001b[0m\n\u001b[0;32m      8\u001b[0m \u001b[0mLL\u001b[0m\u001b[1;33m.\u001b[0m\u001b[0mInsertion_at_End\u001b[0m\u001b[1;33m(\u001b[0m\u001b[1;36m72\u001b[0m\u001b[1;33m)\u001b[0m\u001b[1;33m\u001b[0m\u001b[1;33m\u001b[0m\u001b[0m\n",
      "\u001b[1;32m~\\AppData\\Local\\Temp/ipykernel_11860/2989329825.py\u001b[0m in \u001b[0;36mInsertion_at_End\u001b[1;34m(self, ele)\u001b[0m\n\u001b[0;32m     17\u001b[0m     \u001b[1;32mdef\u001b[0m \u001b[0mInsertion_at_End\u001b[0m\u001b[1;33m(\u001b[0m\u001b[0mself\u001b[0m\u001b[1;33m,\u001b[0m\u001b[0mele\u001b[0m\u001b[1;33m)\u001b[0m\u001b[1;33m:\u001b[0m\u001b[1;33m\u001b[0m\u001b[1;33m\u001b[0m\u001b[0m\n\u001b[0;32m     18\u001b[0m         \u001b[0mnew_node\u001b[0m \u001b[1;33m=\u001b[0m \u001b[0mCreation_Node\u001b[0m\u001b[1;33m(\u001b[0m\u001b[0mele\u001b[0m\u001b[1;33m)\u001b[0m\u001b[1;33m\u001b[0m\u001b[1;33m\u001b[0m\u001b[0m\n\u001b[1;32m---> 19\u001b[1;33m         \u001b[1;32mwhile\u001b[0m \u001b[1;33m(\u001b[0m\u001b[0mself\u001b[0m\u001b[1;33m.\u001b[0m\u001b[0mhead\u001b[0m\u001b[1;33m.\u001b[0m\u001b[0mnext\u001b[0m \u001b[1;33m!=\u001b[0m \u001b[1;32mNone\u001b[0m\u001b[1;33m)\u001b[0m\u001b[1;33m:\u001b[0m\u001b[1;33m\u001b[0m\u001b[1;33m\u001b[0m\u001b[0m\n\u001b[0m\u001b[0;32m     20\u001b[0m             \u001b[0mself\u001b[0m\u001b[1;33m.\u001b[0m\u001b[0mhead\u001b[0m \u001b[1;33m=\u001b[0m \u001b[0mself\u001b[0m\u001b[1;33m.\u001b[0m\u001b[0mhead\u001b[0m\u001b[1;33m.\u001b[0m\u001b[0mnext\u001b[0m\u001b[1;33m\u001b[0m\u001b[1;33m\u001b[0m\u001b[0m\n\u001b[0;32m     21\u001b[0m         \u001b[0mself\u001b[0m\u001b[1;33m.\u001b[0m\u001b[0mhead\u001b[0m\u001b[1;33m.\u001b[0m\u001b[0mnext\u001b[0m \u001b[1;33m=\u001b[0m \u001b[0mnew_node\u001b[0m\u001b[1;33m\u001b[0m\u001b[1;33m\u001b[0m\u001b[0m\n",
      "\u001b[1;31mAttributeError\u001b[0m: 'NoneType' object has no attribute 'next'"
     ]
    }
   ],
   "source": [
    "LL = Linked_list_node()\n",
    "LL.Insertion_at_Begin(9)\n",
    "LL.Insertion_at_Begin(6)\n",
    "LL.Insertion_at_Begin(3)\n",
    "LL.show_list()\n",
    "LL.Insertion_at_End(18)\n",
    "LL.Insertion_at_End(45)\n",
    "LL.Insertion_at_End(72)\n",
    "LL.show_list()\n",
    "LL.Insertion_at_specific(72)\n",
    "LL.Insertion_at_specific(63)\n",
    "LL.Insertion_at_specific(27)\n",
    "LL.show_list()\n"
   ]
  },
  {
   "cell_type": "code",
   "execution_count": null,
   "metadata": {},
   "outputs": [],
   "source": []
  }
 ],
 "metadata": {
  "kernelspec": {
   "display_name": "Python 3.9.2 64-bit",
   "language": "python",
   "name": "python3"
  },
  "language_info": {
   "codemirror_mode": {
    "name": "ipython",
    "version": 3
   },
   "file_extension": ".py",
   "mimetype": "text/x-python",
   "name": "python",
   "nbconvert_exporter": "python",
   "pygments_lexer": "ipython3",
   "version": "3.9.2"
  },
  "orig_nbformat": 4,
  "vscode": {
   "interpreter": {
    "hash": "b44dec303c593d8d8daa19f9928a44a58f5dd6858780405ef540750c1cbc0680"
   }
  }
 },
 "nbformat": 4,
 "nbformat_minor": 2
}
